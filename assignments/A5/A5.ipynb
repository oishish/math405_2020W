{
 "cells": [
  {
   "cell_type": "markdown",
   "metadata": {},
   "source": [
    "* Before you turn this problem in, make sure everything runs as expected. First, **restart the kernel** (in the menubar, select Kernel$\\rightarrow$Restart) and then **run all cells** (in the menubar, select Cell$\\rightarrow$Run All). Or, alternatively, **Restart & Run All**.\n",
    "\n",
    "* Make sure you fill in any place that says `YOUR CODE HERE` or \"YOUR ANSWER HERE\".\n",
    "\n",
    "* You can always add additional cells to the notebook to experiment, to test your answers, or to provide additional support for your answers.\n",
    "\n",
    "* You should not need to install new packages to complete an assignment. If you use any packages not available via the MATH405 `Project.toml` then your assignment will likely not be graded correctly.\n",
    "\n",
    "* Submissions are only accepted via CANVAS!\n",
    "\n",
    "* Late submissions: within 24h I will reduce the grade to 70%. I will not accept submissions after 24h. Please manage your time well and complete the assignments with plenty of buffer time.\n",
    "\n",
    "* By entering your name below you confirm that you have completed this assignment on your own and without (direct) help from your colleagues. Plagiarism / copying will be checked by comparing assignments and by by testing understanding in workshops and the oral exam (final). I reserve the option to downgrade an assignment at any point."
   ]
  },
  {
   "cell_type": "code",
   "execution_count": null,
   "metadata": {},
   "outputs": [],
   "source": [
    "NAME = \"\""
   ]
  },
  {
   "cell_type": "markdown",
   "metadata": {},
   "source": [
    "---"
   ]
  },
  {
   "cell_type": "markdown",
   "metadata": {
    "deletable": false,
    "editable": false,
    "nbgrader": {
     "cell_type": "markdown",
     "checksum": "bf36438acafec89595cd4474411703a6",
     "grade": false,
     "grade_id": "cell-df1ebdcbbddb40cd",
     "locked": true,
     "schema_version": 3,
     "solution": false,
     "task": false
    }
   },
   "source": [
    "# MATH 405/607 \n",
    "\n",
    "# Numerical Methods for Differential Equations\n",
    "\n",
    "## Assignment 5: Spectral Methods \n",
    "\n",
    "#### Notes\n",
    "\n",
    "* **Due date:** Wed Dec 2, 2020, 1200 noon\n",
    "* This assignment will be worth 10% of the overall grade.\n",
    "* Answer only question 3 or question 4 but not both."
   ]
  },
  {
   "cell_type": "markdown",
   "metadata": {
    "deletable": false,
    "editable": false,
    "nbgrader": {
     "cell_type": "markdown",
     "checksum": "8079e9eea6b9f0f27a23fc3792d8fea2",
     "grade": false,
     "grade_id": "cell-90e0ac176823535b",
     "locked": true,
     "schema_version": 3,
     "solution": false,
     "task": false
    }
   },
   "source": [
    "* [Question 1 : Approximation vs Regularity](#q1)\n",
    "* [Question 2 : Trapezoidal Rule](#q2)\n",
    "* [Question 3 : Fourth order bvp](#q3)\n",
    "* [Question 4 : Advection Problem](#q4)\n",
    "* [Question 5 : Eigenvalue Problem](#q5)\n"
   ]
  },
  {
   "cell_type": "code",
   "execution_count": null,
   "metadata": {
    "deletable": false,
    "editable": false,
    "nbgrader": {
     "cell_type": "code",
     "checksum": "ad9822fe1cb83085cca3ce9debcab61b",
     "grade": false,
     "grade_id": "cell-8e6d26a863226f59",
     "locked": true,
     "schema_version": 3,
     "solution": false,
     "task": false
    }
   },
   "outputs": [],
   "source": [
    "include(\"math405.jl\")\n",
    "\n",
    "# Here are the codes you need to construct and evaluate trigonometric interpolants\n",
    "\n",
    "using FFTW\n",
    "\"construct a real-space grid - use FFT convention\"\n",
    "xgrid(N) = range(0.0, stop=2π-2π/2N, length=2N)\n",
    "\"construct the reciprocal space grid assumed by `fft` - carefully use FFT convention\"\n",
    "kgrid(N) = [0:N; -N+1:-1]\n",
    "\"compute the fourier coefficients of I_N\"\n",
    "fouriercoeffs(f::Function, N) = fouriercoeffs(f.(xgrid(N)))\n",
    "fouriercoeffs(F::Vector) = fft(F) / length(F)\n",
    "\"evaluate a trigonometric polynomial\"\n",
    "eval_trig(F::Function, N, Z) = eval_trig(fouriercoeffs(F, N), Z)\n",
    "eval_trig(F̂::Vector, Z) = real(sum( f̂k * exp.((im * k)*Z) for (f̂k, k) in zip(F̂, kgrid(length(F̂)÷2)) ))\n",
    "\n",
    "# To evaluate the trigonometric interpolant of a function F \n",
    "# at several points Zs::AbstractVector use the following function \n",
    "eval_trig(F::Function, N::Integer, Zs::AbstractVector) = eval_trig.( Ref(fouriercoeffs(F, N)), Zs )"
   ]
  },
  {
   "cell_type": "markdown",
   "metadata": {
    "deletable": false,
    "editable": false,
    "nbgrader": {
     "cell_type": "markdown",
     "checksum": "19c3785ae2d552fa98431df30226bb69",
     "grade": false,
     "grade_id": "cell-85315ba5bca65423",
     "locked": true,
     "schema_version": 3,
     "solution": false,
     "task": false
    }
   },
   "source": [
    "<a name = 'q1'></a>\n",
    "### Question 1: Approximation vs Regularity [15]\n",
    "\n",
    "Let $f : \\mathbb{R} \\to \\mathbb{R}$ be continuous and $2\\pi$-periodic and let $I_N f$ denote its degree $N$ trigonometric interpolant.\n",
    "\n",
    "In class we have proven (mostly) that if $f$ is analytic and bounded, $|f| \\leq M$, in the strip $\\{ |{\\rm Im} z| \\leq \\alpha \\}$ then \n",
    "$$\n",
    "  \\| f - I_N f \\|_\\infty \\lesssim (\\log N) M e^{-\\alpha N}.  \n",
    "$$\n",
    "Similarly, the **Jackson Theorem(s)** state that, if $f$ is $2\\pi$-periodic, $p$ times continuously differentiable and the $p$th derivative $f^{(p)}$ is $s$-Hölder continuous, $s \\in (0, 1]$, i.e.\n",
    "$$\n",
    "    |f^{(p)}(x) - f^{(p)}(y)| \\leq C |x - y|^s\n",
    "$$\n",
    "then \n",
    "$$\n",
    "    \\|f - I_N f\\|_\\infty \\lesssim (\\log N) |N|^{-p-s}.\n",
    "$$\n",
    "The prototype of an  $s$-Hölder continuous function is $|x|^s$. A piecewise smooth function with finitely many $|x|^s$ singularities is also $s$-H\\\"{o}lder continuous in the sense defined above.\n",
    "\n",
    "The $\\log N$ factor is a technicality, very difficult to see numerically (if it is indeed sharp), and should simply be ignored for this Question. \n",
    "\n",
    "Following the Model solution, produce figures demonstrating the algebraic or exponential convergence rates stated in the above estimates. As in the model solution in addition to plotting the convergence, also print your predicted rate of convergence.\n",
    "\n",
    "(i) $f(x) = |\\sin(x)|$\n",
    "\n",
    "(ii) $f(x) = |\\sin(x)|^5$\n",
    "\n",
    "(iii) $f(x) = |\\sin(x)|^{7/3}$\n",
    "\n",
    "(iv) $f(x) = \\dfrac{1}{1 + \\exp(10 \\sin(x))}$"
   ]
  },
  {
   "cell_type": "code",
   "execution_count": null,
   "metadata": {
    "deletable": false,
    "editable": false,
    "nbgrader": {
     "cell_type": "code",
     "checksum": "a8325748e1d5f096cfaf631aa56c896f",
     "grade": false,
     "grade_id": "cell-27176e5531c66fe1",
     "locked": true,
     "schema_version": 3,
     "solution": false,
     "task": false
    }
   },
   "outputs": [],
   "source": [
    "# Model Solution \n",
    "f = x -> 1 / (1+sin(x)^2)\n",
    "NN = 4:2:16\n",
    "xerr = range(0, 2*pi, length=10_000)\n",
    "Err = [ norm(f.(xerr) - eval_trig(f, N, xerr), Inf) for N in NN ]\n",
    "println(\"Rate for 1 / (1+sin(x)^2): error ~ exp(- 0.87 N)\")\n",
    "plot(NN, Err, lw=2, label = \"1 / (1+sin(x)^2)\", ms=5, m=:o, size = (500, 250), yscale = :log10, \n",
    "     xlabel = \"N\", ylabel = \"error\")\n",
    "plot!(NN[5:end], exp.(- 0.87 * NN[5:end]), lw=2, c=:black, ls = :dash, label = \"\")\n"
   ]
  },
  {
   "cell_type": "code",
   "execution_count": null,
   "metadata": {
    "deletable": false,
    "nbgrader": {
     "cell_type": "code",
     "checksum": "9f041707b76952117d06131caa0a6213",
     "grade": true,
     "grade_id": "cell-df1b9eaa94bf62f5",
     "locked": false,
     "points": 15,
     "schema_version": 3,
     "solution": true,
     "task": false
    }
   },
   "outputs": [],
   "source": [
    "\n",
    "# YOUR CODE HERE"
   ]
  },
  {
   "cell_type": "markdown",
   "metadata": {
    "deletable": false,
    "editable": false,
    "nbgrader": {
     "cell_type": "markdown",
     "checksum": "a7598da98118af1c86b2a79d1a6e1ed8",
     "grade": false,
     "grade_id": "cell-e78aa8aa9bd19829",
     "locked": true,
     "schema_version": 3,
     "solution": false,
     "task": false
    }
   },
   "source": [
    "<a name = 'q2'></a>\n",
    "\n",
    "\n",
    "\n",
    "### Question 2: Periodic Trapezoidal Rule  [3 + 5 + 3 + 4]\n",
    "\n",
    "Let $f : \\mathbb{R} \\to \\mathbb{R}$ be continuous and $2\\pi$-periodic, then we can represent it in terms of its Fourier series, \n",
    "$$ \n",
    "    f(x) = \\sum_{k \\in \\mathbb{Z}} \\hat{f}_k e^{i k x}.\n",
    "$$\n",
    "We are interested in approximating the integral \n",
    "$$\n",
    "    I := \\int_{-\\pi}^\\pi f(x) \\,dx \n",
    "$$\n",
    "by the trapezoidal rule \n",
    "$$\n",
    "    I_N := \\frac{2\\pi}{2N} \\sum_{n = -N+1}^N f\\big(n\\pi/N\\big).\n",
    "$$\n",
    "In the following tasks you may interchange limits freely without rigorous justification, in particular summation and integration.\n",
    "\n",
    "(a) Prove that $I = 2 \\pi \\hat{f}_0$.\n",
    "\n",
    "(b) Prove that \n",
    "$$\n",
    "    \\sum_{n = -N+1}^N e^{i k \\pi n / N} = \n",
    "    \\begin{cases} \n",
    "        2N, & k \\in 2N \\mathbb{Z},  \\\\ \n",
    "        0, & \\text{otherwise}.\n",
    "    \\end{cases}\n",
    "$$\n",
    "and use this to deduce that \n",
    "$$\n",
    "    I_N = 2\\pi \\sum_{k \\in 2N\\mathbb{Z}} \\hat{f}_k.\n",
    "$$\n",
    "*REMARK: $k \\in 2 N \\mathbb{Z}$ means that $k = 2 N m$ for some integer $m$.*\n",
    "\n",
    "\n",
    "(c) Deduce from (a, b) that \n",
    "$$\n",
    "    |I_N - I| \\leq 2\\pi \\sum_{k \\in 2N\\mathbb{Z} \\setminus \\{0\\}} |\\hat{f}_k|.\n",
    "$$\n",
    "\n",
    "(d) Suppose that (i) $|\\hat{f}_k| \\leq M e^{-\\alpha |k|}$; or (ii) $|\\hat{f}_k| \\leq C |k|^{-p}$. In each case deduce from (c)  a sharp (up to constants) estimate on the error $|I_N - I|$.\n",
    "\n",
    "HINT: If $\\eta(x)$ is non-negative and monotonically decreasing then $\\sum_{k = K+1}^\\infty \\eta(k) \\leq \\int_{K}^\\infty \\eta(x) dx$."
   ]
  },
  {
   "cell_type": "markdown",
   "metadata": {
    "deletable": false,
    "nbgrader": {
     "cell_type": "markdown",
     "checksum": "58da8227ee62159035a2b47c32a079a0",
     "grade": true,
     "grade_id": "cell-48fbf707c59a47c4",
     "locked": false,
     "points": 15,
     "schema_version": 3,
     "solution": true,
     "task": false
    }
   },
   "source": [
    "YOUR ANSWER HERE"
   ]
  },
  {
   "cell_type": "markdown",
   "metadata": {
    "deletable": false,
    "editable": false,
    "nbgrader": {
     "cell_type": "markdown",
     "checksum": "64be6a598ea14dfe1d112527170540e1",
     "grade": false,
     "grade_id": "cell-155c5c340bce9b94",
     "locked": true,
     "schema_version": 3,
     "solution": false,
     "task": false
    }
   },
   "source": [
    "Solve **either** Q.3 (theoretical) **or** Q.4 (computational). "
   ]
  },
  {
   "cell_type": "markdown",
   "metadata": {
    "deletable": false,
    "editable": false,
    "nbgrader": {
     "cell_type": "markdown",
     "checksum": "97cc7e8ff653fbb49a075aa9416644b4",
     "grade": false,
     "grade_id": "cell-0ed0dfbcd4725d4f",
     "locked": true,
     "schema_version": 3,
     "solution": false,
     "task": false
    }
   },
   "source": [
    "<a name = 'q3'></a>\n",
    "\n",
    "### Question 3: Fourth-order BVP [5 + 5 + 5]\n",
    "\n",
    "Consider the periodic boundary value problem for the differential equation \n",
    "$$\n",
    "    u_{xxxx} + u = f \n",
    "$$\n",
    "\n",
    "(a) Prove that, if $u$ solves the above DE, then \n",
    "$$ \n",
    "    \\|u\\|_{H^2} := ( \\|u_{xx}\\|_{L^2}^2+\\|u\\|_{L^2}^2 )^{1/2} \\leq \\|f\\|_{L^2}.\n",
    "$$\n",
    "where $\\|f\\|_{L^2} := (\\int_0^{2\\pi} f^2 dx )^{1/2}$.  \n",
    "*[HINT: multiply the DE by $u$, then integrate over $[0, 2\\pi]$, integrate by parts, then use the Cauchy-Schwarz inequality on the right-hand side.]*\n",
    "\n",
    "(b) Derive the canonical Fourier spectral method for this problem, providing both the real-space formulation as well as the fully discrete formulation in reciprocal space. Briefly specify all your terms.\n",
    "\n",
    "\n",
    "(c) Suppose that $f$ is analytic and bounded in the strip $\\{ |{\\rm Im} z| \\leq \\alpha \\}$, prove that \n",
    "$$\n",
    "     \\|u - u_N \\|_{H^2} \\leq C e^{-\\alpha N}.\n",
    "$$\n",
    "where $u_N$ denotes the solution to the Fourier-spectral method from (a) and $u$ the exact solution of the DE.\n"
   ]
  },
  {
   "cell_type": "markdown",
   "metadata": {
    "deletable": false,
    "nbgrader": {
     "cell_type": "markdown",
     "checksum": "6a9e9671a06da9ae6c08012924044ab5",
     "grade": true,
     "grade_id": "cell-c47ec781e6c6e556",
     "locked": false,
     "points": 15,
     "schema_version": 3,
     "solution": true,
     "task": false
    }
   },
   "source": [
    "YOUR ANSWER HERE"
   ]
  },
  {
   "cell_type": "markdown",
   "metadata": {
    "deletable": false,
    "editable": false,
    "nbgrader": {
     "cell_type": "markdown",
     "checksum": "909aca151dbceaae33136983fdd169ed",
     "grade": false,
     "grade_id": "cell-4cc56f475d73a04d",
     "locked": true,
     "schema_version": 3,
     "solution": false,
     "task": false
    }
   },
   "source": [
    "**BONUS [NO CREDIT]** \n",
    "\n",
    "Q3(d) Employing the method of manufactured solutions, confirm your prediction Question 3a-c."
   ]
  },
  {
   "cell_type": "code",
   "execution_count": null,
   "metadata": {
    "deletable": false,
    "nbgrader": {
     "cell_type": "code",
     "checksum": "bc557d4938791ed10a61eb915537f0ad",
     "grade": true,
     "grade_id": "cell-6ca4f0c5119469c6",
     "locked": false,
     "points": 0,
     "schema_version": 3,
     "solution": true,
     "task": false
    }
   },
   "outputs": [],
   "source": [
    "# YOUR CODE HERE"
   ]
  },
  {
   "cell_type": "markdown",
   "metadata": {
    "deletable": false,
    "editable": false,
    "nbgrader": {
     "cell_type": "markdown",
     "checksum": "d3e3e9080ca0407c7c2ca763ceba1977",
     "grade": false,
     "grade_id": "cell-0b7eebc631b9bf53",
     "locked": true,
     "schema_version": 3,
     "solution": false,
     "task": false
    }
   },
   "source": [
    "<a name = 'q4'></a> \n",
    "\n",
    "### Question 4: transport equation  [5+5+5]\n",
    "\n",
    "Consider the advector equation with periodic boundary conditions and non-constant advection speed, $c(x)$ which is analytic and $2\\pi$-periodic: \n",
    "$$\n",
    "    u_t + (c(x) u)_x = 0 \n",
    "$$\n",
    "\n",
    "(a) Discretise in space using a Fourier spectral method and write down the resulting ODE for the Fourier coefficients, in terms of the following operators:\n",
    "* ${\\rm DFT}$ : discrete Fourier transform\n",
    "* ${\\rm IDFT}$ : inverse discrete Fourier transform \n",
    "* $I_N$ : trigonometric interpolant\n"
   ]
  },
  {
   "cell_type": "markdown",
   "metadata": {
    "deletable": false,
    "nbgrader": {
     "cell_type": "markdown",
     "checksum": "a425a9f8311e164bde20b09fc8f1f2e0",
     "grade": true,
     "grade_id": "cell-d17679d9921b7a37",
     "locked": false,
     "points": 5,
     "schema_version": 3,
     "solution": true,
     "task": false
    }
   },
   "source": [
    "YOUR ANSWER HERE"
   ]
  },
  {
   "cell_type": "markdown",
   "metadata": {
    "deletable": false,
    "editable": false,
    "nbgrader": {
     "cell_type": "markdown",
     "checksum": "09a806b9a2159aee8a463886cade1e01",
     "grade": false,
     "grade_id": "cell-d285e3144cfce29f",
     "locked": true,
     "schema_version": 3,
     "solution": false,
     "task": false
    }
   },
   "source": [
    "(b) Implement a practical scheme (you will need to discretise in time by implementing a suitable time-stepping yourself or using a suitable solver from `OrdinaryDiffEq.jl`) and compute the solution at time $t = 1.0$ to within five digits absolute real-space accuracy in the max-norm. Store it as \n",
    "```\n",
    "Uhat1 = ...\n",
    "```\n",
    "where `Uhat1::Vector` should be a vector containing the Fourier coefficients of the solution at time $t = 1.0$.\n",
    "\n",
    "*HINT: If you are unsure about the correctness of your implementation, you could try $c = {\\rm const}$ first. In this case you can compare against an exact solution.*"
   ]
  },
  {
   "cell_type": "code",
   "execution_count": null,
   "metadata": {
    "deletable": false,
    "nbgrader": {
     "cell_type": "code",
     "checksum": "480312e30c445c26242dc2ba1c611129",
     "grade": false,
     "grade_id": "cell-af7b8819fce34194",
     "locked": false,
     "schema_version": 3,
     "solution": true,
     "task": false
    }
   },
   "outputs": [],
   "source": [
    "\n",
    "cfun = x -> 3 * (1 + sin(x)^2)\n",
    "u0fun = x -> 1 + sin(x)\n",
    "\n",
    "# YOUR CODE HERE\n",
    ";"
   ]
  },
  {
   "cell_type": "code",
   "execution_count": null,
   "metadata": {},
   "outputs": [],
   "source": [
    "# To check correctness of your code you can check the convergence rate in \n",
    "# part (c) but an addtional consistency check is the following: \n",
    "\n",
    "# You can modify this code block to create an animatino of your solution\n",
    "# You can check whether the solution is sensible? \n",
    "# Note that larger values of c lead to faster advection, while smaller values \n",
    "# lead to slower advection.\n",
    "\n",
    "# xp = range(0, 2*pi, length=200)\n",
    "# c_xp = cfun.(xp) / 3\n",
    "\n",
    "# @gif for t = 0.0:0.01:1.0\n",
    "#     Û = ... # get the solution at time t\n",
    "#     u =  eval_trig.(Ref(Û), xp)\n",
    "#     plot(xp, c_xp, lw=2, c=2, label = \"c/3\")\n",
    "#     plot!(xp, u, lw=2, c=1, label = \"t = $t\", size = (400, 250), ylims = (0.0, 4.0))\n",
    "# end\n",
    "\n"
   ]
  },
  {
   "cell_type": "code",
   "execution_count": null,
   "metadata": {
    "deletable": false,
    "editable": false,
    "nbgrader": {
     "cell_type": "code",
     "checksum": "a501174c1b3b379ad43576d02e688fd2",
     "grade": true,
     "grade_id": "cell-38433763aa8b73f6",
     "locked": true,
     "points": 5,
     "schema_version": 3,
     "solution": false,
     "task": false
    }
   },
   "outputs": [],
   "source": []
  },
  {
   "cell_type": "markdown",
   "metadata": {
    "deletable": false,
    "editable": false,
    "nbgrader": {
     "cell_type": "markdown",
     "checksum": "e82f1c83b6ac37b145cf8e7ac07d7799",
     "grade": false,
     "grade_id": "cell-76d52f9eeecba110",
     "locked": true,
     "schema_version": 3,
     "solution": false,
     "task": false
    }
   },
   "source": [
    "(c) Demonstrate the convergence rate of your scheme by comparing a sequence of numerical solutions against another numerical solution computed to very high accuracy."
   ]
  },
  {
   "cell_type": "code",
   "execution_count": null,
   "metadata": {
    "deletable": false,
    "nbgrader": {
     "cell_type": "code",
     "checksum": "c4f6cab27b8f4fa0ef9be0c09ce8bea4",
     "grade": true,
     "grade_id": "cell-ab2cebbf08e49bb1",
     "locked": false,
     "points": 5,
     "schema_version": 3,
     "solution": true,
     "task": false
    }
   },
   "outputs": [],
   "source": [
    "# YOUR CODE HERE"
   ]
  },
  {
   "cell_type": "markdown",
   "metadata": {
    "deletable": false,
    "editable": false,
    "nbgrader": {
     "cell_type": "markdown",
     "checksum": "115a262f01c73de1df34ab0dcad1a17e",
     "grade": false,
     "grade_id": "cell-a6f80a0f8e87fb4c",
     "locked": true,
     "schema_version": 3,
     "solution": false,
     "task": false
    }
   },
   "source": [
    "<a name = 'q5'></a>\n",
    "\n",
    "### Question 5: Eigenvalue problem [10]\n",
    "\n",
    "Find all eigenpairs $(\\lambda, u)$, $\\lambda \\in \\mathbb{C}$, $u$ smooth and $2\\pi$-periodic, satisfying \n",
    "$$\n",
    "0.1 u_{xxxx} + u_{xxx} = \\lambda u_{xx},\n",
    "$$\n",
    "and such that $|\\lambda| \\leq 10$. Plot them in a scatter plot and store them (unordered) in a variable \n",
    "```julia\n",
    "Lambda = ...\n",
    "```\n",
    "where `Lambda::AbstractVector` containing precisely the required set of eigenvalues.\n",
    "\n",
    "*HINT:* The code required to complete this problem is only about 5 lines."
   ]
  },
  {
   "cell_type": "markdown",
   "metadata": {},
   "source": [
    "If you wish you may add any additional comments or notes in this box: \n",
    "\n"
   ]
  },
  {
   "cell_type": "code",
   "execution_count": null,
   "metadata": {
    "deletable": false,
    "nbgrader": {
     "cell_type": "code",
     "checksum": "7ccf967f36a37c139d573791b16ec456",
     "grade": false,
     "grade_id": "cell-7dd79bb660b16c69",
     "locked": false,
     "schema_version": 3,
     "solution": true,
     "task": false
    }
   },
   "outputs": [],
   "source": [
    "# YOUR CODE HERE"
   ]
  },
  {
   "cell_type": "code",
   "execution_count": null,
   "metadata": {
    "deletable": false,
    "editable": false,
    "nbgrader": {
     "cell_type": "code",
     "checksum": "74ccb952e1c8c4470520bf696492772a",
     "grade": true,
     "grade_id": "cell-74f8d2f40c4f2ebf",
     "locked": true,
     "points": 10,
     "schema_version": 3,
     "solution": false,
     "task": false
    }
   },
   "outputs": [],
   "source": []
  }
 ],
 "metadata": {
  "@webio": {
   "lastCommId": null,
   "lastKernelId": null
  },
  "kernelspec": {
   "display_name": "Julia 1.5.2",
   "language": "julia",
   "name": "julia-1.5"
  },
  "language_info": {
   "file_extension": ".jl",
   "mimetype": "application/julia",
   "name": "julia",
   "version": "1.5.2"
  }
 },
 "nbformat": 4,
 "nbformat_minor": 4
}
