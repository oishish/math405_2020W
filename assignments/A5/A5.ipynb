{
 "cells": [
  {
   "cell_type": "markdown",
   "metadata": {},
   "source": [
    "* Before you turn this problem in, make sure everything runs as expected. First, **restart the kernel** (in the menubar, select Kernel$\\rightarrow$Restart) and then **run all cells** (in the menubar, select Cell$\\rightarrow$Run All). Or, alternatively, **Restart & Run All**.\n",
    "\n",
    "* Make sure you fill in any place that says `YOUR CODE HERE` or \"YOUR ANSWER HERE\".\n",
    "\n",
    "* You can always add additional cells to the notebook to experiment, to test your answers, or to provide additional support for your answers.\n",
    "\n",
    "* You should not need to install new packages to complete an assignment. If you use any packages not available via the MATH405 `Project.toml` then your assignment will likely not be graded correctly.\n",
    "\n",
    "* Submissions are only accepted via CANVAS!\n",
    "\n",
    "* Late submissions: within 24h I will reduce the grade to 70%. I will not accept submissions after 24h. Please manage your time well and complete the assignments with plenty of buffer time.\n",
    "\n",
    "* By entering your name below you confirm that you have completed this assignment on your own and without (direct) help from your colleagues. Plagiarism / copying will be checked by comparing assignments and by by testing understanding in workshops and the oral exam (final). I reserve the option to downgrade an assignment at any point."
   ]
  },
  {
   "cell_type": "code",
   "execution_count": 1,
   "metadata": {},
   "outputs": [
    {
     "data": {
      "text/plain": [
       "\"Owen Sheekey\""
      ]
     },
     "execution_count": 1,
     "metadata": {},
     "output_type": "execute_result"
    }
   ],
   "source": [
    "NAME = \"Owen Sheekey\""
   ]
  },
  {
   "cell_type": "markdown",
   "metadata": {},
   "source": [
    "---"
   ]
  },
  {
   "cell_type": "markdown",
   "metadata": {
    "deletable": false,
    "editable": false,
    "nbgrader": {
     "cell_type": "markdown",
     "checksum": "bf36438acafec89595cd4474411703a6",
     "grade": false,
     "grade_id": "cell-df1ebdcbbddb40cd",
     "locked": true,
     "schema_version": 3,
     "solution": false,
     "task": false
    }
   },
   "source": [
    "# MATH 405/607 \n",
    "\n",
    "# Numerical Methods for Differential Equations\n",
    "\n",
    "## Assignment 5: Spectral Methods \n",
    "\n",
    "#### Notes\n",
    "\n",
    "* **Due date:** Wed Dec 2, 2020, 1200 noon\n",
    "* This assignment will be worth 10% of the overall grade.\n",
    "* Answer only question 3 or question 4 but not both."
   ]
  },
  {
   "cell_type": "markdown",
   "metadata": {
    "deletable": false,
    "editable": false,
    "nbgrader": {
     "cell_type": "markdown",
     "checksum": "8079e9eea6b9f0f27a23fc3792d8fea2",
     "grade": false,
     "grade_id": "cell-90e0ac176823535b",
     "locked": true,
     "schema_version": 3,
     "solution": false,
     "task": false
    }
   },
   "source": [
    "* [Question 1 : Approximation vs Regularity](#q1)\n",
    "* [Question 2 : Trapezoidal Rule](#q2)\n",
    "* [Question 3 : Fourth order bvp](#q3)\n",
    "* [Question 4 : Advection Problem](#q4)\n",
    "* [Question 5 : Eigenvalue Problem](#q5)\n"
   ]
  },
  {
   "cell_type": "code",
   "execution_count": 4,
   "metadata": {
    "deletable": false,
    "editable": false,
    "nbgrader": {
     "cell_type": "code",
     "checksum": "ad9822fe1cb83085cca3ce9debcab61b",
     "grade": false,
     "grade_id": "cell-8e6d26a863226f59",
     "locked": true,
     "schema_version": 3,
     "solution": false,
     "task": false
    }
   },
   "outputs": [
    {
     "name": "stderr",
     "output_type": "stream",
     "text": [
      "\u001b[32m\u001b[1m Activating\u001b[22m\u001b[39m environment at `~/Documents/UBC/Math/Math 405/math405_2020W/assignments/A5/Project.toml`\n",
      "┌ Info: Precompiling Plots [91a5bcdd-55d7-5caf-9e0b-520d859cae80]\n",
      "└ @ Base loading.jl:1278\n",
      "┌ Info: Precompiling ForwardDiff [f6369f11-7733-5829-9624-2563aa707210]\n",
      "└ @ Base loading.jl:1278\n",
      "┌ Info: Precompiling OrdinaryDiffEq [1dea7af3-3e70-54e6-95c3-0bf5283fa5ed]\n",
      "└ @ Base loading.jl:1278\n",
      "┌ Info: Precompiling FFTW [7a1cc6ca-52ef-59f5-83cd-3a7055c09341]\n",
      "└ @ Base loading.jl:1278\n"
     ]
    },
    {
     "data": {
      "text/plain": [
       "eval_trig (generic function with 3 methods)"
      ]
     },
     "execution_count": 4,
     "metadata": {},
     "output_type": "execute_result"
    }
   ],
   "source": [
    "include(\"math405.jl\")\n",
    "\n",
    "# Here are the codes you need to construct and evaluate trigonometric interpolants\n",
    "\n",
    "using FFTW\n",
    "\"construct a real-space grid - use FFT convention\"\n",
    "xgrid(N) = range(0.0, stop=2π-2π/2N, length=2N)\n",
    "\"construct the reciprocal space grid assumed by `fft` - carefully use FFT convention\"\n",
    "kgrid(N) = [0:N; -N+1:-1]\n",
    "\"compute the fourier coefficients of I_N\"\n",
    "fouriercoeffs(f::Function, N) = fouriercoeffs(f.(xgrid(N)))\n",
    "fouriercoeffs(F::Vector) = fft(F) / length(F)\n",
    "\"evaluate a trigonometric polynomial\"\n",
    "eval_trig(F::Function, N, Z) = eval_trig(fouriercoeffs(F, N), Z)\n",
    "eval_trig(F̂::Vector, Z) = real(sum( f̂k * exp.((im * k)*Z) for (f̂k, k) in zip(F̂, kgrid(length(F̂)÷2)) ))\n",
    "\n",
    "# To evaluate the trigonometric interpolant of a function F \n",
    "# at several points Zs::AbstractVector use the following function \n",
    "eval_trig(F::Function, N::Integer, Zs::AbstractVector) = eval_trig.( Ref(fouriercoeffs(F, N)), Zs )"
   ]
  },
  {
   "cell_type": "markdown",
   "metadata": {
    "deletable": false,
    "editable": false,
    "nbgrader": {
     "cell_type": "markdown",
     "checksum": "19c3785ae2d552fa98431df30226bb69",
     "grade": false,
     "grade_id": "cell-85315ba5bca65423",
     "locked": true,
     "schema_version": 3,
     "solution": false,
     "task": false
    }
   },
   "source": [
    "<a name = 'q1'></a>\n",
    "### Question 1: Approximation vs Regularity [15]\n",
    "\n",
    "Let $f : \\mathbb{R} \\to \\mathbb{R}$ be continuous and $2\\pi$-periodic and let $I_N f$ denote its degree $N$ trigonometric interpolant.\n",
    "\n",
    "In class we have proven (mostly) that if $f$ is analytic and bounded, $|f| \\leq M$, in the strip $\\{ |{\\rm Im} z| \\leq \\alpha \\}$ then \n",
    "$$\n",
    "  \\| f - I_N f \\|_\\infty \\lesssim (\\log N) M e^{-\\alpha N}.  \n",
    "$$\n",
    "Similarly, the **Jackson Theorem(s)** state that, if $f$ is $2\\pi$-periodic, $p$ times continuously differentiable and the $p$th derivative $f^{(p)}$ is $s$-Hölder continuous, $s \\in (0, 1]$, i.e.\n",
    "$$\n",
    "    |f^{(p)}(x) - f^{(p)}(y)| \\leq C |x - y|^s\n",
    "$$\n",
    "then \n",
    "$$\n",
    "    \\|f - I_N f\\|_\\infty \\lesssim (\\log N) |N|^{-p-s}.\n",
    "$$\n",
    "The prototype of an  $s$-Hölder continuous function is $|x|^s$. A piecewise smooth function with finitely many $|x|^s$ singularities is also $s$-H\\\"{o}lder continuous in the sense defined above.\n",
    "\n",
    "The $\\log N$ factor is a technicality, very difficult to see numerically (if it is indeed sharp), and should simply be ignored for this Question. \n",
    "\n",
    "Following the Model solution, produce figures demonstrating the algebraic or exponential convergence rates stated in the above estimates. As in the model solution in addition to plotting the convergence, also print your predicted rate of convergence.\n",
    "\n",
    "(i) $f(x) = |\\sin(x)|$\n",
    "\n",
    "(ii) $f(x) = |\\sin(x)|^5$\n",
    "\n",
    "(iii) $f(x) = |\\sin(x)|^{7/3}$\n",
    "\n",
    "(iv) $f(x) = \\dfrac{1}{1 + \\exp(10 \\sin(x))}$"
   ]
  },
  {
   "cell_type": "code",
   "execution_count": 5,
   "metadata": {
    "deletable": false,
    "editable": false,
    "nbgrader": {
     "cell_type": "code",
     "checksum": "a8325748e1d5f096cfaf631aa56c896f",
     "grade": false,
     "grade_id": "cell-27176e5531c66fe1",
     "locked": true,
     "schema_version": 3,
     "solution": false,
     "task": false
    }
   },
   "outputs": [
    {
     "name": "stdout",
     "output_type": "stream",
     "text": [
      "Rate for 1 / (1+sin(x)^2): error ~ exp(- 0.87 N)\n"
     ]
    },
    {
     "data": {
      "image/svg+xml": [
       "<?xml version=\"1.0\" encoding=\"utf-8\"?>\n",
       "<svg xmlns=\"http://www.w3.org/2000/svg\" xmlns:xlink=\"http://www.w3.org/1999/xlink\" width=\"500\" height=\"250\" viewBox=\"0 0 2000 1000\">\n",
       "<defs>\n",
       "  <clipPath id=\"clip930\">\n",
       "    <rect x=\"0\" y=\"0\" width=\"2000\" height=\"1000\"/>\n",
       "  </clipPath>\n",
       "</defs>\n",
       "<path clip-path=\"url(#clip930)\" d=\"\n",
       "M0 1000 L2000 1000 L2000 0 L0 0  Z\n",
       "  \" fill=\"#ffffff\" fill-rule=\"evenodd\" fill-opacity=\"1\"/>\n",
       "<defs>\n",
       "  <clipPath id=\"clip931\">\n",
       "    <rect x=\"400\" y=\"0\" width=\"1401\" height=\"1000\"/>\n",
       "  </clipPath>\n",
       "</defs>\n",
       "<path clip-path=\"url(#clip930)\" d=\"\n",
       "M258.963 849.7 L1952.76 849.7 L1952.76 47.2441 L258.963 47.2441  Z\n",
       "  \" fill=\"#ffffff\" fill-rule=\"evenodd\" fill-opacity=\"1\"/>\n",
       "<defs>\n",
       "  <clipPath id=\"clip932\">\n",
       "    <rect x=\"258\" y=\"47\" width=\"1695\" height=\"803\"/>\n",
       "  </clipPath>\n",
       "</defs>\n",
       "<polyline clip-path=\"url(#clip932)\" style=\"stroke:#000000; stroke-width:2; stroke-opacity:0.1; fill:none\" points=\"\n",
       "  440.06,849.7 440.06,47.2441 \n",
       "  \"/>\n",
       "<polyline clip-path=\"url(#clip932)\" style=\"stroke:#000000; stroke-width:2; stroke-opacity:0.1; fill:none\" points=\"\n",
       "  772.96,849.7 772.96,47.2441 \n",
       "  \"/>\n",
       "<polyline clip-path=\"url(#clip932)\" style=\"stroke:#000000; stroke-width:2; stroke-opacity:0.1; fill:none\" points=\"\n",
       "  1105.86,849.7 1105.86,47.2441 \n",
       "  \"/>\n",
       "<polyline clip-path=\"url(#clip932)\" style=\"stroke:#000000; stroke-width:2; stroke-opacity:0.1; fill:none\" points=\"\n",
       "  1438.76,849.7 1438.76,47.2441 \n",
       "  \"/>\n",
       "<polyline clip-path=\"url(#clip932)\" style=\"stroke:#000000; stroke-width:2; stroke-opacity:0.1; fill:none\" points=\"\n",
       "  1771.66,849.7 1771.66,47.2441 \n",
       "  \"/>\n",
       "<polyline clip-path=\"url(#clip932)\" style=\"stroke:#000000; stroke-width:2; stroke-opacity:0.1; fill:none\" points=\"\n",
       "  258.963,755.513 1952.76,755.513 \n",
       "  \"/>\n",
       "<polyline clip-path=\"url(#clip932)\" style=\"stroke:#000000; stroke-width:2; stroke-opacity:0.1; fill:none\" points=\"\n",
       "  258.963,589.355 1952.76,589.355 \n",
       "  \"/>\n",
       "<polyline clip-path=\"url(#clip932)\" style=\"stroke:#000000; stroke-width:2; stroke-opacity:0.1; fill:none\" points=\"\n",
       "  258.963,423.197 1952.76,423.197 \n",
       "  \"/>\n",
       "<polyline clip-path=\"url(#clip932)\" style=\"stroke:#000000; stroke-width:2; stroke-opacity:0.1; fill:none\" points=\"\n",
       "  258.963,257.039 1952.76,257.039 \n",
       "  \"/>\n",
       "<polyline clip-path=\"url(#clip932)\" style=\"stroke:#000000; stroke-width:2; stroke-opacity:0.1; fill:none\" points=\"\n",
       "  258.963,90.881 1952.76,90.881 \n",
       "  \"/>\n",
       "<polyline clip-path=\"url(#clip930)\" style=\"stroke:#000000; stroke-width:4; stroke-opacity:1; fill:none\" points=\"\n",
       "  258.963,849.7 1952.76,849.7 \n",
       "  \"/>\n",
       "<polyline clip-path=\"url(#clip930)\" style=\"stroke:#000000; stroke-width:4; stroke-opacity:1; fill:none\" points=\"\n",
       "  258.963,849.7 258.963,47.2441 \n",
       "  \"/>\n",
       "<polyline clip-path=\"url(#clip930)\" style=\"stroke:#000000; stroke-width:4; stroke-opacity:1; fill:none\" points=\"\n",
       "  440.06,849.7 440.06,840.07 \n",
       "  \"/>\n",
       "<polyline clip-path=\"url(#clip930)\" style=\"stroke:#000000; stroke-width:4; stroke-opacity:1; fill:none\" points=\"\n",
       "  772.96,849.7 772.96,840.07 \n",
       "  \"/>\n",
       "<polyline clip-path=\"url(#clip930)\" style=\"stroke:#000000; stroke-width:4; stroke-opacity:1; fill:none\" points=\"\n",
       "  1105.86,849.7 1105.86,840.07 \n",
       "  \"/>\n",
       "<polyline clip-path=\"url(#clip930)\" style=\"stroke:#000000; stroke-width:4; stroke-opacity:1; fill:none\" points=\"\n",
       "  1438.76,849.7 1438.76,840.07 \n",
       "  \"/>\n",
       "<polyline clip-path=\"url(#clip930)\" style=\"stroke:#000000; stroke-width:4; stroke-opacity:1; fill:none\" points=\"\n",
       "  1771.66,849.7 1771.66,840.07 \n",
       "  \"/>\n",
       "<polyline clip-path=\"url(#clip930)\" style=\"stroke:#000000; stroke-width:4; stroke-opacity:1; fill:none\" points=\"\n",
       "  258.963,755.513 279.288,755.513 \n",
       "  \"/>\n",
       "<polyline clip-path=\"url(#clip930)\" style=\"stroke:#000000; stroke-width:4; stroke-opacity:1; fill:none\" points=\"\n",
       "  258.963,589.355 279.288,589.355 \n",
       "  \"/>\n",
       "<polyline clip-path=\"url(#clip930)\" style=\"stroke:#000000; stroke-width:4; stroke-opacity:1; fill:none\" points=\"\n",
       "  258.963,423.197 279.288,423.197 \n",
       "  \"/>\n",
       "<polyline clip-path=\"url(#clip930)\" style=\"stroke:#000000; stroke-width:4; stroke-opacity:1; fill:none\" points=\"\n",
       "  258.963,257.039 279.288,257.039 \n",
       "  \"/>\n",
       "<polyline clip-path=\"url(#clip930)\" style=\"stroke:#000000; stroke-width:4; stroke-opacity:1; fill:none\" points=\"\n",
       "  258.963,90.881 279.288,90.881 \n",
       "  \"/>\n",
       "<path clip-path=\"url(#clip930)\" d=\"M 0 0 M411.854 866.612 L430.211 866.612 L430.211 870.547 L416.137 870.547 L416.137 879.019 Q417.155 878.672 418.174 878.51 Q419.192 878.325 420.211 878.325 Q425.998 878.325 429.377 881.496 Q432.757 884.667 432.757 890.084 Q432.757 895.663 429.285 898.764 Q425.813 901.843 419.493 901.843 Q417.317 901.843 415.049 901.473 Q412.803 901.102 410.396 900.362 L410.396 895.663 Q412.479 896.797 414.702 897.352 Q416.924 897.908 419.401 897.908 Q423.405 897.908 425.743 895.802 Q428.081 893.695 428.081 890.084 Q428.081 886.473 425.743 884.366 Q423.405 882.26 419.401 882.26 Q417.526 882.26 415.651 882.677 Q413.799 883.093 411.854 883.973 L411.854 866.612 Z\" fill=\"#000000\" fill-rule=\"evenodd\" fill-opacity=\"1\" /><path clip-path=\"url(#clip930)\" d=\"M 0 0 M437.826 895.292 L442.711 895.292 L442.711 901.172 L437.826 901.172 L437.826 895.292 Z\" fill=\"#000000\" fill-rule=\"evenodd\" fill-opacity=\"1\" /><path clip-path=\"url(#clip930)\" d=\"M 0 0 M457.78 869.691 Q454.169 869.691 452.34 873.255 Q450.535 876.797 450.535 883.927 Q450.535 891.033 452.34 894.598 Q454.169 898.139 457.78 898.139 Q461.414 898.139 463.22 894.598 Q465.048 891.033 465.048 883.927 Q465.048 876.797 463.22 873.255 Q461.414 869.691 457.78 869.691 M457.78 865.987 Q463.59 865.987 466.646 870.593 Q469.724 875.177 469.724 883.927 Q469.724 892.653 466.646 897.26 Q463.59 901.843 457.78 901.843 Q451.97 901.843 448.891 897.26 Q445.836 892.653 445.836 883.927 Q445.836 875.177 448.891 870.593 Q451.97 865.987 457.78 865.987 Z\" fill=\"#000000\" fill-rule=\"evenodd\" fill-opacity=\"1\" /><path clip-path=\"url(#clip930)\" d=\"M 0 0 M743.863 866.612 L766.085 866.612 L766.085 868.603 L753.539 901.172 L748.654 901.172 L760.46 870.547 L743.863 870.547 L743.863 866.612 Z\" fill=\"#000000\" fill-rule=\"evenodd\" fill-opacity=\"1\" /><path clip-path=\"url(#clip930)\" d=\"M 0 0 M771.154 895.292 L776.038 895.292 L776.038 901.172 L771.154 901.172 L771.154 895.292 Z\" fill=\"#000000\" fill-rule=\"evenodd\" fill-opacity=\"1\" /><path clip-path=\"url(#clip930)\" d=\"M 0 0 M781.154 866.612 L799.511 866.612 L799.511 870.547 L785.437 870.547 L785.437 879.019 Q786.455 878.672 787.474 878.51 Q788.492 878.325 789.511 878.325 Q795.298 878.325 798.677 881.496 Q802.057 884.667 802.057 890.084 Q802.057 895.663 798.585 898.764 Q795.112 901.843 788.793 901.843 Q786.617 901.843 784.349 901.473 Q782.103 901.102 779.696 900.362 L779.696 895.663 Q781.779 896.797 784.001 897.352 Q786.224 897.908 788.7 897.908 Q792.705 897.908 795.043 895.802 Q797.381 893.695 797.381 890.084 Q797.381 886.473 795.043 884.366 Q792.705 882.26 788.7 882.26 Q786.825 882.26 784.95 882.677 Q783.099 883.093 781.154 883.973 L781.154 866.612 Z\" fill=\"#000000\" fill-rule=\"evenodd\" fill-opacity=\"1\" /><path clip-path=\"url(#clip930)\" d=\"M 0 0 M1064.25 897.237 L1071.89 897.237 L1071.89 870.871 L1063.58 872.538 L1063.58 868.279 L1071.84 866.612 L1076.52 866.612 L1076.52 897.237 L1084.16 897.237 L1084.16 901.172 L1064.25 901.172 L1064.25 897.237 Z\" fill=\"#000000\" fill-rule=\"evenodd\" fill-opacity=\"1\" /><path clip-path=\"url(#clip930)\" d=\"M 0 0 M1099.23 869.691 Q1095.62 869.691 1093.79 873.255 Q1091.98 876.797 1091.98 883.927 Q1091.98 891.033 1093.79 894.598 Q1095.62 898.139 1099.23 898.139 Q1102.86 898.139 1104.67 894.598 Q1106.5 891.033 1106.5 883.927 Q1106.5 876.797 1104.67 873.255 Q1102.86 869.691 1099.23 869.691 M1099.23 865.987 Q1105.04 865.987 1108.09 870.593 Q1111.17 875.177 1111.17 883.927 Q1111.17 892.653 1108.09 897.26 Q1105.04 901.843 1099.23 901.843 Q1093.42 901.843 1090.34 897.26 Q1087.28 892.653 1087.28 883.927 Q1087.28 875.177 1090.34 870.593 Q1093.42 865.987 1099.23 865.987 Z\" fill=\"#000000\" fill-rule=\"evenodd\" fill-opacity=\"1\" /><path clip-path=\"url(#clip930)\" d=\"M 0 0 M1116.24 895.292 L1121.13 895.292 L1121.13 901.172 L1116.24 901.172 L1116.24 895.292 Z\" fill=\"#000000\" fill-rule=\"evenodd\" fill-opacity=\"1\" /><path clip-path=\"url(#clip930)\" d=\"M 0 0 M1136.19 869.691 Q1132.58 869.691 1130.76 873.255 Q1128.95 876.797 1128.95 883.927 Q1128.95 891.033 1130.76 894.598 Q1132.58 898.139 1136.19 898.139 Q1139.83 898.139 1141.63 894.598 Q1143.46 891.033 1143.46 883.927 Q1143.46 876.797 1141.63 873.255 Q1139.83 869.691 1136.19 869.691 M1136.19 865.987 Q1142.01 865.987 1145.06 870.593 Q1148.14 875.177 1148.14 883.927 Q1148.14 892.653 1145.06 897.26 Q1142.01 901.843 1136.19 901.843 Q1130.38 901.843 1127.31 897.26 Q1124.25 892.653 1124.25 883.927 Q1124.25 875.177 1127.31 870.593 Q1130.38 865.987 1136.19 865.987 Z\" fill=\"#000000\" fill-rule=\"evenodd\" fill-opacity=\"1\" /><path clip-path=\"url(#clip930)\" d=\"M 0 0 M1398.45 897.237 L1406.09 897.237 L1406.09 870.871 L1397.78 872.538 L1397.78 868.279 L1406.04 866.612 L1410.72 866.612 L1410.72 897.237 L1418.35 897.237 L1418.35 901.172 L1398.45 901.172 L1398.45 897.237 Z\" fill=\"#000000\" fill-rule=\"evenodd\" fill-opacity=\"1\" /><path clip-path=\"url(#clip930)\" d=\"M 0 0 M1427.45 897.237 L1443.77 897.237 L1443.77 901.172 L1421.83 901.172 L1421.83 897.237 Q1424.49 894.482 1429.07 889.852 Q1433.68 885.2 1434.86 883.857 Q1437.1 881.334 1437.98 879.598 Q1438.89 877.839 1438.89 876.149 Q1438.89 873.394 1436.94 871.658 Q1435.02 869.922 1431.92 869.922 Q1429.72 869.922 1427.27 870.686 Q1424.84 871.45 1422.06 873.001 L1422.06 868.279 Q1424.88 867.144 1427.34 866.566 Q1429.79 865.987 1431.83 865.987 Q1437.2 865.987 1440.39 868.672 Q1443.59 871.357 1443.59 875.848 Q1443.59 877.978 1442.78 879.899 Q1441.99 881.797 1439.88 884.39 Q1439.3 885.061 1436.2 888.278 Q1433.1 891.473 1427.45 897.237 Z\" fill=\"#000000\" fill-rule=\"evenodd\" fill-opacity=\"1\" /><path clip-path=\"url(#clip930)\" d=\"M 0 0 M1448.84 895.292 L1453.72 895.292 L1453.72 901.172 L1448.84 901.172 L1448.84 895.292 Z\" fill=\"#000000\" fill-rule=\"evenodd\" fill-opacity=\"1\" /><path clip-path=\"url(#clip930)\" d=\"M 0 0 M1458.84 866.612 L1477.2 866.612 L1477.2 870.547 L1463.12 870.547 L1463.12 879.019 Q1464.14 878.672 1465.16 878.51 Q1466.18 878.325 1467.2 878.325 Q1472.98 878.325 1476.36 881.496 Q1479.74 884.667 1479.74 890.084 Q1479.74 895.663 1476.27 898.764 Q1472.8 901.843 1466.48 901.843 Q1464.3 901.843 1462.03 901.473 Q1459.79 901.102 1457.38 900.362 L1457.38 895.663 Q1459.46 896.797 1461.69 897.352 Q1463.91 897.908 1466.39 897.908 Q1470.39 897.908 1472.73 895.802 Q1475.07 893.695 1475.07 890.084 Q1475.07 886.473 1472.73 884.366 Q1470.39 882.26 1466.39 882.26 Q1464.51 882.26 1462.64 882.677 Q1460.78 883.093 1458.84 883.973 L1458.84 866.612 Z\" fill=\"#000000\" fill-rule=\"evenodd\" fill-opacity=\"1\" /><path clip-path=\"url(#clip930)\" d=\"M 0 0 M1730.55 897.237 L1738.19 897.237 L1738.19 870.871 L1729.88 872.538 L1729.88 868.279 L1738.14 866.612 L1742.82 866.612 L1742.82 897.237 L1750.45 897.237 L1750.45 901.172 L1730.55 901.172 L1730.55 897.237 Z\" fill=\"#000000\" fill-rule=\"evenodd\" fill-opacity=\"1\" /><path clip-path=\"url(#clip930)\" d=\"M 0 0 M1755.57 866.612 L1773.93 866.612 L1773.93 870.547 L1759.85 870.547 L1759.85 879.019 Q1760.87 878.672 1761.89 878.51 Q1762.91 878.325 1763.93 878.325 Q1769.71 878.325 1773.09 881.496 Q1776.47 884.667 1776.47 890.084 Q1776.47 895.663 1773 898.764 Q1769.53 901.843 1763.21 901.843 Q1761.03 901.843 1758.77 901.473 Q1756.52 901.102 1754.11 900.362 L1754.11 895.663 Q1756.2 896.797 1758.42 897.352 Q1760.64 897.908 1763.12 897.908 Q1767.12 897.908 1769.46 895.802 Q1771.8 893.695 1771.8 890.084 Q1771.8 886.473 1769.46 884.366 Q1767.12 882.26 1763.12 882.26 Q1761.24 882.26 1759.37 882.677 Q1757.52 883.093 1755.57 883.973 L1755.57 866.612 Z\" fill=\"#000000\" fill-rule=\"evenodd\" fill-opacity=\"1\" /><path clip-path=\"url(#clip930)\" d=\"M 0 0 M1781.54 895.292 L1786.43 895.292 L1786.43 901.172 L1781.54 901.172 L1781.54 895.292 Z\" fill=\"#000000\" fill-rule=\"evenodd\" fill-opacity=\"1\" /><path clip-path=\"url(#clip930)\" d=\"M 0 0 M1801.5 869.691 Q1797.89 869.691 1796.06 873.255 Q1794.25 876.797 1794.25 883.927 Q1794.25 891.033 1796.06 894.598 Q1797.89 898.139 1801.5 898.139 Q1805.13 898.139 1806.94 894.598 Q1808.76 891.033 1808.76 883.927 Q1808.76 876.797 1806.94 873.255 Q1805.13 869.691 1801.5 869.691 M1801.5 865.987 Q1807.31 865.987 1810.36 870.593 Q1813.44 875.177 1813.44 883.927 Q1813.44 892.653 1810.36 897.26 Q1807.31 901.843 1801.5 901.843 Q1795.69 901.843 1792.61 897.26 Q1789.55 892.653 1789.55 883.927 Q1789.55 875.177 1792.61 870.593 Q1795.69 865.987 1801.5 865.987 Z\" fill=\"#000000\" fill-rule=\"evenodd\" fill-opacity=\"1\" /><path clip-path=\"url(#clip930)\" d=\"M 0 0 M148.539 775.306 L156.178 775.306 L156.178 748.94 L147.868 750.607 L147.868 746.348 L156.132 744.681 L160.808 744.681 L160.808 775.306 L168.447 775.306 L168.447 779.241 L148.539 779.241 L148.539 775.306 Z\" fill=\"#000000\" fill-rule=\"evenodd\" fill-opacity=\"1\" /><path clip-path=\"url(#clip930)\" d=\"M 0 0 M183.516 747.76 Q179.905 747.76 178.076 751.324 Q176.271 754.866 176.271 761.996 Q176.271 769.102 178.076 772.667 Q179.905 776.209 183.516 776.209 Q187.15 776.209 188.956 772.667 Q190.785 769.102 190.785 761.996 Q190.785 754.866 188.956 751.324 Q187.15 747.76 183.516 747.76 M183.516 744.056 Q189.326 744.056 192.382 748.662 Q195.46 753.246 195.46 761.996 Q195.46 770.722 192.382 775.329 Q189.326 779.912 183.516 779.912 Q177.706 779.912 174.627 775.329 Q171.572 770.722 171.572 761.996 Q171.572 753.246 174.627 748.662 Q177.706 744.056 183.516 744.056 Z\" fill=\"#000000\" fill-rule=\"evenodd\" fill-opacity=\"1\" /><path clip-path=\"url(#clip930)\" d=\"M 0 0 M195.46 739.737 L205.598 739.737 L205.598 742.822 L195.46 742.822 L195.46 739.737 Z\" fill=\"#000000\" fill-rule=\"evenodd\" fill-opacity=\"1\" /><path clip-path=\"url(#clip930)\" d=\"M 0 0 M229.597 736.276 Q227.039 736.276 225.534 738.026 Q224.048 739.775 224.048 742.822 Q224.048 745.85 225.534 747.618 Q227.039 749.367 229.597 749.367 Q232.154 749.367 233.64 747.618 Q235.145 745.85 235.145 742.822 Q235.145 739.775 233.64 738.026 Q232.154 736.276 229.597 736.276 M237.138 724.371 L237.138 727.832 Q235.709 727.155 234.242 726.797 Q232.794 726.44 231.364 726.44 Q227.603 726.44 225.609 728.979 Q223.634 731.518 223.352 736.653 Q224.462 735.016 226.136 734.151 Q227.81 733.267 229.822 733.267 Q234.054 733.267 236.499 735.844 Q238.963 738.402 238.963 742.822 Q238.963 747.147 236.405 749.762 Q233.847 752.376 229.597 752.376 Q224.725 752.376 222.149 748.652 Q219.572 744.909 219.572 737.819 Q219.572 731.161 222.732 727.211 Q225.891 723.243 231.214 723.243 Q232.643 723.243 234.092 723.525 Q235.559 723.807 237.138 724.371 Z\" fill=\"#000000\" fill-rule=\"evenodd\" fill-opacity=\"1\" /><path clip-path=\"url(#clip930)\" d=\"M 0 0 M149.762 609.148 L157.401 609.148 L157.401 582.782 L149.091 584.449 L149.091 580.189 L157.354 578.523 L162.03 578.523 L162.03 609.148 L169.669 609.148 L169.669 613.083 L149.762 613.083 L149.762 609.148 Z\" fill=\"#000000\" fill-rule=\"evenodd\" fill-opacity=\"1\" /><path clip-path=\"url(#clip930)\" d=\"M 0 0 M184.739 581.602 Q181.127 581.602 179.299 585.166 Q177.493 588.708 177.493 595.838 Q177.493 602.944 179.299 606.509 Q181.127 610.05 184.739 610.05 Q188.373 610.05 190.178 606.509 Q192.007 602.944 192.007 595.838 Q192.007 588.708 190.178 585.166 Q188.373 581.602 184.739 581.602 M184.739 577.898 Q190.549 577.898 193.604 582.504 Q196.683 587.088 196.683 595.838 Q196.683 604.564 193.604 609.171 Q190.549 613.754 184.739 613.754 Q178.928 613.754 175.85 609.171 Q172.794 604.564 172.794 595.838 Q172.794 587.088 175.85 582.504 Q178.928 577.898 184.739 577.898 Z\" fill=\"#000000\" fill-rule=\"evenodd\" fill-opacity=\"1\" /><path clip-path=\"url(#clip930)\" d=\"M 0 0 M196.683 573.579 L206.82 573.579 L206.82 576.664 L196.683 576.664 L196.683 573.579 Z\" fill=\"#000000\" fill-rule=\"evenodd\" fill-opacity=\"1\" /><path clip-path=\"url(#clip930)\" d=\"M 0 0 M221.979 557.592 L236.894 557.592 L236.894 560.79 L225.459 560.79 L225.459 567.673 Q226.286 567.391 227.114 567.26 Q227.941 567.109 228.769 567.109 Q233.471 567.109 236.217 569.686 Q238.963 572.262 238.963 576.664 Q238.963 581.196 236.142 583.716 Q233.32 586.218 228.186 586.218 Q226.418 586.218 224.575 585.917 Q222.751 585.616 220.795 585.014 L220.795 581.196 Q222.487 582.118 224.293 582.569 Q226.098 583.021 228.111 583.021 Q231.364 583.021 233.264 581.309 Q235.164 579.598 235.164 576.664 Q235.164 573.729 233.264 572.018 Q231.364 570.306 228.111 570.306 Q226.587 570.306 225.064 570.645 Q223.559 570.984 221.979 571.698 L221.979 557.592 Z\" fill=\"#000000\" fill-rule=\"evenodd\" fill-opacity=\"1\" /><path clip-path=\"url(#clip930)\" d=\"M 0 0 M147.467 442.99 L155.106 442.99 L155.106 416.624 L146.796 418.291 L146.796 414.031 L155.06 412.365 L159.736 412.365 L159.736 442.99 L167.375 442.99 L167.375 446.925 L147.467 446.925 L147.467 442.99 Z\" fill=\"#000000\" fill-rule=\"evenodd\" fill-opacity=\"1\" /><path clip-path=\"url(#clip930)\" d=\"M 0 0 M182.444 415.443 Q178.833 415.443 177.004 419.008 Q175.199 422.55 175.199 429.679 Q175.199 436.786 177.004 440.351 Q178.833 443.892 182.444 443.892 Q186.078 443.892 187.884 440.351 Q189.713 436.786 189.713 429.679 Q189.713 422.55 187.884 419.008 Q186.078 415.443 182.444 415.443 M182.444 411.74 Q188.254 411.74 191.31 416.346 Q194.388 420.93 194.388 429.679 Q194.388 438.406 191.31 443.013 Q188.254 447.596 182.444 447.596 Q176.634 447.596 173.555 443.013 Q170.5 438.406 170.5 429.679 Q170.5 420.93 173.555 416.346 Q176.634 411.74 182.444 411.74 Z\" fill=\"#000000\" fill-rule=\"evenodd\" fill-opacity=\"1\" /><path clip-path=\"url(#clip930)\" d=\"M 0 0 M194.388 407.421 L204.526 407.421 L204.526 410.505 L194.388 410.505 L194.388 407.421 Z\" fill=\"#000000\" fill-rule=\"evenodd\" fill-opacity=\"1\" /><path clip-path=\"url(#clip930)\" d=\"M 0 0 M231.176 394.745 L221.584 409.734 L231.176 409.734 L231.176 394.745 M230.18 391.434 L234.957 391.434 L234.957 409.734 L238.963 409.734 L238.963 412.894 L234.957 412.894 L234.957 419.514 L231.176 419.514 L231.176 412.894 L218.5 412.894 L218.5 409.227 L230.18 391.434 Z\" fill=\"#000000\" fill-rule=\"evenodd\" fill-opacity=\"1\" /><path clip-path=\"url(#clip930)\" d=\"M 0 0 M149.442 276.832 L157.081 276.832 L157.081 250.466 L148.771 252.133 L148.771 247.873 L157.035 246.207 L161.711 246.207 L161.711 276.832 L169.349 276.832 L169.349 280.767 L149.442 280.767 L149.442 276.832 Z\" fill=\"#000000\" fill-rule=\"evenodd\" fill-opacity=\"1\" /><path clip-path=\"url(#clip930)\" d=\"M 0 0 M184.419 249.285 Q180.808 249.285 178.979 252.85 Q177.174 256.392 177.174 263.521 Q177.174 270.628 178.979 274.193 Q180.808 277.734 184.419 277.734 Q188.053 277.734 189.859 274.193 Q191.687 270.628 191.687 263.521 Q191.687 256.392 189.859 252.85 Q188.053 249.285 184.419 249.285 M184.419 245.582 Q190.229 245.582 193.285 250.188 Q196.363 254.771 196.363 263.521 Q196.363 272.248 193.285 276.855 Q190.229 281.438 184.419 281.438 Q178.609 281.438 175.53 276.855 Q172.474 272.248 172.474 263.521 Q172.474 254.771 175.53 250.188 Q178.609 245.582 184.419 245.582 Z\" fill=\"#000000\" fill-rule=\"evenodd\" fill-opacity=\"1\" /><path clip-path=\"url(#clip930)\" d=\"M 0 0 M196.363 241.263 L206.501 241.263 L206.501 244.347 L196.363 244.347 L196.363 241.263 Z\" fill=\"#000000\" fill-rule=\"evenodd\" fill-opacity=\"1\" /><path clip-path=\"url(#clip930)\" d=\"M 0 0 M233.17 238.216 Q235.897 238.799 237.421 240.642 Q238.963 242.485 238.963 245.194 Q238.963 249.35 236.104 251.626 Q233.245 253.902 227.979 253.902 Q226.211 253.902 224.33 253.544 Q222.468 253.206 220.475 252.51 L220.475 248.842 Q222.055 249.764 223.935 250.234 Q225.816 250.704 227.866 250.704 Q231.44 250.704 233.302 249.294 Q235.182 247.883 235.182 245.194 Q235.182 242.711 233.433 241.319 Q231.703 239.909 228.6 239.909 L225.327 239.909 L225.327 236.787 L228.75 236.787 Q231.553 236.787 233.038 235.677 Q234.524 234.549 234.524 232.442 Q234.524 230.279 232.982 229.132 Q231.459 227.966 228.6 227.966 Q227.039 227.966 225.252 228.304 Q223.465 228.643 221.321 229.358 L221.321 225.972 Q223.484 225.37 225.365 225.069 Q227.264 224.768 228.938 224.768 Q233.264 224.768 235.784 226.743 Q238.305 228.699 238.305 232.047 Q238.305 234.379 236.969 235.997 Q235.634 237.595 233.17 238.216 Z\" fill=\"#000000\" fill-rule=\"evenodd\" fill-opacity=\"1\" /><path clip-path=\"url(#clip930)\" d=\"M 0 0 M150.1 110.673 L157.739 110.673 L157.739 84.3079 L149.429 85.9745 L149.429 81.7153 L157.693 80.0486 L162.369 80.0486 L162.369 110.673 L170.008 110.673 L170.008 114.609 L150.1 114.609 L150.1 110.673 Z\" fill=\"#000000\" fill-rule=\"evenodd\" fill-opacity=\"1\" /><path clip-path=\"url(#clip930)\" d=\"M 0 0 M185.077 83.1273 Q181.466 83.1273 179.637 86.6921 Q177.832 90.2338 177.832 97.3634 Q177.832 104.47 179.637 108.035 Q181.466 111.576 185.077 111.576 Q188.711 111.576 190.517 108.035 Q192.346 104.47 192.346 97.3634 Q192.346 90.2338 190.517 86.6921 Q188.711 83.1273 185.077 83.1273 M185.077 79.4236 Q190.887 79.4236 193.943 84.0301 Q197.021 88.6134 197.021 97.3634 Q197.021 106.09 193.943 110.697 Q190.887 115.28 185.077 115.28 Q179.267 115.28 176.188 110.697 Q173.133 106.09 173.133 97.3634 Q173.133 88.6134 176.188 84.0301 Q179.267 79.4236 185.077 79.4236 Z\" fill=\"#000000\" fill-rule=\"evenodd\" fill-opacity=\"1\" /><path clip-path=\"url(#clip930)\" d=\"M 0 0 M197.021 75.1048 L207.159 75.1048 L207.159 78.1893 L197.021 78.1893 L197.021 75.1048 Z\" fill=\"#000000\" fill-rule=\"evenodd\" fill-opacity=\"1\" /><path clip-path=\"url(#clip930)\" d=\"M 0 0 M225.703 84.0009 L238.963 84.0009 L238.963 87.1982 L221.133 87.1982 L221.133 84.0009 Q223.296 81.7628 227.02 78.0012 Q230.763 74.2209 231.722 73.13 Q233.546 71.08 234.261 69.6694 Q234.994 68.24 234.994 66.867 Q234.994 64.6289 233.415 63.2183 Q231.853 61.8077 229.333 61.8077 Q227.547 61.8077 225.553 62.4284 Q223.578 63.0491 221.321 64.3092 L221.321 60.4724 Q223.616 59.5508 225.609 59.0806 Q227.603 58.6104 229.258 58.6104 Q233.621 58.6104 236.217 60.7921 Q238.812 62.9738 238.812 66.6225 Q238.812 68.3528 238.154 69.9139 Q237.515 71.4561 235.803 73.5626 Q235.333 74.108 232.813 76.7223 Q230.292 79.3178 225.703 84.0009 Z\" fill=\"#000000\" fill-rule=\"evenodd\" fill-opacity=\"1\" /><path clip-path=\"url(#clip930)\" d=\"M 0 0 M1087.88 931.044 L1096.53 931.044 L1117.6 970.798 L1117.6 931.044 L1123.84 931.044 L1123.84 978.564 L1115.19 978.564 L1094.11 938.81 L1094.11 978.564 L1087.88 978.564 L1087.88 931.044 Z\" fill=\"#000000\" fill-rule=\"evenodd\" fill-opacity=\"1\" /><path clip-path=\"url(#clip930)\" d=\"M 0 0 M60.8361 489.022 L63.7006 489.022 L63.7006 515.948 Q69.7481 515.567 72.9309 512.32 Q76.0819 509.042 76.0819 503.217 Q76.0819 499.843 75.2544 496.692 Q74.4269 493.509 72.7718 490.39 L78.3099 490.39 Q79.6467 493.541 80.347 496.851 Q81.0472 500.162 81.0472 503.567 Q81.0472 512.097 76.0819 517.094 Q71.1167 522.06 62.6503 522.06 Q53.8974 522.06 48.7731 517.349 Q43.6168 512.606 43.6168 504.586 Q43.6168 497.392 48.2638 493.223 Q52.8789 489.022 60.8361 489.022 M59.1173 494.878 Q54.3112 494.942 51.4466 497.583 Q48.5821 500.193 48.5821 504.522 Q48.5821 509.424 51.3512 512.384 Q54.1202 515.312 59.1492 515.757 L59.1173 494.878 Z\" fill=\"#000000\" fill-rule=\"evenodd\" fill-opacity=\"1\" /><path clip-path=\"url(#clip930)\" d=\"M 0 0 M49.9507 462.222 Q49.3778 463.209 49.1232 464.386 Q48.8367 465.532 48.8367 466.933 Q48.8367 471.898 52.0832 474.571 Q55.2979 477.213 61.3453 477.213 L80.1242 477.213 L80.1242 483.101 L44.4762 483.101 L44.4762 477.213 L50.0144 477.213 Q46.7679 475.367 45.2083 472.407 Q43.6168 469.447 43.6168 465.214 Q43.6168 464.609 43.7123 463.877 Q43.776 463.145 43.9351 462.254 L49.9507 462.222 Z\" fill=\"#000000\" fill-rule=\"evenodd\" fill-opacity=\"1\" /><path clip-path=\"url(#clip930)\" d=\"M 0 0 M49.9507 436.568 Q49.3778 437.555 49.1232 438.732 Q48.8367 439.878 48.8367 441.279 Q48.8367 446.244 52.0832 448.918 Q55.2979 451.559 61.3453 451.559 L80.1242 451.559 L80.1242 457.448 L44.4762 457.448 L44.4762 451.559 L50.0144 451.559 Q46.7679 449.713 45.2083 446.753 Q43.6168 443.793 43.6168 439.56 Q43.6168 438.955 43.7123 438.223 Q43.776 437.491 43.9351 436.6 L49.9507 436.568 Z\" fill=\"#000000\" fill-rule=\"evenodd\" fill-opacity=\"1\" /><path clip-path=\"url(#clip930)\" d=\"M 0 0 M48.5821 418.044 Q48.5821 422.755 52.2742 425.492 Q55.9345 428.229 62.332 428.229 Q68.7295 428.229 72.4217 425.524 Q76.0819 422.786 76.0819 418.044 Q76.0819 413.365 72.3898 410.628 Q68.6977 407.891 62.332 407.891 Q55.9981 407.891 52.306 410.628 Q48.5821 413.365 48.5821 418.044 M43.6168 418.044 Q43.6168 410.405 48.5821 406.045 Q53.5473 401.684 62.332 401.684 Q71.0849 401.684 76.0819 406.045 Q81.0472 410.405 81.0472 418.044 Q81.0472 425.715 76.0819 430.075 Q71.0849 434.404 62.332 434.404 Q53.5473 434.404 48.5821 430.075 Q43.6168 425.715 43.6168 418.044 Z\" fill=\"#000000\" fill-rule=\"evenodd\" fill-opacity=\"1\" /><path clip-path=\"url(#clip930)\" d=\"M 0 0 M49.9507 374.884 Q49.3778 375.871 49.1232 377.049 Q48.8367 378.195 48.8367 379.595 Q48.8367 384.56 52.0832 387.234 Q55.2979 389.876 61.3453 389.876 L80.1242 389.876 L80.1242 395.764 L44.4762 395.764 L44.4762 389.876 L50.0144 389.876 Q46.7679 388.03 45.2083 385.07 Q43.6168 382.109 43.6168 377.876 Q43.6168 377.272 43.7123 376.539 Q43.776 375.807 43.9351 374.916 L49.9507 374.884 Z\" fill=\"#000000\" fill-rule=\"evenodd\" fill-opacity=\"1\" /><polyline clip-path=\"url(#clip932)\" style=\"stroke:#009af9; stroke-width:8; stroke-opacity:1; fill:none\" points=\"\n",
       "  306.9,69.9551 573.22,194.034 839.54,317.501 1105.86,448.196 1372.18,572.033 1638.5,699.491 1904.82,826.989 \n",
       "  \"/>\n",
       "<path clip-path=\"url(#clip932)\" d=\"M306.9 89.9551 L292.76 84.0951 L286.9 69.9551 L292.76 55.8151 L306.9 49.9551 L321.04 55.8151 L326.9 69.9551 L321.04 84.0951 Z\" fill=\"#009af9\" fill-rule=\"evenodd\" fill-opacity=\"1\" stroke=\"#000000\" stroke-opacity=\"1\" stroke-width=\"2\"/>\n",
       "<path clip-path=\"url(#clip932)\" d=\"M573.22 214.034 L559.08 208.174 L553.22 194.034 L559.08 179.894 L573.22 174.034 L587.36 179.894 L593.22 194.034 L587.36 208.174 Z\" fill=\"#009af9\" fill-rule=\"evenodd\" fill-opacity=\"1\" stroke=\"#000000\" stroke-opacity=\"1\" stroke-width=\"2\"/>\n",
       "<path clip-path=\"url(#clip932)\" d=\"M839.54 337.501 L825.4 331.641 L819.54 317.501 L825.4 303.361 L839.54 297.501 L853.68 303.361 L859.54 317.501 L853.68 331.641 Z\" fill=\"#009af9\" fill-rule=\"evenodd\" fill-opacity=\"1\" stroke=\"#000000\" stroke-opacity=\"1\" stroke-width=\"2\"/>\n",
       "<path clip-path=\"url(#clip932)\" d=\"M1105.86 468.196 L1091.72 462.336 L1085.86 448.196 L1091.72 434.056 L1105.86 428.196 L1120 434.056 L1125.86 448.196 L1120 462.336 Z\" fill=\"#009af9\" fill-rule=\"evenodd\" fill-opacity=\"1\" stroke=\"#000000\" stroke-opacity=\"1\" stroke-width=\"2\"/>\n",
       "<path clip-path=\"url(#clip932)\" d=\"M1372.18 592.033 L1358.04 586.173 L1352.18 572.033 L1358.04 557.893 L1372.18 552.033 L1386.32 557.893 L1392.18 572.033 L1386.32 586.173 Z\" fill=\"#009af9\" fill-rule=\"evenodd\" fill-opacity=\"1\" stroke=\"#000000\" stroke-opacity=\"1\" stroke-width=\"2\"/>\n",
       "<path clip-path=\"url(#clip932)\" d=\"M1638.5 719.491 L1624.36 713.631 L1618.5 699.491 L1624.36 685.351 L1638.5 679.491 L1652.64 685.351 L1658.5 699.491 L1652.64 713.631 Z\" fill=\"#009af9\" fill-rule=\"evenodd\" fill-opacity=\"1\" stroke=\"#000000\" stroke-opacity=\"1\" stroke-width=\"2\"/>\n",
       "<path clip-path=\"url(#clip932)\" d=\"M1904.82 846.989 L1890.68 841.129 L1884.82 826.989 L1890.68 812.849 L1904.82 806.989 L1918.96 812.849 L1924.82 826.989 L1918.96 841.129 Z\" fill=\"#009af9\" fill-rule=\"evenodd\" fill-opacity=\"1\" stroke=\"#000000\" stroke-opacity=\"1\" stroke-width=\"2\"/>\n",
       "<polyline clip-path=\"url(#clip932)\" style=\"stroke:#000000; stroke-width:8; stroke-opacity:1; fill:none\" stroke-dasharray=\"32, 20\" points=\"\n",
       "  1372.18,511.931 1638.5,637.492 1904.82,763.053 \n",
       "  \"/>\n",
       "<path clip-path=\"url(#clip930)\" d=\"\n",
       "M1378.93 194.953 L1896.3 194.953 L1896.3 73.9926 L1378.93 73.9926  Z\n",
       "  \" fill=\"#ffffff\" fill-rule=\"evenodd\" fill-opacity=\"1\"/>\n",
       "<polyline clip-path=\"url(#clip930)\" style=\"stroke:#000000; stroke-width:4; stroke-opacity:1; fill:none\" points=\"\n",
       "  1378.93,194.953 1896.3,194.953 1896.3,73.9926 1378.93,73.9926 1378.93,194.953 \n",
       "  \"/>\n",
       "<polyline clip-path=\"url(#clip930)\" style=\"stroke:#009af9; stroke-width:4; stroke-opacity:1; fill:none\" points=\"\n",
       "  1397.75,134.473 1510.67,134.473 \n",
       "  \"/>\n",
       "<path clip-path=\"url(#clip930)\" d=\"M1454.21 160.073 L1436.11 152.572 L1428.61 134.473 L1436.11 116.373 L1454.21 108.873 L1472.31 116.373 L1479.81 134.473 L1472.31 152.572 Z\" fill=\"#009af9\" fill-rule=\"evenodd\" fill-opacity=\"1\" stroke=\"#000000\" stroke-opacity=\"1\" stroke-width=\"2.56\"/>\n",
       "<path clip-path=\"url(#clip930)\" d=\"M1454.21 160.073 L1436.11 152.572 L1428.61 134.473 L1436.11 116.373 L1454.21 108.873 L1472.31 116.373 L1479.81 134.473 L1472.31 152.572 Z\" fill=\"#009af9\" fill-rule=\"evenodd\" fill-opacity=\"1\" stroke=\"#000000\" stroke-opacity=\"1\" stroke-width=\"2.56\"/>\n",
       "<path clip-path=\"url(#clip930)\" d=\"M1454.21 160.073 L1436.11 152.572 L1428.61 134.473 L1436.11 116.373 L1454.21 108.873 L1472.31 116.373 L1479.81 134.473 L1472.31 152.572 Z\" fill=\"#009af9\" fill-rule=\"evenodd\" fill-opacity=\"1\" stroke=\"#000000\" stroke-opacity=\"1\" stroke-width=\"2.56\"/>\n",
       "<path clip-path=\"url(#clip930)\" d=\"M1454.21 160.073 L1436.11 152.572 L1428.61 134.473 L1436.11 116.373 L1454.21 108.873 L1472.31 116.373 L1479.81 134.473 L1472.31 152.572 Z\" fill=\"#009af9\" fill-rule=\"evenodd\" fill-opacity=\"1\" stroke=\"#000000\" stroke-opacity=\"1\" stroke-width=\"2.56\"/>\n",
       "<path clip-path=\"url(#clip930)\" d=\"M1454.21 160.073 L1436.11 152.572 L1428.61 134.473 L1436.11 116.373 L1454.21 108.873 L1472.31 116.373 L1479.81 134.473 L1472.31 152.572 Z\" fill=\"#009af9\" fill-rule=\"evenodd\" fill-opacity=\"1\" stroke=\"#000000\" stroke-opacity=\"1\" stroke-width=\"2.56\"/>\n",
       "<path clip-path=\"url(#clip930)\" d=\"M1454.21 160.073 L1436.11 152.572 L1428.61 134.473 L1436.11 116.373 L1454.21 108.873 L1472.31 116.373 L1479.81 134.473 L1472.31 152.572 Z\" fill=\"#009af9\" fill-rule=\"evenodd\" fill-opacity=\"1\" stroke=\"#000000\" stroke-opacity=\"1\" stroke-width=\"2.56\"/>\n",
       "<path clip-path=\"url(#clip930)\" d=\"M1454.21 160.073 L1436.11 152.572 L1428.61 134.473 L1436.11 116.373 L1454.21 108.873 L1472.31 116.373 L1479.81 134.473 L1472.31 152.572 Z\" fill=\"#009af9\" fill-rule=\"evenodd\" fill-opacity=\"1\" stroke=\"#000000\" stroke-opacity=\"1\" stroke-width=\"2.56\"/>\n",
       "<path clip-path=\"url(#clip930)\" d=\"M 0 0 M1530.16 147.817 L1537.8 147.817 L1537.8 121.452 L1529.49 123.119 L1529.49 118.859 L1537.76 117.193 L1542.43 117.193 L1542.43 147.817 L1550.07 147.817 L1550.07 151.753 L1530.16 151.753 L1530.16 147.817 Z\" fill=\"#000000\" fill-rule=\"evenodd\" fill-opacity=\"1\" /><path clip-path=\"url(#clip930)\" d=\"M 0 0 M1577.18 117.193 L1581.11 117.193 L1569.07 156.151 L1565.14 156.151 L1577.18 117.193 Z\" fill=\"#000000\" fill-rule=\"evenodd\" fill-opacity=\"1\" /><path clip-path=\"url(#clip930)\" d=\"M 0 0 M1610.88 115.781 Q1607.78 121.105 1606.27 126.313 Q1604.77 131.521 1604.77 136.868 Q1604.77 142.216 1606.27 147.47 Q1607.8 152.702 1610.88 158.003 L1607.18 158.003 Q1603.7 152.563 1601.97 147.308 Q1600.25 142.054 1600.25 136.868 Q1600.25 131.706 1601.97 126.475 Q1603.68 121.244 1607.18 115.781 L1610.88 115.781 Z\" fill=\"#000000\" fill-rule=\"evenodd\" fill-opacity=\"1\" /><path clip-path=\"url(#clip930)\" d=\"M 0 0 M1616.76 147.817 L1624.4 147.817 L1624.4 121.452 L1616.09 123.119 L1616.09 118.859 L1624.35 117.193 L1629.03 117.193 L1629.03 147.817 L1636.67 147.817 L1636.67 151.753 L1616.76 151.753 L1616.76 147.817 Z\" fill=\"#000000\" fill-rule=\"evenodd\" fill-opacity=\"1\" /><path clip-path=\"url(#clip930)\" d=\"M 0 0 M1658.47 122.031 L1658.47 134.924 L1671.37 134.924 L1671.37 138.859 L1658.47 138.859 L1658.47 151.753 L1654.58 151.753 L1654.58 138.859 L1641.69 138.859 L1641.69 134.924 L1654.58 134.924 L1654.58 122.031 L1658.47 122.031 Z\" fill=\"#000000\" fill-rule=\"evenodd\" fill-opacity=\"1\" /><path clip-path=\"url(#clip930)\" d=\"M 0 0 M1692.36 126.591 L1692.36 130.618 Q1690.56 129.693 1688.61 129.23 Q1686.67 128.767 1684.58 128.767 Q1681.41 128.767 1679.81 129.739 Q1678.24 130.711 1678.24 132.655 Q1678.24 134.137 1679.37 134.993 Q1680.51 135.827 1683.94 136.591 L1685.39 136.915 Q1689.93 137.887 1691.83 139.669 Q1693.75 141.429 1693.75 144.6 Q1693.75 148.211 1690.88 150.317 Q1688.03 152.424 1683.03 152.424 Q1680.95 152.424 1678.68 152.007 Q1676.44 151.614 1673.94 150.804 L1673.94 146.405 Q1676.3 147.632 1678.59 148.257 Q1680.88 148.859 1683.12 148.859 Q1686.13 148.859 1687.75 147.841 Q1689.37 146.799 1689.37 144.924 Q1689.37 143.188 1688.19 142.262 Q1687.04 141.336 1683.08 140.48 L1681.6 140.132 Q1677.64 139.299 1675.88 137.586 Q1674.12 135.85 1674.12 132.841 Q1674.12 129.183 1676.71 127.193 Q1679.31 125.202 1684.07 125.202 Q1686.43 125.202 1688.52 125.549 Q1690.6 125.896 1692.36 126.591 Z\" fill=\"#000000\" fill-rule=\"evenodd\" fill-opacity=\"1\" /><path clip-path=\"url(#clip930)\" d=\"M 0 0 M1698.22 125.827 L1702.48 125.827 L1702.48 151.753 L1698.22 151.753 L1698.22 125.827 M1698.22 115.734 L1702.48 115.734 L1702.48 121.128 L1698.22 121.128 L1698.22 115.734 Z\" fill=\"#000000\" fill-rule=\"evenodd\" fill-opacity=\"1\" /><path clip-path=\"url(#clip930)\" d=\"M 0 0 M1728.49 136.105 L1728.49 151.753 L1724.24 151.753 L1724.24 136.243 Q1724.24 132.563 1722.8 130.734 Q1721.37 128.906 1718.5 128.906 Q1715.05 128.906 1713.06 131.105 Q1711.06 133.304 1711.06 137.1 L1711.06 151.753 L1706.78 151.753 L1706.78 125.827 L1711.06 125.827 L1711.06 129.855 Q1712.59 127.517 1714.65 126.359 Q1716.74 125.202 1719.44 125.202 Q1723.91 125.202 1726.2 127.98 Q1728.49 130.734 1728.49 136.105 Z\" fill=\"#000000\" fill-rule=\"evenodd\" fill-opacity=\"1\" /><path clip-path=\"url(#clip930)\" d=\"M 0 0 M1743.19 115.781 Q1740.09 121.105 1738.59 126.313 Q1737.08 131.521 1737.08 136.868 Q1737.08 142.216 1738.59 147.47 Q1740.12 152.702 1743.19 158.003 L1739.49 158.003 Q1736.02 152.563 1734.28 147.308 Q1732.57 142.054 1732.57 136.868 Q1732.57 131.706 1734.28 126.475 Q1735.99 121.244 1739.49 115.781 L1743.19 115.781 Z\" fill=\"#000000\" fill-rule=\"evenodd\" fill-opacity=\"1\" /><path clip-path=\"url(#clip930)\" d=\"M 0 0 M1769.21 125.827 L1759.84 138.443 L1769.7 151.753 L1764.68 151.753 L1757.13 141.567 L1749.58 151.753 L1744.56 151.753 L1754.63 138.188 L1745.42 125.827 L1750.44 125.827 L1757.31 135.063 L1764.19 125.827 L1769.21 125.827 Z\" fill=\"#000000\" fill-rule=\"evenodd\" fill-opacity=\"1\" /><path clip-path=\"url(#clip930)\" d=\"M 0 0 M1773.49 115.781 L1777.2 115.781 Q1780.67 121.244 1782.38 126.475 Q1784.12 131.706 1784.12 136.868 Q1784.12 142.054 1782.38 147.308 Q1780.67 152.563 1777.2 158.003 L1773.49 158.003 Q1776.57 152.702 1778.08 147.47 Q1779.61 142.216 1779.61 136.868 Q1779.61 131.521 1778.08 126.313 Q1776.57 121.105 1773.49 115.781 Z\" fill=\"#000000\" fill-rule=\"evenodd\" fill-opacity=\"1\" /><path clip-path=\"url(#clip930)\" d=\"M 0 0 M1806.25 117.193 L1818.82 130.086 L1814.17 130.086 L1803.98 120.943 L1793.8 130.086 L1789.14 130.086 L1801.71 117.193 L1806.25 117.193 Z\" fill=\"#000000\" fill-rule=\"evenodd\" fill-opacity=\"1\" /><path clip-path=\"url(#clip930)\" d=\"M 0 0 M1827.92 147.817 L1844.24 147.817 L1844.24 151.753 L1822.29 151.753 L1822.29 147.817 Q1824.95 145.063 1829.54 140.433 Q1834.14 135.78 1835.32 134.438 Q1837.57 131.915 1838.45 130.179 Q1839.35 128.419 1839.35 126.73 Q1839.35 123.975 1837.41 122.239 Q1835.49 120.503 1832.38 120.503 Q1830.18 120.503 1827.73 121.267 Q1825.3 122.031 1822.52 123.581 L1822.52 118.859 Q1825.35 117.725 1827.8 117.146 Q1830.25 116.568 1832.29 116.568 Q1837.66 116.568 1840.86 119.253 Q1844.05 121.938 1844.05 126.429 Q1844.05 128.558 1843.24 130.48 Q1842.45 132.378 1840.35 134.97 Q1839.77 135.642 1836.67 138.859 Q1833.56 142.054 1827.92 147.817 Z\" fill=\"#000000\" fill-rule=\"evenodd\" fill-opacity=\"1\" /><path clip-path=\"url(#clip930)\" d=\"M 0 0 M1848.03 115.781 L1851.74 115.781 Q1855.21 121.244 1856.92 126.475 Q1858.66 131.706 1858.66 136.868 Q1858.66 142.054 1856.92 147.308 Q1855.21 152.563 1851.74 158.003 L1848.03 158.003 Q1851.11 152.702 1852.61 147.47 Q1854.14 142.216 1854.14 136.868 Q1854.14 131.521 1852.61 126.313 Q1851.11 121.105 1848.03 115.781 Z\" fill=\"#000000\" fill-rule=\"evenodd\" fill-opacity=\"1\" /></svg>\n"
      ]
     },
     "execution_count": 5,
     "metadata": {},
     "output_type": "execute_result"
    }
   ],
   "source": [
    "# Model Solution \n",
    "f = x -> 1 / (1+sin(x)^2)\n",
    "NN = 4:2:16\n",
    "xerr = range(0, 2*pi, length=10_000)\n",
    "Err = [ norm(f.(xerr) - eval_trig(f, N, xerr), Inf) for N in NN ]\n",
    "println(\"Rate for 1 / (1+sin(x)^2): error ~ exp(- 0.87 N)\")\n",
    "plot(NN, Err, lw=2, label = \"1 / (1+sin(x)^2)\", ms=5, m=:o, size = (500, 250), yscale = :log10, \n",
    "     xlabel = \"N\", ylabel = \"error\")\n",
    "plot!(NN[5:end], exp.(- 0.87 * NN[5:end]), lw=2, c=:black, ls = :dash, label = \"\")\n"
   ]
  },
  {
   "cell_type": "code",
   "execution_count": 76,
   "metadata": {
    "deletable": false,
    "nbgrader": {
     "cell_type": "code",
     "checksum": "9f041707b76952117d06131caa0a6213",
     "grade": true,
     "grade_id": "cell-df1b9eaa94bf62f5",
     "locked": false,
     "points": 15,
     "schema_version": 3,
     "solution": true,
     "task": false
    }
   },
   "outputs": [
    {
     "name": "stdout",
     "output_type": "stream",
     "text": [
      "Rate for |sin x|: error ~ 0.5(logN)/N^1.3\n",
      "Rate for |sin x|^5: error ~ 40 (logN)/ N^5.7\n",
      "Rate for |sin x|^(7/3): error ~ 0.4 (logN)/N^2.7\n",
      "Rate for 1/ (1 + exp(10 sin(x))): error ~ exp(- 0.3 N)\n"
     ]
    },
    {
     "data": {
      "image/svg+xml": [
       "<?xml version=\"1.0\" encoding=\"utf-8\"?>\n",
       "<svg xmlns=\"http://www.w3.org/2000/svg\" xmlns:xlink=\"http://www.w3.org/1999/xlink\" width=\"750\" height=\"500\" viewBox=\"0 0 3000 2000\">\n",
       "<defs>\n",
       "  <clipPath id=\"clip550\">\n",
       "    <rect x=\"0\" y=\"0\" width=\"3000\" height=\"2000\"/>\n",
       "  </clipPath>\n",
       "</defs>\n",
       "<path clip-path=\"url(#clip550)\" d=\"\n",
       "M0 2000 L3000 2000 L3000 0 L0 0  Z\n",
       "  \" fill=\"#ffffff\" fill-rule=\"evenodd\" fill-opacity=\"1\"/>\n",
       "<defs>\n",
       "  <clipPath id=\"clip551\">\n",
       "    <rect x=\"600\" y=\"0\" width=\"2101\" height=\"2000\"/>\n",
       "  </clipPath>\n",
       "</defs>\n",
       "<defs>\n",
       "  <clipPath id=\"clip552\">\n",
       "    <rect x=\"280\" y=\"47\" width=\"2673\" height=\"1773\"/>\n",
       "  </clipPath>\n",
       "</defs>\n",
       "<path clip-path=\"url(#clip550)\" d=\"\n",
       "M280.843 1819.18 L2952.76 1819.18 L2952.76 47.2441 L280.843 47.2441  Z\n",
       "  \" fill=\"#ffffff\" fill-rule=\"evenodd\" fill-opacity=\"1\"/>\n",
       "<polyline clip-path=\"url(#clip552)\" style=\"stroke:#000000; stroke-width:2; stroke-opacity:0.1; fill:none\" points=\"\n",
       "  536.511,1819.18 536.511,47.2441 \n",
       "  \"/>\n",
       "<polyline clip-path=\"url(#clip552)\" style=\"stroke:#000000; stroke-width:2; stroke-opacity:0.1; fill:none\" points=\"\n",
       "  986.631,1819.18 986.631,47.2441 \n",
       "  \"/>\n",
       "<polyline clip-path=\"url(#clip552)\" style=\"stroke:#000000; stroke-width:2; stroke-opacity:0.1; fill:none\" points=\"\n",
       "  1436.75,1819.18 1436.75,47.2441 \n",
       "  \"/>\n",
       "<polyline clip-path=\"url(#clip552)\" style=\"stroke:#000000; stroke-width:2; stroke-opacity:0.1; fill:none\" points=\"\n",
       "  1886.87,1819.18 1886.87,47.2441 \n",
       "  \"/>\n",
       "<polyline clip-path=\"url(#clip552)\" style=\"stroke:#000000; stroke-width:2; stroke-opacity:0.1; fill:none\" points=\"\n",
       "  2336.99,1819.18 2336.99,47.2441 \n",
       "  \"/>\n",
       "<polyline clip-path=\"url(#clip552)\" style=\"stroke:#000000; stroke-width:2; stroke-opacity:0.1; fill:none\" points=\"\n",
       "  2787.11,1819.18 2787.11,47.2441 \n",
       "  \"/>\n",
       "<polyline clip-path=\"url(#clip552)\" style=\"stroke:#000000; stroke-width:2; stroke-opacity:0.1; fill:none\" points=\"\n",
       "  280.843,1723.33 2952.76,1723.33 \n",
       "  \"/>\n",
       "<polyline clip-path=\"url(#clip552)\" style=\"stroke:#000000; stroke-width:2; stroke-opacity:0.1; fill:none\" points=\"\n",
       "  280.843,1346.09 2952.76,1346.09 \n",
       "  \"/>\n",
       "<polyline clip-path=\"url(#clip552)\" style=\"stroke:#000000; stroke-width:2; stroke-opacity:0.1; fill:none\" points=\"\n",
       "  280.843,968.84 2952.76,968.84 \n",
       "  \"/>\n",
       "<polyline clip-path=\"url(#clip552)\" style=\"stroke:#000000; stroke-width:2; stroke-opacity:0.1; fill:none\" points=\"\n",
       "  280.843,591.595 2952.76,591.595 \n",
       "  \"/>\n",
       "<polyline clip-path=\"url(#clip552)\" style=\"stroke:#000000; stroke-width:2; stroke-opacity:0.1; fill:none\" points=\"\n",
       "  280.843,214.35 2952.76,214.35 \n",
       "  \"/>\n",
       "<polyline clip-path=\"url(#clip550)\" style=\"stroke:#000000; stroke-width:4; stroke-opacity:1; fill:none\" points=\"\n",
       "  280.843,1819.18 2952.76,1819.18 \n",
       "  \"/>\n",
       "<polyline clip-path=\"url(#clip550)\" style=\"stroke:#000000; stroke-width:4; stroke-opacity:1; fill:none\" points=\"\n",
       "  280.843,1819.18 280.843,47.2441 \n",
       "  \"/>\n",
       "<polyline clip-path=\"url(#clip550)\" style=\"stroke:#000000; stroke-width:4; stroke-opacity:1; fill:none\" points=\"\n",
       "  536.511,1819.18 536.511,1797.92 \n",
       "  \"/>\n",
       "<polyline clip-path=\"url(#clip550)\" style=\"stroke:#000000; stroke-width:4; stroke-opacity:1; fill:none\" points=\"\n",
       "  986.631,1819.18 986.631,1797.92 \n",
       "  \"/>\n",
       "<polyline clip-path=\"url(#clip550)\" style=\"stroke:#000000; stroke-width:4; stroke-opacity:1; fill:none\" points=\"\n",
       "  1436.75,1819.18 1436.75,1797.92 \n",
       "  \"/>\n",
       "<polyline clip-path=\"url(#clip550)\" style=\"stroke:#000000; stroke-width:4; stroke-opacity:1; fill:none\" points=\"\n",
       "  1886.87,1819.18 1886.87,1797.92 \n",
       "  \"/>\n",
       "<polyline clip-path=\"url(#clip550)\" style=\"stroke:#000000; stroke-width:4; stroke-opacity:1; fill:none\" points=\"\n",
       "  2336.99,1819.18 2336.99,1797.92 \n",
       "  \"/>\n",
       "<polyline clip-path=\"url(#clip550)\" style=\"stroke:#000000; stroke-width:4; stroke-opacity:1; fill:none\" points=\"\n",
       "  2787.11,1819.18 2787.11,1797.92 \n",
       "  \"/>\n",
       "<polyline clip-path=\"url(#clip550)\" style=\"stroke:#000000; stroke-width:4; stroke-opacity:1; fill:none\" points=\"\n",
       "  280.843,1723.33 312.906,1723.33 \n",
       "  \"/>\n",
       "<polyline clip-path=\"url(#clip550)\" style=\"stroke:#000000; stroke-width:4; stroke-opacity:1; fill:none\" points=\"\n",
       "  280.843,1346.09 312.906,1346.09 \n",
       "  \"/>\n",
       "<polyline clip-path=\"url(#clip550)\" style=\"stroke:#000000; stroke-width:4; stroke-opacity:1; fill:none\" points=\"\n",
       "  280.843,968.84 312.906,968.84 \n",
       "  \"/>\n",
       "<polyline clip-path=\"url(#clip550)\" style=\"stroke:#000000; stroke-width:4; stroke-opacity:1; fill:none\" points=\"\n",
       "  280.843,591.595 312.906,591.595 \n",
       "  \"/>\n",
       "<polyline clip-path=\"url(#clip550)\" style=\"stroke:#000000; stroke-width:4; stroke-opacity:1; fill:none\" points=\"\n",
       "  280.843,214.35 312.906,214.35 \n",
       "  \"/>\n",
       "<path clip-path=\"url(#clip550)\" d=\"M 0 0 M508.305 1841.09 L526.662 1841.09 L526.662 1845.03 L512.588 1845.03 L512.588 1853.5 Q513.606 1853.15 514.625 1852.99 Q515.643 1852.8 516.662 1852.8 Q522.449 1852.8 525.828 1855.98 Q529.208 1859.15 529.208 1864.56 Q529.208 1870.14 525.736 1873.24 Q522.263 1876.32 515.944 1876.32 Q513.768 1876.32 511.5 1875.95 Q509.254 1875.58 506.847 1874.84 L506.847 1870.14 Q508.93 1871.28 511.152 1871.83 Q513.375 1872.39 515.851 1872.39 Q519.856 1872.39 522.194 1870.28 Q524.532 1868.18 524.532 1864.56 Q524.532 1860.95 522.194 1858.85 Q519.856 1856.74 515.851 1856.74 Q513.976 1856.74 512.101 1857.16 Q510.25 1857.57 508.305 1858.45 L508.305 1841.09 Z\" fill=\"#000000\" fill-rule=\"evenodd\" fill-opacity=\"1\" /><path clip-path=\"url(#clip550)\" d=\"M 0 0 M534.277 1869.77 L539.162 1869.77 L539.162 1875.65 L534.277 1875.65 L534.277 1869.77 Z\" fill=\"#000000\" fill-rule=\"evenodd\" fill-opacity=\"1\" /><path clip-path=\"url(#clip550)\" d=\"M 0 0 M554.231 1844.17 Q550.62 1844.17 548.791 1847.74 Q546.986 1851.28 546.986 1858.41 Q546.986 1865.51 548.791 1869.08 Q550.62 1872.62 554.231 1872.62 Q557.865 1872.62 559.671 1869.08 Q561.499 1865.51 561.499 1858.41 Q561.499 1851.28 559.671 1847.74 Q557.865 1844.17 554.231 1844.17 M554.231 1840.47 Q560.041 1840.47 563.097 1845.07 Q566.175 1849.66 566.175 1858.41 Q566.175 1867.13 563.097 1871.74 Q560.041 1876.32 554.231 1876.32 Q548.421 1876.32 545.342 1871.74 Q542.286 1867.13 542.286 1858.41 Q542.286 1849.66 545.342 1845.07 Q548.421 1840.47 554.231 1840.47 Z\" fill=\"#000000\" fill-rule=\"evenodd\" fill-opacity=\"1\" /><path clip-path=\"url(#clip550)\" d=\"M 0 0 M957.534 1841.09 L979.756 1841.09 L979.756 1843.08 L967.21 1875.65 L962.326 1875.65 L974.131 1845.03 L957.534 1845.03 L957.534 1841.09 Z\" fill=\"#000000\" fill-rule=\"evenodd\" fill-opacity=\"1\" /><path clip-path=\"url(#clip550)\" d=\"M 0 0 M984.826 1869.77 L989.71 1869.77 L989.71 1875.65 L984.826 1875.65 L984.826 1869.77 Z\" fill=\"#000000\" fill-rule=\"evenodd\" fill-opacity=\"1\" /><path clip-path=\"url(#clip550)\" d=\"M 0 0 M994.826 1841.09 L1013.18 1841.09 L1013.18 1845.03 L999.108 1845.03 L999.108 1853.5 Q1000.13 1853.15 1001.14 1852.99 Q1002.16 1852.8 1003.18 1852.8 Q1008.97 1852.8 1012.35 1855.98 Q1015.73 1859.15 1015.73 1864.56 Q1015.73 1870.14 1012.26 1873.24 Q1008.78 1876.32 1002.46 1876.32 Q1000.29 1876.32 998.02 1875.95 Q995.775 1875.58 993.367 1874.84 L993.367 1870.14 Q995.451 1871.28 997.673 1871.83 Q999.895 1872.39 1002.37 1872.39 Q1006.38 1872.39 1008.71 1870.28 Q1011.05 1868.18 1011.05 1864.56 Q1011.05 1860.95 1008.71 1858.85 Q1006.38 1856.74 1002.37 1856.74 Q1000.5 1856.74 998.622 1857.16 Q996.77 1857.57 994.826 1858.45 L994.826 1841.09 Z\" fill=\"#000000\" fill-rule=\"evenodd\" fill-opacity=\"1\" /><path clip-path=\"url(#clip550)\" d=\"M 0 0 M1395.14 1871.72 L1402.78 1871.72 L1402.78 1845.35 L1394.47 1847.02 L1394.47 1842.76 L1402.74 1841.09 L1407.41 1841.09 L1407.41 1871.72 L1415.05 1871.72 L1415.05 1875.65 L1395.14 1875.65 L1395.14 1871.72 Z\" fill=\"#000000\" fill-rule=\"evenodd\" fill-opacity=\"1\" /><path clip-path=\"url(#clip550)\" d=\"M 0 0 M1430.12 1844.17 Q1426.51 1844.17 1424.68 1847.74 Q1422.87 1851.28 1422.87 1858.41 Q1422.87 1865.51 1424.68 1869.08 Q1426.51 1872.62 1430.12 1872.62 Q1433.75 1872.62 1435.56 1869.08 Q1437.39 1865.51 1437.39 1858.41 Q1437.39 1851.28 1435.56 1847.74 Q1433.75 1844.17 1430.12 1844.17 M1430.12 1840.47 Q1435.93 1840.47 1438.99 1845.07 Q1442.06 1849.66 1442.06 1858.41 Q1442.06 1867.13 1438.99 1871.74 Q1435.93 1876.32 1430.12 1876.32 Q1424.31 1876.32 1421.23 1871.74 Q1418.18 1867.13 1418.18 1858.41 Q1418.18 1849.66 1421.23 1845.07 Q1424.31 1840.47 1430.12 1840.47 Z\" fill=\"#000000\" fill-rule=\"evenodd\" fill-opacity=\"1\" /><path clip-path=\"url(#clip550)\" d=\"M 0 0 M1447.13 1869.77 L1452.02 1869.77 L1452.02 1875.65 L1447.13 1875.65 L1447.13 1869.77 Z\" fill=\"#000000\" fill-rule=\"evenodd\" fill-opacity=\"1\" /><path clip-path=\"url(#clip550)\" d=\"M 0 0 M1467.09 1844.17 Q1463.48 1844.17 1461.65 1847.74 Q1459.84 1851.28 1459.84 1858.41 Q1459.84 1865.51 1461.65 1869.08 Q1463.48 1872.62 1467.09 1872.62 Q1470.72 1872.62 1472.53 1869.08 Q1474.36 1865.51 1474.36 1858.41 Q1474.36 1851.28 1472.53 1847.74 Q1470.72 1844.17 1467.09 1844.17 M1467.09 1840.47 Q1472.9 1840.47 1475.95 1845.07 Q1479.03 1849.66 1479.03 1858.41 Q1479.03 1867.13 1475.95 1871.74 Q1472.9 1876.32 1467.09 1876.32 Q1461.28 1876.32 1458.2 1871.74 Q1455.14 1867.13 1455.14 1858.41 Q1455.14 1849.66 1458.2 1845.07 Q1461.28 1840.47 1467.09 1840.47 Z\" fill=\"#000000\" fill-rule=\"evenodd\" fill-opacity=\"1\" /><path clip-path=\"url(#clip550)\" d=\"M 0 0 M1846.56 1871.72 L1854.2 1871.72 L1854.2 1845.35 L1845.89 1847.02 L1845.89 1842.76 L1854.15 1841.09 L1858.83 1841.09 L1858.83 1871.72 L1866.47 1871.72 L1866.47 1875.65 L1846.56 1875.65 L1846.56 1871.72 Z\" fill=\"#000000\" fill-rule=\"evenodd\" fill-opacity=\"1\" /><path clip-path=\"url(#clip550)\" d=\"M 0 0 M1875.56 1871.72 L1891.88 1871.72 L1891.88 1875.65 L1869.94 1875.65 L1869.94 1871.72 Q1872.6 1868.96 1877.18 1864.33 Q1881.79 1859.68 1882.97 1858.34 Q1885.22 1855.81 1886.1 1854.08 Q1887 1852.32 1887 1850.63 Q1887 1847.87 1885.05 1846.14 Q1883.13 1844.4 1880.03 1844.4 Q1877.83 1844.4 1875.38 1845.17 Q1872.95 1845.93 1870.17 1847.48 L1870.17 1842.76 Q1872.99 1841.62 1875.45 1841.05 Q1877.9 1840.47 1879.94 1840.47 Q1885.31 1840.47 1888.5 1843.15 Q1891.7 1845.84 1891.7 1850.33 Q1891.7 1852.46 1890.89 1854.38 Q1890.1 1856.28 1887.99 1858.87 Q1887.42 1859.54 1884.31 1862.76 Q1881.21 1865.95 1875.56 1871.72 Z\" fill=\"#000000\" fill-rule=\"evenodd\" fill-opacity=\"1\" /><path clip-path=\"url(#clip550)\" d=\"M 0 0 M1896.95 1869.77 L1901.84 1869.77 L1901.84 1875.65 L1896.95 1875.65 L1896.95 1869.77 Z\" fill=\"#000000\" fill-rule=\"evenodd\" fill-opacity=\"1\" /><path clip-path=\"url(#clip550)\" d=\"M 0 0 M1906.95 1841.09 L1925.31 1841.09 L1925.31 1845.03 L1911.23 1845.03 L1911.23 1853.5 Q1912.25 1853.15 1913.27 1852.99 Q1914.29 1852.8 1915.31 1852.8 Q1921.1 1852.8 1924.48 1855.98 Q1927.86 1859.15 1927.86 1864.56 Q1927.86 1870.14 1924.38 1873.24 Q1920.91 1876.32 1914.59 1876.32 Q1912.42 1876.32 1910.15 1875.95 Q1907.9 1875.58 1905.49 1874.84 L1905.49 1870.14 Q1907.58 1871.28 1909.8 1871.83 Q1912.02 1872.39 1914.5 1872.39 Q1918.5 1872.39 1920.84 1870.28 Q1923.18 1868.18 1923.18 1864.56 Q1923.18 1860.95 1920.84 1858.85 Q1918.5 1856.74 1914.5 1856.74 Q1912.62 1856.74 1910.75 1857.16 Q1908.9 1857.57 1906.95 1858.45 L1906.95 1841.09 Z\" fill=\"#000000\" fill-rule=\"evenodd\" fill-opacity=\"1\" /><path clip-path=\"url(#clip550)\" d=\"M 0 0 M2295.88 1871.72 L2303.52 1871.72 L2303.52 1845.35 L2295.21 1847.02 L2295.21 1842.76 L2303.47 1841.09 L2308.15 1841.09 L2308.15 1871.72 L2315.79 1871.72 L2315.79 1875.65 L2295.88 1875.65 L2295.88 1871.72 Z\" fill=\"#000000\" fill-rule=\"evenodd\" fill-opacity=\"1\" /><path clip-path=\"url(#clip550)\" d=\"M 0 0 M2320.9 1841.09 L2339.26 1841.09 L2339.26 1845.03 L2325.19 1845.03 L2325.19 1853.5 Q2326.2 1853.15 2327.22 1852.99 Q2328.24 1852.8 2329.26 1852.8 Q2335.05 1852.8 2338.43 1855.98 Q2341.81 1859.15 2341.81 1864.56 Q2341.81 1870.14 2338.33 1873.24 Q2334.86 1876.32 2328.54 1876.32 Q2326.37 1876.32 2324.1 1875.95 Q2321.85 1875.58 2319.45 1874.84 L2319.45 1870.14 Q2321.53 1871.28 2323.75 1871.83 Q2325.97 1872.39 2328.45 1872.39 Q2332.45 1872.39 2334.79 1870.28 Q2337.13 1868.18 2337.13 1864.56 Q2337.13 1860.95 2334.79 1858.85 Q2332.45 1856.74 2328.45 1856.74 Q2326.57 1856.74 2324.7 1857.16 Q2322.85 1857.57 2320.9 1858.45 L2320.9 1841.09 Z\" fill=\"#000000\" fill-rule=\"evenodd\" fill-opacity=\"1\" /><path clip-path=\"url(#clip550)\" d=\"M 0 0 M2346.88 1869.77 L2351.76 1869.77 L2351.76 1875.65 L2346.88 1875.65 L2346.88 1869.77 Z\" fill=\"#000000\" fill-rule=\"evenodd\" fill-opacity=\"1\" /><path clip-path=\"url(#clip550)\" d=\"M 0 0 M2366.83 1844.17 Q2363.22 1844.17 2361.39 1847.74 Q2359.58 1851.28 2359.58 1858.41 Q2359.58 1865.51 2361.39 1869.08 Q2363.22 1872.62 2366.83 1872.62 Q2370.46 1872.62 2372.27 1869.08 Q2374.1 1865.51 2374.1 1858.41 Q2374.1 1851.28 2372.27 1847.74 Q2370.46 1844.17 2366.83 1844.17 M2366.83 1840.47 Q2372.64 1840.47 2375.7 1845.07 Q2378.77 1849.66 2378.77 1858.41 Q2378.77 1867.13 2375.7 1871.74 Q2372.64 1876.32 2366.83 1876.32 Q2361.02 1876.32 2357.94 1871.74 Q2354.88 1867.13 2354.88 1858.41 Q2354.88 1849.66 2357.94 1845.07 Q2361.02 1840.47 2366.83 1840.47 Z\" fill=\"#000000\" fill-rule=\"evenodd\" fill-opacity=\"1\" /><path clip-path=\"url(#clip550)\" d=\"M 0 0 M2746.45 1871.72 L2754.09 1871.72 L2754.09 1845.35 L2745.78 1847.02 L2745.78 1842.76 L2754.04 1841.09 L2758.72 1841.09 L2758.72 1871.72 L2766.36 1871.72 L2766.36 1875.65 L2746.45 1875.65 L2746.45 1871.72 Z\" fill=\"#000000\" fill-rule=\"evenodd\" fill-opacity=\"1\" /><path clip-path=\"url(#clip550)\" d=\"M 0 0 M2770.25 1841.09 L2792.47 1841.09 L2792.47 1843.08 L2779.92 1875.65 L2775.04 1875.65 L2786.85 1845.03 L2770.25 1845.03 L2770.25 1841.09 Z\" fill=\"#000000\" fill-rule=\"evenodd\" fill-opacity=\"1\" /><path clip-path=\"url(#clip550)\" d=\"M 0 0 M2797.54 1869.77 L2802.42 1869.77 L2802.42 1875.65 L2797.54 1875.65 L2797.54 1869.77 Z\" fill=\"#000000\" fill-rule=\"evenodd\" fill-opacity=\"1\" /><path clip-path=\"url(#clip550)\" d=\"M 0 0 M2807.54 1841.09 L2825.9 1841.09 L2825.9 1845.03 L2811.82 1845.03 L2811.82 1853.5 Q2812.84 1853.15 2813.86 1852.99 Q2814.88 1852.8 2815.9 1852.8 Q2821.68 1852.8 2825.06 1855.98 Q2828.44 1859.15 2828.44 1864.56 Q2828.44 1870.14 2824.97 1873.24 Q2821.5 1876.32 2815.18 1876.32 Q2813 1876.32 2810.73 1875.95 Q2808.49 1875.58 2806.08 1874.84 L2806.08 1870.14 Q2808.16 1871.28 2810.39 1871.83 Q2812.61 1872.39 2815.09 1872.39 Q2819.09 1872.39 2821.43 1870.28 Q2823.77 1868.18 2823.77 1864.56 Q2823.77 1860.95 2821.43 1858.85 Q2819.09 1856.74 2815.09 1856.74 Q2813.21 1856.74 2811.34 1857.16 Q2809.48 1857.57 2807.54 1858.45 L2807.54 1841.09 Z\" fill=\"#000000\" fill-rule=\"evenodd\" fill-opacity=\"1\" /><path clip-path=\"url(#clip550)\" d=\"M 0 0 M161.642 1743.12 L169.281 1743.12 L169.281 1716.76 L160.971 1718.42 L160.971 1714.16 L169.234 1712.5 L173.91 1712.5 L173.91 1743.12 L181.549 1743.12 L181.549 1747.06 L161.642 1747.06 L161.642 1743.12 Z\" fill=\"#000000\" fill-rule=\"evenodd\" fill-opacity=\"1\" /><path clip-path=\"url(#clip550)\" d=\"M 0 0 M196.619 1715.58 Q193.007 1715.58 191.179 1719.14 Q189.373 1722.68 189.373 1729.81 Q189.373 1736.92 191.179 1740.48 Q193.007 1744.03 196.619 1744.03 Q200.253 1744.03 202.058 1740.48 Q203.887 1736.92 203.887 1729.81 Q203.887 1722.68 202.058 1719.14 Q200.253 1715.58 196.619 1715.58 M196.619 1711.87 Q202.429 1711.87 205.484 1716.48 Q208.563 1721.06 208.563 1729.81 Q208.563 1738.54 205.484 1743.15 Q202.429 1747.73 196.619 1747.73 Q190.808 1747.73 187.73 1743.15 Q184.674 1738.54 184.674 1729.81 Q184.674 1721.06 187.73 1716.48 Q190.808 1711.87 196.619 1711.87 Z\" fill=\"#000000\" fill-rule=\"evenodd\" fill-opacity=\"1\" /><path clip-path=\"url(#clip550)\" d=\"M 0 0 M208.563 1707.55 L218.7 1707.55 L218.7 1710.64 L208.563 1710.64 L208.563 1707.55 Z\" fill=\"#000000\" fill-rule=\"evenodd\" fill-opacity=\"1\" /><path clip-path=\"url(#clip550)\" d=\"M 0 0 M233.859 1691.57 L248.774 1691.57 L248.774 1694.76 L237.339 1694.76 L237.339 1701.65 Q238.166 1701.37 238.994 1701.23 Q239.821 1701.08 240.649 1701.08 Q245.351 1701.08 248.097 1703.66 Q250.843 1706.24 250.843 1710.64 Q250.843 1715.17 248.022 1717.69 Q245.2 1720.19 240.066 1720.19 Q238.298 1720.19 236.455 1719.89 Q234.631 1719.59 232.675 1718.99 L232.675 1715.17 Q234.367 1716.09 236.173 1716.54 Q237.978 1717 239.991 1717 Q243.244 1717 245.144 1715.28 Q247.044 1713.57 247.044 1710.64 Q247.044 1707.7 245.144 1705.99 Q243.244 1704.28 239.991 1704.28 Q238.467 1704.28 236.944 1704.62 Q235.439 1704.96 233.859 1705.67 L233.859 1691.57 Z\" fill=\"#000000\" fill-rule=\"evenodd\" fill-opacity=\"1\" /><path clip-path=\"url(#clip550)\" d=\"M 0 0 M159.347 1365.88 L166.986 1365.88 L166.986 1339.51 L158.676 1341.18 L158.676 1336.92 L166.94 1335.25 L171.616 1335.25 L171.616 1365.88 L179.255 1365.88 L179.255 1369.81 L159.347 1369.81 L159.347 1365.88 Z\" fill=\"#000000\" fill-rule=\"evenodd\" fill-opacity=\"1\" /><path clip-path=\"url(#clip550)\" d=\"M 0 0 M194.324 1338.33 Q190.713 1338.33 188.884 1341.9 Q187.079 1345.44 187.079 1352.57 Q187.079 1359.67 188.884 1363.24 Q190.713 1366.78 194.324 1366.78 Q197.958 1366.78 199.764 1363.24 Q201.593 1359.67 201.593 1352.57 Q201.593 1345.44 199.764 1341.9 Q197.958 1338.33 194.324 1338.33 M194.324 1334.63 Q200.134 1334.63 203.19 1339.23 Q206.268 1343.82 206.268 1352.57 Q206.268 1361.29 203.19 1365.9 Q200.134 1370.48 194.324 1370.48 Q188.514 1370.48 185.435 1365.9 Q182.38 1361.29 182.38 1352.57 Q182.38 1343.82 185.435 1339.23 Q188.514 1334.63 194.324 1334.63 Z\" fill=\"#000000\" fill-rule=\"evenodd\" fill-opacity=\"1\" /><path clip-path=\"url(#clip550)\" d=\"M 0 0 M206.268 1330.31 L216.406 1330.31 L216.406 1333.39 L206.268 1333.39 L206.268 1330.31 Z\" fill=\"#000000\" fill-rule=\"evenodd\" fill-opacity=\"1\" /><path clip-path=\"url(#clip550)\" d=\"M 0 0 M243.056 1317.63 L233.464 1332.62 L243.056 1332.62 L243.056 1317.63 M242.06 1314.32 L246.837 1314.32 L246.837 1332.62 L250.843 1332.62 L250.843 1335.78 L246.837 1335.78 L246.837 1342.4 L243.056 1342.4 L243.056 1335.78 L230.38 1335.78 L230.38 1332.11 L242.06 1314.32 Z\" fill=\"#000000\" fill-rule=\"evenodd\" fill-opacity=\"1\" /><path clip-path=\"url(#clip550)\" d=\"M 0 0 M161.322 988.633 L168.961 988.633 L168.961 962.267 L160.651 963.934 L160.651 959.675 L168.915 958.008 L173.591 958.008 L173.591 988.633 L181.229 988.633 L181.229 992.568 L161.322 992.568 L161.322 988.633 Z\" fill=\"#000000\" fill-rule=\"evenodd\" fill-opacity=\"1\" /><path clip-path=\"url(#clip550)\" d=\"M 0 0 M196.299 961.087 Q192.688 961.087 190.859 964.651 Q189.054 968.193 189.054 975.323 Q189.054 982.429 190.859 985.994 Q192.688 989.535 196.299 989.535 Q199.933 989.535 201.739 985.994 Q203.567 982.429 203.567 975.323 Q203.567 968.193 201.739 964.651 Q199.933 961.087 196.299 961.087 M196.299 957.383 Q202.109 957.383 205.165 961.989 Q208.243 966.573 208.243 975.323 Q208.243 984.049 205.165 988.656 Q202.109 993.239 196.299 993.239 Q190.489 993.239 187.41 988.656 Q184.354 984.049 184.354 975.323 Q184.354 966.573 187.41 961.989 Q190.489 957.383 196.299 957.383 Z\" fill=\"#000000\" fill-rule=\"evenodd\" fill-opacity=\"1\" /><path clip-path=\"url(#clip550)\" d=\"M 0 0 M208.243 953.064 L218.381 953.064 L218.381 956.149 L208.243 956.149 L208.243 953.064 Z\" fill=\"#000000\" fill-rule=\"evenodd\" fill-opacity=\"1\" /><path clip-path=\"url(#clip550)\" d=\"M 0 0 M245.05 950.017 Q247.777 950.6 249.301 952.443 Q250.843 954.287 250.843 956.995 Q250.843 961.151 247.984 963.427 Q245.125 965.703 239.859 965.703 Q238.091 965.703 236.21 965.346 Q234.348 965.007 232.355 964.311 L232.355 960.644 Q233.935 961.565 235.815 962.035 Q237.696 962.506 239.746 962.506 Q243.32 962.506 245.182 961.095 Q247.062 959.684 247.062 956.995 Q247.062 954.512 245.313 953.121 Q243.583 951.71 240.48 951.71 L237.207 951.71 L237.207 948.588 L240.63 948.588 Q243.433 948.588 244.918 947.478 Q246.404 946.35 246.404 944.243 Q246.404 942.08 244.862 940.933 Q243.339 939.767 240.48 939.767 Q238.919 939.767 237.132 940.106 Q235.345 940.444 233.201 941.159 L233.201 937.773 Q235.364 937.172 237.245 936.871 Q239.144 936.57 240.818 936.57 Q245.144 936.57 247.664 938.544 Q250.185 940.5 250.185 943.848 Q250.185 946.18 248.849 947.798 Q247.514 949.397 245.05 950.017 Z\" fill=\"#000000\" fill-rule=\"evenodd\" fill-opacity=\"1\" /><path clip-path=\"url(#clip550)\" d=\"M 0 0 M161.98 611.388 L169.619 611.388 L169.619 585.022 L161.309 586.689 L161.309 582.43 L169.573 580.763 L174.249 580.763 L174.249 611.388 L181.888 611.388 L181.888 615.323 L161.98 615.323 L161.98 611.388 Z\" fill=\"#000000\" fill-rule=\"evenodd\" fill-opacity=\"1\" /><path clip-path=\"url(#clip550)\" d=\"M 0 0 M196.957 583.842 Q193.346 583.842 191.517 587.406 Q189.712 590.948 189.712 598.078 Q189.712 605.184 191.517 608.749 Q193.346 612.291 196.957 612.291 Q200.591 612.291 202.397 608.749 Q204.226 605.184 204.226 598.078 Q204.226 590.948 202.397 587.406 Q200.591 583.842 196.957 583.842 M196.957 580.138 Q202.767 580.138 205.823 584.744 Q208.901 589.328 208.901 598.078 Q208.901 606.805 205.823 611.411 Q202.767 615.994 196.957 615.994 Q191.147 615.994 188.068 611.411 Q185.013 606.805 185.013 598.078 Q185.013 589.328 188.068 584.744 Q191.147 580.138 196.957 580.138 Z\" fill=\"#000000\" fill-rule=\"evenodd\" fill-opacity=\"1\" /><path clip-path=\"url(#clip550)\" d=\"M 0 0 M208.901 575.819 L219.039 575.819 L219.039 578.904 L208.901 578.904 L208.901 575.819 Z\" fill=\"#000000\" fill-rule=\"evenodd\" fill-opacity=\"1\" /><path clip-path=\"url(#clip550)\" d=\"M 0 0 M237.583 584.715 L250.843 584.715 L250.843 587.913 L233.013 587.913 L233.013 584.715 Q235.176 582.477 238.9 578.716 Q242.643 574.935 243.602 573.844 Q245.426 571.794 246.141 570.384 Q246.874 568.954 246.874 567.581 Q246.874 565.343 245.295 563.933 Q243.733 562.522 241.213 562.522 Q239.427 562.522 237.433 563.143 Q235.458 563.763 233.201 565.024 L233.201 561.187 Q235.496 560.265 237.489 559.795 Q239.483 559.325 241.138 559.325 Q245.501 559.325 248.097 561.506 Q250.692 563.688 250.692 567.337 Q250.692 569.067 250.034 570.628 Q249.395 572.17 247.683 574.277 Q247.213 574.822 244.693 577.437 Q242.172 580.032 237.583 584.715 Z\" fill=\"#000000\" fill-rule=\"evenodd\" fill-opacity=\"1\" /><path clip-path=\"url(#clip550)\" d=\"M 0 0 M163.09 234.143 L170.729 234.143 L170.729 207.777 L162.419 209.444 L162.419 205.185 L170.683 203.518 L175.359 203.518 L175.359 234.143 L182.997 234.143 L182.997 238.078 L163.09 238.078 L163.09 234.143 Z\" fill=\"#000000\" fill-rule=\"evenodd\" fill-opacity=\"1\" /><path clip-path=\"url(#clip550)\" d=\"M 0 0 M198.067 206.597 Q194.456 206.597 192.627 210.162 Q190.821 213.703 190.821 220.833 Q190.821 227.939 192.627 231.504 Q194.456 235.046 198.067 235.046 Q201.701 235.046 203.507 231.504 Q205.335 227.939 205.335 220.833 Q205.335 213.703 203.507 210.162 Q201.701 206.597 198.067 206.597 M198.067 202.893 Q203.877 202.893 206.932 207.5 Q210.011 212.083 210.011 220.833 Q210.011 229.56 206.932 234.166 Q203.877 238.749 198.067 238.749 Q192.257 238.749 189.178 234.166 Q186.122 229.56 186.122 220.833 Q186.122 212.083 189.178 207.5 Q192.257 202.893 198.067 202.893 Z\" fill=\"#000000\" fill-rule=\"evenodd\" fill-opacity=\"1\" /><path clip-path=\"url(#clip550)\" d=\"M 0 0 M210.011 198.574 L220.149 198.574 L220.149 201.659 L210.011 201.659 L210.011 198.574 Z\" fill=\"#000000\" fill-rule=\"evenodd\" fill-opacity=\"1\" /><path clip-path=\"url(#clip550)\" d=\"M 0 0 M234.668 207.47 L240.875 207.47 L240.875 186.048 L234.123 187.402 L234.123 183.942 L240.837 182.588 L244.636 182.588 L244.636 207.47 L250.843 207.47 L250.843 210.668 L234.668 210.668 L234.668 207.47 Z\" fill=\"#000000\" fill-rule=\"evenodd\" fill-opacity=\"1\" /><path clip-path=\"url(#clip550)\" d=\"M 0 0 M1598.82 1910.52 L1607.47 1910.52 L1628.54 1950.28 L1628.54 1910.52 L1634.78 1910.52 L1634.78 1958.04 L1626.13 1958.04 L1605.05 1918.29 L1605.05 1958.04 L1598.82 1958.04 L1598.82 1910.52 Z\" fill=\"#000000\" fill-rule=\"evenodd\" fill-opacity=\"1\" /><path clip-path=\"url(#clip550)\" d=\"M 0 0 M62.7161 973.762 L65.5806 973.762 L65.5806 1000.69 Q71.6281 1000.31 74.8109 997.06 Q77.9619 993.782 77.9619 987.957 Q77.9619 984.583 77.1344 981.432 Q76.3069 978.249 74.6518 975.13 L80.1899 975.13 Q81.5267 978.281 82.227 981.591 Q82.9272 984.902 82.9272 988.307 Q82.9272 996.837 77.9619 1001.83 Q72.9967 1006.8 64.5303 1006.8 Q55.7774 1006.8 50.6531 1002.09 Q45.4968 997.346 45.4968 989.326 Q45.4968 982.132 50.1438 977.963 Q54.7589 973.762 62.7161 973.762 M60.9973 979.618 Q56.1912 979.682 53.3266 982.323 Q50.4621 984.933 50.4621 989.262 Q50.4621 994.164 53.2312 997.124 Q56.0002 1000.05 61.0292 1000.5 L60.9973 979.618 Z\" fill=\"#000000\" fill-rule=\"evenodd\" fill-opacity=\"1\" /><path clip-path=\"url(#clip550)\" d=\"M 0 0 M51.8307 946.962 Q51.2578 947.949 51.0032 949.126 Q50.7167 950.272 50.7167 951.673 Q50.7167 956.638 53.9632 959.311 Q57.1779 961.953 63.2253 961.953 L82.0042 961.953 L82.0042 967.841 L46.3562 967.841 L46.3562 961.953 L51.8944 961.953 Q48.6479 960.107 47.0883 957.147 Q45.4968 954.187 45.4968 949.954 Q45.4968 949.349 45.5923 948.617 Q45.656 947.885 45.8151 946.994 L51.8307 946.962 Z\" fill=\"#000000\" fill-rule=\"evenodd\" fill-opacity=\"1\" /><path clip-path=\"url(#clip550)\" d=\"M 0 0 M51.8307 921.308 Q51.2578 922.295 51.0032 923.472 Q50.7167 924.618 50.7167 926.019 Q50.7167 930.984 53.9632 933.658 Q57.1779 936.299 63.2253 936.299 L82.0042 936.299 L82.0042 942.188 L46.3562 942.188 L46.3562 936.299 L51.8944 936.299 Q48.6479 934.453 47.0883 931.493 Q45.4968 928.533 45.4968 924.3 Q45.4968 923.695 45.5923 922.963 Q45.656 922.231 45.8151 921.34 L51.8307 921.308 Z\" fill=\"#000000\" fill-rule=\"evenodd\" fill-opacity=\"1\" /><path clip-path=\"url(#clip550)\" d=\"M 0 0 M50.4621 902.784 Q50.4621 907.495 54.1542 910.232 Q57.8145 912.969 64.212 912.969 Q70.6095 912.969 74.3017 910.264 Q77.9619 907.526 77.9619 902.784 Q77.9619 898.105 74.2698 895.368 Q70.5777 892.631 64.212 892.631 Q57.8781 892.631 54.186 895.368 Q50.4621 898.105 50.4621 902.784 M45.4968 902.784 Q45.4968 895.145 50.4621 890.785 Q55.4273 886.424 64.212 886.424 Q72.9649 886.424 77.9619 890.785 Q82.9272 895.145 82.9272 902.784 Q82.9272 910.455 77.9619 914.815 Q72.9649 919.144 64.212 919.144 Q55.4273 919.144 50.4621 914.815 Q45.4968 910.455 45.4968 902.784 Z\" fill=\"#000000\" fill-rule=\"evenodd\" fill-opacity=\"1\" /><path clip-path=\"url(#clip550)\" d=\"M 0 0 M51.8307 859.624 Q51.2578 860.611 51.0032 861.789 Q50.7167 862.935 50.7167 864.335 Q50.7167 869.3 53.9632 871.974 Q57.1779 874.616 63.2253 874.616 L82.0042 874.616 L82.0042 880.504 L46.3562 880.504 L46.3562 874.616 L51.8944 874.616 Q48.6479 872.77 47.0883 869.81 Q45.4968 866.849 45.4968 862.616 Q45.4968 862.012 45.5923 861.279 Q45.656 860.547 45.8151 859.656 L51.8307 859.624 Z\" fill=\"#000000\" fill-rule=\"evenodd\" fill-opacity=\"1\" /><polyline clip-path=\"url(#clip552)\" style=\"stroke:#009af9; stroke-width:8; stroke-opacity:1; fill:none\" points=\"\n",
       "  356.463,156.713 716.559,218.782 1076.66,264.355 1436.75,300.186 1796.85,329.66 2156.94,354.675 2517.04,376.397 2877.14,395.586 \n",
       "  \"/>\n",
       "<path clip-path=\"url(#clip552)\" d=\"M356.463 176.713 L342.323 170.853 L336.463 156.713 L342.323 142.573 L356.463 136.713 L370.603 142.573 L376.463 156.713 L370.603 170.853 Z\" fill=\"#009af9\" fill-rule=\"evenodd\" fill-opacity=\"1\" stroke=\"#000000\" stroke-opacity=\"1\" stroke-width=\"4\"/>\n",
       "<path clip-path=\"url(#clip552)\" d=\"M716.559 238.782 L702.419 232.922 L696.559 218.782 L702.419 204.642 L716.559 198.782 L730.699 204.642 L736.559 218.782 L730.699 232.922 Z\" fill=\"#009af9\" fill-rule=\"evenodd\" fill-opacity=\"1\" stroke=\"#000000\" stroke-opacity=\"1\" stroke-width=\"4\"/>\n",
       "<path clip-path=\"url(#clip552)\" d=\"M1076.66 284.355 L1062.52 278.495 L1056.66 264.355 L1062.52 250.215 L1076.66 244.355 L1090.8 250.215 L1096.66 264.355 L1090.8 278.495 Z\" fill=\"#009af9\" fill-rule=\"evenodd\" fill-opacity=\"1\" stroke=\"#000000\" stroke-opacity=\"1\" stroke-width=\"4\"/>\n",
       "<path clip-path=\"url(#clip552)\" d=\"M1436.75 320.186 L1422.61 314.326 L1416.75 300.186 L1422.61 286.046 L1436.75 280.186 L1450.89 286.046 L1456.75 300.186 L1450.89 314.326 Z\" fill=\"#009af9\" fill-rule=\"evenodd\" fill-opacity=\"1\" stroke=\"#000000\" stroke-opacity=\"1\" stroke-width=\"4\"/>\n",
       "<path clip-path=\"url(#clip552)\" d=\"M1796.85 349.66 L1782.71 343.8 L1776.85 329.66 L1782.71 315.52 L1796.85 309.66 L1810.99 315.52 L1816.85 329.66 L1810.99 343.8 Z\" fill=\"#009af9\" fill-rule=\"evenodd\" fill-opacity=\"1\" stroke=\"#000000\" stroke-opacity=\"1\" stroke-width=\"4\"/>\n",
       "<path clip-path=\"url(#clip552)\" d=\"M2156.94 374.675 L2142.8 368.815 L2136.94 354.675 L2142.8 340.535 L2156.94 334.675 L2171.08 340.535 L2176.94 354.675 L2171.08 368.815 Z\" fill=\"#009af9\" fill-rule=\"evenodd\" fill-opacity=\"1\" stroke=\"#000000\" stroke-opacity=\"1\" stroke-width=\"4\"/>\n",
       "<path clip-path=\"url(#clip552)\" d=\"M2517.04 396.397 L2502.9 390.537 L2497.04 376.397 L2502.9 362.257 L2517.04 356.397 L2531.18 362.257 L2537.04 376.397 L2531.18 390.537 Z\" fill=\"#009af9\" fill-rule=\"evenodd\" fill-opacity=\"1\" stroke=\"#000000\" stroke-opacity=\"1\" stroke-width=\"4\"/>\n",
       "<path clip-path=\"url(#clip552)\" d=\"M2877.14 415.586 L2863 409.726 L2857.14 395.586 L2863 381.446 L2877.14 375.586 L2891.28 381.446 L2897.14 395.586 L2891.28 409.726 Z\" fill=\"#009af9\" fill-rule=\"evenodd\" fill-opacity=\"1\" stroke=\"#000000\" stroke-opacity=\"1\" stroke-width=\"4\"/>\n",
       "<polyline clip-path=\"url(#clip552)\" style=\"stroke:#000000; stroke-width:8; stroke-opacity:1; fill:none\" stroke-dasharray=\"32, 20\" points=\"\n",
       "  1436.75,304.442 1796.85,330.789 2156.94,353.76 2517.04,374.114 2877.14,392.384 \n",
       "  \"/>\n",
       "<polyline clip-path=\"url(#clip552)\" style=\"stroke:#3da44d; stroke-width:8; stroke-opacity:1; fill:none\" points=\"\n",
       "  356.463,443.11 716.559,842.434 1076.66,1090.68 1436.75,1279.63 1796.85,1432.43 2156.94,1560.82 2517.04,1671.59 2877.14,1769.03 \n",
       "  \"/>\n",
       "<path clip-path=\"url(#clip552)\" d=\"M356.463 463.11 L342.323 457.25 L336.463 443.11 L342.323 428.97 L356.463 423.11 L370.603 428.97 L376.463 443.11 L370.603 457.25 Z\" fill=\"#3da44d\" fill-rule=\"evenodd\" fill-opacity=\"1\" stroke=\"#000000\" stroke-opacity=\"1\" stroke-width=\"4\"/>\n",
       "<path clip-path=\"url(#clip552)\" d=\"M716.559 862.434 L702.419 856.574 L696.559 842.434 L702.419 828.294 L716.559 822.434 L730.699 828.294 L736.559 842.434 L730.699 856.574 Z\" fill=\"#3da44d\" fill-rule=\"evenodd\" fill-opacity=\"1\" stroke=\"#000000\" stroke-opacity=\"1\" stroke-width=\"4\"/>\n",
       "<path clip-path=\"url(#clip552)\" d=\"M1076.66 1110.68 L1062.52 1104.82 L1056.66 1090.68 L1062.52 1076.54 L1076.66 1070.68 L1090.8 1076.54 L1096.66 1090.68 L1090.8 1104.82 Z\" fill=\"#3da44d\" fill-rule=\"evenodd\" fill-opacity=\"1\" stroke=\"#000000\" stroke-opacity=\"1\" stroke-width=\"4\"/>\n",
       "<path clip-path=\"url(#clip552)\" d=\"M1436.75 1299.63 L1422.61 1293.77 L1416.75 1279.63 L1422.61 1265.49 L1436.75 1259.63 L1450.89 1265.49 L1456.75 1279.63 L1450.89 1293.77 Z\" fill=\"#3da44d\" fill-rule=\"evenodd\" fill-opacity=\"1\" stroke=\"#000000\" stroke-opacity=\"1\" stroke-width=\"4\"/>\n",
       "<path clip-path=\"url(#clip552)\" d=\"M1796.85 1452.43 L1782.71 1446.57 L1776.85 1432.43 L1782.71 1418.29 L1796.85 1412.43 L1810.99 1418.29 L1816.85 1432.43 L1810.99 1446.57 Z\" fill=\"#3da44d\" fill-rule=\"evenodd\" fill-opacity=\"1\" stroke=\"#000000\" stroke-opacity=\"1\" stroke-width=\"4\"/>\n",
       "<path clip-path=\"url(#clip552)\" d=\"M2156.94 1580.82 L2142.8 1574.96 L2136.94 1560.82 L2142.8 1546.68 L2156.94 1540.82 L2171.08 1546.68 L2176.94 1560.82 L2171.08 1574.96 Z\" fill=\"#3da44d\" fill-rule=\"evenodd\" fill-opacity=\"1\" stroke=\"#000000\" stroke-opacity=\"1\" stroke-width=\"4\"/>\n",
       "<path clip-path=\"url(#clip552)\" d=\"M2517.04 1691.59 L2502.9 1685.73 L2497.04 1671.59 L2502.9 1657.45 L2517.04 1651.59 L2531.18 1657.45 L2537.04 1671.59 L2531.18 1685.73 Z\" fill=\"#3da44d\" fill-rule=\"evenodd\" fill-opacity=\"1\" stroke=\"#000000\" stroke-opacity=\"1\" stroke-width=\"4\"/>\n",
       "<path clip-path=\"url(#clip552)\" d=\"M2877.14 1789.03 L2863 1783.17 L2857.14 1769.03 L2863 1754.89 L2877.14 1749.03 L2891.28 1754.89 L2897.14 1769.03 L2891.28 1783.17 Z\" fill=\"#3da44d\" fill-rule=\"evenodd\" fill-opacity=\"1\" stroke=\"#000000\" stroke-opacity=\"1\" stroke-width=\"4\"/>\n",
       "<polyline clip-path=\"url(#clip552)\" style=\"stroke:#000000; stroke-width:8; stroke-opacity:1; fill:none\" stroke-dasharray=\"32, 20\" points=\"\n",
       "  1436.75,1246.39 1796.85,1404.17 2156.94,1538.26 2517.04,1654.87 2877.14,1758.05 \n",
       "  \"/>\n",
       "<polyline clip-path=\"url(#clip552)\" style=\"stroke:#ac8d18; stroke-width:8; stroke-opacity:1; fill:none\" points=\"\n",
       "  356.463,550.509 716.559,701.967 1076.66,810.79 1436.75,895.578 1796.85,965.001 2156.94,1023.77 2517.04,1074.71 2877.14,1119.66 \n",
       "  \"/>\n",
       "<path clip-path=\"url(#clip552)\" d=\"M356.463 570.509 L342.323 564.649 L336.463 550.509 L342.323 536.369 L356.463 530.509 L370.603 536.369 L376.463 550.509 L370.603 564.649 Z\" fill=\"#ac8d18\" fill-rule=\"evenodd\" fill-opacity=\"1\" stroke=\"#000000\" stroke-opacity=\"1\" stroke-width=\"4\"/>\n",
       "<path clip-path=\"url(#clip552)\" d=\"M716.559 721.967 L702.419 716.107 L696.559 701.967 L702.419 687.827 L716.559 681.967 L730.699 687.827 L736.559 701.967 L730.699 716.107 Z\" fill=\"#ac8d18\" fill-rule=\"evenodd\" fill-opacity=\"1\" stroke=\"#000000\" stroke-opacity=\"1\" stroke-width=\"4\"/>\n",
       "<path clip-path=\"url(#clip552)\" d=\"M1076.66 830.79 L1062.52 824.93 L1056.66 810.79 L1062.52 796.65 L1076.66 790.79 L1090.8 796.65 L1096.66 810.79 L1090.8 824.93 Z\" fill=\"#ac8d18\" fill-rule=\"evenodd\" fill-opacity=\"1\" stroke=\"#000000\" stroke-opacity=\"1\" stroke-width=\"4\"/>\n",
       "<path clip-path=\"url(#clip552)\" d=\"M1436.75 915.578 L1422.61 909.718 L1416.75 895.578 L1422.61 881.438 L1436.75 875.578 L1450.89 881.438 L1456.75 895.578 L1450.89 909.718 Z\" fill=\"#ac8d18\" fill-rule=\"evenodd\" fill-opacity=\"1\" stroke=\"#000000\" stroke-opacity=\"1\" stroke-width=\"4\"/>\n",
       "<path clip-path=\"url(#clip552)\" d=\"M1796.85 985.001 L1782.71 979.141 L1776.85 965.001 L1782.71 950.861 L1796.85 945.001 L1810.99 950.861 L1816.85 965.001 L1810.99 979.141 Z\" fill=\"#ac8d18\" fill-rule=\"evenodd\" fill-opacity=\"1\" stroke=\"#000000\" stroke-opacity=\"1\" stroke-width=\"4\"/>\n",
       "<path clip-path=\"url(#clip552)\" d=\"M2156.94 1043.77 L2142.8 1037.91 L2136.94 1023.77 L2142.8 1009.63 L2156.94 1003.77 L2171.08 1009.63 L2176.94 1023.77 L2171.08 1037.91 Z\" fill=\"#ac8d18\" fill-rule=\"evenodd\" fill-opacity=\"1\" stroke=\"#000000\" stroke-opacity=\"1\" stroke-width=\"4\"/>\n",
       "<path clip-path=\"url(#clip552)\" d=\"M2517.04 1094.71 L2502.9 1088.85 L2497.04 1074.71 L2502.9 1060.57 L2517.04 1054.71 L2531.18 1060.57 L2537.04 1074.71 L2531.18 1088.85 Z\" fill=\"#ac8d18\" fill-rule=\"evenodd\" fill-opacity=\"1\" stroke=\"#000000\" stroke-opacity=\"1\" stroke-width=\"4\"/>\n",
       "<path clip-path=\"url(#clip552)\" d=\"M2877.14 1139.66 L2863 1133.8 L2857.14 1119.66 L2863 1105.52 L2877.14 1099.66 L2891.28 1105.52 L2897.14 1119.66 L2891.28 1133.8 Z\" fill=\"#ac8d18\" fill-rule=\"evenodd\" fill-opacity=\"1\" stroke=\"#000000\" stroke-opacity=\"1\" stroke-width=\"4\"/>\n",
       "<polyline clip-path=\"url(#clip552)\" style=\"stroke:#000000; stroke-width:8; stroke-opacity:1; fill:none\" stroke-dasharray=\"32, 20\" points=\"\n",
       "  1436.75,869.144 1796.85,937.31 2156.94,995.639 2517.04,1046.62 2877.14,1091.91 \n",
       "  \"/>\n",
       "<polyline clip-path=\"url(#clip552)\" style=\"stroke:#ed5d92; stroke-width:8; stroke-opacity:1; fill:none\" points=\"\n",
       "  356.463,97.3932 716.559,172.022 1076.66,255.152 1436.75,344.364 1796.85,437.562 2156.94,533.308 2517.04,630.696 2877.14,729.163 \n",
       "  \"/>\n",
       "<path clip-path=\"url(#clip552)\" d=\"M356.463 117.393 L342.323 111.533 L336.463 97.3932 L342.323 83.2532 L356.463 77.3932 L370.603 83.2532 L376.463 97.3932 L370.603 111.533 Z\" fill=\"#ed5d92\" fill-rule=\"evenodd\" fill-opacity=\"1\" stroke=\"#000000\" stroke-opacity=\"1\" stroke-width=\"4\"/>\n",
       "<path clip-path=\"url(#clip552)\" d=\"M716.559 192.022 L702.419 186.162 L696.559 172.022 L702.419 157.882 L716.559 152.022 L730.699 157.882 L736.559 172.022 L730.699 186.162 Z\" fill=\"#ed5d92\" fill-rule=\"evenodd\" fill-opacity=\"1\" stroke=\"#000000\" stroke-opacity=\"1\" stroke-width=\"4\"/>\n",
       "<path clip-path=\"url(#clip552)\" d=\"M1076.66 275.152 L1062.52 269.292 L1056.66 255.152 L1062.52 241.012 L1076.66 235.152 L1090.8 241.012 L1096.66 255.152 L1090.8 269.292 Z\" fill=\"#ed5d92\" fill-rule=\"evenodd\" fill-opacity=\"1\" stroke=\"#000000\" stroke-opacity=\"1\" stroke-width=\"4\"/>\n",
       "<path clip-path=\"url(#clip552)\" d=\"M1436.75 364.364 L1422.61 358.504 L1416.75 344.364 L1422.61 330.224 L1436.75 324.364 L1450.89 330.224 L1456.75 344.364 L1450.89 358.504 Z\" fill=\"#ed5d92\" fill-rule=\"evenodd\" fill-opacity=\"1\" stroke=\"#000000\" stroke-opacity=\"1\" stroke-width=\"4\"/>\n",
       "<path clip-path=\"url(#clip552)\" d=\"M1796.85 457.562 L1782.71 451.702 L1776.85 437.562 L1782.71 423.422 L1796.85 417.562 L1810.99 423.422 L1816.85 437.562 L1810.99 451.702 Z\" fill=\"#ed5d92\" fill-rule=\"evenodd\" fill-opacity=\"1\" stroke=\"#000000\" stroke-opacity=\"1\" stroke-width=\"4\"/>\n",
       "<path clip-path=\"url(#clip552)\" d=\"M2156.94 553.308 L2142.8 547.448 L2136.94 533.308 L2142.8 519.168 L2156.94 513.308 L2171.08 519.168 L2176.94 533.308 L2171.08 547.448 Z\" fill=\"#ed5d92\" fill-rule=\"evenodd\" fill-opacity=\"1\" stroke=\"#000000\" stroke-opacity=\"1\" stroke-width=\"4\"/>\n",
       "<path clip-path=\"url(#clip552)\" d=\"M2517.04 650.696 L2502.9 644.836 L2497.04 630.696 L2502.9 616.556 L2517.04 610.696 L2531.18 616.556 L2537.04 630.696 L2531.18 644.836 Z\" fill=\"#ed5d92\" fill-rule=\"evenodd\" fill-opacity=\"1\" stroke=\"#000000\" stroke-opacity=\"1\" stroke-width=\"4\"/>\n",
       "<path clip-path=\"url(#clip552)\" d=\"M2877.14 749.163 L2863 743.303 L2857.14 729.163 L2863 715.023 L2877.14 709.163 L2891.28 715.023 L2897.14 729.163 L2891.28 743.303 Z\" fill=\"#ed5d92\" fill-rule=\"evenodd\" fill-opacity=\"1\" stroke=\"#000000\" stroke-opacity=\"1\" stroke-width=\"4\"/>\n",
       "<polyline clip-path=\"url(#clip552)\" style=\"stroke:#000000; stroke-width:8; stroke-opacity:1; fill:none\" stroke-dasharray=\"32, 20\" points=\"\n",
       "  1796.85,426.913 2156.94,525.214 2517.04,623.515 2877.14,721.817 \n",
       "  \"/>\n",
       "<path clip-path=\"url(#clip550)\" d=\"\n",
       "M369.907 1760.12 L1104.77 1760.12 L1104.77 1457.72 L369.907 1457.72  Z\n",
       "  \" fill=\"#ffffff\" fill-rule=\"evenodd\" fill-opacity=\"1\"/>\n",
       "<polyline clip-path=\"url(#clip550)\" style=\"stroke:#000000; stroke-width:4; stroke-opacity:1; fill:none\" points=\"\n",
       "  369.907,1760.12 1104.77,1760.12 1104.77,1457.72 369.907,1457.72 369.907,1760.12 \n",
       "  \"/>\n",
       "<polyline clip-path=\"url(#clip550)\" style=\"stroke:#009af9; stroke-width:4; stroke-opacity:1; fill:none\" points=\"\n",
       "  399.595,1518.2 577.722,1518.2 \n",
       "  \"/>\n",
       "<path clip-path=\"url(#clip550)\" d=\"M488.658 1543.8 L470.559 1536.29 L463.058 1518.2 L470.559 1500.1 L488.658 1492.6 L506.757 1500.1 L514.258 1518.2 L506.757 1536.29 Z\" fill=\"#009af9\" fill-rule=\"evenodd\" fill-opacity=\"1\" stroke=\"#000000\" stroke-opacity=\"1\" stroke-width=\"5.12\"/>\n",
       "<path clip-path=\"url(#clip550)\" d=\"M488.658 1543.8 L470.559 1536.29 L463.058 1518.2 L470.559 1500.1 L488.658 1492.6 L506.757 1500.1 L514.258 1518.2 L506.757 1536.29 Z\" fill=\"#009af9\" fill-rule=\"evenodd\" fill-opacity=\"1\" stroke=\"#000000\" stroke-opacity=\"1\" stroke-width=\"5.12\"/>\n",
       "<path clip-path=\"url(#clip550)\" d=\"M488.658 1543.8 L470.559 1536.29 L463.058 1518.2 L470.559 1500.1 L488.658 1492.6 L506.757 1500.1 L514.258 1518.2 L506.757 1536.29 Z\" fill=\"#009af9\" fill-rule=\"evenodd\" fill-opacity=\"1\" stroke=\"#000000\" stroke-opacity=\"1\" stroke-width=\"5.12\"/>\n",
       "<path clip-path=\"url(#clip550)\" d=\"M488.658 1543.8 L470.559 1536.29 L463.058 1518.2 L470.559 1500.1 L488.658 1492.6 L506.757 1500.1 L514.258 1518.2 L506.757 1536.29 Z\" fill=\"#009af9\" fill-rule=\"evenodd\" fill-opacity=\"1\" stroke=\"#000000\" stroke-opacity=\"1\" stroke-width=\"5.12\"/>\n",
       "<path clip-path=\"url(#clip550)\" d=\"M488.658 1543.8 L470.559 1536.29 L463.058 1518.2 L470.559 1500.1 L488.658 1492.6 L506.757 1500.1 L514.258 1518.2 L506.757 1536.29 Z\" fill=\"#009af9\" fill-rule=\"evenodd\" fill-opacity=\"1\" stroke=\"#000000\" stroke-opacity=\"1\" stroke-width=\"5.12\"/>\n",
       "<path clip-path=\"url(#clip550)\" d=\"M488.658 1543.8 L470.559 1536.29 L463.058 1518.2 L470.559 1500.1 L488.658 1492.6 L506.757 1500.1 L514.258 1518.2 L506.757 1536.29 Z\" fill=\"#009af9\" fill-rule=\"evenodd\" fill-opacity=\"1\" stroke=\"#000000\" stroke-opacity=\"1\" stroke-width=\"5.12\"/>\n",
       "<path clip-path=\"url(#clip550)\" d=\"M488.658 1543.8 L470.559 1536.29 L463.058 1518.2 L470.559 1500.1 L488.658 1492.6 L506.757 1500.1 L514.258 1518.2 L506.757 1536.29 Z\" fill=\"#009af9\" fill-rule=\"evenodd\" fill-opacity=\"1\" stroke=\"#000000\" stroke-opacity=\"1\" stroke-width=\"5.12\"/>\n",
       "<path clip-path=\"url(#clip550)\" d=\"M488.658 1543.8 L470.559 1536.29 L463.058 1518.2 L470.559 1500.1 L488.658 1492.6 L506.757 1500.1 L514.258 1518.2 L506.757 1536.29 Z\" fill=\"#009af9\" fill-rule=\"evenodd\" fill-opacity=\"1\" stroke=\"#000000\" stroke-opacity=\"1\" stroke-width=\"5.12\"/>\n",
       "<path clip-path=\"url(#clip550)\" d=\"M 0 0 M607.41 1540.59 L607.41 1495.92 Q607.41 1494.14 608.37 1494.14 Q609.331 1494.14 609.331 1495.57 L609.331 1540.24 Q609.331 1542.02 608.37 1542.02 Q607.41 1542.02 607.41 1540.59 Z\" fill=\"#000000\" fill-rule=\"evenodd\" fill-opacity=\"1\" /><path clip-path=\"url(#clip550)\" d=\"M 0 0 M627.206 1529.44 L627.206 1523.11 Q627.206 1522.58 627.229 1522.39 Q627.252 1522.2 627.393 1522.06 Q627.533 1521.92 627.814 1521.92 Q628.142 1521.92 628.26 1522.06 Q628.4 1522.2 628.494 1522.74 Q629.22 1526.04 630.766 1527.8 Q632.335 1529.53 635.169 1529.53 Q637.863 1529.53 639.221 1528.34 Q640.58 1527.14 640.58 1525.18 Q640.58 1521.66 635.591 1520.77 Q632.71 1520.19 631.515 1519.81 Q630.321 1519.41 629.267 1518.55 Q627.206 1516.86 627.206 1514.47 Q627.206 1512.08 629.009 1510.33 Q630.836 1508.57 634.865 1508.57 Q637.558 1508.57 639.385 1509.93 Q639.924 1509.51 640.205 1509.15 Q640.837 1508.57 641.165 1508.57 Q641.54 1508.57 641.61 1508.83 Q641.681 1509.06 641.681 1509.74 L641.681 1514.56 Q641.681 1515.1 641.657 1515.29 Q641.634 1515.48 641.493 1515.62 Q641.353 1515.74 641.048 1515.74 Q640.509 1515.74 640.486 1515.29 Q640.111 1509.48 634.865 1509.48 Q632.031 1509.48 630.766 1510.58 Q629.501 1511.66 629.501 1513.14 Q629.501 1513.96 629.876 1514.59 Q630.274 1515.2 630.766 1515.57 Q631.281 1515.92 632.218 1516.27 Q633.155 1516.6 633.717 1516.72 Q634.303 1516.84 635.403 1517.07 Q639.245 1517.8 640.861 1519.37 Q642.875 1521.38 642.875 1523.93 Q642.875 1526.77 640.954 1528.69 Q639.034 1530.61 635.169 1530.61 Q632.054 1530.61 629.876 1528.52 Q629.595 1528.81 629.384 1529.06 Q629.173 1529.3 629.079 1529.39 Q629.009 1529.48 628.986 1529.56 Q628.962 1529.6 628.915 1529.65 Q627.955 1530.61 627.721 1530.61 Q627.346 1530.61 627.276 1530.35 Q627.206 1530.12 627.206 1529.44 Z\" fill=\"#000000\" fill-rule=\"evenodd\" fill-opacity=\"1\" /><path clip-path=\"url(#clip550)\" d=\"M 0 0 M645.899 1530.07 L645.899 1528.59 Q648.452 1528.59 649.038 1528.29 Q649.624 1527.96 649.624 1526.42 L649.624 1513.51 Q649.624 1511.73 649.015 1511.31 Q648.429 1510.89 646.087 1510.89 L646.087 1509.39 L652.786 1508.87 L652.786 1526.46 Q652.786 1527.89 653.301 1528.24 Q653.816 1528.59 656.158 1528.59 L656.158 1530.07 Q651.263 1529.93 651.169 1529.93 Q650.514 1529.93 645.899 1530.07 M647.914 1500.51 Q647.914 1499.55 648.64 1498.78 Q649.389 1497.98 650.443 1497.98 Q651.497 1497.98 652.247 1498.71 Q652.996 1499.41 652.996 1500.53 Q652.996 1501.64 652.247 1502.36 Q651.497 1503.06 650.443 1503.06 Q649.342 1503.06 648.616 1502.29 Q647.914 1501.52 647.914 1500.51 Z\" fill=\"#000000\" fill-rule=\"evenodd\" fill-opacity=\"1\" /><path clip-path=\"url(#clip550)\" d=\"M 0 0 M659.05 1530.07 L659.05 1528.59 Q661.603 1528.59 662.189 1528.29 Q662.774 1527.96 662.774 1526.42 L662.774 1513.56 Q662.774 1511.78 662.142 1511.33 Q661.533 1510.89 659.05 1510.89 L659.05 1509.39 L665.796 1508.87 L665.796 1513.91 Q668.044 1508.87 672.893 1508.87 Q676.5 1508.87 677.928 1510.65 Q678.982 1511.85 679.193 1513.18 Q679.428 1514.52 679.428 1517.98 L679.428 1527.14 Q679.474 1528.15 680.247 1528.38 Q681.02 1528.59 683.175 1528.59 L683.175 1530.07 Q678.28 1529.93 677.788 1529.93 Q677.413 1529.93 672.377 1530.07 L672.377 1528.59 Q674.93 1528.59 675.516 1528.29 Q676.125 1527.96 676.125 1526.42 L676.125 1515.24 Q676.125 1512.81 675.375 1511.38 Q674.626 1509.93 672.565 1509.93 Q670.082 1509.93 668.091 1512.01 Q666.1 1514.1 666.1 1517.61 L666.1 1526.42 Q666.1 1527.96 666.686 1528.29 Q667.295 1528.59 669.824 1528.59 L669.824 1530.07 Q664.929 1529.93 664.461 1529.93 Q664.086 1529.93 659.05 1530.07 Z\" fill=\"#000000\" fill-rule=\"evenodd\" fill-opacity=\"1\" /><path clip-path=\"url(#clip550)\" d=\"M 0 0 M709.289 1512.04 Q709.289 1513.35 708.469 1514.1 Q707.649 1514.82 706.712 1514.82 Q705.822 1514.82 705.354 1514.31 Q704.885 1513.79 704.885 1513.14 Q704.885 1512.25 705.541 1511.47 Q706.197 1510.7 707.181 1510.54 Q706.22 1509.93 704.791 1509.93 Q703.855 1509.93 703.035 1510.42 Q702.238 1510.91 701.747 1511.54 Q701.278 1512.18 700.856 1513.09 Q700.458 1513.98 700.294 1514.52 Q700.154 1515.03 700.037 1515.6 L698.397 1522.15 Q697.601 1525.27 697.601 1526.37 Q697.601 1527.73 698.257 1528.64 Q698.912 1529.53 700.224 1529.53 Q700.739 1529.53 701.325 1529.39 Q701.91 1529.23 702.66 1528.81 Q703.433 1528.36 704.112 1527.7 Q704.815 1527.03 705.494 1525.88 Q706.173 1524.73 706.618 1523.25 Q706.759 1522.74 707.227 1522.74 Q707.813 1522.74 707.813 1523.21 Q707.813 1523.61 707.485 1524.45 Q707.181 1525.27 706.501 1526.35 Q705.845 1527.4 704.979 1528.36 Q704.112 1529.3 702.824 1529.95 Q701.536 1530.61 700.13 1530.61 Q698.116 1530.61 696.781 1529.53 Q695.446 1528.45 694.954 1526.96 Q694.837 1527.17 694.673 1527.45 Q694.509 1527.73 694.017 1528.36 Q693.549 1528.97 693.01 1529.44 Q692.471 1529.88 691.628 1530.23 Q690.808 1530.61 689.918 1530.61 Q688.794 1530.61 687.787 1530.28 Q686.803 1529.95 686.1 1529.2 Q685.398 1528.45 685.398 1527.42 Q685.398 1526.28 686.171 1525.48 Q686.967 1524.66 688.044 1524.66 Q688.724 1524.66 689.262 1525.06 Q689.824 1525.46 689.824 1526.32 Q689.824 1527.28 689.169 1528.01 Q688.513 1528.74 687.576 1528.92 Q688.536 1529.53 689.965 1529.53 Q691.511 1529.53 692.729 1528.17 Q693.947 1526.81 694.532 1524.54 Q695.985 1519.09 696.547 1516.65 Q697.109 1514.19 697.109 1513.14 Q697.109 1512.15 696.851 1511.47 Q696.594 1510.79 696.149 1510.49 Q695.727 1510.16 695.329 1510.04 Q694.954 1509.93 694.532 1509.93 Q693.83 1509.93 693.033 1510.21 Q692.26 1510.49 691.324 1511.14 Q690.41 1511.78 689.543 1513.09 Q688.677 1514.4 688.091 1516.2 Q687.974 1516.74 687.459 1516.74 Q686.897 1516.72 686.897 1516.25 Q686.897 1515.85 687.201 1515.03 Q687.529 1514.19 688.185 1513.14 Q688.864 1512.08 689.731 1511.14 Q690.621 1510.18 691.909 1509.53 Q693.221 1508.87 694.626 1508.87 Q695.258 1508.87 695.867 1509.01 Q696.5 1509.13 697.249 1509.48 Q698.022 1509.83 698.702 1510.61 Q699.381 1511.38 699.802 1512.5 Q700.084 1511.96 700.458 1511.45 Q700.856 1510.93 701.465 1510.3 Q702.098 1509.65 702.964 1509.27 Q703.855 1508.87 704.838 1508.87 Q705.799 1508.87 706.735 1509.13 Q707.672 1509.36 708.469 1510.14 Q709.289 1510.89 709.289 1512.04 Z\" fill=\"#000000\" fill-rule=\"evenodd\" fill-opacity=\"1\" /><path clip-path=\"url(#clip550)\" d=\"M 0 0 M712.557 1540.59 L712.557 1495.92 Q712.557 1494.14 713.517 1494.14 Q714.478 1494.14 714.478 1495.57 L714.478 1540.24 Q714.478 1542.02 713.517 1542.02 Q712.557 1542.02 712.557 1540.59 Z\" fill=\"#000000\" fill-rule=\"evenodd\" fill-opacity=\"1\" /><polyline clip-path=\"url(#clip550)\" style=\"stroke:#3da44d; stroke-width:4; stroke-opacity:1; fill:none\" points=\"\n",
       "  399.595,1578.68 577.722,1578.68 \n",
       "  \"/>\n",
       "<path clip-path=\"url(#clip550)\" d=\"M488.658 1604.28 L470.559 1596.77 L463.058 1578.68 L470.559 1560.58 L488.658 1553.08 L506.757 1560.58 L514.258 1578.68 L506.757 1596.77 Z\" fill=\"#3da44d\" fill-rule=\"evenodd\" fill-opacity=\"1\" stroke=\"#000000\" stroke-opacity=\"1\" stroke-width=\"5.12\"/>\n",
       "<path clip-path=\"url(#clip550)\" d=\"M488.658 1604.28 L470.559 1596.77 L463.058 1578.68 L470.559 1560.58 L488.658 1553.08 L506.757 1560.58 L514.258 1578.68 L506.757 1596.77 Z\" fill=\"#3da44d\" fill-rule=\"evenodd\" fill-opacity=\"1\" stroke=\"#000000\" stroke-opacity=\"1\" stroke-width=\"5.12\"/>\n",
       "<path clip-path=\"url(#clip550)\" d=\"M488.658 1604.28 L470.559 1596.77 L463.058 1578.68 L470.559 1560.58 L488.658 1553.08 L506.757 1560.58 L514.258 1578.68 L506.757 1596.77 Z\" fill=\"#3da44d\" fill-rule=\"evenodd\" fill-opacity=\"1\" stroke=\"#000000\" stroke-opacity=\"1\" stroke-width=\"5.12\"/>\n",
       "<path clip-path=\"url(#clip550)\" d=\"M488.658 1604.28 L470.559 1596.77 L463.058 1578.68 L470.559 1560.58 L488.658 1553.08 L506.757 1560.58 L514.258 1578.68 L506.757 1596.77 Z\" fill=\"#3da44d\" fill-rule=\"evenodd\" fill-opacity=\"1\" stroke=\"#000000\" stroke-opacity=\"1\" stroke-width=\"5.12\"/>\n",
       "<path clip-path=\"url(#clip550)\" d=\"M488.658 1604.28 L470.559 1596.77 L463.058 1578.68 L470.559 1560.58 L488.658 1553.08 L506.757 1560.58 L514.258 1578.68 L506.757 1596.77 Z\" fill=\"#3da44d\" fill-rule=\"evenodd\" fill-opacity=\"1\" stroke=\"#000000\" stroke-opacity=\"1\" stroke-width=\"5.12\"/>\n",
       "<path clip-path=\"url(#clip550)\" d=\"M488.658 1604.28 L470.559 1596.77 L463.058 1578.68 L470.559 1560.58 L488.658 1553.08 L506.757 1560.58 L514.258 1578.68 L506.757 1596.77 Z\" fill=\"#3da44d\" fill-rule=\"evenodd\" fill-opacity=\"1\" stroke=\"#000000\" stroke-opacity=\"1\" stroke-width=\"5.12\"/>\n",
       "<path clip-path=\"url(#clip550)\" d=\"M488.658 1604.28 L470.559 1596.77 L463.058 1578.68 L470.559 1560.58 L488.658 1553.08 L506.757 1560.58 L514.258 1578.68 L506.757 1596.77 Z\" fill=\"#3da44d\" fill-rule=\"evenodd\" fill-opacity=\"1\" stroke=\"#000000\" stroke-opacity=\"1\" stroke-width=\"5.12\"/>\n",
       "<path clip-path=\"url(#clip550)\" d=\"M488.658 1604.28 L470.559 1596.77 L463.058 1578.68 L470.559 1560.58 L488.658 1553.08 L506.757 1560.58 L514.258 1578.68 L506.757 1596.77 Z\" fill=\"#3da44d\" fill-rule=\"evenodd\" fill-opacity=\"1\" stroke=\"#000000\" stroke-opacity=\"1\" stroke-width=\"5.12\"/>\n",
       "<path clip-path=\"url(#clip550)\" d=\"M 0 0 M607.41 1609.18 L607.41 1564.51 Q607.41 1562.73 608.37 1562.73 Q609.331 1562.73 609.331 1564.16 L609.331 1608.83 Q609.331 1610.61 608.37 1610.61 Q607.41 1610.61 607.41 1609.18 Z\" fill=\"#000000\" fill-rule=\"evenodd\" fill-opacity=\"1\" /><path clip-path=\"url(#clip550)\" d=\"M 0 0 M627.206 1598.03 L627.206 1591.71 Q627.206 1591.17 627.229 1590.98 Q627.252 1590.79 627.393 1590.65 Q627.533 1590.51 627.814 1590.51 Q628.142 1590.51 628.26 1590.65 Q628.4 1590.79 628.494 1591.33 Q629.22 1594.64 630.766 1596.39 Q632.335 1598.13 635.169 1598.13 Q637.863 1598.13 639.221 1596.93 Q640.58 1595.74 640.58 1593.77 Q640.58 1590.26 635.591 1589.37 Q632.71 1588.78 631.515 1588.41 Q630.321 1588.01 629.267 1587.14 Q627.206 1585.45 627.206 1583.07 Q627.206 1580.68 629.009 1578.92 Q630.836 1577.16 634.865 1577.16 Q637.558 1577.16 639.385 1578.52 Q639.924 1578.1 640.205 1577.75 Q640.837 1577.16 641.165 1577.16 Q641.54 1577.16 641.61 1577.42 Q641.681 1577.65 641.681 1578.33 L641.681 1583.16 Q641.681 1583.7 641.657 1583.89 Q641.634 1584.07 641.493 1584.21 Q641.353 1584.33 641.048 1584.33 Q640.509 1584.33 640.486 1583.89 Q640.111 1578.08 634.865 1578.08 Q632.031 1578.08 630.766 1579.18 Q629.501 1580.25 629.501 1581.73 Q629.501 1582.55 629.876 1583.18 Q630.274 1583.79 630.766 1584.17 Q631.281 1584.52 632.218 1584.87 Q633.155 1585.2 633.717 1585.31 Q634.303 1585.43 635.403 1585.67 Q639.245 1586.39 640.861 1587.96 Q642.875 1589.97 642.875 1592.53 Q642.875 1595.36 640.954 1597.28 Q639.034 1599.2 635.169 1599.2 Q632.054 1599.2 629.876 1597.12 Q629.595 1597.4 629.384 1597.66 Q629.173 1597.89 629.079 1597.99 Q629.009 1598.08 628.986 1598.15 Q628.962 1598.2 628.915 1598.24 Q627.955 1599.2 627.721 1599.2 Q627.346 1599.2 627.276 1598.95 Q627.206 1598.71 627.206 1598.03 Z\" fill=\"#000000\" fill-rule=\"evenodd\" fill-opacity=\"1\" /><path clip-path=\"url(#clip550)\" d=\"M 0 0 M645.899 1598.66 L645.899 1597.19 Q648.452 1597.19 649.038 1596.88 Q649.624 1596.56 649.624 1595.01 L649.624 1582.1 Q649.624 1580.32 649.015 1579.9 Q648.429 1579.48 646.087 1579.48 L646.087 1577.98 L652.786 1577.47 L652.786 1595.06 Q652.786 1596.49 653.301 1596.84 Q653.816 1597.19 656.158 1597.19 L656.158 1598.66 Q651.263 1598.52 651.169 1598.52 Q650.514 1598.52 645.899 1598.66 M647.914 1569.11 Q647.914 1568.15 648.64 1567.37 Q649.389 1566.58 650.443 1566.58 Q651.497 1566.58 652.247 1567.3 Q652.996 1568 652.996 1569.13 Q652.996 1570.23 652.247 1570.96 Q651.497 1571.66 650.443 1571.66 Q649.342 1571.66 648.616 1570.89 Q647.914 1570.11 647.914 1569.11 Z\" fill=\"#000000\" fill-rule=\"evenodd\" fill-opacity=\"1\" /><path clip-path=\"url(#clip550)\" d=\"M 0 0 M659.05 1598.66 L659.05 1597.19 Q661.603 1597.19 662.189 1596.88 Q662.774 1596.56 662.774 1595.01 L662.774 1582.15 Q662.774 1580.37 662.142 1579.93 Q661.533 1579.48 659.05 1579.48 L659.05 1577.98 L665.796 1577.47 L665.796 1582.5 Q668.044 1577.47 672.893 1577.47 Q676.5 1577.47 677.928 1579.25 Q678.982 1580.44 679.193 1581.78 Q679.428 1583.11 679.428 1586.58 L679.428 1595.74 Q679.474 1596.74 680.247 1596.98 Q681.02 1597.19 683.175 1597.19 L683.175 1598.66 Q678.28 1598.52 677.788 1598.52 Q677.413 1598.52 672.377 1598.66 L672.377 1597.19 Q674.93 1597.19 675.516 1596.88 Q676.125 1596.56 676.125 1595.01 L676.125 1583.84 Q676.125 1581.4 675.375 1579.97 Q674.626 1578.52 672.565 1578.52 Q670.082 1578.52 668.091 1580.61 Q666.1 1582.69 666.1 1586.2 L666.1 1595.01 Q666.1 1596.56 666.686 1596.88 Q667.295 1597.19 669.824 1597.19 L669.824 1598.66 Q664.929 1598.52 664.461 1598.52 Q664.086 1598.52 659.05 1598.66 Z\" fill=\"#000000\" fill-rule=\"evenodd\" fill-opacity=\"1\" /><path clip-path=\"url(#clip550)\" d=\"M 0 0 M709.289 1580.63 Q709.289 1581.94 708.469 1582.69 Q707.649 1583.42 706.712 1583.42 Q705.822 1583.42 705.354 1582.9 Q704.885 1582.39 704.885 1581.73 Q704.885 1580.84 705.541 1580.07 Q706.197 1579.29 707.181 1579.13 Q706.22 1578.52 704.791 1578.52 Q703.855 1578.52 703.035 1579.01 Q702.238 1579.51 701.747 1580.14 Q701.278 1580.77 700.856 1581.68 Q700.458 1582.57 700.294 1583.11 Q700.154 1583.63 700.037 1584.19 L698.397 1590.75 Q697.601 1593.86 697.601 1594.96 Q697.601 1596.32 698.257 1597.24 Q698.912 1598.13 700.224 1598.13 Q700.739 1598.13 701.325 1597.99 Q701.91 1597.82 702.66 1597.4 Q703.433 1596.95 704.112 1596.3 Q704.815 1595.62 705.494 1594.47 Q706.173 1593.32 706.618 1591.85 Q706.759 1591.33 707.227 1591.33 Q707.813 1591.33 707.813 1591.8 Q707.813 1592.2 707.485 1593.04 Q707.181 1593.86 706.501 1594.94 Q705.845 1595.99 704.979 1596.95 Q704.112 1597.89 702.824 1598.55 Q701.536 1599.2 700.13 1599.2 Q698.116 1599.2 696.781 1598.13 Q695.446 1597.05 694.954 1595.55 Q694.837 1595.76 694.673 1596.04 Q694.509 1596.32 694.017 1596.95 Q693.549 1597.56 693.01 1598.03 Q692.471 1598.48 691.628 1598.83 Q690.808 1599.2 689.918 1599.2 Q688.794 1599.2 687.787 1598.88 Q686.803 1598.55 686.1 1597.8 Q685.398 1597.05 685.398 1596.02 Q685.398 1594.87 686.171 1594.07 Q686.967 1593.25 688.044 1593.25 Q688.724 1593.25 689.262 1593.65 Q689.824 1594.05 689.824 1594.92 Q689.824 1595.88 689.169 1596.6 Q688.513 1597.33 687.576 1597.52 Q688.536 1598.13 689.965 1598.13 Q691.511 1598.13 692.729 1596.77 Q693.947 1595.41 694.532 1593.14 Q695.985 1587.68 696.547 1585.24 Q697.109 1582.78 697.109 1581.73 Q697.109 1580.75 696.851 1580.07 Q696.594 1579.39 696.149 1579.08 Q695.727 1578.76 695.329 1578.64 Q694.954 1578.52 694.532 1578.52 Q693.83 1578.52 693.033 1578.8 Q692.26 1579.08 691.324 1579.74 Q690.41 1580.37 689.543 1581.68 Q688.677 1582.99 688.091 1584.8 Q687.974 1585.34 687.459 1585.34 Q686.897 1585.31 686.897 1584.85 Q686.897 1584.45 687.201 1583.63 Q687.529 1582.78 688.185 1581.73 Q688.864 1580.68 689.731 1579.74 Q690.621 1578.78 691.909 1578.12 Q693.221 1577.47 694.626 1577.47 Q695.258 1577.47 695.867 1577.61 Q696.5 1577.72 697.249 1578.08 Q698.022 1578.43 698.702 1579.2 Q699.381 1579.97 699.802 1581.1 Q700.084 1580.56 700.458 1580.04 Q700.856 1579.53 701.465 1578.9 Q702.098 1578.24 702.964 1577.87 Q703.855 1577.47 704.838 1577.47 Q705.799 1577.47 706.735 1577.72 Q707.672 1577.96 708.469 1578.73 Q709.289 1579.48 709.289 1580.63 Z\" fill=\"#000000\" fill-rule=\"evenodd\" fill-opacity=\"1\" /><path clip-path=\"url(#clip550)\" d=\"M 0 0 M712.557 1609.18 L712.557 1564.51 Q712.557 1562.73 713.517 1562.73 Q714.478 1562.73 714.478 1564.16 L714.478 1608.83 Q714.478 1610.61 713.517 1610.61 Q712.557 1610.61 712.557 1609.18 Z\" fill=\"#000000\" fill-rule=\"evenodd\" fill-opacity=\"1\" /><path clip-path=\"url(#clip550)\" d=\"M 0 0 M719.572 1563.59 Q719.572 1562.59 720.113 1562.21 Q720.654 1561.82 721.228 1561.82 Q721.998 1561.82 722.441 1562.31 Q722.9 1562.78 722.9 1563.46 Q722.9 1564.13 722.441 1564.62 Q721.998 1565.1 721.228 1565.1 Q720.85 1565.1 720.654 1565.03 Q721.096 1566.57 722.441 1567.69 Q723.802 1568.8 725.589 1568.8 Q727.835 1568.8 729.179 1566.62 Q729.983 1565.21 729.983 1562.01 Q729.983 1559.19 729.376 1557.78 Q728.442 1555.64 726.523 1555.64 Q723.802 1555.64 722.195 1557.98 Q721.998 1558.28 721.769 1558.29 Q721.441 1558.29 721.359 1558.11 Q721.293 1557.92 721.293 1557.41 L721.293 1547.47 Q721.293 1546.67 721.621 1546.67 Q721.752 1546.67 722.031 1546.77 Q724.146 1547.7 726.491 1547.72 Q728.901 1547.72 731.065 1546.73 Q731.229 1546.63 731.327 1546.63 Q731.655 1546.63 731.672 1547.01 Q731.672 1547.14 731.393 1547.54 Q731.131 1547.91 730.557 1548.42 Q729.983 1548.91 729.245 1549.39 Q728.507 1549.86 727.425 1550.19 Q726.359 1550.5 725.179 1550.5 Q723.769 1550.5 722.326 1550.06 L722.326 1556.6 Q724.064 1554.9 726.589 1554.9 Q729.278 1554.9 731.131 1557.06 Q732.983 1559.23 732.983 1562.24 Q732.983 1565.41 730.786 1567.57 Q728.606 1569.74 725.654 1569.74 Q722.966 1569.74 721.26 1567.82 Q719.572 1565.9 719.572 1563.59 Z\" fill=\"#000000\" fill-rule=\"evenodd\" fill-opacity=\"1\" /><polyline clip-path=\"url(#clip550)\" style=\"stroke:#ac8d18; stroke-width:4; stroke-opacity:1; fill:none\" points=\"\n",
       "  399.595,1639.16 577.722,1639.16 \n",
       "  \"/>\n",
       "<path clip-path=\"url(#clip550)\" d=\"M488.658 1664.76 L470.559 1657.25 L463.058 1639.16 L470.559 1621.06 L488.658 1613.56 L506.757 1621.06 L514.258 1639.16 L506.757 1657.25 Z\" fill=\"#ac8d18\" fill-rule=\"evenodd\" fill-opacity=\"1\" stroke=\"#000000\" stroke-opacity=\"1\" stroke-width=\"5.12\"/>\n",
       "<path clip-path=\"url(#clip550)\" d=\"M488.658 1664.76 L470.559 1657.25 L463.058 1639.16 L470.559 1621.06 L488.658 1613.56 L506.757 1621.06 L514.258 1639.16 L506.757 1657.25 Z\" fill=\"#ac8d18\" fill-rule=\"evenodd\" fill-opacity=\"1\" stroke=\"#000000\" stroke-opacity=\"1\" stroke-width=\"5.12\"/>\n",
       "<path clip-path=\"url(#clip550)\" d=\"M488.658 1664.76 L470.559 1657.25 L463.058 1639.16 L470.559 1621.06 L488.658 1613.56 L506.757 1621.06 L514.258 1639.16 L506.757 1657.25 Z\" fill=\"#ac8d18\" fill-rule=\"evenodd\" fill-opacity=\"1\" stroke=\"#000000\" stroke-opacity=\"1\" stroke-width=\"5.12\"/>\n",
       "<path clip-path=\"url(#clip550)\" d=\"M488.658 1664.76 L470.559 1657.25 L463.058 1639.16 L470.559 1621.06 L488.658 1613.56 L506.757 1621.06 L514.258 1639.16 L506.757 1657.25 Z\" fill=\"#ac8d18\" fill-rule=\"evenodd\" fill-opacity=\"1\" stroke=\"#000000\" stroke-opacity=\"1\" stroke-width=\"5.12\"/>\n",
       "<path clip-path=\"url(#clip550)\" d=\"M488.658 1664.76 L470.559 1657.25 L463.058 1639.16 L470.559 1621.06 L488.658 1613.56 L506.757 1621.06 L514.258 1639.16 L506.757 1657.25 Z\" fill=\"#ac8d18\" fill-rule=\"evenodd\" fill-opacity=\"1\" stroke=\"#000000\" stroke-opacity=\"1\" stroke-width=\"5.12\"/>\n",
       "<path clip-path=\"url(#clip550)\" d=\"M488.658 1664.76 L470.559 1657.25 L463.058 1639.16 L470.559 1621.06 L488.658 1613.56 L506.757 1621.06 L514.258 1639.16 L506.757 1657.25 Z\" fill=\"#ac8d18\" fill-rule=\"evenodd\" fill-opacity=\"1\" stroke=\"#000000\" stroke-opacity=\"1\" stroke-width=\"5.12\"/>\n",
       "<path clip-path=\"url(#clip550)\" d=\"M488.658 1664.76 L470.559 1657.25 L463.058 1639.16 L470.559 1621.06 L488.658 1613.56 L506.757 1621.06 L514.258 1639.16 L506.757 1657.25 Z\" fill=\"#ac8d18\" fill-rule=\"evenodd\" fill-opacity=\"1\" stroke=\"#000000\" stroke-opacity=\"1\" stroke-width=\"5.12\"/>\n",
       "<path clip-path=\"url(#clip550)\" d=\"M488.658 1664.76 L470.559 1657.25 L463.058 1639.16 L470.559 1621.06 L488.658 1613.56 L506.757 1621.06 L514.258 1639.16 L506.757 1657.25 Z\" fill=\"#ac8d18\" fill-rule=\"evenodd\" fill-opacity=\"1\" stroke=\"#000000\" stroke-opacity=\"1\" stroke-width=\"5.12\"/>\n",
       "<path clip-path=\"url(#clip550)\" d=\"M 0 0 M607.41 1674.37 L607.41 1629.71 Q607.41 1627.93 608.37 1627.93 Q609.331 1627.93 609.331 1629.36 L609.331 1674.02 Q609.331 1675.8 608.37 1675.8 Q607.41 1675.8 607.41 1674.37 Z\" fill=\"#000000\" fill-rule=\"evenodd\" fill-opacity=\"1\" /><path clip-path=\"url(#clip550)\" d=\"M 0 0 M627.206 1663.22 L627.206 1656.9 Q627.206 1656.36 627.229 1656.17 Q627.252 1655.99 627.393 1655.85 Q627.533 1655.71 627.814 1655.71 Q628.142 1655.71 628.26 1655.85 Q628.4 1655.99 628.494 1656.53 Q629.22 1659.83 630.766 1661.58 Q632.335 1663.32 635.169 1663.32 Q637.863 1663.32 639.221 1662.12 Q640.58 1660.93 640.58 1658.96 Q640.58 1655.45 635.591 1654.56 Q632.71 1653.97 631.515 1653.6 Q630.321 1653.2 629.267 1652.33 Q627.206 1650.65 627.206 1648.26 Q627.206 1645.87 629.009 1644.11 Q630.836 1642.35 634.865 1642.35 Q637.558 1642.35 639.385 1643.71 Q639.924 1643.29 640.205 1642.94 Q640.837 1642.35 641.165 1642.35 Q641.54 1642.35 641.61 1642.61 Q641.681 1642.85 641.681 1643.53 L641.681 1648.35 Q641.681 1648.89 641.657 1649.08 Q641.634 1649.26 641.493 1649.4 Q641.353 1649.52 641.048 1649.52 Q640.509 1649.52 640.486 1649.08 Q640.111 1643.27 634.865 1643.27 Q632.031 1643.27 630.766 1644.37 Q629.501 1645.45 629.501 1646.92 Q629.501 1647.74 629.876 1648.37 Q630.274 1648.98 630.766 1649.36 Q631.281 1649.71 632.218 1650.06 Q633.155 1650.39 633.717 1650.51 Q634.303 1650.62 635.403 1650.86 Q639.245 1651.58 640.861 1653.15 Q642.875 1655.17 642.875 1657.72 Q642.875 1660.55 640.954 1662.47 Q639.034 1664.4 635.169 1664.4 Q632.054 1664.4 629.876 1662.31 Q629.595 1662.59 629.384 1662.85 Q629.173 1663.08 629.079 1663.18 Q629.009 1663.27 628.986 1663.34 Q628.962 1663.39 628.915 1663.43 Q627.955 1664.4 627.721 1664.4 Q627.346 1664.4 627.276 1664.14 Q627.206 1663.9 627.206 1663.22 Z\" fill=\"#000000\" fill-rule=\"evenodd\" fill-opacity=\"1\" /><path clip-path=\"url(#clip550)\" d=\"M 0 0 M645.899 1663.86 L645.899 1662.38 Q648.452 1662.38 649.038 1662.08 Q649.624 1661.75 649.624 1660.2 L649.624 1647.3 Q649.624 1645.52 649.015 1645.1 Q648.429 1644.67 646.087 1644.67 L646.087 1643.17 L652.786 1642.66 L652.786 1660.25 Q652.786 1661.68 653.301 1662.03 Q653.816 1662.38 656.158 1662.38 L656.158 1663.86 Q651.263 1663.72 651.169 1663.72 Q650.514 1663.72 645.899 1663.86 M647.914 1634.3 Q647.914 1633.34 648.64 1632.56 Q649.389 1631.77 650.443 1631.77 Q651.497 1631.77 652.247 1632.49 Q652.996 1633.2 652.996 1634.32 Q652.996 1635.42 652.247 1636.15 Q651.497 1636.85 650.443 1636.85 Q649.342 1636.85 648.616 1636.08 Q647.914 1635.3 647.914 1634.3 Z\" fill=\"#000000\" fill-rule=\"evenodd\" fill-opacity=\"1\" /><path clip-path=\"url(#clip550)\" d=\"M 0 0 M659.05 1663.86 L659.05 1662.38 Q661.603 1662.38 662.189 1662.08 Q662.774 1661.75 662.774 1660.2 L662.774 1647.34 Q662.774 1645.56 662.142 1645.12 Q661.533 1644.67 659.05 1644.67 L659.05 1643.17 L665.796 1642.66 L665.796 1647.7 Q668.044 1642.66 672.893 1642.66 Q676.5 1642.66 677.928 1644.44 Q678.982 1645.63 679.193 1646.97 Q679.428 1648.3 679.428 1651.77 L679.428 1660.93 Q679.474 1661.94 680.247 1662.17 Q681.02 1662.38 683.175 1662.38 L683.175 1663.86 Q678.28 1663.72 677.788 1663.72 Q677.413 1663.72 672.377 1663.86 L672.377 1662.38 Q674.93 1662.38 675.516 1662.08 Q676.125 1661.75 676.125 1660.2 L676.125 1649.03 Q676.125 1646.59 675.375 1645.17 Q674.626 1643.71 672.565 1643.71 Q670.082 1643.71 668.091 1645.8 Q666.1 1647.88 666.1 1651.4 L666.1 1660.2 Q666.1 1661.75 666.686 1662.08 Q667.295 1662.38 669.824 1662.38 L669.824 1663.86 Q664.929 1663.72 664.461 1663.72 Q664.086 1663.72 659.05 1663.86 Z\" fill=\"#000000\" fill-rule=\"evenodd\" fill-opacity=\"1\" /><path clip-path=\"url(#clip550)\" d=\"M 0 0 M709.289 1645.82 Q709.289 1647.13 708.469 1647.88 Q707.649 1648.61 706.712 1648.61 Q705.822 1648.61 705.354 1648.09 Q704.885 1647.58 704.885 1646.92 Q704.885 1646.03 705.541 1645.26 Q706.197 1644.49 707.181 1644.32 Q706.22 1643.71 704.791 1643.71 Q703.855 1643.71 703.035 1644.21 Q702.238 1644.7 701.747 1645.33 Q701.278 1645.96 700.856 1646.88 Q700.458 1647.77 700.294 1648.3 Q700.154 1648.82 700.037 1649.38 L698.397 1655.94 Q697.601 1659.05 697.601 1660.16 Q697.601 1661.51 698.257 1662.43 Q698.912 1663.32 700.224 1663.32 Q700.739 1663.32 701.325 1663.18 Q701.91 1663.01 702.66 1662.59 Q703.433 1662.15 704.112 1661.49 Q704.815 1660.81 705.494 1659.66 Q706.173 1658.52 706.618 1657.04 Q706.759 1656.53 707.227 1656.53 Q707.813 1656.53 707.813 1656.99 Q707.813 1657.39 707.485 1658.24 Q707.181 1659.05 706.501 1660.13 Q705.845 1661.19 704.979 1662.15 Q704.112 1663.08 702.824 1663.74 Q701.536 1664.4 700.13 1664.4 Q698.116 1664.4 696.781 1663.32 Q695.446 1662.24 694.954 1660.74 Q694.837 1660.95 694.673 1661.23 Q694.509 1661.51 694.017 1662.15 Q693.549 1662.76 693.01 1663.22 Q692.471 1663.67 691.628 1664.02 Q690.808 1664.4 689.918 1664.4 Q688.794 1664.4 687.787 1664.07 Q686.803 1663.74 686.1 1662.99 Q685.398 1662.24 685.398 1661.21 Q685.398 1660.06 686.171 1659.27 Q686.967 1658.45 688.044 1658.45 Q688.724 1658.45 689.262 1658.84 Q689.824 1659.24 689.824 1660.11 Q689.824 1661.07 689.169 1661.8 Q688.513 1662.52 687.576 1662.71 Q688.536 1663.32 689.965 1663.32 Q691.511 1663.32 692.729 1661.96 Q693.947 1660.6 694.532 1658.33 Q695.985 1652.87 696.547 1650.44 Q697.109 1647.98 697.109 1646.92 Q697.109 1645.94 696.851 1645.26 Q696.594 1644.58 696.149 1644.28 Q695.727 1643.95 695.329 1643.83 Q694.954 1643.71 694.532 1643.71 Q693.83 1643.71 693.033 1643.99 Q692.26 1644.28 691.324 1644.93 Q690.41 1645.56 689.543 1646.88 Q688.677 1648.19 688.091 1649.99 Q687.974 1650.53 687.459 1650.53 Q686.897 1650.51 686.897 1650.04 Q686.897 1649.64 687.201 1648.82 Q687.529 1647.98 688.185 1646.92 Q688.864 1645.87 689.731 1644.93 Q690.621 1643.97 691.909 1643.32 Q693.221 1642.66 694.626 1642.66 Q695.258 1642.66 695.867 1642.8 Q696.5 1642.92 697.249 1643.27 Q698.022 1643.62 698.702 1644.39 Q699.381 1645.17 699.802 1646.29 Q700.084 1645.75 700.458 1645.24 Q700.856 1644.72 701.465 1644.09 Q702.098 1643.43 702.964 1643.06 Q703.855 1642.66 704.838 1642.66 Q705.799 1642.66 706.735 1642.92 Q707.672 1643.15 708.469 1643.92 Q709.289 1644.67 709.289 1645.82 Z\" fill=\"#000000\" fill-rule=\"evenodd\" fill-opacity=\"1\" /><path clip-path=\"url(#clip550)\" d=\"M 0 0 M712.557 1674.37 L712.557 1629.71 Q712.557 1627.93 713.517 1627.93 Q714.478 1627.93 714.478 1629.36 L714.478 1674.02 Q714.478 1675.8 713.517 1675.8 Q712.557 1675.8 712.557 1674.37 Z\" fill=\"#000000\" fill-rule=\"evenodd\" fill-opacity=\"1\" /><path clip-path=\"url(#clip550)\" d=\"M 0 0 M719.572 1611.7 L720.67 1604.8 L721.506 1604.8 Q721.605 1605.21 721.769 1605.39 Q721.949 1605.57 722.9 1605.71 Q723.867 1605.86 725.818 1605.86 L733.967 1605.86 Q733.967 1606.63 733.672 1607.04 L729.13 1613.42 Q727.687 1615.44 727.048 1619.16 Q726.671 1621.65 726.687 1624.67 L726.687 1626.37 Q726.687 1628.23 725.13 1628.23 Q723.589 1628.23 723.589 1626.37 Q723.589 1619.96 727.72 1613.75 Q728.163 1613.11 729.786 1610.83 Q731.426 1608.55 731.491 1608.45 L724.54 1608.45 Q721.49 1608.45 721.244 1608.65 Q720.916 1608.94 720.408 1611.7 L719.572 1611.7 Z\" fill=\"#000000\" fill-rule=\"evenodd\" fill-opacity=\"1\" /><path clip-path=\"url(#clip550)\" d=\"M 0 0 M736.197 1635.41 Q736.197 1635.24 736.328 1634.88 L748.182 1603.21 Q748.182 1603.17 748.264 1602.99 Q748.346 1602.81 748.395 1602.7 Q748.444 1602.57 748.543 1602.47 Q748.657 1602.37 748.789 1602.37 Q749.116 1602.37 749.116 1602.78 Q749.116 1602.81 749.018 1603.21 L737.131 1634.91 Q736.934 1635.49 736.803 1635.65 Q736.688 1635.82 736.492 1635.82 Q736.197 1635.82 736.197 1635.41 Z\" fill=\"#000000\" fill-rule=\"evenodd\" fill-opacity=\"1\" /><path clip-path=\"url(#clip550)\" d=\"M 0 0 M752.822 1622.96 Q752.822 1621.96 753.395 1621.49 Q753.969 1621.01 754.707 1621.01 Q755.478 1621.01 756.019 1621.52 Q756.576 1622.01 756.576 1622.88 Q756.576 1623.81 755.92 1624.34 Q755.281 1624.86 754.363 1624.73 Q755.166 1626.08 756.642 1626.68 Q758.134 1627.29 759.511 1627.29 Q760.954 1627.29 762.118 1626.04 Q763.298 1624.8 763.298 1621.75 Q763.298 1619.16 762.282 1617.67 Q761.282 1616.17 759.298 1616.17 L757.822 1616.17 Q757.314 1616.17 757.166 1616.13 Q757.019 1616.08 757.019 1615.8 Q757.019 1615.47 757.527 1615.4 Q758.035 1615.4 758.839 1615.31 Q760.79 1615.24 761.823 1613.55 Q762.757 1611.98 762.757 1609.73 Q762.757 1607.68 761.774 1606.83 Q760.806 1605.96 759.544 1605.96 Q758.363 1605.96 757.068 1606.45 Q755.773 1606.94 755.068 1608.04 Q757.15 1608.04 757.15 1609.73 Q757.15 1610.47 756.675 1610.96 Q756.216 1611.44 755.445 1611.44 Q754.707 1611.44 754.215 1610.98 Q753.723 1610.5 753.723 1609.7 Q753.723 1607.78 755.429 1606.45 Q757.15 1605.12 759.675 1605.12 Q762.167 1605.12 764.003 1606.44 Q765.856 1607.75 765.856 1609.76 Q765.856 1611.75 764.545 1613.37 Q763.233 1614.99 761.151 1615.67 Q763.708 1616.17 765.233 1617.91 Q766.758 1619.63 766.758 1621.75 Q766.758 1624.37 764.692 1626.31 Q762.626 1628.23 759.609 1628.23 Q756.822 1628.23 754.822 1626.72 Q752.822 1625.21 752.822 1622.96 Z\" fill=\"#000000\" fill-rule=\"evenodd\" fill-opacity=\"1\" /><polyline clip-path=\"url(#clip550)\" style=\"stroke:#ed5d92; stroke-width:4; stroke-opacity:1; fill:none\" points=\"\n",
       "  399.595,1699.64 577.722,1699.64 \n",
       "  \"/>\n",
       "<path clip-path=\"url(#clip550)\" d=\"M488.658 1725.24 L470.559 1717.73 L463.058 1699.64 L470.559 1681.54 L488.658 1674.04 L506.757 1681.54 L514.258 1699.64 L506.757 1717.73 Z\" fill=\"#ed5d92\" fill-rule=\"evenodd\" fill-opacity=\"1\" stroke=\"#000000\" stroke-opacity=\"1\" stroke-width=\"5.12\"/>\n",
       "<path clip-path=\"url(#clip550)\" d=\"M488.658 1725.24 L470.559 1717.73 L463.058 1699.64 L470.559 1681.54 L488.658 1674.04 L506.757 1681.54 L514.258 1699.64 L506.757 1717.73 Z\" fill=\"#ed5d92\" fill-rule=\"evenodd\" fill-opacity=\"1\" stroke=\"#000000\" stroke-opacity=\"1\" stroke-width=\"5.12\"/>\n",
       "<path clip-path=\"url(#clip550)\" d=\"M488.658 1725.24 L470.559 1717.73 L463.058 1699.64 L470.559 1681.54 L488.658 1674.04 L506.757 1681.54 L514.258 1699.64 L506.757 1717.73 Z\" fill=\"#ed5d92\" fill-rule=\"evenodd\" fill-opacity=\"1\" stroke=\"#000000\" stroke-opacity=\"1\" stroke-width=\"5.12\"/>\n",
       "<path clip-path=\"url(#clip550)\" d=\"M488.658 1725.24 L470.559 1717.73 L463.058 1699.64 L470.559 1681.54 L488.658 1674.04 L506.757 1681.54 L514.258 1699.64 L506.757 1717.73 Z\" fill=\"#ed5d92\" fill-rule=\"evenodd\" fill-opacity=\"1\" stroke=\"#000000\" stroke-opacity=\"1\" stroke-width=\"5.12\"/>\n",
       "<path clip-path=\"url(#clip550)\" d=\"M488.658 1725.24 L470.559 1717.73 L463.058 1699.64 L470.559 1681.54 L488.658 1674.04 L506.757 1681.54 L514.258 1699.64 L506.757 1717.73 Z\" fill=\"#ed5d92\" fill-rule=\"evenodd\" fill-opacity=\"1\" stroke=\"#000000\" stroke-opacity=\"1\" stroke-width=\"5.12\"/>\n",
       "<path clip-path=\"url(#clip550)\" d=\"M488.658 1725.24 L470.559 1717.73 L463.058 1699.64 L470.559 1681.54 L488.658 1674.04 L506.757 1681.54 L514.258 1699.64 L506.757 1717.73 Z\" fill=\"#ed5d92\" fill-rule=\"evenodd\" fill-opacity=\"1\" stroke=\"#000000\" stroke-opacity=\"1\" stroke-width=\"5.12\"/>\n",
       "<path clip-path=\"url(#clip550)\" d=\"M488.658 1725.24 L470.559 1717.73 L463.058 1699.64 L470.559 1681.54 L488.658 1674.04 L506.757 1681.54 L514.258 1699.64 L506.757 1717.73 Z\" fill=\"#ed5d92\" fill-rule=\"evenodd\" fill-opacity=\"1\" stroke=\"#000000\" stroke-opacity=\"1\" stroke-width=\"5.12\"/>\n",
       "<path clip-path=\"url(#clip550)\" d=\"M488.658 1725.24 L470.559 1717.73 L463.058 1699.64 L470.559 1681.54 L488.658 1674.04 L506.757 1681.54 L514.258 1699.64 L506.757 1717.73 Z\" fill=\"#ed5d92\" fill-rule=\"evenodd\" fill-opacity=\"1\" stroke=\"#000000\" stroke-opacity=\"1\" stroke-width=\"5.12\"/>\n",
       "<path clip-path=\"url(#clip550)\" d=\"M 0 0 M607.41 1684.13 L607.41 1682.63 Q613.172 1682.63 616.147 1679.56 Q616.966 1679.56 617.107 1679.75 Q617.247 1679.94 617.247 1680.8 L617.247 1707.72 Q617.247 1709.14 617.95 1709.59 Q618.653 1710.03 621.721 1710.03 L623.244 1710.03 L623.244 1711.51 Q621.557 1711.37 615.467 1711.37 Q609.377 1711.37 607.714 1711.51 L607.714 1710.03 L609.237 1710.03 Q612.258 1710.03 612.985 1709.61 Q613.711 1709.17 613.711 1707.72 L613.711 1682.86 Q611.204 1684.13 607.41 1684.13 Z\" fill=\"#000000\" fill-rule=\"evenodd\" fill-opacity=\"1\" /><path clip-path=\"url(#clip550)\" d=\"M 0 0 M631.16 1722.82 Q631.16 1722.59 631.347 1722.07 L648.282 1676.82 Q648.282 1676.77 648.399 1676.52 Q648.516 1676.26 648.586 1676.1 Q648.657 1675.91 648.797 1675.77 Q648.961 1675.63 649.148 1675.63 Q649.617 1675.63 649.617 1676.21 Q649.617 1676.26 649.476 1676.82 L632.495 1722.12 Q632.214 1722.94 632.027 1723.17 Q631.863 1723.41 631.582 1723.41 Q631.16 1723.41 631.16 1722.82 Z\" fill=\"#000000\" fill-rule=\"evenodd\" fill-opacity=\"1\" /><path clip-path=\"url(#clip550)\" d=\"M 0 0 M654.91 1699.52 Q654.91 1691.41 657.931 1684.88 Q659.22 1682.14 661.023 1679.84 Q662.827 1677.55 664.021 1676.54 Q665.216 1675.53 665.544 1675.53 Q666.012 1675.53 666.036 1676 Q666.036 1676.24 665.403 1676.82 Q657.674 1684.69 657.697 1699.52 Q657.697 1714.39 665.216 1721.96 Q666.036 1722.78 666.036 1723.03 Q666.036 1723.5 665.544 1723.5 Q665.216 1723.5 664.068 1722.54 Q662.92 1721.58 661.14 1719.38 Q659.36 1717.18 658.072 1714.48 Q654.91 1707.95 654.91 1699.52 Z\" fill=\"#000000\" fill-rule=\"evenodd\" fill-opacity=\"1\" /><path clip-path=\"url(#clip550)\" d=\"M 0 0 M678.446 1684.13 L678.446 1682.63 Q684.207 1682.63 687.182 1679.56 Q688.002 1679.56 688.142 1679.75 Q688.283 1679.94 688.283 1680.8 L688.283 1707.72 Q688.283 1709.14 688.986 1709.59 Q689.688 1710.03 692.757 1710.03 L694.279 1710.03 L694.279 1711.51 Q692.593 1711.37 686.503 1711.37 Q680.413 1711.37 678.75 1711.51 L678.75 1710.03 L680.272 1710.03 Q683.294 1710.03 684.02 1709.61 Q684.746 1709.17 684.746 1707.72 L684.746 1682.86 Q682.24 1684.13 678.446 1684.13 Z\" fill=\"#000000\" fill-rule=\"evenodd\" fill-opacity=\"1\" /><path clip-path=\"url(#clip550)\" d=\"M 0 0 M710.901 1700.1 Q709.8 1700.1 709.8 1699.52 Q709.8 1698.93 710.947 1698.93 Q711.088 1698.93 711.322 1698.96 Q711.58 1698.98 711.627 1698.98 L725.141 1698.98 L725.141 1685.42 Q725.141 1685.37 725.118 1685.16 Q725.095 1684.93 725.095 1684.79 Q725.095 1683.64 725.657 1683.64 Q726.242 1683.64 726.242 1684.79 L726.242 1698.98 L739.78 1698.98 Q739.827 1698.98 740.062 1698.96 Q740.296 1698.93 740.436 1698.93 Q741.537 1698.93 741.537 1699.52 Q741.561 1700.1 740.389 1700.1 Q740.249 1700.1 740.038 1700.08 Q739.827 1700.06 739.78 1700.06 L726.242 1700.06 L726.242 1714.3 Q726.242 1715.4 725.657 1715.4 Q725.095 1715.4 725.095 1714.25 Q725.095 1714.11 725.118 1713.88 Q725.141 1713.67 725.141 1713.62 L725.141 1700.06 L711.627 1700.06 Q711.58 1700.06 711.299 1700.08 Q711.041 1700.1 710.901 1700.1 Z\" fill=\"#000000\" fill-rule=\"evenodd\" fill-opacity=\"1\" /><path clip-path=\"url(#clip550)\" d=\"M 0 0 M754.351 1700.95 Q754.351 1696.43 757.255 1693.22 Q760.16 1690.01 764.329 1690.01 Q768.545 1690.01 770.723 1692.75 Q772.925 1695.49 772.925 1699.42 Q772.925 1700.15 772.738 1700.29 Q772.55 1700.43 771.73 1700.43 L758.333 1700.43 Q758.333 1705.33 759.785 1707.62 Q761.799 1710.83 765.196 1710.83 Q765.664 1710.83 766.226 1710.74 Q766.788 1710.64 767.936 1710.25 Q769.084 1709.82 770.091 1708.72 Q771.098 1707.62 771.684 1705.89 Q771.824 1705.21 772.293 1705.23 Q772.925 1705.23 772.925 1705.8 Q772.925 1706.22 772.457 1707.18 Q772.012 1708.11 771.145 1709.24 Q770.278 1710.36 768.592 1711.21 Q766.929 1712.05 764.915 1712.05 Q760.699 1712.05 757.513 1708.86 Q754.351 1705.65 754.351 1700.95 M758.38 1699.42 L769.763 1699.42 Q769.763 1698.42 769.576 1697.29 Q769.412 1696.17 768.896 1694.62 Q768.404 1693.05 767.233 1692.07 Q766.062 1691.09 764.329 1691.09 Q763.556 1691.09 762.713 1691.41 Q761.893 1691.74 760.886 1692.54 Q759.879 1693.33 759.176 1695.14 Q758.473 1696.94 758.38 1699.42 Z\" fill=\"#000000\" fill-rule=\"evenodd\" fill-opacity=\"1\" /><path clip-path=\"url(#clip550)\" d=\"M 0 0 M775.278 1711.51 L775.278 1710.03 Q779.025 1710.03 781.414 1707.15 Q781.414 1707.15 785.911 1701.44 L781.157 1695.26 Q779.47 1693.1 778.721 1692.73 Q777.995 1692.33 775.512 1692.33 L775.512 1690.83 Q777.479 1690.97 780.056 1690.97 Q781.484 1690.97 785.255 1690.83 L785.255 1692.33 Q783.569 1692.42 783.569 1693.52 Q783.569 1693.9 783.991 1694.39 L787.738 1699.24 L790.713 1695.49 Q791.439 1694.62 791.439 1693.8 Q791.439 1692.47 790.034 1692.33 L790.034 1690.83 Q791.907 1690.97 794.648 1690.97 Q796.709 1690.97 798.583 1690.83 L798.583 1692.33 Q794.929 1692.42 792.868 1694.81 Q791.954 1695.82 788.464 1700.24 L794.882 1708.54 Q795.655 1709.54 796.522 1709.8 Q797.388 1710.03 799.449 1710.03 L799.449 1711.51 Q797.295 1711.37 794.835 1711.37 Q793.969 1711.37 789.659 1711.51 L789.659 1710.03 Q790.526 1709.99 790.947 1709.61 Q791.392 1709.21 791.392 1708.82 Q791.392 1708.63 790.385 1707.25 L786.731 1702.45 Q783.077 1706.76 782.609 1707.76 Q782.421 1708.18 782.421 1708.54 Q782.421 1709.82 783.803 1710.03 L783.803 1711.51 Q780.36 1711.37 779.259 1711.37 Q777.151 1711.37 775.278 1711.51 Z\" fill=\"#000000\" fill-rule=\"evenodd\" fill-opacity=\"1\" /><path clip-path=\"url(#clip550)\" d=\"M 0 0 M800.303 1719.33 Q802.856 1719.33 803.442 1719.01 Q804.051 1718.7 804.051 1717.18 L804.051 1694.72 Q804.051 1693.12 803.442 1692.73 Q802.856 1692.33 800.303 1692.33 L800.303 1690.83 L807.213 1690.31 L807.213 1693.48 Q810.094 1690.31 813.935 1690.31 Q818.011 1690.31 820.985 1693.48 Q823.96 1696.64 823.96 1701.16 Q823.96 1705.72 820.798 1708.89 Q817.636 1712.05 813.256 1712.05 Q810.867 1712.05 809.251 1710.83 Q807.658 1709.59 807.353 1708.68 L807.353 1709.12 L807.353 1717.18 Q807.353 1718.72 807.962 1719.03 Q808.571 1719.33 811.101 1719.33 L811.101 1720.81 Q806.065 1720.67 805.69 1720.67 Q805.222 1720.67 800.303 1720.81 L800.303 1719.33 M807.353 1706.05 Q807.353 1706.78 807.447 1707.04 Q807.564 1707.29 808.033 1708.07 Q809.93 1710.97 813.022 1710.97 Q813.045 1710.97 813.068 1710.97 Q815.809 1710.97 817.893 1708.18 Q819.978 1705.37 819.978 1701.16 Q819.978 1697.13 818.081 1694.32 Q816.184 1691.51 813.56 1691.51 Q811.686 1691.51 810.047 1692.51 Q808.407 1693.52 807.353 1695.35 L807.353 1706.05 Z\" fill=\"#000000\" fill-rule=\"evenodd\" fill-opacity=\"1\" /><path clip-path=\"url(#clip550)\" d=\"M 0 0 M826.651 1699.52 Q826.651 1691.41 829.672 1684.88 Q830.961 1682.14 832.764 1679.84 Q834.568 1677.55 835.762 1676.54 Q836.957 1675.53 837.285 1675.53 Q837.753 1675.53 837.776 1676 Q837.776 1676.24 837.144 1676.82 Q829.415 1684.69 829.438 1699.52 Q829.438 1714.39 836.957 1721.96 Q837.776 1722.78 837.776 1723.03 Q837.776 1723.5 837.285 1723.5 Q836.957 1723.5 835.809 1722.54 Q834.661 1721.58 832.881 1719.38 Q831.101 1717.18 829.813 1714.48 Q826.651 1707.95 826.651 1699.52 Z\" fill=\"#000000\" fill-rule=\"evenodd\" fill-opacity=\"1\" /><path clip-path=\"url(#clip550)\" d=\"M 0 0 M845.066 1684.13 L845.066 1682.63 Q850.828 1682.63 853.803 1679.56 Q854.623 1679.56 854.763 1679.75 Q854.904 1679.94 854.904 1680.8 L854.904 1707.72 Q854.904 1709.14 855.606 1709.59 Q856.309 1710.03 859.377 1710.03 L860.9 1710.03 L860.9 1711.51 Q859.214 1711.37 853.124 1711.37 Q847.034 1711.37 845.371 1711.51 L845.371 1710.03 L846.893 1710.03 Q849.915 1710.03 850.641 1709.61 Q851.367 1709.17 851.367 1707.72 L851.367 1682.86 Q848.861 1684.13 845.066 1684.13 Z\" fill=\"#000000\" fill-rule=\"evenodd\" fill-opacity=\"1\" /><path clip-path=\"url(#clip550)\" d=\"M 0 0 M864.91 1696.17 Q864.91 1689.12 866.69 1685.28 Q869.173 1679.56 875.029 1679.56 Q876.27 1679.56 877.558 1679.91 Q878.87 1680.24 880.509 1681.53 Q882.172 1682.82 883.18 1684.93 Q885.1 1689 885.1 1696.17 Q885.1 1703.17 883.32 1706.99 Q880.72 1712.56 874.982 1712.56 Q872.827 1712.56 870.625 1711.46 Q868.447 1710.36 867.065 1707.72 Q864.91 1703.76 864.91 1696.17 M868.892 1695.58 Q868.892 1702.82 869.407 1705.7 Q869.993 1708.82 871.586 1710.18 Q873.202 1711.51 874.982 1711.51 Q876.902 1711.51 878.495 1710.08 Q880.111 1708.63 880.603 1705.51 Q881.142 1702.45 881.118 1695.58 Q881.118 1688.91 880.65 1686.24 Q880.018 1683.12 878.331 1681.88 Q876.668 1680.62 874.982 1680.62 Q874.349 1680.62 873.67 1680.8 Q873.014 1680.99 872.054 1681.53 Q871.094 1682.07 870.344 1683.4 Q869.618 1684.74 869.267 1686.75 Q868.892 1689.35 868.892 1695.58 Z\" fill=\"#000000\" fill-rule=\"evenodd\" fill-opacity=\"1\" /><path clip-path=\"url(#clip550)\" d=\"M 0 0 M888.66 1710.88 L888.66 1704.55 Q888.66 1704.02 888.684 1703.83 Q888.707 1703.64 888.847 1703.5 Q888.988 1703.36 889.269 1703.36 Q889.597 1703.36 889.714 1703.5 Q889.855 1703.64 889.948 1704.18 Q890.674 1707.48 892.22 1709.24 Q893.79 1710.97 896.624 1710.97 Q899.317 1710.97 900.676 1709.78 Q902.034 1708.58 902.034 1706.62 Q902.034 1703.1 897.045 1702.21 Q894.164 1701.63 892.97 1701.25 Q891.775 1700.85 890.721 1699.99 Q888.66 1698.3 888.66 1695.91 Q888.66 1693.52 890.464 1691.77 Q892.291 1690.01 896.319 1690.01 Q899.013 1690.01 900.84 1691.37 Q901.378 1690.95 901.66 1690.59 Q902.292 1690.01 902.62 1690.01 Q902.995 1690.01 903.065 1690.27 Q903.135 1690.5 903.135 1691.18 L903.135 1696 Q903.135 1696.54 903.112 1696.73 Q903.088 1696.92 902.948 1697.06 Q902.807 1697.18 902.503 1697.18 Q901.964 1697.18 901.941 1696.73 Q901.566 1690.92 896.319 1690.92 Q893.485 1690.92 892.22 1692.02 Q890.956 1693.1 890.956 1694.58 Q890.956 1695.4 891.33 1696.03 Q891.728 1696.64 892.22 1697.01 Q892.736 1697.36 893.673 1697.71 Q894.609 1698.04 895.172 1698.16 Q895.757 1698.28 896.858 1698.51 Q900.699 1699.24 902.315 1700.81 Q904.33 1702.82 904.33 1705.37 Q904.33 1708.21 902.409 1710.13 Q900.488 1712.05 896.624 1712.05 Q893.509 1712.05 891.33 1709.96 Q891.049 1710.25 890.838 1710.5 Q890.628 1710.74 890.534 1710.83 Q890.464 1710.92 890.44 1711 Q890.417 1711.04 890.37 1711.09 Q889.41 1712.05 889.175 1712.05 Q888.801 1712.05 888.73 1711.79 Q888.66 1711.56 888.66 1710.88 Z\" fill=\"#000000\" fill-rule=\"evenodd\" fill-opacity=\"1\" /><path clip-path=\"url(#clip550)\" d=\"M 0 0 M907.354 1711.51 L907.354 1710.03 Q909.907 1710.03 910.493 1709.73 Q911.078 1709.4 911.078 1707.86 L911.078 1694.95 Q911.078 1693.17 910.469 1692.75 Q909.884 1692.33 907.541 1692.33 L907.541 1690.83 L914.24 1690.31 L914.24 1707.9 Q914.24 1709.33 914.755 1709.68 Q915.271 1710.03 917.613 1710.03 L917.613 1711.51 Q912.718 1711.37 912.624 1711.37 Q911.968 1711.37 907.354 1711.51 M909.368 1681.95 Q909.368 1680.99 910.094 1680.22 Q910.844 1679.42 911.898 1679.42 Q912.952 1679.42 913.701 1680.15 Q914.451 1680.85 914.451 1681.97 Q914.451 1683.08 913.701 1683.8 Q912.952 1684.5 911.898 1684.5 Q910.797 1684.5 910.071 1683.73 Q909.368 1682.96 909.368 1681.95 Z\" fill=\"#000000\" fill-rule=\"evenodd\" fill-opacity=\"1\" /><path clip-path=\"url(#clip550)\" d=\"M 0 0 M920.505 1711.51 L920.505 1710.03 Q923.058 1710.03 923.643 1709.73 Q924.229 1709.4 924.229 1707.86 L924.229 1695 Q924.229 1693.22 923.596 1692.77 Q922.987 1692.33 920.505 1692.33 L920.505 1690.83 L927.25 1690.31 L927.25 1695.35 Q929.499 1690.31 934.347 1690.31 Q937.954 1690.31 939.383 1692.09 Q940.437 1693.29 940.648 1694.62 Q940.882 1695.96 940.882 1699.42 L940.882 1708.58 Q940.929 1709.59 941.702 1709.82 Q942.475 1710.03 944.63 1710.03 L944.63 1711.51 Q939.734 1711.37 939.243 1711.37 Q938.868 1711.37 933.832 1711.51 L933.832 1710.03 Q936.385 1710.03 936.971 1709.73 Q937.58 1709.4 937.58 1707.86 L937.58 1696.68 Q937.58 1694.25 936.83 1692.82 Q936.081 1691.37 934.019 1691.37 Q931.537 1691.37 929.546 1693.45 Q927.555 1695.54 927.555 1699.05 L927.555 1707.86 Q927.555 1709.4 928.14 1709.73 Q928.749 1710.03 931.279 1710.03 L931.279 1711.51 Q926.384 1711.37 925.915 1711.37 Q925.54 1711.37 920.505 1711.51 Z\" fill=\"#000000\" fill-rule=\"evenodd\" fill-opacity=\"1\" /><path clip-path=\"url(#clip550)\" d=\"M 0 0 M946.852 1699.52 Q946.852 1691.41 949.874 1684.88 Q951.162 1682.14 952.966 1679.84 Q954.769 1677.55 955.964 1676.54 Q957.158 1675.53 957.486 1675.53 Q957.954 1675.53 957.978 1676 Q957.978 1676.24 957.345 1676.82 Q949.616 1684.69 949.64 1699.52 Q949.64 1714.39 957.158 1721.96 Q957.978 1722.78 957.978 1723.03 Q957.978 1723.5 957.486 1723.5 Q957.158 1723.5 956.01 1722.54 Q954.863 1721.58 953.083 1719.38 Q951.303 1717.18 950.014 1714.48 Q946.852 1707.95 946.852 1699.52 Z\" fill=\"#000000\" fill-rule=\"evenodd\" fill-opacity=\"1\" /><path clip-path=\"url(#clip550)\" d=\"M 0 0 M989.159 1693.48 Q989.159 1694.79 988.339 1695.54 Q987.519 1696.26 986.582 1696.26 Q985.692 1696.26 985.224 1695.75 Q984.755 1695.23 984.755 1694.58 Q984.755 1693.69 985.411 1692.91 Q986.067 1692.14 987.051 1691.98 Q986.09 1691.37 984.662 1691.37 Q983.725 1691.37 982.905 1691.86 Q982.109 1692.35 981.617 1692.98 Q981.148 1693.62 980.727 1694.53 Q980.328 1695.42 980.164 1695.96 Q980.024 1696.47 979.907 1697.04 L978.267 1703.59 Q977.471 1706.71 977.471 1707.81 Q977.471 1709.17 978.127 1710.08 Q978.783 1710.97 980.094 1710.97 Q980.609 1710.97 981.195 1710.83 Q981.781 1710.67 982.53 1710.25 Q983.303 1709.8 983.982 1709.14 Q984.685 1708.47 985.364 1707.32 Q986.043 1706.17 986.489 1704.69 Q986.629 1704.18 987.097 1704.18 Q987.683 1704.18 987.683 1704.65 Q987.683 1705.05 987.355 1705.89 Q987.051 1706.71 986.371 1707.79 Q985.716 1708.84 984.849 1709.8 Q983.982 1710.74 982.694 1711.39 Q981.406 1712.05 980 1712.05 Q977.986 1712.05 976.651 1710.97 Q975.316 1709.89 974.824 1708.4 Q974.707 1708.61 974.543 1708.89 Q974.379 1709.17 973.887 1709.8 Q973.419 1710.41 972.88 1710.88 Q972.341 1711.32 971.498 1711.67 Q970.678 1712.05 969.788 1712.05 Q968.664 1712.05 967.657 1711.72 Q966.673 1711.39 965.97 1710.64 Q965.268 1709.89 965.268 1708.86 Q965.268 1707.72 966.041 1706.92 Q966.837 1706.1 967.915 1706.1 Q968.594 1706.1 969.132 1706.5 Q969.695 1706.9 969.695 1707.76 Q969.695 1708.72 969.039 1709.45 Q968.383 1710.18 967.446 1710.36 Q968.406 1710.97 969.835 1710.97 Q971.381 1710.97 972.599 1709.61 Q973.817 1708.25 974.403 1705.98 Q975.855 1700.53 976.417 1698.09 Q976.979 1695.63 976.979 1694.58 Q976.979 1693.59 976.721 1692.91 Q976.464 1692.23 976.019 1691.93 Q975.597 1691.6 975.199 1691.48 Q974.824 1691.37 974.403 1691.37 Q973.7 1691.37 972.903 1691.65 Q972.131 1691.93 971.194 1692.58 Q970.28 1693.22 969.414 1694.53 Q968.547 1695.84 967.961 1697.64 Q967.844 1698.18 967.329 1698.18 Q966.767 1698.16 966.767 1697.69 Q966.767 1697.29 967.071 1696.47 Q967.399 1695.63 968.055 1694.58 Q968.734 1693.52 969.601 1692.58 Q970.491 1691.62 971.779 1690.97 Q973.091 1690.31 974.496 1690.31 Q975.129 1690.31 975.738 1690.45 Q976.37 1690.57 977.12 1690.92 Q977.892 1691.27 978.572 1692.05 Q979.251 1692.82 979.673 1693.94 Q979.954 1693.4 980.328 1692.89 Q980.727 1692.37 981.336 1691.74 Q981.968 1691.09 982.835 1690.71 Q983.725 1690.31 984.708 1690.31 Q985.669 1690.31 986.606 1690.57 Q987.543 1690.8 988.339 1691.58 Q989.159 1692.33 989.159 1693.48 Z\" fill=\"#000000\" fill-rule=\"evenodd\" fill-opacity=\"1\" /><path clip-path=\"url(#clip550)\" d=\"M 0 0 M992.427 1723.03 Q992.427 1722.8 993.036 1722.21 Q1000.77 1714.34 1000.77 1699.52 Q1000.77 1684.64 993.341 1677.13 Q992.427 1676.26 992.427 1676 Q992.427 1675.53 992.896 1675.53 Q993.224 1675.53 994.371 1676.49 Q995.542 1677.45 997.299 1679.66 Q999.079 1681.86 1000.39 1684.55 Q1003.55 1691.09 1003.55 1699.52 Q1003.55 1707.62 1000.53 1714.16 Q999.243 1716.9 997.44 1719.19 Q995.636 1721.49 994.442 1722.5 Q993.247 1723.5 992.896 1723.5 Q992.427 1723.5 992.427 1723.03 Z\" fill=\"#000000\" fill-rule=\"evenodd\" fill-opacity=\"1\" /><path clip-path=\"url(#clip550)\" d=\"M 0 0 M1010.84 1723.03 Q1010.84 1722.8 1011.45 1722.21 Q1019.18 1714.34 1019.18 1699.52 Q1019.18 1684.64 1011.76 1677.13 Q1010.84 1676.26 1010.84 1676 Q1010.84 1675.53 1011.31 1675.53 Q1011.64 1675.53 1012.79 1676.49 Q1013.96 1677.45 1015.71 1679.66 Q1017.49 1681.86 1018.81 1684.55 Q1021.97 1691.09 1021.97 1699.52 Q1021.97 1707.62 1018.95 1714.16 Q1017.66 1716.9 1015.86 1719.19 Q1014.05 1721.49 1012.86 1722.5 Q1011.66 1723.5 1011.31 1723.5 Q1010.84 1723.5 1010.84 1723.03 Z\" fill=\"#000000\" fill-rule=\"evenodd\" fill-opacity=\"1\" /><path clip-path=\"url(#clip550)\" d=\"M 0 0 M1026.98 1723.03 Q1026.98 1722.8 1027.59 1722.21 Q1035.32 1714.34 1035.32 1699.52 Q1035.32 1684.64 1027.89 1677.13 Q1026.98 1676.26 1026.98 1676 Q1026.98 1675.53 1027.45 1675.53 Q1027.77 1675.53 1028.92 1676.49 Q1030.09 1677.45 1031.85 1679.66 Q1033.63 1681.86 1034.94 1684.55 Q1038.1 1691.09 1038.1 1699.52 Q1038.1 1707.62 1035.08 1714.16 Q1033.79 1716.9 1031.99 1719.19 Q1030.19 1721.49 1028.99 1722.5 Q1027.8 1723.5 1027.45 1723.5 Q1026.98 1723.5 1026.98 1723.03 Z\" fill=\"#000000\" fill-rule=\"evenodd\" fill-opacity=\"1\" /></svg>\n"
      ]
     },
     "execution_count": 76,
     "metadata": {},
     "output_type": "execute_result"
    }
   ],
   "source": [
    "f = x -> abs(sin(x))\n",
    "NN = 4:2:18\n",
    "xerr = range(0, 2*pi, length=10_000)\n",
    "Err = [ norm(f.(xerr) - eval_trig(f, N, xerr), Inf) for N in NN ]\n",
    "println(\"Rate for |sin x|: error ~ 0.5(logN)/N^1.3\")\n",
    "plot(NN, Err, lw=2, label = L\"|\\sin x|\", ms=5, m=:o, size = (500, 250), yscale = :log10, \n",
    "     xlabel = \"N\", ylabel = \"error\")\n",
    "plot!(NN[4:end],  0.5 ./ (NN[4:end].^1.3) .* log.(NN[4:end]), lw=2, c=:black, ls = :dash, label = \"\")\n",
    "\n",
    "f = x -> abs(sin(x))^5\n",
    "Err = [ norm(f.(xerr) - eval_trig(f, N, xerr), Inf) for N in NN ]\n",
    "println(\"Rate for |sin x|^5: error ~ 40 (logN)/ N^5.7\")\n",
    "plot!(NN, Err, lw=2, label = L\"|\\sin x|^5\", ms=5, m=:o, yscale = :log10, \n",
    "     xlabel = \"N\", ylabel = \"error\")\n",
    "plot!(NN[4:end], 40 ./ (NN[4:end].^5.7) .* log.(NN[4:end]), lw=2, c=:black, ls = :dash, label = \"\")\n",
    "\n",
    "f = x -> abs(sin(x))^(7/3)\n",
    "Err = [ norm(f.(xerr) - eval_trig(f, N, xerr), Inf) for N in NN ]\n",
    "println(\"Rate for |sin x|^(7/3): error ~ 0.4 (logN)/N^2.7\")\n",
    "plot!(NN, Err, lw=2, label = L\"|\\sin x|^{7/3}\", ms=5, m=:o, yscale = :log10, \n",
    "     xlabel = \"N\", ylabel = \"error\")\n",
    "plot!(NN[4:end], 0.4 ./ (NN[4:end].^2.7) .* log.(NN[4:end]), lw=2, c=:black, ls = :dash, label = \"\")\n",
    "\n",
    "f = x -> 1/ (1 + exp(10*sin(x)))\n",
    "Err = [ norm(f.(xerr) - eval_trig(f, N, xerr), Inf) for N in NN ]\n",
    "println(\"Rate for 1/ (1 + exp(10 sin(x))): error ~ exp(- 0.3 N)\")\n",
    "plot!(NN, Err, lw=2, label = L\"1/ \\left( 1 + \\exp(10 \\sin(x))\\right)\", ms=5, m=:o, size = (750, 500), yscale = :log10, \n",
    "     xlabel = \"N\", ylabel = \"error\", legend=:bottomleft)\n",
    "plot!(NN[5:end], exp.(- 0.3 * NN[5:end]), lw=2, c=:black, ls = :dash, label = \"\")"
   ]
  },
  {
   "cell_type": "markdown",
   "metadata": {
    "deletable": false,
    "editable": false,
    "nbgrader": {
     "cell_type": "markdown",
     "checksum": "a7598da98118af1c86b2a79d1a6e1ed8",
     "grade": false,
     "grade_id": "cell-e78aa8aa9bd19829",
     "locked": true,
     "schema_version": 3,
     "solution": false,
     "task": false
    }
   },
   "source": [
    "<a name = 'q2'></a>\n",
    "\n",
    "\n",
    "\n",
    "### Question 2: Periodic Trapezoidal Rule  [3 + 5 + 3 + 4]\n",
    "\n",
    "Let $f : \\mathbb{R} \\to \\mathbb{R}$ be continuous and $2\\pi$-periodic, then we can represent it in terms of its Fourier series, \n",
    "$$ \n",
    "    f(x) = \\sum_{k \\in \\mathbb{Z}} \\hat{f}_k e^{i k x}.\n",
    "$$\n",
    "We are interested in approximating the integral \n",
    "$$\n",
    "    I := \\int_{-\\pi}^\\pi f(x) \\,dx \n",
    "$$\n",
    "by the trapezoidal rule \n",
    "$$\n",
    "    I_N := \\frac{2\\pi}{2N} \\sum_{n = -N+1}^N f\\big(n\\pi/N\\big).\n",
    "$$\n",
    "In the following tasks you may interchange limits freely without rigorous justification, in particular summation and integration.\n",
    "\n",
    "(a) Prove that $I = 2 \\pi \\hat{f}_0$.\n",
    "\n",
    "(b) Prove that \n",
    "$$\n",
    "    \\sum_{n = -N+1}^N e^{i k \\pi n / N} = \n",
    "    \\begin{cases} \n",
    "        2N, & k \\in 2N \\mathbb{Z},  \\\\ \n",
    "        0, & \\text{otherwise}.\n",
    "    \\end{cases}\n",
    "$$\n",
    "and use this to deduce that \n",
    "$$\n",
    "    I_N = 2\\pi \\sum_{k \\in 2N\\mathbb{Z}} \\hat{f}_k.\n",
    "$$\n",
    "*REMARK: $k \\in 2 N \\mathbb{Z}$ means that $k = 2 N m$ for some integer $m$.*\n",
    "\n",
    "\n",
    "(c) Deduce from (a, b) that \n",
    "$$\n",
    "    |I_N - I| \\leq 2\\pi \\sum_{k \\in 2N\\mathbb{Z} \\setminus \\{0\\}} |\\hat{f}_k|.\n",
    "$$\n",
    "\n",
    "(d) Suppose that (i) $|\\hat{f}_k| \\leq M e^{-\\alpha |k|}$; or (ii) $|\\hat{f}_k| \\leq C |k|^{-p}$. In each case deduce from (c)  a sharp (up to constants) estimate on the error $|I_N - I|$.\n",
    "\n",
    "HINT: If $\\eta(x)$ is non-negative and monotonically decreasing then $\\sum_{k = K+1}^\\infty \\eta(k) \\leq \\int_{K}^\\infty \\eta(x) dx$."
   ]
  },
  {
   "cell_type": "markdown",
   "metadata": {
    "deletable": false,
    "nbgrader": {
     "cell_type": "markdown",
     "checksum": "58da8227ee62159035a2b47c32a079a0",
     "grade": true,
     "grade_id": "cell-48fbf707c59a47c4",
     "locked": false,
     "points": 15,
     "schema_version": 3,
     "solution": true,
     "task": false
    }
   },
   "source": [
    "YOUR ANSWER HERE"
   ]
  },
  {
   "cell_type": "markdown",
   "metadata": {
    "deletable": false,
    "editable": false,
    "nbgrader": {
     "cell_type": "markdown",
     "checksum": "64be6a598ea14dfe1d112527170540e1",
     "grade": false,
     "grade_id": "cell-155c5c340bce9b94",
     "locked": true,
     "schema_version": 3,
     "solution": false,
     "task": false
    }
   },
   "source": [
    "Solve **either** Q.3 (theoretical) **or** Q.4 (computational). "
   ]
  },
  {
   "cell_type": "markdown",
   "metadata": {
    "deletable": false,
    "editable": false,
    "nbgrader": {
     "cell_type": "markdown",
     "checksum": "97cc7e8ff653fbb49a075aa9416644b4",
     "grade": false,
     "grade_id": "cell-0ed0dfbcd4725d4f",
     "locked": true,
     "schema_version": 3,
     "solution": false,
     "task": false
    }
   },
   "source": [
    "<a name = 'q3'></a>\n",
    "\n",
    "### Question 3: Fourth-order BVP [5 + 5 + 5]\n",
    "\n",
    "Consider the periodic boundary value problem for the differential equation \n",
    "$$\n",
    "    u_{xxxx} + u = f \n",
    "$$\n",
    "\n",
    "(a) Prove that, if $u$ solves the above DE, then \n",
    "$$ \n",
    "    \\|u\\|_{H^2} := ( \\|u_{xx}\\|_{L^2}^2+\\|u\\|_{L^2}^2 )^{1/2} \\leq \\|f\\|_{L^2}.\n",
    "$$\n",
    "where $\\|f\\|_{L^2} := (\\int_0^{2\\pi} f^2 dx )^{1/2}$.  \n",
    "*[HINT: multiply the DE by $u$, then integrate over $[0, 2\\pi]$, integrate by parts, then use the Cauchy-Schwarz inequality on the right-hand side.]*\n",
    "\n",
    "(b) Derive the canonical Fourier spectral method for this problem, providing both the real-space formulation as well as the fully discrete formulation in reciprocal space. Briefly specify all your terms.\n",
    "\n",
    "\n",
    "(c) Suppose that $f$ is analytic and bounded in the strip $\\{ |{\\rm Im} z| \\leq \\alpha \\}$, prove that \n",
    "$$\n",
    "     \\|u - u_N \\|_{H^2} \\leq C e^{-\\alpha N}.\n",
    "$$\n",
    "where $u_N$ denotes the solution to the Fourier-spectral method from (a) and $u$ the exact solution of the DE.\n"
   ]
  },
  {
   "cell_type": "markdown",
   "metadata": {
    "deletable": false,
    "nbgrader": {
     "cell_type": "markdown",
     "checksum": "6a9e9671a06da9ae6c08012924044ab5",
     "grade": true,
     "grade_id": "cell-c47ec781e6c6e556",
     "locked": false,
     "points": 15,
     "schema_version": 3,
     "solution": true,
     "task": false
    }
   },
   "source": [
    "YOUR ANSWER HERE"
   ]
  },
  {
   "cell_type": "markdown",
   "metadata": {
    "deletable": false,
    "editable": false,
    "nbgrader": {
     "cell_type": "markdown",
     "checksum": "909aca151dbceaae33136983fdd169ed",
     "grade": false,
     "grade_id": "cell-4cc56f475d73a04d",
     "locked": true,
     "schema_version": 3,
     "solution": false,
     "task": false
    }
   },
   "source": [
    "**BONUS [NO CREDIT]** \n",
    "\n",
    "Q3(d) Employing the method of manufactured solutions, confirm your prediction Question 3a-c."
   ]
  },
  {
   "cell_type": "code",
   "execution_count": null,
   "metadata": {
    "deletable": false,
    "nbgrader": {
     "cell_type": "code",
     "checksum": "bc557d4938791ed10a61eb915537f0ad",
     "grade": true,
     "grade_id": "cell-6ca4f0c5119469c6",
     "locked": false,
     "points": 0,
     "schema_version": 3,
     "solution": true,
     "task": false
    }
   },
   "outputs": [],
   "source": [
    "# YOUR CODE HERE"
   ]
  },
  {
   "cell_type": "markdown",
   "metadata": {
    "deletable": false,
    "editable": false,
    "nbgrader": {
     "cell_type": "markdown",
     "checksum": "d3e3e9080ca0407c7c2ca763ceba1977",
     "grade": false,
     "grade_id": "cell-0b7eebc631b9bf53",
     "locked": true,
     "schema_version": 3,
     "solution": false,
     "task": false
    }
   },
   "source": [
    "<a name = 'q4'></a> \n",
    "\n",
    "### Question 4: transport equation  [5+5+5]\n",
    "\n",
    "Consider the advector equation with periodic boundary conditions and non-constant advection speed, $c(x)$ which is analytic and $2\\pi$-periodic: \n",
    "$$\n",
    "    u_t + (c(x) u)_x = 0 \n",
    "$$\n",
    "\n",
    "(a) Discretise in space using a Fourier spectral method and write down the resulting ODE for the Fourier coefficients, in terms of the following operators:\n",
    "* ${\\rm DFT}$ : discrete Fourier transform\n",
    "* ${\\rm IDFT}$ : inverse discrete Fourier transform \n",
    "* $I_N$ : trigonometric interpolant\n"
   ]
  },
  {
   "cell_type": "markdown",
   "metadata": {
    "deletable": false,
    "nbgrader": {
     "cell_type": "markdown",
     "checksum": "a425a9f8311e164bde20b09fc8f1f2e0",
     "grade": true,
     "grade_id": "cell-d17679d9921b7a37",
     "locked": false,
     "points": 5,
     "schema_version": 3,
     "solution": true,
     "task": false
    }
   },
   "source": [
    "YOUR ANSWER HERE"
   ]
  },
  {
   "cell_type": "markdown",
   "metadata": {
    "deletable": false,
    "editable": false,
    "nbgrader": {
     "cell_type": "markdown",
     "checksum": "09a806b9a2159aee8a463886cade1e01",
     "grade": false,
     "grade_id": "cell-d285e3144cfce29f",
     "locked": true,
     "schema_version": 3,
     "solution": false,
     "task": false
    }
   },
   "source": [
    "(b) Implement a practical scheme (you will need to discretise in time by implementing a suitable time-stepping yourself or using a suitable solver from `OrdinaryDiffEq.jl`) and compute the solution at time $t = 1.0$ to within five digits absolute real-space accuracy in the max-norm. Store it as \n",
    "```\n",
    "Uhat1 = ...\n",
    "```\n",
    "where `Uhat1::Vector` should be a vector containing the Fourier coefficients of the solution at time $t = 1.0$.\n",
    "\n",
    "*HINT: If you are unsure about the correctness of your implementation, you could try $c = {\\rm const}$ first. In this case you can compare against an exact solution.*"
   ]
  },
  {
   "cell_type": "code",
   "execution_count": null,
   "metadata": {
    "deletable": false,
    "nbgrader": {
     "cell_type": "code",
     "checksum": "480312e30c445c26242dc2ba1c611129",
     "grade": false,
     "grade_id": "cell-af7b8819fce34194",
     "locked": false,
     "schema_version": 3,
     "solution": true,
     "task": false
    }
   },
   "outputs": [],
   "source": [
    "\n",
    "cfun = x -> 3 * (1 + sin(x)^2)\n",
    "u0fun = x -> 1 + sin(x)\n",
    "\n",
    "# YOUR CODE HERE\n",
    ";"
   ]
  },
  {
   "cell_type": "code",
   "execution_count": null,
   "metadata": {},
   "outputs": [],
   "source": [
    "# To check correctness of your code you can check the convergence rate in \n",
    "# part (c) but an addtional consistency check is the following: \n",
    "\n",
    "# You can modify this code block to create an animatino of your solution\n",
    "# You can check whether the solution is sensible? \n",
    "# Note that larger values of c lead to faster advection, while smaller values \n",
    "# lead to slower advection.\n",
    "\n",
    "# xp = range(0, 2*pi, length=200)\n",
    "# c_xp = cfun.(xp) / 3\n",
    "\n",
    "# @gif for t = 0.0:0.01:1.0\n",
    "#     Û = ... # get the solution at time t\n",
    "#     u =  eval_trig.(Ref(Û), xp)\n",
    "#     plot(xp, c_xp, lw=2, c=2, label = \"c/3\")\n",
    "#     plot!(xp, u, lw=2, c=1, label = \"t = $t\", size = (400, 250), ylims = (0.0, 4.0))\n",
    "# end\n",
    "\n"
   ]
  },
  {
   "cell_type": "code",
   "execution_count": null,
   "metadata": {
    "deletable": false,
    "editable": false,
    "nbgrader": {
     "cell_type": "code",
     "checksum": "a501174c1b3b379ad43576d02e688fd2",
     "grade": true,
     "grade_id": "cell-38433763aa8b73f6",
     "locked": true,
     "points": 5,
     "schema_version": 3,
     "solution": false,
     "task": false
    }
   },
   "outputs": [],
   "source": []
  },
  {
   "cell_type": "markdown",
   "metadata": {
    "deletable": false,
    "editable": false,
    "nbgrader": {
     "cell_type": "markdown",
     "checksum": "e82f1c83b6ac37b145cf8e7ac07d7799",
     "grade": false,
     "grade_id": "cell-76d52f9eeecba110",
     "locked": true,
     "schema_version": 3,
     "solution": false,
     "task": false
    }
   },
   "source": [
    "(c) Demonstrate the convergence rate of your scheme by comparing a sequence of numerical solutions against another numerical solution computed to very high accuracy."
   ]
  },
  {
   "cell_type": "code",
   "execution_count": null,
   "metadata": {
    "deletable": false,
    "nbgrader": {
     "cell_type": "code",
     "checksum": "c4f6cab27b8f4fa0ef9be0c09ce8bea4",
     "grade": true,
     "grade_id": "cell-ab2cebbf08e49bb1",
     "locked": false,
     "points": 5,
     "schema_version": 3,
     "solution": true,
     "task": false
    }
   },
   "outputs": [],
   "source": [
    "# YOUR CODE HERE"
   ]
  },
  {
   "cell_type": "markdown",
   "metadata": {
    "deletable": false,
    "editable": false,
    "nbgrader": {
     "cell_type": "markdown",
     "checksum": "115a262f01c73de1df34ab0dcad1a17e",
     "grade": false,
     "grade_id": "cell-a6f80a0f8e87fb4c",
     "locked": true,
     "schema_version": 3,
     "solution": false,
     "task": false
    }
   },
   "source": [
    "<a name = 'q5'></a>\n",
    "\n",
    "### Question 5: Eigenvalue problem [10]\n",
    "\n",
    "Find all eigenpairs $(\\lambda, u)$, $\\lambda \\in \\mathbb{C}$, $u$ smooth and $2\\pi$-periodic, satisfying \n",
    "$$\n",
    "0.1 u_{xxxx} + u_{xxx} = \\lambda u_{xx},\n",
    "$$\n",
    "and such that $|\\lambda| \\leq 10$. Plot them in a scatter plot and store them (unordered) in a variable \n",
    "```julia\n",
    "Lambda = ...\n",
    "```\n",
    "where `Lambda::AbstractVector` containing precisely the required set of eigenvalues.\n",
    "\n",
    "*HINT:* The code required to complete this problem is only about 5 lines."
   ]
  },
  {
   "cell_type": "markdown",
   "metadata": {},
   "source": [
    "If you wish you may add any additional comments or notes in this box: \n",
    "\n"
   ]
  },
  {
   "cell_type": "code",
   "execution_count": null,
   "metadata": {
    "deletable": false,
    "nbgrader": {
     "cell_type": "code",
     "checksum": "7ccf967f36a37c139d573791b16ec456",
     "grade": false,
     "grade_id": "cell-7dd79bb660b16c69",
     "locked": false,
     "schema_version": 3,
     "solution": true,
     "task": false
    }
   },
   "outputs": [],
   "source": [
    "# YOUR CODE HERE"
   ]
  },
  {
   "cell_type": "code",
   "execution_count": null,
   "metadata": {
    "deletable": false,
    "editable": false,
    "nbgrader": {
     "cell_type": "code",
     "checksum": "74ccb952e1c8c4470520bf696492772a",
     "grade": true,
     "grade_id": "cell-74f8d2f40c4f2ebf",
     "locked": true,
     "points": 10,
     "schema_version": 3,
     "solution": false,
     "task": false
    }
   },
   "outputs": [],
   "source": []
  }
 ],
 "metadata": {
  "@webio": {
   "lastCommId": null,
   "lastKernelId": null
  },
  "kernelspec": {
   "display_name": "Julia 1.5.1",
   "language": "julia",
   "name": "julia-1.5"
  },
  "language_info": {
   "file_extension": ".jl",
   "mimetype": "application/julia",
   "name": "julia",
   "version": "1.5.1"
  }
 },
 "nbformat": 4,
 "nbformat_minor": 4
}
