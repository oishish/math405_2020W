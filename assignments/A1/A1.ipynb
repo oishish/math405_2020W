{
 "cells": [
  {
   "cell_type": "markdown",
   "metadata": {},
   "source": [
    "* Before you turn this problem in, make sure everything runs as expected. First, **restart the kernel** (in the menubar, select Kernel$\\rightarrow$Restart) and then **run all cells** (in the menubar, select Cell$\\rightarrow$Run All). Or, alternatively, **Restart & Run All**.\n",
    "\n",
    "* Make sure you fill in any place that says `YOUR CODE HERE` or \"YOUR ANSWER HERE\".\n",
    "\n",
    "* You can always add additional cells to the notebook to experiment, to test your answers, or to provide additional support for your answers.\n",
    "\n",
    "* You should not need to install new packages to complete an assignment. If you use any packages not available via the MATH405 `Project.toml` then your assignment will likely not be graded correctly.\n",
    "\n",
    "* Submissions are only accepted via CANVAS!\n",
    "\n",
    "* Late submissions: within 24h I will reduce the grade to 70%. I will not accept submissions after 24h. Please manage your time well and complete the assignments with plenty of buffer time.\n",
    "\n",
    "* By entering your name below you confirm that you have completed this assignment on your own and without (direct) help from your colleagues. Plagiarism / copying will be checked by comparing assignments and by by testing understanding in workshops and the oral exam (final). I reserve the option to downgrade an assignment at any point."
   ]
  },
  {
   "cell_type": "code",
   "execution_count": 1,
   "metadata": {},
   "outputs": [
    {
     "data": {
      "text/plain": [
       "\"Owen Sheekey\""
      ]
     },
     "execution_count": 1,
     "metadata": {},
     "output_type": "execute_result"
    }
   ],
   "source": [
    "NAME = \"Owen Sheekey\""
   ]
  },
  {
   "cell_type": "markdown",
   "metadata": {},
   "source": [
    "---"
   ]
  },
  {
   "cell_type": "markdown",
   "metadata": {
    "deletable": false,
    "editable": false,
    "nbgrader": {
     "cell_type": "markdown",
     "checksum": "fbdeee03440c9b32c946a863c7d156db",
     "grade": false,
     "grade_id": "cell-ee3a7657e48f9546",
     "locked": true,
     "schema_version": 3,
     "solution": false,
     "task": false
    }
   },
   "source": [
    "# MATH 405/607 \n",
    "\n",
    "# Numerical Methods for Differential Equations\n",
    "\n",
    "## Assignment 1\n",
    "\n",
    "This assignment contains a review of Taylor's theorem, a bit of floating point arithmetic and some elementary linear algebra and numerical linear algebra. It serves primarily as a warm-up and introduction to using Jupyter notebooks. To install Julia, Jupyter and to learn how to use the notebooks, please look at the `[WS1]` notebook.\n",
    "\n",
    "\n",
    "\n",
    "* **Due date:** Tue 22 September 2020, 1200 noon\n",
    "* 70 points (out of 85) will count at 100%"
   ]
  },
  {
   "cell_type": "code",
   "execution_count": 2,
   "metadata": {
    "deletable": false,
    "editable": false,
    "nbgrader": {
     "cell_type": "code",
     "checksum": "33c13cf615077f2750dae558f3937ee3",
     "grade": false,
     "grade_id": "cell-6fcded2fc78a089d",
     "locked": true,
     "schema_version": 3,
     "solution": false,
     "task": false
    }
   },
   "outputs": [
    {
     "name": "stderr",
     "output_type": "stream",
     "text": [
      "\u001b[32m\u001b[1m Activating\u001b[22m\u001b[39m environment at `~/Documents/UBC/Math/Math 405/math405_2020W/assignments/A1/Project.toml`\n",
      "┌ Info: Precompiling Plots [91a5bcdd-55d7-5caf-9e0b-520d859cae80]\n",
      "└ @ Base loading.jl:1278\n",
      "┌ Info: Precompiling OrdinaryDiffEq [1dea7af3-3e70-54e6-95c3-0bf5283fa5ed]\n",
      "└ @ Base loading.jl:1278\n"
     ]
    }
   ],
   "source": [
    "include(\"math405.jl\")"
   ]
  },
  {
   "cell_type": "markdown",
   "metadata": {
    "deletable": false,
    "editable": false,
    "nbgrader": {
     "cell_type": "markdown",
     "checksum": "87a1d3cd6d256cbe211bd100098355f1",
     "grade": false,
     "grade_id": "cell-2fd06d570ed5ddcf",
     "locked": true,
     "schema_version": 3,
     "solution": false,
     "task": false
    }
   },
   "source": [
    "### Question 1: [5+5]\n",
    "\n",
    "(a) Let $f : \\mathbb{R} \\to \\mathbb{R}$ be smooth (as often differentiable as needed). Write down the expression for the $n$th degree Taylor polynomial $T_n(x)$ expanded around $0$.\n",
    "\n",
    "(b) Let $R_n(x)$ be the remainder, i.e. $f(x) = T_n(x) + R_n(x)$. Look up the Lagrange form of the remainder as well as the integral form of the remainder and write them down."
   ]
  },
  {
   "cell_type": "markdown",
   "metadata": {
    "deletable": false,
    "nbgrader": {
     "cell_type": "markdown",
     "checksum": "1c4a5f518ad16fca5121429f22c60b4c",
     "grade": true,
     "grade_id": "cell-119c736361478fd3",
     "locked": false,
     "points": 10,
     "schema_version": 3,
     "solution": true,
     "task": false
    }
   },
   "source": [
    "(a) $$ T_n(x) = \\sum_{k=0}^{n}\\frac{f^{(k)}(0) \\, x^k}{k!} $$\n",
    "(b) $$ R_n(x) = \\frac{f^{(n+1)}(\\xi)\\,x^{n+1}}{(n+1)!} \\quad\\quad\\quad R_n(x) = \\int_0^x \\frac{f^{(n+1)}(k) \\, (x - k)^n}{n!}\\,\\, dk $$\n",
    "With $\\xi \\in \\rm I\\!R$ and $0 < \\xi < x$"
   ]
  },
  {
   "cell_type": "markdown",
   "metadata": {
    "deletable": false,
    "editable": false,
    "nbgrader": {
     "cell_type": "markdown",
     "checksum": "0fe2b6bf328e865045d644062fe7dbd5",
     "grade": false,
     "grade_id": "cell-ad340e057328addd",
     "locked": true,
     "schema_version": 3,
     "solution": false,
     "task": false
    }
   },
   "source": [
    "### Question 2 [5+5]\n",
    "\n",
    "(a) Consider the centered finite-difference formula \n",
    "$$\n",
    "    \\frac{f(x+h) - f(x-h)}{2h} \\approx f'(x)\n",
    "$$\n",
    "Prove that it is second-order accurate by deriving a sharp error bound in terms of $h$ and $\\|f^{(j)}\\|_\\infty$ where you should determine $j$. \n",
    "\n",
    "(b+) Construct a finite-difference approximation for the third derivative $f'''(x)$. "
   ]
  },
  {
   "cell_type": "markdown",
   "metadata": {
    "deletable": false,
    "nbgrader": {
     "cell_type": "markdown",
     "checksum": "e6b26fd6755539786f4cb295570d34d5",
     "grade": true,
     "grade_id": "cell-4e484d74e3be2204",
     "locked": false,
     "points": 10,
     "schema_version": 3,
     "solution": true,
     "task": false
    }
   },
   "source": [
    "(a) \n",
    "We know that\n",
    "\n",
    "$$\\begin{aligned} \n",
    "f(x + h) &= f(x) + hf'(x) + \\frac{h^2f''(x)}{2} + \\frac{h^3f'''(\\xi^+)}{6} \\\\\n",
    "f(x - h) &= f(x) - hf'(x) + \\frac{h^2f''(x)}{2} - \\frac{h^3f'''(\\xi^+)}{6} \\\\\n",
    "\\end{aligned}$$\n",
    "Therefore \n",
    "$$ f(x + h) - f(x - h) = 2h f'(x) + \\frac{h^3}{6}\\big(f'''(\\xi^+) + f'''(\\xi^-)\\big)$$ \n",
    "Which of course implies\n",
    "$$ \\frac{f(x + h) - f(x - h)}{2h} = f'(x) + \\frac{h^2}{12}\\big(f'''(\\xi^+) + f'''(\\xi^-)\\big)$$\n",
    "We can easily upperbound the error ($\\frac{h^2}{12}(f'''(\\xi^+) + f'''(\\xi^-))$ since $f'''(\\xi^+) + f'''(\\xi^-) \\leq 2 \\|f'''\\|_\\infty$. Therefore, we have a sharp error bound of \n",
    "$$ \\frac{h^2}{6} \\,\\, \\|f'''\\|_\\infty$$\n",
    "\n",
    "(b)\n",
    "We can approximate $f'''$ using the following finite difference scheme\n",
    "$$ f'''(x) \\approx \\frac{3}{15h^3}\\,\\, \\big(f(x+2h) - f(x-2h) - f(x+h) + f(x-h)\\big) $$\n",
    "We can show that this will work by setting up the four requisite series.\n",
    "$$ \\begin{align}\n",
    "    f(x+2h) &= \n",
    "    -f(x-2h) &= \\\\\n",
    "    -f(x+h) &= \\\\\n",
    "    f(x-h) &= \\\\\n",
    "    \\text{SUM} &= \n",
    "   \\end{align}\n",
    "$$"
   ]
  },
  {
   "cell_type": "markdown",
   "metadata": {
    "deletable": false,
    "editable": false,
    "nbgrader": {
     "cell_type": "markdown",
     "checksum": "98b37cfd87da8c716e837b5407acd75c",
     "grade": false,
     "grade_id": "cell-aab338196ed4b143",
     "locked": true,
     "schema_version": 3,
     "solution": false,
     "task": false
    }
   },
   "source": [
    "### Question 3 [5+5+10]\n",
    "\n",
    "Consider the function $f(x) = \\exp(x)$, evaluated in floating point arithmetic. Suppose we wish to approximate its first derivative $f'(x) = \\exp(x)$ by a finite difference. \n",
    "\n",
    "(a) For the forward difference, a floating point analysis yields \n",
    "$$\n",
    "    {\\rm fl}\\Big[ \\frac{f(x+h) - f(x)}{h} \\Big] = f'(x) + O(h) + O(\\epsilon h^{-1}).\n",
    "$$\n",
    "where $\\epsilon$ is machine precision. Produce a figure or table that clearly demonstrates this behaviour. "
   ]
  },
  {
   "cell_type": "code",
   "execution_count": 26,
   "metadata": {
    "deletable": false,
    "nbgrader": {
     "cell_type": "code",
     "checksum": "ac8deb7c286be39c8e0c1944422e70cc",
     "grade": true,
     "grade_id": "cell-294220ee607d28f8",
     "locked": false,
     "points": 5,
     "schema_version": 3,
     "solution": true,
     "task": false
    }
   },
   "outputs": [
    {
     "data": {
      "image/svg+xml": [
       "<?xml version=\"1.0\" encoding=\"utf-8\"?>\n",
       "<svg xmlns=\"http://www.w3.org/2000/svg\" xmlns:xlink=\"http://www.w3.org/1999/xlink\" width=\"600\" height=\"400\" viewBox=\"0 0 2400 1600\">\n",
       "<defs>\n",
       "  <clipPath id=\"clip300\">\n",
       "    <rect x=\"0\" y=\"0\" width=\"2400\" height=\"1600\"/>\n",
       "  </clipPath>\n",
       "</defs>\n",
       "<path clip-path=\"url(#clip300)\" d=\"\n",
       "M0 1600 L2400 1600 L2400 0 L0 0  Z\n",
       "  \" fill=\"#ffffff\" fill-rule=\"evenodd\" fill-opacity=\"1\"/>\n",
       "<defs>\n",
       "  <clipPath id=\"clip301\">\n",
       "    <rect x=\"480\" y=\"0\" width=\"1681\" height=\"1600\"/>\n",
       "  </clipPath>\n",
       "</defs>\n",
       "<path clip-path=\"url(#clip300)\" d=\"\n",
       "M274.843 1423.18 L2352.76 1423.18 L2352.76 47.2441 L274.843 47.2441  Z\n",
       "  \" fill=\"#ffffff\" fill-rule=\"evenodd\" fill-opacity=\"1\"/>\n",
       "<defs>\n",
       "  <clipPath id=\"clip302\">\n",
       "    <rect x=\"274\" y=\"47\" width=\"2079\" height=\"1377\"/>\n",
       "  </clipPath>\n",
       "</defs>\n",
       "<polyline clip-path=\"url(#clip302)\" style=\"stroke:#000000; stroke-width:2; stroke-opacity:0.1; fill:none\" points=\"\n",
       "  456.17,1423.18 456.17,47.2441 \n",
       "  \"/>\n",
       "<polyline clip-path=\"url(#clip302)\" style=\"stroke:#000000; stroke-width:2; stroke-opacity:0.1; fill:none\" points=\"\n",
       "  1068.76,1423.18 1068.76,47.2441 \n",
       "  \"/>\n",
       "<polyline clip-path=\"url(#clip302)\" style=\"stroke:#000000; stroke-width:2; stroke-opacity:0.1; fill:none\" points=\"\n",
       "  1681.35,1423.18 1681.35,47.2441 \n",
       "  \"/>\n",
       "<polyline clip-path=\"url(#clip302)\" style=\"stroke:#000000; stroke-width:2; stroke-opacity:0.1; fill:none\" points=\"\n",
       "  2293.95,1423.18 2293.95,47.2441 \n",
       "  \"/>\n",
       "<polyline clip-path=\"url(#clip302)\" style=\"stroke:#000000; stroke-width:2; stroke-opacity:0.1; fill:none\" points=\"\n",
       "  274.843,1111.32 2352.76,1111.32 \n",
       "  \"/>\n",
       "<polyline clip-path=\"url(#clip302)\" style=\"stroke:#000000; stroke-width:2; stroke-opacity:0.1; fill:none\" points=\"\n",
       "  274.843,781.546 2352.76,781.546 \n",
       "  \"/>\n",
       "<polyline clip-path=\"url(#clip302)\" style=\"stroke:#000000; stroke-width:2; stroke-opacity:0.1; fill:none\" points=\"\n",
       "  274.843,451.769 2352.76,451.769 \n",
       "  \"/>\n",
       "<polyline clip-path=\"url(#clip302)\" style=\"stroke:#000000; stroke-width:2; stroke-opacity:0.1; fill:none\" points=\"\n",
       "  274.843,121.991 2352.76,121.991 \n",
       "  \"/>\n",
       "<polyline clip-path=\"url(#clip300)\" style=\"stroke:#000000; stroke-width:4; stroke-opacity:1; fill:none\" points=\"\n",
       "  274.843,1423.18 2352.76,1423.18 \n",
       "  \"/>\n",
       "<polyline clip-path=\"url(#clip300)\" style=\"stroke:#000000; stroke-width:4; stroke-opacity:1; fill:none\" points=\"\n",
       "  274.843,1423.18 274.843,47.2441 \n",
       "  \"/>\n",
       "<polyline clip-path=\"url(#clip300)\" style=\"stroke:#000000; stroke-width:4; stroke-opacity:1; fill:none\" points=\"\n",
       "  456.17,1423.18 456.17,1406.67 \n",
       "  \"/>\n",
       "<polyline clip-path=\"url(#clip300)\" style=\"stroke:#000000; stroke-width:4; stroke-opacity:1; fill:none\" points=\"\n",
       "  1068.76,1423.18 1068.76,1406.67 \n",
       "  \"/>\n",
       "<polyline clip-path=\"url(#clip300)\" style=\"stroke:#000000; stroke-width:4; stroke-opacity:1; fill:none\" points=\"\n",
       "  1681.35,1423.18 1681.35,1406.67 \n",
       "  \"/>\n",
       "<polyline clip-path=\"url(#clip300)\" style=\"stroke:#000000; stroke-width:4; stroke-opacity:1; fill:none\" points=\"\n",
       "  2293.95,1423.18 2293.95,1406.67 \n",
       "  \"/>\n",
       "<polyline clip-path=\"url(#clip300)\" style=\"stroke:#000000; stroke-width:4; stroke-opacity:1; fill:none\" points=\"\n",
       "  274.843,1111.32 299.778,1111.32 \n",
       "  \"/>\n",
       "<polyline clip-path=\"url(#clip300)\" style=\"stroke:#000000; stroke-width:4; stroke-opacity:1; fill:none\" points=\"\n",
       "  274.843,781.546 299.778,781.546 \n",
       "  \"/>\n",
       "<polyline clip-path=\"url(#clip300)\" style=\"stroke:#000000; stroke-width:4; stroke-opacity:1; fill:none\" points=\"\n",
       "  274.843,451.769 299.778,451.769 \n",
       "  \"/>\n",
       "<polyline clip-path=\"url(#clip300)\" style=\"stroke:#000000; stroke-width:4; stroke-opacity:1; fill:none\" points=\"\n",
       "  274.843,121.991 299.778,121.991 \n",
       "  \"/>\n",
       "<path clip-path=\"url(#clip300)\" d=\"M 0 0 M402.059 1494.25 L409.698 1494.25 L409.698 1467.89 L401.388 1469.55 L401.388 1465.29 L409.652 1463.63 L414.328 1463.63 L414.328 1494.25 L421.967 1494.25 L421.967 1498.19 L402.059 1498.19 L402.059 1494.25 Z\" fill=\"#000000\" fill-rule=\"evenodd\" fill-opacity=\"1\" /><path clip-path=\"url(#clip300)\" d=\"M 0 0 M437.036 1466.71 Q433.425 1466.71 431.596 1470.27 Q429.791 1473.81 429.791 1480.94 Q429.791 1488.05 431.596 1491.61 Q433.425 1495.15 437.036 1495.15 Q440.67 1495.15 442.476 1491.61 Q444.305 1488.05 444.305 1480.94 Q444.305 1473.81 442.476 1470.27 Q440.67 1466.71 437.036 1466.71 M437.036 1463 Q442.846 1463 445.902 1467.61 Q448.981 1472.19 448.981 1480.94 Q448.981 1489.67 445.902 1494.28 Q442.846 1498.86 437.036 1498.86 Q431.226 1498.86 428.147 1494.28 Q425.092 1489.67 425.092 1480.94 Q425.092 1472.19 428.147 1467.61 Q431.226 1463 437.036 1463 Z\" fill=\"#000000\" fill-rule=\"evenodd\" fill-opacity=\"1\" /><path clip-path=\"url(#clip300)\" d=\"M 0 0 M448.981 1458.68 L459.118 1458.68 L459.118 1461.77 L448.981 1461.77 L448.981 1458.68 Z\" fill=\"#000000\" fill-rule=\"evenodd\" fill-opacity=\"1\" /><path clip-path=\"url(#clip300)\" d=\"M 0 0 M473.637 1467.58 L479.844 1467.58 L479.844 1446.16 L473.092 1447.51 L473.092 1444.05 L479.806 1442.7 L483.606 1442.7 L483.606 1467.58 L489.812 1467.58 L489.812 1470.78 L473.637 1470.78 L473.637 1467.58 Z\" fill=\"#000000\" fill-rule=\"evenodd\" fill-opacity=\"1\" /><path clip-path=\"url(#clip300)\" d=\"M 0 0 M493.969 1442.7 L508.883 1442.7 L508.883 1445.89 L497.448 1445.89 L497.448 1452.78 Q498.276 1452.5 499.103 1452.36 Q499.931 1452.21 500.758 1452.21 Q505.46 1452.21 508.206 1454.79 Q510.952 1457.37 510.952 1461.77 Q510.952 1466.3 508.131 1468.82 Q505.31 1471.32 500.175 1471.32 Q498.407 1471.32 496.564 1471.02 Q494.74 1470.72 492.784 1470.12 L492.784 1466.3 Q494.477 1467.22 496.282 1467.67 Q498.088 1468.12 500.1 1468.12 Q503.354 1468.12 505.253 1466.41 Q507.153 1464.7 507.153 1461.77 Q507.153 1458.83 505.253 1457.12 Q503.354 1455.41 500.1 1455.41 Q498.577 1455.41 497.053 1455.75 Q495.549 1456.09 493.969 1456.8 L493.969 1442.7 Z\" fill=\"#000000\" fill-rule=\"evenodd\" fill-opacity=\"1\" /><path clip-path=\"url(#clip300)\" d=\"M 0 0 M1014.25 1494.25 L1021.89 1494.25 L1021.89 1467.89 L1013.58 1469.55 L1013.58 1465.29 L1021.84 1463.63 L1026.52 1463.63 L1026.52 1494.25 L1034.15 1494.25 L1034.15 1498.19 L1014.25 1498.19 L1014.25 1494.25 Z\" fill=\"#000000\" fill-rule=\"evenodd\" fill-opacity=\"1\" /><path clip-path=\"url(#clip300)\" d=\"M 0 0 M1049.22 1466.71 Q1045.61 1466.71 1043.78 1470.27 Q1041.98 1473.81 1041.98 1480.94 Q1041.98 1488.05 1043.78 1491.61 Q1045.61 1495.15 1049.22 1495.15 Q1052.86 1495.15 1054.66 1491.61 Q1056.49 1488.05 1056.49 1480.94 Q1056.49 1473.81 1054.66 1470.27 Q1052.86 1466.71 1049.22 1466.71 M1049.22 1463 Q1055.03 1463 1058.09 1467.61 Q1061.17 1472.19 1061.17 1480.94 Q1061.17 1489.67 1058.09 1494.28 Q1055.03 1498.86 1049.22 1498.86 Q1043.41 1498.86 1040.34 1494.28 Q1037.28 1489.67 1037.28 1480.94 Q1037.28 1472.19 1040.34 1467.61 Q1043.41 1463 1049.22 1463 Z\" fill=\"#000000\" fill-rule=\"evenodd\" fill-opacity=\"1\" /><path clip-path=\"url(#clip300)\" d=\"M 0 0 M1061.17 1458.68 L1071.31 1458.68 L1071.31 1461.77 L1061.17 1461.77 L1061.17 1458.68 Z\" fill=\"#000000\" fill-rule=\"evenodd\" fill-opacity=\"1\" /><path clip-path=\"url(#clip300)\" d=\"M 0 0 M1085.83 1467.58 L1092.03 1467.58 L1092.03 1446.16 L1085.28 1447.51 L1085.28 1444.05 L1091.99 1442.7 L1095.79 1442.7 L1095.79 1467.58 L1102 1467.58 L1102 1470.78 L1085.83 1470.78 L1085.83 1467.58 Z\" fill=\"#000000\" fill-rule=\"evenodd\" fill-opacity=\"1\" /><path clip-path=\"url(#clip300)\" d=\"M 0 0 M1114.24 1445.2 Q1111.31 1445.2 1109.82 1448.09 Q1108.36 1450.97 1108.36 1456.76 Q1108.36 1462.54 1109.82 1465.44 Q1111.31 1468.31 1114.24 1468.31 Q1117.2 1468.31 1118.66 1465.44 Q1120.15 1462.54 1120.15 1456.76 Q1120.15 1450.97 1118.66 1448.09 Q1117.2 1445.2 1114.24 1445.2 M1114.24 1442.19 Q1118.96 1442.19 1121.45 1445.93 Q1123.95 1449.66 1123.95 1456.76 Q1123.95 1463.86 1121.45 1467.6 Q1118.96 1471.32 1114.24 1471.32 Q1109.52 1471.32 1107.02 1467.6 Q1104.54 1463.86 1104.54 1456.76 Q1104.54 1449.66 1107.02 1445.93 Q1109.52 1442.19 1114.24 1442.19 Z\" fill=\"#000000\" fill-rule=\"evenodd\" fill-opacity=\"1\" /><path clip-path=\"url(#clip300)\" d=\"M 0 0 M1637.09 1494.25 L1644.73 1494.25 L1644.73 1467.89 L1636.42 1469.55 L1636.42 1465.29 L1644.68 1463.63 L1649.36 1463.63 L1649.36 1494.25 L1657 1494.25 L1657 1498.19 L1637.09 1498.19 L1637.09 1494.25 Z\" fill=\"#000000\" fill-rule=\"evenodd\" fill-opacity=\"1\" /><path clip-path=\"url(#clip300)\" d=\"M 0 0 M1672.07 1466.71 Q1668.46 1466.71 1666.63 1470.27 Q1664.82 1473.81 1664.82 1480.94 Q1664.82 1488.05 1666.63 1491.61 Q1668.46 1495.15 1672.07 1495.15 Q1675.7 1495.15 1677.51 1491.61 Q1679.34 1488.05 1679.34 1480.94 Q1679.34 1473.81 1677.51 1470.27 Q1675.7 1466.71 1672.07 1466.71 M1672.07 1463 Q1677.88 1463 1680.93 1467.61 Q1684.01 1472.19 1684.01 1480.94 Q1684.01 1489.67 1680.93 1494.28 Q1677.88 1498.86 1672.07 1498.86 Q1666.26 1498.86 1663.18 1494.28 Q1660.12 1489.67 1660.12 1480.94 Q1660.12 1472.19 1663.18 1467.61 Q1666.26 1463 1672.07 1463 Z\" fill=\"#000000\" fill-rule=\"evenodd\" fill-opacity=\"1\" /><path clip-path=\"url(#clip300)\" d=\"M 0 0 M1684.01 1458.68 L1694.15 1458.68 L1694.15 1461.77 L1684.01 1461.77 L1684.01 1458.68 Z\" fill=\"#000000\" fill-rule=\"evenodd\" fill-opacity=\"1\" /><path clip-path=\"url(#clip300)\" d=\"M 0 0 M1709.31 1442.7 L1724.22 1442.7 L1724.22 1445.89 L1712.79 1445.89 L1712.79 1452.78 Q1713.61 1452.5 1714.44 1452.36 Q1715.27 1452.21 1716.1 1452.21 Q1720.8 1452.21 1723.54 1454.79 Q1726.29 1457.37 1726.29 1461.77 Q1726.29 1466.3 1723.47 1468.82 Q1720.65 1471.32 1715.51 1471.32 Q1713.75 1471.32 1711.9 1471.02 Q1710.08 1470.72 1708.12 1470.12 L1708.12 1466.3 Q1709.82 1467.22 1711.62 1467.67 Q1713.43 1468.12 1715.44 1468.12 Q1718.69 1468.12 1720.59 1466.41 Q1722.49 1464.7 1722.49 1461.77 Q1722.49 1458.83 1720.59 1457.12 Q1718.69 1455.41 1715.44 1455.41 Q1713.92 1455.41 1712.39 1455.75 Q1710.89 1456.09 1709.31 1456.8 L1709.31 1442.7 Z\" fill=\"#000000\" fill-rule=\"evenodd\" fill-opacity=\"1\" /><path clip-path=\"url(#clip300)\" d=\"M 0 0 M2261.12 1494.25 L2268.76 1494.25 L2268.76 1467.89 L2260.45 1469.55 L2260.45 1465.29 L2268.71 1463.63 L2273.39 1463.63 L2273.39 1494.25 L2281.02 1494.25 L2281.02 1498.19 L2261.12 1498.19 L2261.12 1494.25 Z\" fill=\"#000000\" fill-rule=\"evenodd\" fill-opacity=\"1\" /><path clip-path=\"url(#clip300)\" d=\"M 0 0 M2296.09 1466.71 Q2292.48 1466.71 2290.65 1470.27 Q2288.85 1473.81 2288.85 1480.94 Q2288.85 1488.05 2290.65 1491.61 Q2292.48 1495.15 2296.09 1495.15 Q2299.73 1495.15 2301.53 1491.61 Q2303.36 1488.05 2303.36 1480.94 Q2303.36 1473.81 2301.53 1470.27 Q2299.73 1466.71 2296.09 1466.71 M2296.09 1463 Q2301.9 1463 2304.96 1467.61 Q2308.04 1472.19 2308.04 1480.94 Q2308.04 1489.67 2304.96 1494.28 Q2301.9 1498.86 2296.09 1498.86 Q2290.28 1498.86 2287.21 1494.28 Q2284.15 1489.67 2284.15 1480.94 Q2284.15 1472.19 2287.21 1467.61 Q2290.28 1463 2296.09 1463 Z\" fill=\"#000000\" fill-rule=\"evenodd\" fill-opacity=\"1\" /><path clip-path=\"url(#clip300)\" d=\"M 0 0 M2317.74 1445.2 Q2314.81 1445.2 2313.32 1448.09 Q2311.86 1450.97 2311.86 1456.76 Q2311.86 1462.54 2313.32 1465.44 Q2314.81 1468.31 2317.74 1468.31 Q2320.7 1468.31 2322.16 1465.44 Q2323.65 1462.54 2323.65 1456.76 Q2323.65 1450.97 2322.16 1448.09 Q2320.7 1445.2 2317.74 1445.2 M2317.74 1442.19 Q2322.46 1442.19 2324.95 1445.93 Q2327.45 1449.66 2327.45 1456.76 Q2327.45 1463.86 2324.95 1467.6 Q2322.46 1471.32 2317.74 1471.32 Q2313.02 1471.32 2310.52 1467.6 Q2308.04 1463.86 2308.04 1456.76 Q2308.04 1449.66 2310.52 1445.93 Q2313.02 1442.19 2317.74 1442.19 Z\" fill=\"#000000\" fill-rule=\"evenodd\" fill-opacity=\"1\" /><path clip-path=\"url(#clip300)\" d=\"M 0 0 M160.419 1131.12 L168.058 1131.12 L168.058 1104.75 L159.748 1106.42 L159.748 1102.16 L168.012 1100.49 L172.688 1100.49 L172.688 1131.12 L180.327 1131.12 L180.327 1135.05 L160.419 1135.05 L160.419 1131.12 Z\" fill=\"#000000\" fill-rule=\"evenodd\" fill-opacity=\"1\" /><path clip-path=\"url(#clip300)\" d=\"M 0 0 M195.396 1103.57 Q191.785 1103.57 189.956 1107.14 Q188.151 1110.68 188.151 1117.81 Q188.151 1124.91 189.956 1128.48 Q191.785 1132.02 195.396 1132.02 Q199.03 1132.02 200.836 1128.48 Q202.665 1124.91 202.665 1117.81 Q202.665 1110.68 200.836 1107.14 Q199.03 1103.57 195.396 1103.57 M195.396 1099.87 Q201.206 1099.87 204.262 1104.47 Q207.34 1109.06 207.34 1117.81 Q207.34 1126.53 204.262 1131.14 Q201.206 1135.72 195.396 1135.72 Q189.586 1135.72 186.507 1131.14 Q183.452 1126.53 183.452 1117.81 Q183.452 1109.06 186.507 1104.47 Q189.586 1099.87 195.396 1099.87 Z\" fill=\"#000000\" fill-rule=\"evenodd\" fill-opacity=\"1\" /><path clip-path=\"url(#clip300)\" d=\"M 0 0 M207.34 1095.55 L217.478 1095.55 L217.478 1098.63 L207.34 1098.63 L207.34 1095.55 Z\" fill=\"#000000\" fill-rule=\"evenodd\" fill-opacity=\"1\" /><path clip-path=\"url(#clip300)\" d=\"M 0 0 M241.477 1092.09 Q238.919 1092.09 237.414 1093.84 Q235.928 1095.59 235.928 1098.63 Q235.928 1101.66 237.414 1103.43 Q238.919 1105.18 241.477 1105.18 Q244.034 1105.18 245.52 1103.43 Q247.025 1101.66 247.025 1098.63 Q247.025 1095.59 245.52 1093.84 Q244.034 1092.09 241.477 1092.09 M249.018 1080.18 L249.018 1083.64 Q247.589 1082.97 246.122 1082.61 Q244.674 1082.25 243.244 1082.25 Q239.483 1082.25 237.489 1084.79 Q235.514 1087.33 235.232 1092.46 Q236.342 1090.83 238.016 1089.96 Q239.69 1089.08 241.702 1089.08 Q245.934 1089.08 248.379 1091.65 Q250.843 1094.21 250.843 1098.63 Q250.843 1102.96 248.285 1105.57 Q245.727 1108.19 241.477 1108.19 Q236.605 1108.19 234.029 1104.46 Q231.452 1100.72 231.452 1093.63 Q231.452 1086.97 234.612 1083.02 Q237.771 1079.05 243.094 1079.05 Q244.523 1079.05 245.972 1079.34 Q247.439 1079.62 249.018 1080.18 Z\" fill=\"#000000\" fill-rule=\"evenodd\" fill-opacity=\"1\" /><path clip-path=\"url(#clip300)\" d=\"M 0 0 M159.347 801.339 L166.986 801.339 L166.986 774.973 L158.676 776.64 L158.676 772.381 L166.94 770.714 L171.616 770.714 L171.616 801.339 L179.255 801.339 L179.255 805.274 L159.347 805.274 L159.347 801.339 Z\" fill=\"#000000\" fill-rule=\"evenodd\" fill-opacity=\"1\" /><path clip-path=\"url(#clip300)\" d=\"M 0 0 M194.324 773.793 Q190.713 773.793 188.884 777.358 Q187.079 780.899 187.079 788.029 Q187.079 795.135 188.884 798.7 Q190.713 802.242 194.324 802.242 Q197.958 802.242 199.764 798.7 Q201.593 795.135 201.593 788.029 Q201.593 780.899 199.764 777.358 Q197.958 773.793 194.324 773.793 M194.324 770.089 Q200.134 770.089 203.19 774.696 Q206.268 779.279 206.268 788.029 Q206.268 796.756 203.19 801.362 Q200.134 805.945 194.324 805.945 Q188.514 805.945 185.435 801.362 Q182.38 796.756 182.38 788.029 Q182.38 779.279 185.435 774.696 Q188.514 770.089 194.324 770.089 Z\" fill=\"#000000\" fill-rule=\"evenodd\" fill-opacity=\"1\" /><path clip-path=\"url(#clip300)\" d=\"M 0 0 M206.268 765.77 L216.406 765.77 L216.406 768.855 L206.268 768.855 L206.268 765.77 Z\" fill=\"#000000\" fill-rule=\"evenodd\" fill-opacity=\"1\" /><path clip-path=\"url(#clip300)\" d=\"M 0 0 M243.056 753.094 L233.464 768.084 L243.056 768.084 L243.056 753.094 M242.06 749.784 L246.837 749.784 L246.837 768.084 L250.843 768.084 L250.843 771.243 L246.837 771.243 L246.837 777.864 L243.056 777.864 L243.056 771.243 L230.38 771.243 L230.38 767.576 L242.06 749.784 Z\" fill=\"#000000\" fill-rule=\"evenodd\" fill-opacity=\"1\" /><path clip-path=\"url(#clip300)\" d=\"M 0 0 M161.98 471.561 L169.619 471.561 L169.619 445.195 L161.309 446.862 L161.309 442.603 L169.573 440.936 L174.249 440.936 L174.249 471.561 L181.888 471.561 L181.888 475.496 L161.98 475.496 L161.98 471.561 Z\" fill=\"#000000\" fill-rule=\"evenodd\" fill-opacity=\"1\" /><path clip-path=\"url(#clip300)\" d=\"M 0 0 M196.957 444.015 Q193.346 444.015 191.517 447.58 Q189.712 451.121 189.712 458.251 Q189.712 465.357 191.517 468.922 Q193.346 472.464 196.957 472.464 Q200.591 472.464 202.397 468.922 Q204.226 465.357 204.226 458.251 Q204.226 451.121 202.397 447.58 Q200.591 444.015 196.957 444.015 M196.957 440.311 Q202.767 440.311 205.823 444.918 Q208.901 449.501 208.901 458.251 Q208.901 466.978 205.823 471.584 Q202.767 476.168 196.957 476.168 Q191.147 476.168 188.068 471.584 Q185.013 466.978 185.013 458.251 Q185.013 449.501 188.068 444.918 Q191.147 440.311 196.957 440.311 Z\" fill=\"#000000\" fill-rule=\"evenodd\" fill-opacity=\"1\" /><path clip-path=\"url(#clip300)\" d=\"M 0 0 M208.901 435.992 L219.039 435.992 L219.039 439.077 L208.901 439.077 L208.901 435.992 Z\" fill=\"#000000\" fill-rule=\"evenodd\" fill-opacity=\"1\" /><path clip-path=\"url(#clip300)\" d=\"M 0 0 M237.583 444.889 L250.843 444.889 L250.843 448.086 L233.013 448.086 L233.013 444.889 Q235.176 442.65 238.9 438.889 Q242.643 435.108 243.602 434.018 Q245.426 431.968 246.141 430.557 Q246.874 429.128 246.874 427.755 Q246.874 425.517 245.295 424.106 Q243.733 422.695 241.213 422.695 Q239.427 422.695 237.433 423.316 Q235.458 423.937 233.201 425.197 L233.201 421.36 Q235.496 420.438 237.489 419.968 Q239.483 419.498 241.138 419.498 Q245.501 419.498 248.097 421.68 Q250.692 423.861 250.692 427.51 Q250.692 429.24 250.034 430.802 Q249.395 432.344 247.683 434.45 Q247.213 434.996 244.693 437.61 Q242.172 440.205 237.583 444.889 Z\" fill=\"#000000\" fill-rule=\"evenodd\" fill-opacity=\"1\" /><path clip-path=\"url(#clip300)\" d=\"M 0 0 M184.512 141.783 L192.151 141.783 L192.151 115.418 L183.841 117.084 L183.841 112.825 L192.105 111.158 L196.781 111.158 L196.781 141.783 L204.419 141.783 L204.419 145.718 L184.512 145.718 L184.512 141.783 Z\" fill=\"#000000\" fill-rule=\"evenodd\" fill-opacity=\"1\" /><path clip-path=\"url(#clip300)\" d=\"M 0 0 M219.489 114.237 Q215.878 114.237 214.049 117.802 Q212.243 121.344 212.243 128.473 Q212.243 135.58 214.049 139.144 Q215.878 142.686 219.489 142.686 Q223.123 142.686 224.929 139.144 Q226.757 135.58 226.757 128.473 Q226.757 121.344 224.929 117.802 Q223.123 114.237 219.489 114.237 M219.489 110.533 Q225.299 110.533 228.355 115.14 Q231.433 119.723 231.433 128.473 Q231.433 137.2 228.355 141.806 Q225.299 146.39 219.489 146.39 Q213.679 146.39 210.6 141.806 Q207.544 137.2 207.544 128.473 Q207.544 119.723 210.6 115.14 Q213.679 110.533 219.489 110.533 Z\" fill=\"#000000\" fill-rule=\"evenodd\" fill-opacity=\"1\" /><path clip-path=\"url(#clip300)\" d=\"M 0 0 M241.138 92.7295 Q238.204 92.7295 236.718 95.6259 Q235.251 98.5035 235.251 104.296 Q235.251 110.07 236.718 112.967 Q238.204 115.844 241.138 115.844 Q244.091 115.844 245.558 112.967 Q247.044 110.07 247.044 104.296 Q247.044 98.5035 245.558 95.6259 Q244.091 92.7295 241.138 92.7295 M241.138 89.7202 Q245.859 89.7202 248.341 93.463 Q250.843 97.1869 250.843 104.296 Q250.843 111.387 248.341 115.13 Q245.859 118.853 241.138 118.853 Q236.417 118.853 233.916 115.13 Q231.433 111.387 231.433 104.296 Q231.433 97.1869 233.916 93.463 Q236.417 89.7202 241.138 89.7202 Z\" fill=\"#000000\" fill-rule=\"evenodd\" fill-opacity=\"1\" /><path clip-path=\"url(#clip300)\" d=\"M 0 0 M1328.73 1534.53 L1328.73 1556.04 L1322.87 1556.04 L1322.87 1534.72 Q1322.87 1529.66 1320.9 1527.14 Q1318.92 1524.63 1314.98 1524.63 Q1310.23 1524.63 1307.5 1527.65 Q1304.76 1530.68 1304.76 1535.9 L1304.76 1556.04 L1298.87 1556.04 L1298.87 1506.52 L1304.76 1506.52 L1304.76 1525.93 Q1306.86 1522.72 1309.69 1521.13 Q1312.56 1519.54 1316.28 1519.54 Q1322.42 1519.54 1325.58 1523.36 Q1328.73 1527.14 1328.73 1534.53 Z\" fill=\"#000000\" fill-rule=\"evenodd\" fill-opacity=\"1\" /><path clip-path=\"url(#clip300)\" d=\"M 0 0 M40.4842 807.59 L40.4842 777.544 L45.895 777.544 L45.895 801.161 L59.9632 801.161 L59.9632 778.531 L65.3741 778.531 L65.3741 801.161 L82.5933 801.161 L82.5933 776.971 L88.0042 776.971 L88.0042 807.59 L40.4842 807.59 Z\" fill=\"#000000\" fill-rule=\"evenodd\" fill-opacity=\"1\" /><path clip-path=\"url(#clip300)\" d=\"M 0 0 M57.8307 750.171 Q57.2578 751.158 57.0032 752.336 Q56.7167 753.482 56.7167 754.882 Q56.7167 759.847 59.9632 762.521 Q63.1779 765.163 69.2253 765.163 L88.0042 765.163 L88.0042 771.051 L52.3562 771.051 L52.3562 765.163 L57.8944 765.163 Q54.6479 763.317 53.0883 760.357 Q51.4968 757.396 51.4968 753.163 Q51.4968 752.559 51.5923 751.826 Q51.656 751.094 51.8151 750.203 L57.8307 750.171 Z\" fill=\"#000000\" fill-rule=\"evenodd\" fill-opacity=\"1\" /><path clip-path=\"url(#clip300)\" d=\"M 0 0 M57.8307 724.518 Q57.2578 725.504 57.0032 726.682 Q56.7167 727.828 56.7167 729.228 Q56.7167 734.193 59.9632 736.867 Q63.1779 739.509 69.2253 739.509 L88.0042 739.509 L88.0042 745.397 L52.3562 745.397 L52.3562 739.509 L57.8944 739.509 Q54.6479 737.663 53.0883 734.703 Q51.4968 731.743 51.4968 727.509 Q51.4968 726.905 51.5923 726.173 Q51.656 725.441 51.8151 724.549 L57.8307 724.518 Z\" fill=\"#000000\" fill-rule=\"evenodd\" fill-opacity=\"1\" /><path clip-path=\"url(#clip300)\" d=\"M 0 0 M56.4621 705.993 Q56.4621 710.704 60.1542 713.441 Q63.8145 716.179 70.212 716.179 Q76.6095 716.179 80.3017 713.473 Q83.9619 710.736 83.9619 705.993 Q83.9619 701.315 80.2698 698.577 Q76.5777 695.84 70.212 695.84 Q63.8781 695.84 60.186 698.577 Q56.4621 701.315 56.4621 705.993 M51.4968 705.993 Q51.4968 698.355 56.4621 693.994 Q61.4273 689.634 70.212 689.634 Q78.9649 689.634 83.9619 693.994 Q88.9272 698.355 88.9272 705.993 Q88.9272 713.664 83.9619 718.025 Q78.9649 722.353 70.212 722.353 Q61.4273 722.353 56.4621 718.025 Q51.4968 713.664 51.4968 705.993 Z\" fill=\"#000000\" fill-rule=\"evenodd\" fill-opacity=\"1\" /><path clip-path=\"url(#clip300)\" d=\"M 0 0 M57.8307 662.834 Q57.2578 663.821 57.0032 664.998 Q56.7167 666.144 56.7167 667.545 Q56.7167 672.51 59.9632 675.183 Q63.1779 677.825 69.2253 677.825 L88.0042 677.825 L88.0042 683.713 L52.3562 683.713 L52.3562 677.825 L57.8944 677.825 Q54.6479 675.979 53.0883 673.019 Q51.4968 670.059 51.4968 665.826 Q51.4968 665.221 51.5923 664.489 Q51.656 663.757 51.8151 662.866 L57.8307 662.834 Z\" fill=\"#000000\" fill-rule=\"evenodd\" fill-opacity=\"1\" /><polyline clip-path=\"url(#clip302)\" style=\"stroke:#009af9; stroke-width:4; stroke-opacity:1; fill:none\" points=\"\n",
       "  333.652,86.1857 456.17,291 578.689,493.402 701.207,606.63 823.726,847.021 946.244,1006.38 1068.76,1268.67 1191.28,1268.67 1313.8,1384.24 1436.32,1292.32 \n",
       "  1558.84,1125.15 1681.35,960.267 1803.87,795.375 1926.39,630.465 2048.91,465.361 2171.43,298.304 2293.95,109.881 \n",
       "  \"/>\n",
       "<path clip-path=\"url(#clip300)\" d=\"\n",
       "M2001.59 214.069 L2283.49 214.069 L2283.49 93.1086 L2001.59 93.1086  Z\n",
       "  \" fill=\"#ffffff\" fill-rule=\"evenodd\" fill-opacity=\"1\"/>\n",
       "<polyline clip-path=\"url(#clip300)\" style=\"stroke:#000000; stroke-width:4; stroke-opacity:1; fill:none\" points=\"\n",
       "  2001.59,214.069 2283.49,214.069 2283.49,93.1086 2001.59,93.1086 2001.59,214.069 \n",
       "  \"/>\n",
       "<polyline clip-path=\"url(#clip300)\" style=\"stroke:#009af9; stroke-width:4; stroke-opacity:1; fill:none\" points=\"\n",
       "  2024.68,153.589 2163.21,153.589 \n",
       "  \"/>\n",
       "<path clip-path=\"url(#clip300)\" d=\"M 0 0 M2200.14 173.276 Q2198.34 177.906 2196.62 179.318 Q2194.91 180.73 2192.04 180.73 L2188.64 180.73 L2188.64 177.165 L2191.14 177.165 Q2192.9 177.165 2193.87 176.332 Q2194.84 175.498 2196.02 172.396 L2196.78 170.452 L2186.3 144.943 L2190.81 144.943 L2198.91 165.221 L2207.02 144.943 L2211.53 144.943 L2200.14 173.276 Z\" fill=\"#000000\" fill-rule=\"evenodd\" fill-opacity=\"1\" /><path clip-path=\"url(#clip300)\" d=\"M 0 0 M2217.41 166.933 L2225.05 166.933 L2225.05 140.568 L2216.74 142.235 L2216.74 137.975 L2225 136.309 L2229.68 136.309 L2229.68 166.933 L2237.32 166.933 L2237.32 170.869 L2217.41 170.869 L2217.41 166.933 Z\" fill=\"#000000\" fill-rule=\"evenodd\" fill-opacity=\"1\" /></svg>\n"
      ]
     },
     "execution_count": 26,
     "metadata": {},
     "output_type": "execute_result"
    }
   ],
   "source": [
    "# Lets use x_0 = 0.5 to produce results that clearly illustrate this point.\n",
    "x0 = 0.5\n",
    "\n",
    "# Using an array of powers of 10 as the h's\n",
    "hpows = range(-16,0,length = 17)\n",
    "h = 10 .^ hpows\n",
    "\n",
    "# Calculate the results from approximation and the expected results, compare\n",
    "forwarddiff = (exp.(x0 .+ h) .- exp(x0)) ./ h\n",
    "realval = exp(x0)\n",
    "abserror = abs.(forwarddiff .- realval)\n",
    "\n",
    "# Plot all this up on a nice log log plot \n",
    "plot(h,abserror, xaxis=:log, yaxis=:log)\n",
    "xlabel!(\"h\")\n",
    "ylabel!(\"Error\")"
   ]
  },
  {
   "cell_type": "markdown",
   "metadata": {},
   "source": [
    "This shows the behaviour desired fairly well I think. Clearly, there is a step size for which decreasing the step size starts making our error _worse_. This is well predicted by the error $O(h)+O(h^{-1} \\epsilon)$ since it represents the point where the $\\epsilon$ term begins dominating."
   ]
  },
  {
   "cell_type": "markdown",
   "metadata": {
    "deletable": false,
    "editable": false,
    "nbgrader": {
     "cell_type": "markdown",
     "checksum": "f9ef2f7b1f2a9894808639222cb9ad40",
     "grade": false,
     "grade_id": "cell-1f0784bdf7a942b7",
     "locked": true,
     "schema_version": 3,
     "solution": false,
     "task": false
    }
   },
   "source": [
    "Question 3 continued ...\n",
    "\n",
    "(b) For `Float64` precision $\\epsilon \\approx 10^{-16}$ (cf. `eps(Float64)`) How would you choose $h$? How would you choose $h$ for `Float32` precision?\n",
    "\n",
    "(c+) What is the corresponding estimate for the centered difference from Q2a and how does it affect your choice of $h$?"
   ]
  },
  {
   "cell_type": "markdown",
   "metadata": {
    "deletable": false,
    "nbgrader": {
     "cell_type": "markdown",
     "checksum": "b646a28c0875ddee06a5cd017527aa95",
     "grade": true,
     "grade_id": "cell-e18eb7942334c764",
     "locked": false,
     "points": 15,
     "schema_version": 3,
     "solution": true,
     "task": false
    }
   },
   "source": [
    "(b) We simply want to make sure that the two error terms are about the same in magnitude. So if we know that $\\epsilon \\approx 10^{-16}$ then we should pick $h \\approx 10^{-8}$ (also note thats the lowest error on the above plot from part (a)) such that \n",
    "$$ h = h^{-1}\\epsilon \\implies h^2 = \\epsilon $$\n",
    "In `Float32` precision, we know that $\\epsilon$ should be on the order \n",
    "\n",
    "(c) For centered finite difference, our two error terms are $O(h^2) + O(h^{-1}\\epsilon)$, therefore\n",
    "$$ h^2 = h^{-1}\\epsilon \\implies h^{3} = \\epsilon $$\n",
    "So we should choose $h = \\sqrt[3]{\\epsilon}$. We can also just do the plot from (a) and see this behavior!"
   ]
  },
  {
   "cell_type": "code",
   "execution_count": 29,
   "metadata": {},
   "outputs": [
    {
     "data": {
      "image/svg+xml": [
       "<?xml version=\"1.0\" encoding=\"utf-8\"?>\n",
       "<svg xmlns=\"http://www.w3.org/2000/svg\" xmlns:xlink=\"http://www.w3.org/1999/xlink\" width=\"600\" height=\"400\" viewBox=\"0 0 2400 1600\">\n",
       "<defs>\n",
       "  <clipPath id=\"clip380\">\n",
       "    <rect x=\"0\" y=\"0\" width=\"2400\" height=\"1600\"/>\n",
       "  </clipPath>\n",
       "</defs>\n",
       "<path clip-path=\"url(#clip380)\" d=\"\n",
       "M0 1600 L2400 1600 L2400 0 L0 0  Z\n",
       "  \" fill=\"#ffffff\" fill-rule=\"evenodd\" fill-opacity=\"1\"/>\n",
       "<defs>\n",
       "  <clipPath id=\"clip381\">\n",
       "    <rect x=\"480\" y=\"0\" width=\"1681\" height=\"1600\"/>\n",
       "  </clipPath>\n",
       "</defs>\n",
       "<path clip-path=\"url(#clip380)\" d=\"\n",
       "M337.111 1423.18 L2352.76 1423.18 L2352.76 47.2441 L337.111 47.2441  Z\n",
       "  \" fill=\"#ffffff\" fill-rule=\"evenodd\" fill-opacity=\"1\"/>\n",
       "<defs>\n",
       "  <clipPath id=\"clip382\">\n",
       "    <rect x=\"337\" y=\"47\" width=\"2017\" height=\"1377\"/>\n",
       "  </clipPath>\n",
       "</defs>\n",
       "<polyline clip-path=\"url(#clip382)\" style=\"stroke:#000000; stroke-width:2; stroke-opacity:0.1; fill:none\" points=\"\n",
       "  513.005,1423.18 513.005,47.2441 \n",
       "  \"/>\n",
       "<polyline clip-path=\"url(#clip382)\" style=\"stroke:#000000; stroke-width:2; stroke-opacity:0.1; fill:none\" points=\"\n",
       "  1107.24,1423.18 1107.24,47.2441 \n",
       "  \"/>\n",
       "<polyline clip-path=\"url(#clip382)\" style=\"stroke:#000000; stroke-width:2; stroke-opacity:0.1; fill:none\" points=\"\n",
       "  1701.47,1423.18 1701.47,47.2441 \n",
       "  \"/>\n",
       "<polyline clip-path=\"url(#clip382)\" style=\"stroke:#000000; stroke-width:2; stroke-opacity:0.1; fill:none\" points=\"\n",
       "  2295.71,1423.18 2295.71,47.2441 \n",
       "  \"/>\n",
       "<polyline clip-path=\"url(#clip382)\" style=\"stroke:#000000; stroke-width:2; stroke-opacity:0.1; fill:none\" points=\"\n",
       "  337.111,1246.14 2352.76,1246.14 \n",
       "  \"/>\n",
       "<polyline clip-path=\"url(#clip382)\" style=\"stroke:#000000; stroke-width:2; stroke-opacity:0.1; fill:none\" points=\"\n",
       "  337.111,948.139 2352.76,948.139 \n",
       "  \"/>\n",
       "<polyline clip-path=\"url(#clip382)\" style=\"stroke:#000000; stroke-width:2; stroke-opacity:0.1; fill:none\" points=\"\n",
       "  337.111,650.14 2352.76,650.14 \n",
       "  \"/>\n",
       "<polyline clip-path=\"url(#clip382)\" style=\"stroke:#000000; stroke-width:2; stroke-opacity:0.1; fill:none\" points=\"\n",
       "  337.111,352.142 2352.76,352.142 \n",
       "  \"/>\n",
       "<polyline clip-path=\"url(#clip382)\" style=\"stroke:#000000; stroke-width:2; stroke-opacity:0.1; fill:none\" points=\"\n",
       "  337.111,54.143 2352.76,54.143 \n",
       "  \"/>\n",
       "<polyline clip-path=\"url(#clip380)\" style=\"stroke:#000000; stroke-width:4; stroke-opacity:1; fill:none\" points=\"\n",
       "  337.111,1423.18 2352.76,1423.18 \n",
       "  \"/>\n",
       "<polyline clip-path=\"url(#clip380)\" style=\"stroke:#000000; stroke-width:4; stroke-opacity:1; fill:none\" points=\"\n",
       "  337.111,1423.18 337.111,47.2441 \n",
       "  \"/>\n",
       "<polyline clip-path=\"url(#clip380)\" style=\"stroke:#000000; stroke-width:4; stroke-opacity:1; fill:none\" points=\"\n",
       "  513.005,1423.18 513.005,1406.67 \n",
       "  \"/>\n",
       "<polyline clip-path=\"url(#clip380)\" style=\"stroke:#000000; stroke-width:4; stroke-opacity:1; fill:none\" points=\"\n",
       "  1107.24,1423.18 1107.24,1406.67 \n",
       "  \"/>\n",
       "<polyline clip-path=\"url(#clip380)\" style=\"stroke:#000000; stroke-width:4; stroke-opacity:1; fill:none\" points=\"\n",
       "  1701.47,1423.18 1701.47,1406.67 \n",
       "  \"/>\n",
       "<polyline clip-path=\"url(#clip380)\" style=\"stroke:#000000; stroke-width:4; stroke-opacity:1; fill:none\" points=\"\n",
       "  2295.71,1423.18 2295.71,1406.67 \n",
       "  \"/>\n",
       "<polyline clip-path=\"url(#clip380)\" style=\"stroke:#000000; stroke-width:4; stroke-opacity:1; fill:none\" points=\"\n",
       "  337.111,1246.14 361.299,1246.14 \n",
       "  \"/>\n",
       "<polyline clip-path=\"url(#clip380)\" style=\"stroke:#000000; stroke-width:4; stroke-opacity:1; fill:none\" points=\"\n",
       "  337.111,948.139 361.299,948.139 \n",
       "  \"/>\n",
       "<polyline clip-path=\"url(#clip380)\" style=\"stroke:#000000; stroke-width:4; stroke-opacity:1; fill:none\" points=\"\n",
       "  337.111,650.14 361.299,650.14 \n",
       "  \"/>\n",
       "<polyline clip-path=\"url(#clip380)\" style=\"stroke:#000000; stroke-width:4; stroke-opacity:1; fill:none\" points=\"\n",
       "  337.111,352.142 361.299,352.142 \n",
       "  \"/>\n",
       "<polyline clip-path=\"url(#clip380)\" style=\"stroke:#000000; stroke-width:4; stroke-opacity:1; fill:none\" points=\"\n",
       "  337.111,54.143 361.299,54.143 \n",
       "  \"/>\n",
       "<path clip-path=\"url(#clip380)\" d=\"M 0 0 M458.894 1494.25 L466.533 1494.25 L466.533 1467.89 L458.223 1469.55 L458.223 1465.29 L466.486 1463.63 L471.162 1463.63 L471.162 1494.25 L478.801 1494.25 L478.801 1498.19 L458.894 1498.19 L458.894 1494.25 Z\" fill=\"#000000\" fill-rule=\"evenodd\" fill-opacity=\"1\" /><path clip-path=\"url(#clip380)\" d=\"M 0 0 M493.871 1466.71 Q490.259 1466.71 488.431 1470.27 Q486.625 1473.81 486.625 1480.94 Q486.625 1488.05 488.431 1491.61 Q490.259 1495.15 493.871 1495.15 Q497.505 1495.15 499.31 1491.61 Q501.139 1488.05 501.139 1480.94 Q501.139 1473.81 499.31 1470.27 Q497.505 1466.71 493.871 1466.71 M493.871 1463 Q499.681 1463 502.736 1467.61 Q505.815 1472.19 505.815 1480.94 Q505.815 1489.67 502.736 1494.28 Q499.681 1498.86 493.871 1498.86 Q488.06 1498.86 484.982 1494.28 Q481.926 1489.67 481.926 1480.94 Q481.926 1472.19 484.982 1467.61 Q488.06 1463 493.871 1463 Z\" fill=\"#000000\" fill-rule=\"evenodd\" fill-opacity=\"1\" /><path clip-path=\"url(#clip380)\" d=\"M 0 0 M505.815 1458.68 L515.952 1458.68 L515.952 1461.77 L505.815 1461.77 L505.815 1458.68 Z\" fill=\"#000000\" fill-rule=\"evenodd\" fill-opacity=\"1\" /><path clip-path=\"url(#clip380)\" d=\"M 0 0 M530.472 1467.58 L536.678 1467.58 L536.678 1446.16 L529.926 1447.51 L529.926 1444.05 L536.641 1442.7 L540.44 1442.7 L540.44 1467.58 L546.647 1467.58 L546.647 1470.78 L530.472 1470.78 L530.472 1467.58 Z\" fill=\"#000000\" fill-rule=\"evenodd\" fill-opacity=\"1\" /><path clip-path=\"url(#clip380)\" d=\"M 0 0 M550.803 1442.7 L565.718 1442.7 L565.718 1445.89 L554.283 1445.89 L554.283 1452.78 Q555.11 1452.5 555.938 1452.36 Q556.765 1452.21 557.593 1452.21 Q562.295 1452.21 565.041 1454.79 Q567.787 1457.37 567.787 1461.77 Q567.787 1466.3 564.965 1468.82 Q562.144 1471.32 557.01 1471.32 Q555.242 1471.32 553.399 1471.02 Q551.574 1470.72 549.618 1470.12 L549.618 1466.3 Q551.311 1467.22 553.116 1467.67 Q554.922 1468.12 556.934 1468.12 Q560.188 1468.12 562.088 1466.41 Q563.987 1464.7 563.987 1461.77 Q563.987 1458.83 562.088 1457.12 Q560.188 1455.41 556.934 1455.41 Q555.411 1455.41 553.888 1455.75 Q552.383 1456.09 550.803 1456.8 L550.803 1442.7 Z\" fill=\"#000000\" fill-rule=\"evenodd\" fill-opacity=\"1\" /><path clip-path=\"url(#clip380)\" d=\"M 0 0 M1052.72 1494.25 L1060.36 1494.25 L1060.36 1467.89 L1052.05 1469.55 L1052.05 1465.29 L1060.32 1463.63 L1064.99 1463.63 L1064.99 1494.25 L1072.63 1494.25 L1072.63 1498.19 L1052.72 1498.19 L1052.72 1494.25 Z\" fill=\"#000000\" fill-rule=\"evenodd\" fill-opacity=\"1\" /><path clip-path=\"url(#clip380)\" d=\"M 0 0 M1087.7 1466.71 Q1084.09 1466.71 1082.26 1470.27 Q1080.46 1473.81 1080.46 1480.94 Q1080.46 1488.05 1082.26 1491.61 Q1084.09 1495.15 1087.7 1495.15 Q1091.34 1495.15 1093.14 1491.61 Q1094.97 1488.05 1094.97 1480.94 Q1094.97 1473.81 1093.14 1470.27 Q1091.34 1466.71 1087.7 1466.71 M1087.7 1463 Q1093.51 1463 1096.57 1467.61 Q1099.65 1472.19 1099.65 1480.94 Q1099.65 1489.67 1096.57 1494.28 Q1093.51 1498.86 1087.7 1498.86 Q1081.89 1498.86 1078.81 1494.28 Q1075.76 1489.67 1075.76 1480.94 Q1075.76 1472.19 1078.81 1467.61 Q1081.89 1463 1087.7 1463 Z\" fill=\"#000000\" fill-rule=\"evenodd\" fill-opacity=\"1\" /><path clip-path=\"url(#clip380)\" d=\"M 0 0 M1099.65 1458.68 L1109.78 1458.68 L1109.78 1461.77 L1099.65 1461.77 L1099.65 1458.68 Z\" fill=\"#000000\" fill-rule=\"evenodd\" fill-opacity=\"1\" /><path clip-path=\"url(#clip380)\" d=\"M 0 0 M1124.3 1467.58 L1130.51 1467.58 L1130.51 1446.16 L1123.76 1447.51 L1123.76 1444.05 L1130.47 1442.7 L1134.27 1442.7 L1134.27 1467.58 L1140.48 1467.58 L1140.48 1470.78 L1124.3 1470.78 L1124.3 1467.58 Z\" fill=\"#000000\" fill-rule=\"evenodd\" fill-opacity=\"1\" /><path clip-path=\"url(#clip380)\" d=\"M 0 0 M1152.72 1445.2 Q1149.79 1445.2 1148.3 1448.09 Q1146.83 1450.97 1146.83 1456.76 Q1146.83 1462.54 1148.3 1465.44 Q1149.79 1468.31 1152.72 1468.31 Q1155.67 1468.31 1157.14 1465.44 Q1158.63 1462.54 1158.63 1456.76 Q1158.63 1450.97 1157.14 1448.09 Q1155.67 1445.2 1152.72 1445.2 M1152.72 1442.19 Q1157.44 1442.19 1159.92 1445.93 Q1162.43 1449.66 1162.43 1456.76 Q1162.43 1463.86 1159.92 1467.6 Q1157.44 1471.32 1152.72 1471.32 Q1148 1471.32 1145.5 1467.6 Q1143.02 1463.86 1143.02 1456.76 Q1143.02 1449.66 1145.5 1445.93 Q1148 1442.19 1152.72 1442.19 Z\" fill=\"#000000\" fill-rule=\"evenodd\" fill-opacity=\"1\" /><path clip-path=\"url(#clip380)\" d=\"M 0 0 M1657.21 1494.25 L1664.85 1494.25 L1664.85 1467.89 L1656.54 1469.55 L1656.54 1465.29 L1664.8 1463.63 L1669.48 1463.63 L1669.48 1494.25 L1677.12 1494.25 L1677.12 1498.19 L1657.21 1498.19 L1657.21 1494.25 Z\" fill=\"#000000\" fill-rule=\"evenodd\" fill-opacity=\"1\" /><path clip-path=\"url(#clip380)\" d=\"M 0 0 M1692.19 1466.71 Q1688.58 1466.71 1686.75 1470.27 Q1684.94 1473.81 1684.94 1480.94 Q1684.94 1488.05 1686.75 1491.61 Q1688.58 1495.15 1692.19 1495.15 Q1695.82 1495.15 1697.63 1491.61 Q1699.45 1488.05 1699.45 1480.94 Q1699.45 1473.81 1697.63 1470.27 Q1695.82 1466.71 1692.19 1466.71 M1692.19 1463 Q1698 1463 1701.05 1467.61 Q1704.13 1472.19 1704.13 1480.94 Q1704.13 1489.67 1701.05 1494.28 Q1698 1498.86 1692.19 1498.86 Q1686.38 1498.86 1683.3 1494.28 Q1680.24 1489.67 1680.24 1480.94 Q1680.24 1472.19 1683.3 1467.61 Q1686.38 1463 1692.19 1463 Z\" fill=\"#000000\" fill-rule=\"evenodd\" fill-opacity=\"1\" /><path clip-path=\"url(#clip380)\" d=\"M 0 0 M1704.13 1458.68 L1714.27 1458.68 L1714.27 1461.77 L1704.13 1461.77 L1704.13 1458.68 Z\" fill=\"#000000\" fill-rule=\"evenodd\" fill-opacity=\"1\" /><path clip-path=\"url(#clip380)\" d=\"M 0 0 M1729.43 1442.7 L1744.34 1442.7 L1744.34 1445.89 L1732.91 1445.89 L1732.91 1452.78 Q1733.73 1452.5 1734.56 1452.36 Q1735.39 1452.21 1736.22 1452.21 Q1740.92 1452.21 1743.66 1454.79 Q1746.41 1457.37 1746.41 1461.77 Q1746.41 1466.3 1743.59 1468.82 Q1740.77 1471.32 1735.63 1471.32 Q1733.87 1471.32 1732.02 1471.02 Q1730.2 1470.72 1728.24 1470.12 L1728.24 1466.3 Q1729.93 1467.22 1731.74 1467.67 Q1733.55 1468.12 1735.56 1468.12 Q1738.81 1468.12 1740.71 1466.41 Q1742.61 1464.7 1742.61 1461.77 Q1742.61 1458.83 1740.71 1457.12 Q1738.81 1455.41 1735.56 1455.41 Q1734.04 1455.41 1732.51 1455.75 Q1731.01 1456.09 1729.43 1456.8 L1729.43 1442.7 Z\" fill=\"#000000\" fill-rule=\"evenodd\" fill-opacity=\"1\" /><path clip-path=\"url(#clip380)\" d=\"M 0 0 M2262.88 1494.25 L2270.52 1494.25 L2270.52 1467.89 L2262.21 1469.55 L2262.21 1465.29 L2270.47 1463.63 L2275.15 1463.63 L2275.15 1494.25 L2282.79 1494.25 L2282.79 1498.19 L2262.88 1498.19 L2262.88 1494.25 Z\" fill=\"#000000\" fill-rule=\"evenodd\" fill-opacity=\"1\" /><path clip-path=\"url(#clip380)\" d=\"M 0 0 M2297.86 1466.71 Q2294.25 1466.71 2292.42 1470.27 Q2290.61 1473.81 2290.61 1480.94 Q2290.61 1488.05 2292.42 1491.61 Q2294.25 1495.15 2297.86 1495.15 Q2301.49 1495.15 2303.3 1491.61 Q2305.12 1488.05 2305.12 1480.94 Q2305.12 1473.81 2303.3 1470.27 Q2301.49 1466.71 2297.86 1466.71 M2297.86 1463 Q2303.67 1463 2306.72 1467.61 Q2309.8 1472.19 2309.8 1480.94 Q2309.8 1489.67 2306.72 1494.28 Q2303.67 1498.86 2297.86 1498.86 Q2292.05 1498.86 2288.97 1494.28 Q2285.91 1489.67 2285.91 1480.94 Q2285.91 1472.19 2288.97 1467.61 Q2292.05 1463 2297.86 1463 Z\" fill=\"#000000\" fill-rule=\"evenodd\" fill-opacity=\"1\" /><path clip-path=\"url(#clip380)\" d=\"M 0 0 M2319.51 1445.2 Q2316.57 1445.2 2315.09 1448.09 Q2313.62 1450.97 2313.62 1456.76 Q2313.62 1462.54 2315.09 1465.44 Q2316.57 1468.31 2319.51 1468.31 Q2322.46 1468.31 2323.93 1465.44 Q2325.41 1462.54 2325.41 1456.76 Q2325.41 1450.97 2323.93 1448.09 Q2322.46 1445.2 2319.51 1445.2 M2319.51 1442.19 Q2324.23 1442.19 2326.71 1445.93 Q2329.21 1449.66 2329.21 1456.76 Q2329.21 1463.86 2326.71 1467.6 Q2324.23 1471.32 2319.51 1471.32 Q2314.78 1471.32 2312.28 1467.6 Q2309.8 1463.86 2309.8 1456.76 Q2309.8 1449.66 2312.28 1445.93 Q2314.78 1442.19 2319.51 1442.19 Z\" fill=\"#000000\" fill-rule=\"evenodd\" fill-opacity=\"1\" /><path clip-path=\"url(#clip380)\" d=\"M 0 0 M173.374 1265.93 L181.012 1265.93 L181.012 1239.56 L172.702 1241.23 L172.702 1236.97 L180.966 1235.3 L185.642 1235.3 L185.642 1265.93 L193.281 1265.93 L193.281 1269.86 L173.374 1269.86 L173.374 1265.93 Z\" fill=\"#000000\" fill-rule=\"evenodd\" fill-opacity=\"1\" /><path clip-path=\"url(#clip380)\" d=\"M 0 0 M208.35 1238.38 Q204.739 1238.38 202.91 1241.95 Q201.105 1245.49 201.105 1252.62 Q201.105 1259.73 202.91 1263.29 Q204.739 1266.83 208.35 1266.83 Q211.985 1266.83 213.79 1263.29 Q215.619 1259.73 215.619 1252.62 Q215.619 1245.49 213.79 1241.95 Q211.985 1238.38 208.35 1238.38 M208.35 1234.68 Q214.16 1234.68 217.216 1239.29 Q220.295 1243.87 220.295 1252.62 Q220.295 1261.35 217.216 1265.95 Q214.16 1270.54 208.35 1270.54 Q202.54 1270.54 199.461 1265.95 Q196.406 1261.35 196.406 1252.62 Q196.406 1243.87 199.461 1239.29 Q202.54 1234.68 208.35 1234.68 Z\" fill=\"#000000\" fill-rule=\"evenodd\" fill-opacity=\"1\" /><path clip-path=\"url(#clip380)\" d=\"M 0 0 M220.295 1230.36 L230.432 1230.36 L230.432 1233.45 L220.295 1233.45 L220.295 1230.36 Z\" fill=\"#000000\" fill-rule=\"evenodd\" fill-opacity=\"1\" /><path clip-path=\"url(#clip380)\" d=\"M 0 0 M244.952 1239.26 L251.158 1239.26 L251.158 1217.84 L244.406 1219.19 L244.406 1215.73 L251.121 1214.37 L254.92 1214.37 L254.92 1239.26 L261.126 1239.26 L261.126 1242.45 L244.952 1242.45 L244.952 1239.26 Z\" fill=\"#000000\" fill-rule=\"evenodd\" fill-opacity=\"1\" /><path clip-path=\"url(#clip380)\" d=\"M 0 0 M273.37 1216.88 Q270.436 1216.88 268.95 1219.77 Q267.483 1222.65 267.483 1228.44 Q267.483 1234.22 268.95 1237.11 Q270.436 1239.99 273.37 1239.99 Q276.323 1239.99 277.79 1237.11 Q279.276 1234.22 279.276 1228.44 Q279.276 1222.65 277.79 1219.77 Q276.323 1216.88 273.37 1216.88 M273.37 1213.87 Q278.091 1213.87 280.574 1217.61 Q283.075 1221.33 283.075 1228.44 Q283.075 1235.53 280.574 1239.28 Q278.091 1243 273.37 1243 Q268.649 1243 266.148 1239.28 Q263.665 1235.53 263.665 1228.44 Q263.665 1221.33 266.148 1217.61 Q268.649 1213.87 273.37 1213.87 Z\" fill=\"#000000\" fill-rule=\"evenodd\" fill-opacity=\"1\" /><path clip-path=\"url(#clip380)\" d=\"M 0 0 M287.194 1237.68 L291.162 1237.68 L291.162 1242.45 L287.194 1242.45 L287.194 1237.68 Z\" fill=\"#000000\" fill-rule=\"evenodd\" fill-opacity=\"1\" /><path clip-path=\"url(#clip380)\" d=\"M 0 0 M303.406 1216.88 Q300.472 1216.88 298.986 1219.77 Q297.519 1222.65 297.519 1228.44 Q297.519 1234.22 298.986 1237.11 Q300.472 1239.99 303.406 1239.99 Q306.359 1239.99 307.826 1237.11 Q309.312 1234.22 309.312 1228.44 Q309.312 1222.65 307.826 1219.77 Q306.359 1216.88 303.406 1216.88 M303.406 1213.87 Q308.127 1213.87 310.61 1217.61 Q313.111 1221.33 313.111 1228.44 Q313.111 1235.53 310.61 1239.28 Q308.127 1243 303.406 1243 Q298.685 1243 296.184 1239.28 Q293.701 1235.53 293.701 1228.44 Q293.701 1221.33 296.184 1217.61 Q298.685 1213.87 303.406 1213.87 Z\" fill=\"#000000\" fill-rule=\"evenodd\" fill-opacity=\"1\" /><path clip-path=\"url(#clip380)\" d=\"M 0 0 M194.796 967.931 L202.435 967.931 L202.435 941.566 L194.124 943.232 L194.124 938.973 L202.388 937.306 L207.064 937.306 L207.064 967.931 L214.703 967.931 L214.703 971.866 L194.796 971.866 L194.796 967.931 Z\" fill=\"#000000\" fill-rule=\"evenodd\" fill-opacity=\"1\" /><path clip-path=\"url(#clip380)\" d=\"M 0 0 M229.772 940.385 Q226.161 940.385 224.333 943.95 Q222.527 947.491 222.527 954.621 Q222.527 961.727 224.333 965.292 Q226.161 968.834 229.772 968.834 Q233.407 968.834 235.212 965.292 Q237.041 961.727 237.041 954.621 Q237.041 947.491 235.212 943.95 Q233.407 940.385 229.772 940.385 M229.772 936.681 Q235.582 936.681 238.638 941.288 Q241.717 945.871 241.717 954.621 Q241.717 963.348 238.638 967.954 Q235.582 972.538 229.772 972.538 Q223.962 972.538 220.883 967.954 Q217.828 963.348 217.828 954.621 Q217.828 945.871 220.883 941.288 Q223.962 936.681 229.772 936.681 Z\" fill=\"#000000\" fill-rule=\"evenodd\" fill-opacity=\"1\" /><path clip-path=\"url(#clip380)\" d=\"M 0 0 M241.717 932.363 L251.854 932.363 L251.854 935.447 L241.717 935.447 L241.717 932.363 Z\" fill=\"#000000\" fill-rule=\"evenodd\" fill-opacity=\"1\" /><path clip-path=\"url(#clip380)\" d=\"M 0 0 M265.828 916.376 L283.884 916.376 L283.884 917.993 L273.69 944.456 L269.721 944.456 L279.313 919.573 L265.828 919.573 L265.828 916.376 Z\" fill=\"#000000\" fill-rule=\"evenodd\" fill-opacity=\"1\" /><path clip-path=\"url(#clip380)\" d=\"M 0 0 M288.003 939.679 L291.971 939.679 L291.971 944.456 L288.003 944.456 L288.003 939.679 Z\" fill=\"#000000\" fill-rule=\"evenodd\" fill-opacity=\"1\" /><path clip-path=\"url(#clip380)\" d=\"M 0 0 M296.128 916.376 L311.042 916.376 L311.042 919.573 L299.607 919.573 L299.607 926.457 Q300.435 926.175 301.262 926.043 Q302.09 925.893 302.917 925.893 Q307.619 925.893 310.365 928.469 Q313.111 931.046 313.111 935.447 Q313.111 939.98 310.29 942.5 Q307.469 945.001 302.334 945.001 Q300.566 945.001 298.723 944.7 Q296.899 944.399 294.943 943.798 L294.943 939.98 Q296.635 940.901 298.441 941.353 Q300.246 941.804 302.259 941.804 Q305.513 941.804 307.412 940.093 Q309.312 938.381 309.312 935.447 Q309.312 932.513 307.412 930.801 Q305.513 929.09 302.259 929.09 Q300.735 929.09 299.212 929.429 Q297.707 929.767 296.128 930.482 L296.128 916.376 Z\" fill=\"#000000\" fill-rule=\"evenodd\" fill-opacity=\"1\" /><path clip-path=\"url(#clip380)\" d=\"M 0 0 M193.874 669.933 L201.513 669.933 L201.513 643.567 L193.203 645.234 L193.203 640.974 L201.467 639.308 L206.143 639.308 L206.143 669.933 L213.781 669.933 L213.781 673.868 L193.874 673.868 L193.874 669.933 Z\" fill=\"#000000\" fill-rule=\"evenodd\" fill-opacity=\"1\" /><path clip-path=\"url(#clip380)\" d=\"M 0 0 M228.851 642.386 Q225.24 642.386 223.411 645.951 Q221.605 649.493 221.605 656.622 Q221.605 663.729 223.411 667.294 Q225.24 670.835 228.851 670.835 Q232.485 670.835 234.291 667.294 Q236.119 663.729 236.119 656.622 Q236.119 649.493 234.291 645.951 Q232.485 642.386 228.851 642.386 M228.851 638.683 Q234.661 638.683 237.716 643.289 Q240.795 647.873 240.795 656.622 Q240.795 665.349 237.716 669.956 Q234.661 674.539 228.851 674.539 Q223.041 674.539 219.962 669.956 Q216.906 665.349 216.906 656.622 Q216.906 647.873 219.962 643.289 Q223.041 638.683 228.851 638.683 Z\" fill=\"#000000\" fill-rule=\"evenodd\" fill-opacity=\"1\" /><path clip-path=\"url(#clip380)\" d=\"M 0 0 M240.795 634.364 L250.933 634.364 L250.933 637.448 L240.795 637.448 L240.795 634.364 Z\" fill=\"#000000\" fill-rule=\"evenodd\" fill-opacity=\"1\" /><path clip-path=\"url(#clip380)\" d=\"M 0 0 M266.092 618.377 L281.006 618.377 L281.006 621.575 L269.571 621.575 L269.571 628.458 Q270.399 628.176 271.226 628.045 Q272.054 627.894 272.881 627.894 Q277.583 627.894 280.329 630.471 Q283.075 633.047 283.075 637.448 Q283.075 641.981 280.254 644.501 Q277.433 647.003 272.298 647.003 Q270.53 647.003 268.687 646.702 Q266.863 646.401 264.907 645.799 L264.907 641.981 Q266.599 642.903 268.405 643.354 Q270.21 643.805 272.223 643.805 Q275.477 643.805 277.376 642.094 Q279.276 640.382 279.276 637.448 Q279.276 634.514 277.376 632.803 Q275.477 631.091 272.223 631.091 Q270.699 631.091 269.176 631.43 Q267.671 631.768 266.092 632.483 L266.092 618.377 Z\" fill=\"#000000\" fill-rule=\"evenodd\" fill-opacity=\"1\" /><path clip-path=\"url(#clip380)\" d=\"M 0 0 M287.194 641.68 L291.162 641.68 L291.162 646.457 L287.194 646.457 L287.194 641.68 Z\" fill=\"#000000\" fill-rule=\"evenodd\" fill-opacity=\"1\" /><path clip-path=\"url(#clip380)\" d=\"M 0 0 M303.406 620.879 Q300.472 620.879 298.986 623.775 Q297.519 626.653 297.519 632.446 Q297.519 638.22 298.986 641.116 Q300.472 643.994 303.406 643.994 Q306.359 643.994 307.826 641.116 Q309.312 638.22 309.312 632.446 Q309.312 626.653 307.826 623.775 Q306.359 620.879 303.406 620.879 M303.406 617.87 Q308.127 617.87 310.61 621.612 Q313.111 625.336 313.111 632.446 Q313.111 639.536 310.61 643.279 Q308.127 647.003 303.406 647.003 Q298.685 647.003 296.184 643.279 Q293.701 639.536 293.701 632.446 Q293.701 625.336 296.184 621.612 Q298.685 617.87 303.406 617.87 Z\" fill=\"#000000\" fill-rule=\"evenodd\" fill-opacity=\"1\" /><path clip-path=\"url(#clip380)\" d=\"M 0 0 M195.021 371.934 L202.66 371.934 L202.66 345.568 L194.35 347.235 L194.35 342.976 L202.614 341.309 L207.29 341.309 L207.29 371.934 L214.929 371.934 L214.929 375.869 L195.021 375.869 L195.021 371.934 Z\" fill=\"#000000\" fill-rule=\"evenodd\" fill-opacity=\"1\" /><path clip-path=\"url(#clip380)\" d=\"M 0 0 M229.998 344.388 Q226.387 344.388 224.558 347.953 Q222.753 351.494 222.753 358.624 Q222.753 365.73 224.558 369.295 Q226.387 372.837 229.998 372.837 Q233.632 372.837 235.438 369.295 Q237.267 365.73 237.267 358.624 Q237.267 351.494 235.438 347.953 Q233.632 344.388 229.998 344.388 M229.998 340.684 Q235.808 340.684 238.864 345.291 Q241.942 349.874 241.942 358.624 Q241.942 367.351 238.864 371.957 Q235.808 376.54 229.998 376.54 Q224.188 376.54 221.109 371.957 Q218.054 367.351 218.054 358.624 Q218.054 349.874 221.109 345.291 Q224.188 340.684 229.998 340.684 Z\" fill=\"#000000\" fill-rule=\"evenodd\" fill-opacity=\"1\" /><path clip-path=\"url(#clip380)\" d=\"M 0 0 M241.942 336.365 L252.08 336.365 L252.08 339.45 L241.942 339.45 L241.942 336.365 Z\" fill=\"#000000\" fill-rule=\"evenodd\" fill-opacity=\"1\" /><path clip-path=\"url(#clip380)\" d=\"M 0 0 M270.624 345.261 L283.884 345.261 L283.884 348.459 L266.054 348.459 L266.054 345.261 Q268.217 343.023 271.941 339.262 Q275.684 335.481 276.643 334.391 Q278.467 332.341 279.182 330.93 Q279.915 329.501 279.915 328.128 Q279.915 325.889 278.335 324.479 Q276.774 323.068 274.254 323.068 Q272.467 323.068 270.474 323.689 Q268.499 324.31 266.242 325.57 L266.242 321.733 Q268.537 320.811 270.53 320.341 Q272.524 319.871 274.179 319.871 Q278.542 319.871 281.138 322.053 Q283.733 324.234 283.733 327.883 Q283.733 329.613 283.075 331.174 Q282.436 332.717 280.724 334.823 Q280.254 335.369 277.734 337.983 Q275.213 340.578 270.624 345.261 Z\" fill=\"#000000\" fill-rule=\"evenodd\" fill-opacity=\"1\" /><path clip-path=\"url(#clip380)\" d=\"M 0 0 M288.003 343.682 L291.971 343.682 L291.971 348.459 L288.003 348.459 L288.003 343.682 Z\" fill=\"#000000\" fill-rule=\"evenodd\" fill-opacity=\"1\" /><path clip-path=\"url(#clip380)\" d=\"M 0 0 M296.128 320.379 L311.042 320.379 L311.042 323.576 L299.607 323.576 L299.607 330.46 Q300.435 330.178 301.262 330.046 Q302.09 329.895 302.917 329.895 Q307.619 329.895 310.365 332.472 Q313.111 335.049 313.111 339.45 Q313.111 343.983 310.29 346.503 Q307.469 349.004 302.334 349.004 Q300.566 349.004 298.723 348.703 Q296.899 348.402 294.943 347.8 L294.943 343.983 Q296.635 344.904 298.441 345.355 Q300.246 345.807 302.259 345.807 Q305.513 345.807 307.412 344.095 Q309.312 342.384 309.312 339.45 Q309.312 336.516 307.412 334.804 Q305.513 333.093 302.259 333.093 Q300.735 333.093 299.212 333.431 Q297.707 333.77 296.128 334.485 L296.128 320.379 Z\" fill=\"#000000\" fill-rule=\"evenodd\" fill-opacity=\"1\" /><path clip-path=\"url(#clip380)\" d=\"M 0 0 M216.744 73.9354 L224.383 73.9354 L224.383 47.5698 L216.073 49.2365 L216.073 44.9773 L224.337 43.3106 L229.013 43.3106 L229.013 73.9354 L236.652 73.9354 L236.652 77.8706 L216.744 77.8706 L216.744 73.9354 Z\" fill=\"#000000\" fill-rule=\"evenodd\" fill-opacity=\"1\" /><path clip-path=\"url(#clip380)\" d=\"M 0 0 M251.721 46.3893 Q248.11 46.3893 246.281 49.9541 Q244.476 53.4957 244.476 60.6253 Q244.476 67.7318 246.281 71.2966 Q248.11 74.8382 251.721 74.8382 Q255.355 74.8382 257.161 71.2966 Q258.989 67.7318 258.989 60.6253 Q258.989 53.4957 257.161 49.9541 Q255.355 46.3893 251.721 46.3893 M251.721 42.6856 Q257.531 42.6856 260.587 47.2921 Q263.665 51.8754 263.665 60.6253 Q263.665 69.3521 260.587 73.9586 Q257.531 78.5419 251.721 78.5419 Q245.911 78.5419 242.832 73.9586 Q239.777 69.3521 239.777 60.6253 Q239.777 51.8754 242.832 47.2921 Q245.911 42.6856 251.721 42.6856 Z\" fill=\"#000000\" fill-rule=\"evenodd\" fill-opacity=\"1\" /><path clip-path=\"url(#clip380)\" d=\"M 0 0 M273.37 24.8816 Q270.436 24.8816 268.95 27.778 Q267.483 30.6556 267.483 36.4484 Q267.483 42.2224 268.95 45.1188 Q270.436 47.9964 273.37 47.9964 Q276.323 47.9964 277.79 45.1188 Q279.276 42.2224 279.276 36.4484 Q279.276 30.6556 277.79 27.778 Q276.323 24.8816 273.37 24.8816 M273.37 21.8724 Q278.091 21.8724 280.574 25.6151 Q283.075 29.3391 283.075 36.4484 Q283.075 43.5389 280.574 47.2817 Q278.091 51.0056 273.37 51.0056 Q268.649 51.0056 266.148 47.2817 Q263.665 43.5389 263.665 36.4484 Q263.665 29.3391 266.148 25.6151 Q268.649 21.8724 273.37 21.8724 Z\" fill=\"#000000\" fill-rule=\"evenodd\" fill-opacity=\"1\" /><path clip-path=\"url(#clip380)\" d=\"M 0 0 M287.194 45.683 L291.162 45.683 L291.162 50.4602 L287.194 50.4602 L287.194 45.683 Z\" fill=\"#000000\" fill-rule=\"evenodd\" fill-opacity=\"1\" /><path clip-path=\"url(#clip380)\" d=\"M 0 0 M303.406 24.8816 Q300.472 24.8816 298.986 27.778 Q297.519 30.6556 297.519 36.4484 Q297.519 42.2224 298.986 45.1188 Q300.472 47.9964 303.406 47.9964 Q306.359 47.9964 307.826 45.1188 Q309.312 42.2224 309.312 36.4484 Q309.312 30.6556 307.826 27.778 Q306.359 24.8816 303.406 24.8816 M303.406 21.8724 Q308.127 21.8724 310.61 25.6151 Q313.111 29.3391 313.111 36.4484 Q313.111 43.5389 310.61 47.2817 Q308.127 51.0056 303.406 51.0056 Q298.685 51.0056 296.184 47.2817 Q293.701 43.5389 293.701 36.4484 Q293.701 29.3391 296.184 25.6151 Q298.685 21.8724 303.406 21.8724 Z\" fill=\"#000000\" fill-rule=\"evenodd\" fill-opacity=\"1\" /><path clip-path=\"url(#clip380)\" d=\"M 0 0 M1359.86 1534.53 L1359.86 1556.04 L1354 1556.04 L1354 1534.72 Q1354 1529.66 1352.03 1527.14 Q1350.06 1524.63 1346.11 1524.63 Q1341.37 1524.63 1338.63 1527.65 Q1335.89 1530.68 1335.89 1535.9 L1335.89 1556.04 L1330.01 1556.04 L1330.01 1506.52 L1335.89 1506.52 L1335.89 1525.93 Q1337.99 1522.72 1340.83 1521.13 Q1343.69 1519.54 1347.42 1519.54 Q1353.56 1519.54 1356.71 1523.36 Q1359.86 1527.14 1359.86 1534.53 Z\" fill=\"#000000\" fill-rule=\"evenodd\" fill-opacity=\"1\" /><path clip-path=\"url(#clip380)\" d=\"M 0 0 M40.4842 807.59 L40.4842 777.544 L45.895 777.544 L45.895 801.161 L59.9632 801.161 L59.9632 778.531 L65.3741 778.531 L65.3741 801.161 L82.5933 801.161 L82.5933 776.971 L88.0042 776.971 L88.0042 807.59 L40.4842 807.59 Z\" fill=\"#000000\" fill-rule=\"evenodd\" fill-opacity=\"1\" /><path clip-path=\"url(#clip380)\" d=\"M 0 0 M57.8307 750.171 Q57.2578 751.158 57.0032 752.336 Q56.7167 753.482 56.7167 754.882 Q56.7167 759.847 59.9632 762.521 Q63.1779 765.163 69.2253 765.163 L88.0042 765.163 L88.0042 771.051 L52.3562 771.051 L52.3562 765.163 L57.8944 765.163 Q54.6479 763.317 53.0883 760.357 Q51.4968 757.396 51.4968 753.163 Q51.4968 752.559 51.5923 751.826 Q51.656 751.094 51.8151 750.203 L57.8307 750.171 Z\" fill=\"#000000\" fill-rule=\"evenodd\" fill-opacity=\"1\" /><path clip-path=\"url(#clip380)\" d=\"M 0 0 M57.8307 724.518 Q57.2578 725.504 57.0032 726.682 Q56.7167 727.828 56.7167 729.228 Q56.7167 734.193 59.9632 736.867 Q63.1779 739.509 69.2253 739.509 L88.0042 739.509 L88.0042 745.397 L52.3562 745.397 L52.3562 739.509 L57.8944 739.509 Q54.6479 737.663 53.0883 734.703 Q51.4968 731.743 51.4968 727.509 Q51.4968 726.905 51.5923 726.173 Q51.656 725.441 51.8151 724.549 L57.8307 724.518 Z\" fill=\"#000000\" fill-rule=\"evenodd\" fill-opacity=\"1\" /><path clip-path=\"url(#clip380)\" d=\"M 0 0 M56.4621 705.993 Q56.4621 710.704 60.1542 713.441 Q63.8145 716.179 70.212 716.179 Q76.6095 716.179 80.3017 713.473 Q83.9619 710.736 83.9619 705.993 Q83.9619 701.315 80.2698 698.577 Q76.5777 695.84 70.212 695.84 Q63.8781 695.84 60.186 698.577 Q56.4621 701.315 56.4621 705.993 M51.4968 705.993 Q51.4968 698.355 56.4621 693.994 Q61.4273 689.634 70.212 689.634 Q78.9649 689.634 83.9619 693.994 Q88.9272 698.355 88.9272 705.993 Q88.9272 713.664 83.9619 718.025 Q78.9649 722.353 70.212 722.353 Q61.4273 722.353 56.4621 718.025 Q51.4968 713.664 51.4968 705.993 Z\" fill=\"#000000\" fill-rule=\"evenodd\" fill-opacity=\"1\" /><path clip-path=\"url(#clip380)\" d=\"M 0 0 M57.8307 662.834 Q57.2578 663.821 57.0032 664.998 Q56.7167 666.144 56.7167 667.545 Q56.7167 672.51 59.9632 675.183 Q63.1779 677.825 69.2253 677.825 L88.0042 677.825 L88.0042 683.713 L52.3562 683.713 L52.3562 677.825 L57.8944 677.825 Q54.6479 675.979 53.0883 673.019 Q51.4968 670.059 51.4968 665.826 Q51.4968 665.221 51.5923 664.489 Q51.656 663.757 51.8151 662.866 L57.8307 662.834 Z\" fill=\"#000000\" fill-rule=\"evenodd\" fill-opacity=\"1\" /><polyline clip-path=\"url(#clip382)\" style=\"stroke:#009af9; stroke-width:4; stroke-opacity:1; fill:none\" points=\"\n",
       "  394.158,86.1857 432.189,92.4826 470.22,159.111 508.251,194.708 546.282,264.191 584.313,246.088 622.344,315.581 660.375,453.625 698.406,441.509 736.437,429.493 \n",
       "  774.468,480.751 812.499,496.217 850.53,509.677 888.561,606.514 926.592,633.761 964.623,651.22 1002.65,770.812 1040.69,819.156 1078.72,731.317 1116.75,899.729 \n",
       "  1154.78,993.005 1192.81,923.503 1230.84,890.123 1268.87,948.459 1306.9,993.462 1344.93,1002.7 1382.96,1031.29 1421,1085.81 1459.03,1235.43 1497.06,1185.44 \n",
       "  1535.09,1254.85 1573.12,1314.57 1611.15,1286.97 1649.18,1384.24 1687.21,1370.83 1725.24,1261.57 1763.27,1189.64 1801.31,1112.72 1839.34,1036.47 1877.37,960.178 \n",
       "  1915.4,883.891 1953.43,807.603 1991.46,731.315 2029.49,655.028 2067.52,578.74 2105.55,502.451 2143.59,426.158 2181.62,349.846 2219.65,273.454 2257.68,196.709 \n",
       "  2295.71,118.429 \n",
       "  \"/>\n",
       "<path clip-path=\"url(#clip380)\" d=\"\n",
       "M2010.59 214.069 L2285.57 214.069 L2285.57 93.1086 L2010.59 93.1086  Z\n",
       "  \" fill=\"#ffffff\" fill-rule=\"evenodd\" fill-opacity=\"1\"/>\n",
       "<polyline clip-path=\"url(#clip380)\" style=\"stroke:#000000; stroke-width:4; stroke-opacity:1; fill:none\" points=\"\n",
       "  2010.59,214.069 2285.57,214.069 2285.57,93.1086 2010.59,93.1086 2010.59,214.069 \n",
       "  \"/>\n",
       "<polyline clip-path=\"url(#clip380)\" style=\"stroke:#009af9; stroke-width:4; stroke-opacity:1; fill:none\" points=\"\n",
       "  2032.99,153.589 2167.36,153.589 \n",
       "  \"/>\n",
       "<path clip-path=\"url(#clip380)\" d=\"M 0 0 M2203.6 173.276 Q2201.79 177.906 2200.08 179.318 Q2198.37 180.73 2195.5 180.73 L2192.1 180.73 L2192.1 177.165 L2194.6 177.165 Q2196.35 177.165 2197.33 176.332 Q2198.3 175.498 2199.48 172.396 L2200.24 170.452 L2189.76 144.943 L2194.27 144.943 L2202.37 165.221 L2210.47 144.943 L2214.99 144.943 L2203.6 173.276 Z\" fill=\"#000000\" fill-rule=\"evenodd\" fill-opacity=\"1\" /><path clip-path=\"url(#clip380)\" d=\"M 0 0 M2220.87 166.933 L2228.51 166.933 L2228.51 140.568 L2220.2 142.235 L2220.2 137.975 L2228.46 136.309 L2233.14 136.309 L2233.14 166.933 L2240.78 166.933 L2240.78 170.869 L2220.87 170.869 L2220.87 166.933 Z\" fill=\"#000000\" fill-rule=\"evenodd\" fill-opacity=\"1\" /></svg>\n"
      ]
     },
     "execution_count": 29,
     "metadata": {},
     "output_type": "execute_result"
    }
   ],
   "source": [
    "# Lets use x_0 = 0.5 to produce results that clearly illustrate this point.\n",
    "x0 = 0.5\n",
    "\n",
    "# Using an array of powers of 10 as the h's\n",
    "# Choose a few more to show centered difference better\n",
    "hpows = range(-16,0,length = (17*3))\n",
    "h = 10 .^ hpows\n",
    "\n",
    "# Calculate the results from approximation and the expected results, compare\n",
    "# This time with centered finite difference\n",
    "forwarddiff = (exp.(x0 .+ h) .- exp.(x0 .- h)) ./ (2 .* h)\n",
    "realval = exp(x0)\n",
    "abserror = abs.(forwarddiff .- realval)\n",
    "\n",
    "# Plot all this up on a nice log log plot \n",
    "plot(h,abserror, xaxis=:log, yaxis=:log)\n",
    "xlabel!(\"h\")\n",
    "ylabel!(\"Error\")"
   ]
  },
  {
   "cell_type": "markdown",
   "metadata": {},
   "source": [
    "As expected, choose $h = \\sqrt[3]{\\epsilon} = 10^{-5.33}$"
   ]
  },
  {
   "cell_type": "markdown",
   "metadata": {
    "deletable": false,
    "editable": false,
    "nbgrader": {
     "cell_type": "markdown",
     "checksum": "b193d4bf306524a8e3e902fbe3cc6012",
     "grade": false,
     "grade_id": "cell-b13bc18813644137",
     "locked": true,
     "schema_version": 3,
     "solution": false,
     "task": false
    }
   },
   "source": [
    "In all subsequent questions: $\\mathbb{F} \\in \\{ \\mathbb{R}, \\mathbb{C}\\}$.\n",
    "\n",
    "### Question 4 [5]\n",
    "\n",
    "If $A, B \\in \\mathbb{F}^{N \\times N}$ are invertible then $C = AB$ is also invertible and $C^{-1} = B^{-1} A^{-1}$. Check this result numerically, by testing the identity for randomly chosen matrices. As an exception you may use the `inv` command."
   ]
  },
  {
   "cell_type": "code",
   "execution_count": null,
   "metadata": {
    "deletable": false,
    "nbgrader": {
     "cell_type": "code",
     "checksum": "3a8b65c64e398b561e989ed159ef7786",
     "grade": true,
     "grade_id": "cell-adb8679bad7224c2",
     "locked": false,
     "points": 5,
     "schema_version": 3,
     "solution": true,
     "task": false
    }
   },
   "outputs": [],
   "source": [
    "# YOUR CODE HERE"
   ]
  },
  {
   "cell_type": "markdown",
   "metadata": {
    "deletable": false,
    "editable": false,
    "nbgrader": {
     "cell_type": "markdown",
     "checksum": "95df397a8cf6c5f86da037fb0764c8dd",
     "grade": false,
     "grade_id": "cell-2dad2c372bf9982f",
     "locked": true,
     "schema_version": 3,
     "solution": false,
     "task": false
    }
   },
   "source": [
    "### Question 5 [5+5+10]\n",
    "\n",
    "(a) Construct a right-hand side $b$ such that the system \n",
    "$$ \n",
    "   A x = b, \\qquad \\text{where} \\quad \n",
    "   A = \\begin{pmatrix}\n",
    "       2 & 1 & 0 & 2 \\\\ \n",
    "       3 & 1 & 1 & 4 \\\\ \n",
    "       4 & 1 & 2 & 6 \\\\ \n",
    "       5 & 1 & 3 & 8 \n",
    "   \\end{pmatrix}\n",
    "$$\n",
    "has no solution. In the solution cell enter this right-hand side as \n",
    "```julia \n",
    "b = [ # insert elements\n",
    "```\n",
    "\n",
    "(b) For $b = 0$ compute the set of all solutions to the system in (a) (i.e. the null-space of the system matrix). In the solution cell, enter your solution as a matrix\n",
    "```julia \n",
    "N = # enter the definition of the null space \n",
    "```\n",
    "such that the columns `N[:, i]` span the space of all solutions.\n",
    "\n",
    "(c+) For the system that you derived in (a) which has no solution, find the \"regularised least squares solution\" i.e. \n",
    "$$\n",
    "    x = \\arg\\min \\| A x - b \\|^2 + \\|x\\|^2\n",
    "$$\n",
    "In the solution cell, enter this solution as \n",
    "```julia \n",
    "x = # enter the definition of the solution   \n",
    "```"
   ]
  },
  {
   "cell_type": "code",
   "execution_count": null,
   "metadata": {
    "deletable": false,
    "nbgrader": {
     "cell_type": "code",
     "checksum": "2a7afbf9321c3ad1ec9569d6e27002a1",
     "grade": false,
     "grade_id": "cell-cc228c3143f579d4",
     "locked": false,
     "schema_version": 3,
     "solution": true,
     "task": false
    }
   },
   "outputs": [],
   "source": [
    "A = [ 2 1 0 2\n",
    "      3 1 1 4\n",
    "      4 1 2 6\n",
    "      5 1 3 8 ]\n",
    "\n",
    "# YOUR CODE HERE"
   ]
  },
  {
   "cell_type": "code",
   "execution_count": null,
   "metadata": {
    "deletable": false,
    "editable": false,
    "nbgrader": {
     "cell_type": "code",
     "checksum": "697732e41bff6d69a4d2ea8d571cfb38",
     "grade": true,
     "grade_id": "cell-0e2c6e3f1db1838b",
     "locked": true,
     "points": 20,
     "schema_version": 3,
     "solution": false,
     "task": false
    }
   },
   "outputs": [],
   "source": []
  },
  {
   "cell_type": "markdown",
   "metadata": {
    "deletable": false,
    "editable": false,
    "nbgrader": {
     "cell_type": "markdown",
     "checksum": "9e72e1f1bc9e051d0764d4d2412b5eb3",
     "grade": false,
     "grade_id": "cell-83151558c15a9a0d",
     "locked": true,
     "schema_version": 3,
     "solution": false,
     "task": false
    }
   },
   "source": [
    "### Question 6 [5+5]\n",
    "\n",
    "Find out how to use Julia's LU factorisation `lu` with *AND WITHOUT* partial pivoting, and find out how to compute the condition number of a matrix.\n",
    "\n",
    "The codes `system1()` and `system2()` below will produce two linear systems.  Solve them with and without pivoting and comment on your observations. How is the result related to the condition numbers?\n",
    "\n",
    "(5 points for code + 5 points for discussion)"
   ]
  },
  {
   "cell_type": "code",
   "execution_count": null,
   "metadata": {
    "deletable": false,
    "nbgrader": {
     "cell_type": "code",
     "checksum": "634484c94a4257a6313c0d9ae21846ec",
     "grade": true,
     "grade_id": "cell-55aec68999869425",
     "locked": false,
     "points": 5,
     "schema_version": 3,
     "solution": true,
     "task": false
    }
   },
   "outputs": [],
   "source": [
    "Random.seed!(3)\n",
    "\n",
    "system1() = randn(500, 500), randn(500)\n",
    "\n",
    "function system2()\n",
    "    A = randn(500,500)\n",
    "    for n = 1:500\n",
    "        A[n,n] *= 1e-12\n",
    "    end \n",
    "    b = randn(500)\n",
    "    return A, b \n",
    "end\n",
    "\n",
    "# YOUR CODE HERE"
   ]
  },
  {
   "cell_type": "markdown",
   "metadata": {
    "deletable": false,
    "nbgrader": {
     "cell_type": "markdown",
     "checksum": "bfe6360840d7595104f75465eb89728e",
     "grade": true,
     "grade_id": "cell-dadf4f50eba0b90b",
     "locked": false,
     "points": 5,
     "schema_version": 3,
     "solution": true,
     "task": false
    }
   },
   "source": [
    "YOUR ANSWER HERE"
   ]
  },
  {
   "cell_type": "markdown",
   "metadata": {
    "deletable": false,
    "editable": false,
    "nbgrader": {
     "cell_type": "markdown",
     "checksum": "79a800c766dee227e92f4c897844f4c0",
     "grade": false,
     "grade_id": "cell-fba7362a8e59d387",
     "locked": true,
     "schema_version": 3,
     "solution": false,
     "task": false
    }
   },
   "source": [
    "### Question 7 [5+10]\n",
    "\n",
    "The *entropy* (measure of disorder / randomness) for a multivariate Gaussian distribution with covariance $\\Sigma$ is given by \n",
    "$$\n",
    "    S = \\log\\det\\Sigma\n",
    "$$\n",
    "In this question we will come up with an efficient and numerically stable algorithm to compute this.\n",
    "\n",
    "(a+) Observe the result of the following naive simulation and in the cell below explain what you have observed, relating it to properties of `Float64` floating point arithmetic.\n",
    "\n"
   ]
  },
  {
   "cell_type": "code",
   "execution_count": null,
   "metadata": {
    "deletable": false,
    "editable": false,
    "nbgrader": {
     "cell_type": "code",
     "checksum": "6bcfd2340e507b2fb32ffdd555e652c5",
     "grade": false,
     "grade_id": "cell-ed1403c446ab14dd",
     "locked": true,
     "schema_version": 3,
     "solution": false,
     "task": false
    }
   },
   "outputs": [],
   "source": [
    "Random.seed!(0)\n",
    "for N in (2).^(4:10)\n",
    "    A = randn(N, N)  # random matrix\n",
    "    A = A * A'       # symmetric and positive definite \n",
    "    @show log(det(A))\n",
    "end    "
   ]
  },
  {
   "cell_type": "code",
   "execution_count": null,
   "metadata": {},
   "outputs": [],
   "source": [
    "# use this cell to experiment\n"
   ]
  },
  {
   "cell_type": "markdown",
   "metadata": {
    "deletable": false,
    "nbgrader": {
     "cell_type": "markdown",
     "checksum": "69474d78741fcb175baf753788070e1e",
     "grade": true,
     "grade_id": "cell-c84ba081d25f1c5a",
     "locked": false,
     "points": 5,
     "schema_version": 3,
     "solution": true,
     "task": false
    },
    "slideshow": {
     "slide_type": "slide"
    }
   },
   "source": [
    "YOUR ANSWER HERE"
   ]
  },
  {
   "cell_type": "markdown",
   "metadata": {
    "deletable": false,
    "editable": false,
    "nbgrader": {
     "cell_type": "markdown",
     "checksum": "c743c500c0478bbf8abc1b779c687d3d",
     "grade": false,
     "grade_id": "cell-e0b3568f2efc68b6",
     "locked": true,
     "schema_version": 3,
     "solution": false,
     "task": false
    }
   },
   "source": [
    "Question 7 continued ... \n",
    "\n",
    "(b+) Devise an algorithm to evaluate $\\log \\det A$ when $A$ is symmetric and positive definite, which does not suffer from the problem in part (a)."
   ]
  },
  {
   "cell_type": "code",
   "execution_count": null,
   "metadata": {
    "deletable": false,
    "nbgrader": {
     "cell_type": "code",
     "checksum": "c24bb533b7109ea7c81770129373a8c1",
     "grade": false,
     "grade_id": "cell-8e928a8431930662",
     "locked": false,
     "schema_version": 3,
     "solution": true,
     "task": false
    }
   },
   "outputs": [],
   "source": [
    "function mylogdet(A)\n",
    "# YOUR CODE HERE\n",
    "end"
   ]
  },
  {
   "cell_type": "code",
   "execution_count": null,
   "metadata": {
    "deletable": false,
    "editable": false,
    "nbgrader": {
     "cell_type": "code",
     "checksum": "f67436eab08955479bbd2bad7118cc55",
     "grade": true,
     "grade_id": "cell-067350467b42919a",
     "locked": true,
     "points": 5,
     "schema_version": 3,
     "solution": false,
     "task": false
    }
   },
   "outputs": [],
   "source": []
  },
  {
   "cell_type": "markdown",
   "metadata": {
    "deletable": false,
    "editable": false,
    "nbgrader": {
     "cell_type": "markdown",
     "checksum": "b46dd7c22ec3af6f031177aa45bc884e",
     "grade": false,
     "grade_id": "cell-56592db75fdfbf15",
     "locked": true,
     "schema_version": 3,
     "solution": false,
     "task": false
    }
   },
   "source": [
    "When you have completed all tasks, please click on `[Kernel]` and then `[Restart & Run All]` to make sure that your answers reproduce correctly when running from a clean notebook with no hidden variables left over from editing. Once you have convinced yourself that it is all in order, please download and submit the notebook to CANVAS."
   ]
  }
 ],
 "metadata": {
  "@webio": {
   "lastCommId": null,
   "lastKernelId": null
  },
  "kernelspec": {
   "display_name": "Julia 1.5.1",
   "language": "julia",
   "name": "julia-1.5"
  },
  "language_info": {
   "file_extension": ".jl",
   "mimetype": "application/julia",
   "name": "julia",
   "version": "1.5.1"
  }
 },
 "nbformat": 4,
 "nbformat_minor": 4
}
