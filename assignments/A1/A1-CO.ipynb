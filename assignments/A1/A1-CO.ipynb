{
 "cells": [
  {
   "cell_type": "markdown",
   "metadata": {},
   "source": [
    "* Before you turn this problem in, make sure everything runs as expected. First, **restart the kernel** (in the menubar, select Kernel$\\rightarrow$Restart) and then **run all cells** (in the menubar, select Cell$\\rightarrow$Run All). Or, alternatively, **Restart & Run All**.\n",
    "\n",
    "* Make sure you fill in any place that says `YOUR CODE HERE` or \"YOUR ANSWER HERE\".\n",
    "\n",
    "* You can always add additional cells to the notebook to experiment, to test your answers, or to provide additional support for your answers.\n",
    "\n",
    "* You should not need to install new packages to complete an assignment. If you use any packages not available via the MATH405 `Project.toml` then your assignment will likely not be graded correctly.\n",
    "\n",
    "* Submissions are only accepted via CANVAS!\n",
    "\n",
    "* Late submissions: within 24h I will reduce the grade to 70%. I will not accept submissions after 24h. Please manage your time well and complete the assignments with plenty of buffer time.\n",
    "\n",
    "* By entering your name below you confirm that you have completed this assignment on your own and without (direct) help from your colleagues. Plagiarism / copying will be checked by comparing assignments and by by testing understanding in workshops and the oral exam (final). I reserve the option to downgrade an assignment at any point."
   ]
  },
  {
   "cell_type": "code",
   "execution_count": 1,
   "metadata": {},
   "outputs": [
    {
     "data": {
      "text/plain": [
       "\"William Choi\""
      ]
     },
     "execution_count": 1,
     "metadata": {},
     "output_type": "execute_result"
    }
   ],
   "source": [
    "NAME = \"William Choi\""
   ]
  },
  {
   "cell_type": "markdown",
   "metadata": {},
   "source": [
    "---"
   ]
  },
  {
   "cell_type": "markdown",
   "metadata": {
    "deletable": false,
    "editable": false,
    "nbgrader": {
     "cell_type": "markdown",
     "checksum": "fbdeee03440c9b32c946a863c7d156db",
     "grade": false,
     "grade_id": "cell-ee3a7657e48f9546",
     "locked": true,
     "schema_version": 3,
     "solution": false,
     "task": false
    }
   },
   "source": [
    "# MATH 405/607 \n",
    "\n",
    "# Numerical Methods for Differential Equations\n",
    "\n",
    "## Assignment 1\n",
    "\n",
    "This assignment contains a review of Taylor's theorem, a bit of floating point arithmetic and some elementary linear algebra and numerical linear algebra. It serves primarily as a warm-up and introduction to using Jupyter notebooks. To install Julia, Jupyter and to learn how to use the notebooks, please look at the `[WS1]` notebook.\n",
    "\n",
    "\n",
    "\n",
    "* **Due date:** Tue 22 September 2020, 1200 noon\n",
    "* 70 points (out of 85) will count at 100%"
   ]
  },
  {
   "cell_type": "code",
   "execution_count": 2,
   "metadata": {
    "deletable": false,
    "editable": false,
    "nbgrader": {
     "cell_type": "code",
     "checksum": "33c13cf615077f2750dae558f3937ee3",
     "grade": false,
     "grade_id": "cell-6fcded2fc78a089d",
     "locked": true,
     "schema_version": 3,
     "solution": false,
     "task": false
    }
   },
   "outputs": [
    {
     "name": "stderr",
     "output_type": "stream",
     "text": [
      "\u001b[32m\u001b[1m Activating\u001b[22m\u001b[39m environment at `C:\\Users\\choiw\\Desktop\\Assignments\\math405_2020W\\assignments\\A1\\Project.toml`\n"
     ]
    }
   ],
   "source": [
    "include(\"math405.jl\")"
   ]
  },
  {
   "cell_type": "markdown",
   "metadata": {
    "deletable": false,
    "editable": false,
    "nbgrader": {
     "cell_type": "markdown",
     "checksum": "87a1d3cd6d256cbe211bd100098355f1",
     "grade": false,
     "grade_id": "cell-2fd06d570ed5ddcf",
     "locked": true,
     "schema_version": 3,
     "solution": false,
     "task": false
    }
   },
   "source": [
    "### Question 1: [5+5]\n",
    "\n",
    "(a) Let $f : \\mathbb{R} \\to \\mathbb{R}$ be smooth (as often differentiable as needed). Write down the expression for the $n$th degree Taylor polynomial $T_n(x)$ expanded around $0$.\n",
    "\n",
    "(b) Let $R_n(x)$ be the remainder, i.e. $f(x) = T_n(x) + R_n(x)$. Look up the Lagrange form of the remainder as well as the integral form of the remainder and write them down."
   ]
  },
  {
   "cell_type": "markdown",
   "metadata": {
    "deletable": false,
    "nbgrader": {
     "cell_type": "markdown",
     "checksum": "1c4a5f518ad16fca5121429f22c60b4c",
     "grade": true,
     "grade_id": "cell-119c736361478fd3",
     "locked": false,
     "points": 10,
     "schema_version": 3,
     "solution": true,
     "task": false
    }
   },
   "source": [
    "(a)\n",
    "$$\n",
    "T_n(x) = f(0) + f'(0)(x-0) + \\frac{f\"(0)}{2!}(x-0)^2 + \\dots + \\frac{f^n(0)}{n!}(x-0)^n\\\\[10pt]\n",
    "T_n(x) = \\sum_{i=0}^{n} \\frac{f^{(i)}(0)}{i!}x^i\n",
    "$$\n",
    "\n",
    "(b)\n",
    "\n",
    "Lagrange form:\n",
    "$$\n",
    "    R_n(x) = \\frac{f^{(n+1)}(c)}{(n+1)!}(x-0)^{n+1} \\;\\;\\; \\text{where $c$ is some number between $a$ and $x$}\n",
    "$$\n",
    "\n",
    "Integral form:\n",
    "$$\n",
    "R_n(x) = \\frac{1}{n!}\\int_{t=a}^{x}f^{(n+1)}(t)(x-t)^{n}dt\n",
    "$$"
   ]
  },
  {
   "cell_type": "markdown",
   "metadata": {
    "deletable": false,
    "editable": false,
    "nbgrader": {
     "cell_type": "markdown",
     "checksum": "0fe2b6bf328e865045d644062fe7dbd5",
     "grade": false,
     "grade_id": "cell-ad340e057328addd",
     "locked": true,
     "schema_version": 3,
     "solution": false,
     "task": false
    }
   },
   "source": [
    "### Question 2 [5+5]\n",
    "\n",
    "(a) Consider the centered finite-difference formula \n",
    "$$\n",
    "    \\frac{f(x+h) - f(x-h)}{2h} \\approx f'(x)\n",
    "$$\n",
    "Prove that it is second-order accurate by deriving a sharp error bound in terms of $h$ and $\\|f^{(j)}\\|_\\infty$ where you should determine $j$. \n",
    "\n",
    "(b+) Construct a finite-difference approximation for the third derivative $f'''(x)$. "
   ]
  },
  {
   "cell_type": "markdown",
   "metadata": {
    "deletable": false,
    "nbgrader": {
     "cell_type": "markdown",
     "checksum": "e6b26fd6755539786f4cb295570d34d5",
     "grade": true,
     "grade_id": "cell-4e484d74e3be2204",
     "locked": false,
     "points": 10,
     "schema_version": 3,
     "solution": true,
     "task": false
    }
   },
   "source": [
    "(a)\n",
    "If you taylor expand the terms in the numerator of the LHS expression, you get the following.\n",
    "$$\n",
    "f(x+h) = f(x) + f'(x)h + \\frac{f\"(x)}{2}h^2 + \\frac{f^{3}(c_1)}{3!}h^3 \\\\\n",
    "f(x-h) = f(x) - f'(x)h + \\frac{f\"(x)}{2}h^2 - \\frac{f^{3}(c_2)}{3!}h^3 \\\\\n",
    "$$\n",
    "\n",
    "If you subtract the two expressions above, you get the following.\n",
    "$$\n",
    "f(x+h) - f(x-h) = 2hf'(x) + \\frac{f^{3}(c_1)}{3!}h^3 + \\frac{f^{3}(c_2)}{3!}h^3 \\\\\n",
    "\\frac{f(x+h) - f(x-h)}{2h} = f'(x) + \\frac{h^2(f^{3}(c_1)+f^{3}(c_2))}{12}\\\\\n",
    "$$\n",
    "\n",
    "Therefore, the resulting sharp bound on the error is the following.\n",
    "$$\n",
    "\\frac{f(x+h) - f(x-h)}{2h} - f'(x) = \\frac{h^2(f^{3}(c_1)+f^{3}(c_2))}{12} \\leq \\frac{h^{2}\\|f^{3}\\|_{\\infty}}{6}\\\\\n",
    "$$\n",
    "\n",
    "(b)\n",
    "\n",
    "Expand the taylor series\n",
    "$$\n",
    "f(x+h) = f(x) + f'(x)h + \\frac{f\"(x)}{2}h^2 + \\frac{f^{3}(x)}{3!}h^3 + \\frac{f^{4}(x)}{4!}h^4 + \\frac{f^{5}(c_1)}{5!}h^5\\\\\n",
    "f(x-h) = f(x) - f'(x)h + \\frac{f\"(x)}{2}h^2 - \\frac{f^{3}(x)}{3!}h^3 + \\frac{f^{4}(x)}{4!}h^4 - \\frac{f^{5}(c_2)}{5!}h^5\\\\\n",
    "f(x+2h) = f(x) + f'(x)2h + \\frac{f\"(x)}{2}(2h)^2 + \\frac{f^{3}(x)}{3!}(2h)^3 + \\frac{f^{4}(x)}{4!}(2h)^4 + \\frac{f^{5}(c_1)}{5!}(2h)^5\\\\\n",
    "f(x-2h) = f(x) - f'(x)2h + \\frac{f\"(x)}{2}(2h)^2 - \\frac{f^{3}(x)}{3!}(2h)^3 + \\frac{f^{4}(x)}{4!}(2h)^4 - \\frac{f^{5}(c_2)}{5!}(2h)^5\\\\\n",
    "$$\n",
    "\n",
    "Multiply and add the taylor series found above.\n",
    "$$\n",
    "f(x+h) - f(x-h) = 2hf'(x) + 2h^{3}\\frac{f^{3}(x)}{3!} + \\frac{f^{5}(c_1)}{5!}h^5 + \\frac{f^{5}(c_2)}{5!}h^5\\\\ = 2hf'(x) + 2h^{3}\\frac{f^{3}(x)}{3!} + O(h^5)\\\\\n",
    "f(x+2h) - f(x-2h) = 4hf'(x) + 2\\frac{f^{3}(x)}{3!}(2h)^3 + \\frac{f^{5}(c_1)}{5!}(2h)^5 + \\frac{f^{5}(c_2)}{5!}(2h)^5\\\\ = 4hf'(x) + 2\\frac{f^{3}(x)}{3!}(2h)^3 + O(h^5)\n",
    "$$\n",
    "\n",
    "The primary goal here is to remove the $f'(x)$ term, only leaving $f^3(x)$ on the RHS.\n",
    "$$\n",
    "f(x+2h)- f(x-2h) - 2(f(x+h) - f(x-h)) = 2\\frac{f^{3}(x)}{3!}(2h)^3 - 4h^{3}\\frac{f^{3}(x)}{3!} + O(h^5) \\\\\n",
    "f(x+2h)- f(x-2h) - 2(f(x+h) - f(x-h)) = f^{3}(x)2h^{3}+ O(h^5) \\\\\n",
    "\\frac{f(x+2h)- f(x-2h) - 2(f(x+h) - f(x-h))}{2h^3} = f^{3}(x) + O(h^2)\\\\\n",
    "$$\n",
    "\n",
    "Simplifying further we get the following final expression for the finite difference approximation of a third derivative. The approximation is second-order accurate.\n",
    "$$\n",
    "\\frac{0.5f(x+2h) - f(x+h) + f(x-h) - 0.5f(x-2h))}{h^3} = f^{3}(x) + O(h^2)\\\\\n",
    "$$\n"
   ]
  },
  {
   "cell_type": "markdown",
   "metadata": {
    "deletable": false,
    "editable": false,
    "nbgrader": {
     "cell_type": "markdown",
     "checksum": "98b37cfd87da8c716e837b5407acd75c",
     "grade": false,
     "grade_id": "cell-aab338196ed4b143",
     "locked": true,
     "schema_version": 3,
     "solution": false,
     "task": false
    }
   },
   "source": [
    "### Question 3 [5+5+10]\n",
    "\n",
    "Consider the function $f(x) = \\exp(x)$, evaluated in floating point arithmetic. Suppose we wish to approximate its first derivative $f'(x) = \\exp(x)$ by a finite difference. \n",
    "\n",
    "(a) For the forward difference, a floating point analysis yields \n",
    "$$\n",
    "    {\\rm fl}\\Big[ \\frac{f(x+h) - f(x)}{h} \\Big] = f'(x) + O(h) + O(\\epsilon h^{-1}).\n",
    "$$\n",
    "where $\\epsilon$ is machine precision. Produce a figure or table that clearly demonstrates this behaviour. "
   ]
  },
  {
   "cell_type": "code",
   "execution_count": 3,
   "metadata": {
    "deletable": false,
    "nbgrader": {
     "cell_type": "code",
     "checksum": "ac8deb7c286be39c8e0c1944422e70cc",
     "grade": true,
     "grade_id": "cell-294220ee607d28f8",
     "locked": false,
     "points": 5,
     "schema_version": 3,
     "solution": true,
     "task": false
    }
   },
   "outputs": [
    {
     "data": {
      "image/svg+xml": [
       "<?xml version=\"1.0\" encoding=\"utf-8\"?>\n",
       "<svg xmlns=\"http://www.w3.org/2000/svg\" xmlns:xlink=\"http://www.w3.org/1999/xlink\" width=\"600\" height=\"400\" viewBox=\"0 0 2400 1600\">\n",
       "<defs>\n",
       "  <clipPath id=\"clip120\">\n",
       "    <rect x=\"0\" y=\"0\" width=\"2400\" height=\"1600\"/>\n",
       "  </clipPath>\n",
       "</defs>\n",
       "<path clip-path=\"url(#clip120)\" d=\"\n",
       "M0 1600 L2400 1600 L2400 0 L0 0  Z\n",
       "  \" fill=\"#ffffff\" fill-rule=\"evenodd\" fill-opacity=\"1\"/>\n",
       "<defs>\n",
       "  <clipPath id=\"clip121\">\n",
       "    <rect x=\"480\" y=\"0\" width=\"1681\" height=\"1600\"/>\n",
       "  </clipPath>\n",
       "</defs>\n",
       "<path clip-path=\"url(#clip120)\" d=\"\n",
       "M274.843 1423.18 L2352.76 1423.18 L2352.76 47.2441 L274.843 47.2441  Z\n",
       "  \" fill=\"#ffffff\" fill-rule=\"evenodd\" fill-opacity=\"1\"/>\n",
       "<defs>\n",
       "  <clipPath id=\"clip122\">\n",
       "    <rect x=\"274\" y=\"47\" width=\"2079\" height=\"1377\"/>\n",
       "  </clipPath>\n",
       "</defs>\n",
       "<polyline clip-path=\"url(#clip122)\" style=\"stroke:#000000; stroke-width:2; stroke-opacity:0.1; fill:none\" points=\"\n",
       "  482.507,1423.18 482.507,47.2441 \n",
       "  \"/>\n",
       "<polyline clip-path=\"url(#clip122)\" style=\"stroke:#000000; stroke-width:2; stroke-opacity:0.1; fill:none\" points=\"\n",
       "  765.635,1423.18 765.635,47.2441 \n",
       "  \"/>\n",
       "<polyline clip-path=\"url(#clip122)\" style=\"stroke:#000000; stroke-width:2; stroke-opacity:0.1; fill:none\" points=\"\n",
       "  1048.76,1423.18 1048.76,47.2441 \n",
       "  \"/>\n",
       "<polyline clip-path=\"url(#clip122)\" style=\"stroke:#000000; stroke-width:2; stroke-opacity:0.1; fill:none\" points=\"\n",
       "  1331.89,1423.18 1331.89,47.2441 \n",
       "  \"/>\n",
       "<polyline clip-path=\"url(#clip122)\" style=\"stroke:#000000; stroke-width:2; stroke-opacity:0.1; fill:none\" points=\"\n",
       "  1615.02,1423.18 1615.02,47.2441 \n",
       "  \"/>\n",
       "<polyline clip-path=\"url(#clip122)\" style=\"stroke:#000000; stroke-width:2; stroke-opacity:0.1; fill:none\" points=\"\n",
       "  1898.15,1423.18 1898.15,47.2441 \n",
       "  \"/>\n",
       "<polyline clip-path=\"url(#clip122)\" style=\"stroke:#000000; stroke-width:2; stroke-opacity:0.1; fill:none\" points=\"\n",
       "  2181.28,1423.18 2181.28,47.2441 \n",
       "  \"/>\n",
       "<polyline clip-path=\"url(#clip122)\" style=\"stroke:#000000; stroke-width:2; stroke-opacity:0.1; fill:none\" points=\"\n",
       "  274.843,1302.08 2352.76,1302.08 \n",
       "  \"/>\n",
       "<polyline clip-path=\"url(#clip122)\" style=\"stroke:#000000; stroke-width:2; stroke-opacity:0.1; fill:none\" points=\"\n",
       "  274.843,1113.57 2352.76,1113.57 \n",
       "  \"/>\n",
       "<polyline clip-path=\"url(#clip122)\" style=\"stroke:#000000; stroke-width:2; stroke-opacity:0.1; fill:none\" points=\"\n",
       "  274.843,925.05 2352.76,925.05 \n",
       "  \"/>\n",
       "<polyline clip-path=\"url(#clip122)\" style=\"stroke:#000000; stroke-width:2; stroke-opacity:0.1; fill:none\" points=\"\n",
       "  274.843,736.533 2352.76,736.533 \n",
       "  \"/>\n",
       "<polyline clip-path=\"url(#clip122)\" style=\"stroke:#000000; stroke-width:2; stroke-opacity:0.1; fill:none\" points=\"\n",
       "  274.843,548.017 2352.76,548.017 \n",
       "  \"/>\n",
       "<polyline clip-path=\"url(#clip122)\" style=\"stroke:#000000; stroke-width:2; stroke-opacity:0.1; fill:none\" points=\"\n",
       "  274.843,359.5 2352.76,359.5 \n",
       "  \"/>\n",
       "<polyline clip-path=\"url(#clip122)\" style=\"stroke:#000000; stroke-width:2; stroke-opacity:0.1; fill:none\" points=\"\n",
       "  274.843,170.983 2352.76,170.983 \n",
       "  \"/>\n",
       "<polyline clip-path=\"url(#clip120)\" style=\"stroke:#000000; stroke-width:4; stroke-opacity:1; fill:none\" points=\"\n",
       "  274.843,1423.18 2352.76,1423.18 \n",
       "  \"/>\n",
       "<polyline clip-path=\"url(#clip120)\" style=\"stroke:#000000; stroke-width:4; stroke-opacity:1; fill:none\" points=\"\n",
       "  274.843,1423.18 274.843,47.2441 \n",
       "  \"/>\n",
       "<polyline clip-path=\"url(#clip120)\" style=\"stroke:#000000; stroke-width:4; stroke-opacity:1; fill:none\" points=\"\n",
       "  482.507,1423.18 482.507,1406.67 \n",
       "  \"/>\n",
       "<polyline clip-path=\"url(#clip120)\" style=\"stroke:#000000; stroke-width:4; stroke-opacity:1; fill:none\" points=\"\n",
       "  765.635,1423.18 765.635,1406.67 \n",
       "  \"/>\n",
       "<polyline clip-path=\"url(#clip120)\" style=\"stroke:#000000; stroke-width:4; stroke-opacity:1; fill:none\" points=\"\n",
       "  1048.76,1423.18 1048.76,1406.67 \n",
       "  \"/>\n",
       "<polyline clip-path=\"url(#clip120)\" style=\"stroke:#000000; stroke-width:4; stroke-opacity:1; fill:none\" points=\"\n",
       "  1331.89,1423.18 1331.89,1406.67 \n",
       "  \"/>\n",
       "<polyline clip-path=\"url(#clip120)\" style=\"stroke:#000000; stroke-width:4; stroke-opacity:1; fill:none\" points=\"\n",
       "  1615.02,1423.18 1615.02,1406.67 \n",
       "  \"/>\n",
       "<polyline clip-path=\"url(#clip120)\" style=\"stroke:#000000; stroke-width:4; stroke-opacity:1; fill:none\" points=\"\n",
       "  1898.15,1423.18 1898.15,1406.67 \n",
       "  \"/>\n",
       "<polyline clip-path=\"url(#clip120)\" style=\"stroke:#000000; stroke-width:4; stroke-opacity:1; fill:none\" points=\"\n",
       "  2181.28,1423.18 2181.28,1406.67 \n",
       "  \"/>\n",
       "<polyline clip-path=\"url(#clip120)\" style=\"stroke:#000000; stroke-width:4; stroke-opacity:1; fill:none\" points=\"\n",
       "  274.843,1302.08 299.778,1302.08 \n",
       "  \"/>\n",
       "<polyline clip-path=\"url(#clip120)\" style=\"stroke:#000000; stroke-width:4; stroke-opacity:1; fill:none\" points=\"\n",
       "  274.843,1113.57 299.778,1113.57 \n",
       "  \"/>\n",
       "<polyline clip-path=\"url(#clip120)\" style=\"stroke:#000000; stroke-width:4; stroke-opacity:1; fill:none\" points=\"\n",
       "  274.843,925.05 299.778,925.05 \n",
       "  \"/>\n",
       "<polyline clip-path=\"url(#clip120)\" style=\"stroke:#000000; stroke-width:4; stroke-opacity:1; fill:none\" points=\"\n",
       "  274.843,736.533 299.778,736.533 \n",
       "  \"/>\n",
       "<polyline clip-path=\"url(#clip120)\" style=\"stroke:#000000; stroke-width:4; stroke-opacity:1; fill:none\" points=\"\n",
       "  274.843,548.017 299.778,548.017 \n",
       "  \"/>\n",
       "<polyline clip-path=\"url(#clip120)\" style=\"stroke:#000000; stroke-width:4; stroke-opacity:1; fill:none\" points=\"\n",
       "  274.843,359.5 299.778,359.5 \n",
       "  \"/>\n",
       "<polyline clip-path=\"url(#clip120)\" style=\"stroke:#000000; stroke-width:4; stroke-opacity:1; fill:none\" points=\"\n",
       "  274.843,170.983 299.778,170.983 \n",
       "  \"/>\n",
       "<path clip-path=\"url(#clip120)\" d=\"M 0 0 M427.794 1494.25 L435.433 1494.25 L435.433 1467.89 L427.123 1469.55 L427.123 1465.29 L435.387 1463.63 L440.062 1463.63 L440.062 1494.25 L447.701 1494.25 L447.701 1498.19 L427.794 1498.19 L427.794 1494.25 Z\" fill=\"#000000\" fill-rule=\"evenodd\" fill-opacity=\"1\" /><path clip-path=\"url(#clip120)\" d=\"M 0 0 M462.771 1466.71 Q459.16 1466.71 457.331 1470.27 Q455.525 1473.81 455.525 1480.94 Q455.525 1488.05 457.331 1491.61 Q459.16 1495.15 462.771 1495.15 Q466.405 1495.15 468.21 1491.61 Q470.039 1488.05 470.039 1480.94 Q470.039 1473.81 468.21 1470.27 Q466.405 1466.71 462.771 1466.71 M462.771 1463 Q468.581 1463 471.636 1467.61 Q474.715 1472.19 474.715 1480.94 Q474.715 1489.67 471.636 1494.28 Q468.581 1498.86 462.771 1498.86 Q456.961 1498.86 453.882 1494.28 Q450.826 1489.67 450.826 1480.94 Q450.826 1472.19 453.882 1467.61 Q456.961 1463 462.771 1463 Z\" fill=\"#000000\" fill-rule=\"evenodd\" fill-opacity=\"1\" /><path clip-path=\"url(#clip120)\" d=\"M 0 0 M474.715 1458.68 L484.852 1458.68 L484.852 1461.77 L474.715 1461.77 L474.715 1458.68 Z\" fill=\"#000000\" fill-rule=\"evenodd\" fill-opacity=\"1\" /><path clip-path=\"url(#clip120)\" d=\"M 0 0 M499.372 1467.58 L505.579 1467.58 L505.579 1446.16 L498.827 1447.51 L498.827 1444.05 L505.541 1442.7 L509.34 1442.7 L509.34 1467.58 L515.547 1467.58 L515.547 1470.78 L499.372 1470.78 L499.372 1467.58 Z\" fill=\"#000000\" fill-rule=\"evenodd\" fill-opacity=\"1\" /><path clip-path=\"url(#clip120)\" d=\"M 0 0 M530.104 1446.01 L520.512 1461 L530.104 1461 L530.104 1446.01 M529.107 1442.7 L533.884 1442.7 L533.884 1461 L537.89 1461 L537.89 1464.16 L533.884 1464.16 L533.884 1470.78 L530.104 1470.78 L530.104 1464.16 L517.428 1464.16 L517.428 1460.49 L529.107 1442.7 Z\" fill=\"#000000\" fill-rule=\"evenodd\" fill-opacity=\"1\" /><path clip-path=\"url(#clip120)\" d=\"M 0 0 M711.769 1494.25 L719.408 1494.25 L719.408 1467.89 L711.098 1469.55 L711.098 1465.29 L719.362 1463.63 L724.038 1463.63 L724.038 1494.25 L731.676 1494.25 L731.676 1498.19 L711.769 1498.19 L711.769 1494.25 Z\" fill=\"#000000\" fill-rule=\"evenodd\" fill-opacity=\"1\" /><path clip-path=\"url(#clip120)\" d=\"M 0 0 M746.746 1466.71 Q743.135 1466.71 741.306 1470.27 Q739.5 1473.81 739.5 1480.94 Q739.5 1488.05 741.306 1491.61 Q743.135 1495.15 746.746 1495.15 Q750.38 1495.15 752.186 1491.61 Q754.014 1488.05 754.014 1480.94 Q754.014 1473.81 752.186 1470.27 Q750.38 1466.71 746.746 1466.71 M746.746 1463 Q752.556 1463 755.611 1467.61 Q758.69 1472.19 758.69 1480.94 Q758.69 1489.67 755.611 1494.28 Q752.556 1498.86 746.746 1498.86 Q740.936 1498.86 737.857 1494.28 Q734.801 1489.67 734.801 1480.94 Q734.801 1472.19 737.857 1467.61 Q740.936 1463 746.746 1463 Z\" fill=\"#000000\" fill-rule=\"evenodd\" fill-opacity=\"1\" /><path clip-path=\"url(#clip120)\" d=\"M 0 0 M758.69 1458.68 L768.828 1458.68 L768.828 1461.77 L758.69 1461.77 L758.69 1458.68 Z\" fill=\"#000000\" fill-rule=\"evenodd\" fill-opacity=\"1\" /><path clip-path=\"url(#clip120)\" d=\"M 0 0 M783.347 1467.58 L789.554 1467.58 L789.554 1446.16 L782.802 1447.51 L782.802 1444.05 L789.516 1442.7 L793.315 1442.7 L793.315 1467.58 L799.522 1467.58 L799.522 1470.78 L783.347 1470.78 L783.347 1467.58 Z\" fill=\"#000000\" fill-rule=\"evenodd\" fill-opacity=\"1\" /><path clip-path=\"url(#clip120)\" d=\"M 0 0 M806.913 1467.58 L820.173 1467.58 L820.173 1470.78 L802.343 1470.78 L802.343 1467.58 Q804.506 1465.34 808.23 1461.58 Q811.973 1457.8 812.932 1456.71 Q814.756 1454.66 815.471 1453.25 Q816.204 1451.82 816.204 1450.45 Q816.204 1448.21 814.624 1446.8 Q813.063 1445.39 810.543 1445.39 Q808.756 1445.39 806.763 1446.01 Q804.788 1446.63 802.531 1447.89 L802.531 1444.05 Q804.826 1443.13 806.819 1442.66 Q808.813 1442.19 810.468 1442.19 Q814.831 1442.19 817.427 1444.37 Q820.022 1446.55 820.022 1450.2 Q820.022 1451.93 819.364 1453.49 Q818.725 1455.03 817.013 1457.14 Q816.543 1457.69 814.023 1460.3 Q811.502 1462.9 806.913 1467.58 Z\" fill=\"#000000\" fill-rule=\"evenodd\" fill-opacity=\"1\" /><path clip-path=\"url(#clip120)\" d=\"M 0 0 M994.249 1494.25 L1001.89 1494.25 L1001.89 1467.89 L993.578 1469.55 L993.578 1465.29 L1001.84 1463.63 L1006.52 1463.63 L1006.52 1494.25 L1014.16 1494.25 L1014.16 1498.19 L994.249 1498.19 L994.249 1494.25 Z\" fill=\"#000000\" fill-rule=\"evenodd\" fill-opacity=\"1\" /><path clip-path=\"url(#clip120)\" d=\"M 0 0 M1029.23 1466.71 Q1025.61 1466.71 1023.79 1470.27 Q1021.98 1473.81 1021.98 1480.94 Q1021.98 1488.05 1023.79 1491.61 Q1025.61 1495.15 1029.23 1495.15 Q1032.86 1495.15 1034.67 1491.61 Q1036.49 1488.05 1036.49 1480.94 Q1036.49 1473.81 1034.67 1470.27 Q1032.86 1466.71 1029.23 1466.71 M1029.23 1463 Q1035.04 1463 1038.09 1467.61 Q1041.17 1472.19 1041.17 1480.94 Q1041.17 1489.67 1038.09 1494.28 Q1035.04 1498.86 1029.23 1498.86 Q1023.42 1498.86 1020.34 1494.28 Q1017.28 1489.67 1017.28 1480.94 Q1017.28 1472.19 1020.34 1467.61 Q1023.42 1463 1029.23 1463 Z\" fill=\"#000000\" fill-rule=\"evenodd\" fill-opacity=\"1\" /><path clip-path=\"url(#clip120)\" d=\"M 0 0 M1041.17 1458.68 L1051.31 1458.68 L1051.31 1461.77 L1041.17 1461.77 L1041.17 1458.68 Z\" fill=\"#000000\" fill-rule=\"evenodd\" fill-opacity=\"1\" /><path clip-path=\"url(#clip120)\" d=\"M 0 0 M1065.83 1467.58 L1072.03 1467.58 L1072.03 1446.16 L1065.28 1447.51 L1065.28 1444.05 L1072 1442.7 L1075.8 1442.7 L1075.8 1467.58 L1082 1467.58 L1082 1470.78 L1065.83 1470.78 L1065.83 1467.58 Z\" fill=\"#000000\" fill-rule=\"evenodd\" fill-opacity=\"1\" /><path clip-path=\"url(#clip120)\" d=\"M 0 0 M1094.25 1445.2 Q1091.31 1445.2 1089.83 1448.09 Q1088.36 1450.97 1088.36 1456.76 Q1088.36 1462.54 1089.83 1465.44 Q1091.31 1468.31 1094.25 1468.31 Q1097.2 1468.31 1098.67 1465.44 Q1100.15 1462.54 1100.15 1456.76 Q1100.15 1450.97 1098.67 1448.09 Q1097.2 1445.2 1094.25 1445.2 M1094.25 1442.19 Q1098.97 1442.19 1101.45 1445.93 Q1103.95 1449.66 1103.95 1456.76 Q1103.95 1463.86 1101.45 1467.6 Q1098.97 1471.32 1094.25 1471.32 Q1089.52 1471.32 1087.02 1467.6 Q1084.54 1463.86 1084.54 1456.76 Q1084.54 1449.66 1087.02 1445.93 Q1089.52 1442.19 1094.25 1442.19 Z\" fill=\"#000000\" fill-rule=\"evenodd\" fill-opacity=\"1\" /><path clip-path=\"url(#clip120)\" d=\"M 0 0 M1287.08 1494.25 L1294.72 1494.25 L1294.72 1467.89 L1286.41 1469.55 L1286.41 1465.29 L1294.68 1463.63 L1299.35 1463.63 L1299.35 1494.25 L1306.99 1494.25 L1306.99 1498.19 L1287.08 1498.19 L1287.08 1494.25 Z\" fill=\"#000000\" fill-rule=\"evenodd\" fill-opacity=\"1\" /><path clip-path=\"url(#clip120)\" d=\"M 0 0 M1322.06 1466.71 Q1318.45 1466.71 1316.62 1470.27 Q1314.81 1473.81 1314.81 1480.94 Q1314.81 1488.05 1316.62 1491.61 Q1318.45 1495.15 1322.06 1495.15 Q1325.69 1495.15 1327.5 1491.61 Q1329.33 1488.05 1329.33 1480.94 Q1329.33 1473.81 1327.5 1470.27 Q1325.69 1466.71 1322.06 1466.71 M1322.06 1463 Q1327.87 1463 1330.92 1467.61 Q1334 1472.19 1334 1480.94 Q1334 1489.67 1330.92 1494.28 Q1327.87 1498.86 1322.06 1498.86 Q1316.25 1498.86 1313.17 1494.28 Q1310.11 1489.67 1310.11 1480.94 Q1310.11 1472.19 1313.17 1467.61 Q1316.25 1463 1322.06 1463 Z\" fill=\"#000000\" fill-rule=\"evenodd\" fill-opacity=\"1\" /><path clip-path=\"url(#clip120)\" d=\"M 0 0 M1334 1458.68 L1344.14 1458.68 L1344.14 1461.77 L1334 1461.77 L1334 1458.68 Z\" fill=\"#000000\" fill-rule=\"evenodd\" fill-opacity=\"1\" /><path clip-path=\"url(#clip120)\" d=\"M 0 0 M1367.74 1457.44 Q1365.04 1457.44 1363.48 1458.89 Q1361.93 1460.34 1361.93 1462.88 Q1361.93 1465.42 1363.48 1466.86 Q1365.04 1468.31 1367.74 1468.31 Q1370.45 1468.31 1372.01 1466.86 Q1373.58 1465.4 1373.58 1462.88 Q1373.58 1460.34 1372.01 1458.89 Q1370.47 1457.44 1367.74 1457.44 M1363.95 1455.82 Q1361.5 1455.22 1360.13 1453.55 Q1358.77 1451.87 1358.77 1449.47 Q1358.77 1446.1 1361.16 1444.14 Q1363.57 1442.19 1367.74 1442.19 Q1371.94 1442.19 1374.33 1444.14 Q1376.72 1446.1 1376.72 1449.47 Q1376.72 1451.87 1375.34 1453.55 Q1373.99 1455.22 1371.56 1455.82 Q1374.31 1456.46 1375.83 1458.33 Q1377.37 1460.19 1377.37 1462.88 Q1377.37 1466.96 1374.87 1469.14 Q1372.39 1471.32 1367.74 1471.32 Q1363.1 1471.32 1360.6 1469.14 Q1358.12 1466.96 1358.12 1462.88 Q1358.12 1460.19 1359.66 1458.33 Q1361.2 1456.46 1363.95 1455.82 M1362.55 1449.82 Q1362.55 1452.01 1363.91 1453.23 Q1365.28 1454.45 1367.74 1454.45 Q1370.19 1454.45 1371.56 1453.23 Q1372.95 1452.01 1372.95 1449.82 Q1372.95 1447.64 1371.56 1446.42 Q1370.19 1445.2 1367.74 1445.2 Q1365.28 1445.2 1363.91 1446.42 Q1362.55 1447.64 1362.55 1449.82 Z\" fill=\"#000000\" fill-rule=\"evenodd\" fill-opacity=\"1\" /><path clip-path=\"url(#clip120)\" d=\"M 0 0 M1570.15 1494.25 L1577.78 1494.25 L1577.78 1467.89 L1569.47 1469.55 L1569.47 1465.29 L1577.74 1463.63 L1582.41 1463.63 L1582.41 1494.25 L1590.05 1494.25 L1590.05 1498.19 L1570.15 1498.19 L1570.15 1494.25 Z\" fill=\"#000000\" fill-rule=\"evenodd\" fill-opacity=\"1\" /><path clip-path=\"url(#clip120)\" d=\"M 0 0 M1605.12 1466.71 Q1601.51 1466.71 1599.68 1470.27 Q1597.88 1473.81 1597.88 1480.94 Q1597.88 1488.05 1599.68 1491.61 Q1601.51 1495.15 1605.12 1495.15 Q1608.76 1495.15 1610.56 1491.61 Q1612.39 1488.05 1612.39 1480.94 Q1612.39 1473.81 1610.56 1470.27 Q1608.76 1466.71 1605.12 1466.71 M1605.12 1463 Q1610.93 1463 1613.99 1467.61 Q1617.07 1472.19 1617.07 1480.94 Q1617.07 1489.67 1613.99 1494.28 Q1610.93 1498.86 1605.12 1498.86 Q1599.31 1498.86 1596.23 1494.28 Q1593.18 1489.67 1593.18 1480.94 Q1593.18 1472.19 1596.23 1467.61 Q1599.31 1463 1605.12 1463 Z\" fill=\"#000000\" fill-rule=\"evenodd\" fill-opacity=\"1\" /><path clip-path=\"url(#clip120)\" d=\"M 0 0 M1617.07 1458.68 L1627.2 1458.68 L1627.2 1461.77 L1617.07 1461.77 L1617.07 1458.68 Z\" fill=\"#000000\" fill-rule=\"evenodd\" fill-opacity=\"1\" /><path clip-path=\"url(#clip120)\" d=\"M 0 0 M1651.2 1455.22 Q1648.64 1455.22 1647.14 1456.97 Q1645.65 1458.72 1645.65 1461.77 Q1645.65 1464.8 1647.14 1466.56 Q1648.64 1468.31 1651.2 1468.31 Q1653.76 1468.31 1655.25 1466.56 Q1656.75 1464.8 1656.75 1461.77 Q1656.75 1458.72 1655.25 1456.97 Q1653.76 1455.22 1651.2 1455.22 M1658.74 1443.32 L1658.74 1446.78 Q1657.32 1446.1 1655.85 1445.74 Q1654.4 1445.39 1652.97 1445.39 Q1649.21 1445.39 1647.22 1447.93 Q1645.24 1450.46 1644.96 1455.6 Q1646.07 1453.96 1647.74 1453.1 Q1649.42 1452.21 1651.43 1452.21 Q1655.66 1452.21 1658.1 1454.79 Q1660.57 1457.35 1660.57 1461.77 Q1660.57 1466.09 1658.01 1468.71 Q1655.45 1471.32 1651.2 1471.32 Q1646.33 1471.32 1643.75 1467.6 Q1641.18 1463.86 1641.18 1456.76 Q1641.18 1450.11 1644.34 1446.16 Q1647.5 1442.19 1652.82 1442.19 Q1654.25 1442.19 1655.7 1442.47 Q1657.16 1442.75 1658.74 1443.32 Z\" fill=\"#000000\" fill-rule=\"evenodd\" fill-opacity=\"1\" /><path clip-path=\"url(#clip120)\" d=\"M 0 0 M1852.74 1494.25 L1860.38 1494.25 L1860.38 1467.89 L1852.07 1469.55 L1852.07 1465.29 L1860.33 1463.63 L1865.01 1463.63 L1865.01 1494.25 L1872.65 1494.25 L1872.65 1498.19 L1852.74 1498.19 L1852.74 1494.25 Z\" fill=\"#000000\" fill-rule=\"evenodd\" fill-opacity=\"1\" /><path clip-path=\"url(#clip120)\" d=\"M 0 0 M1887.71 1466.71 Q1884.1 1466.71 1882.27 1470.27 Q1880.47 1473.81 1880.47 1480.94 Q1880.47 1488.05 1882.27 1491.61 Q1884.1 1495.15 1887.71 1495.15 Q1891.35 1495.15 1893.15 1491.61 Q1894.98 1488.05 1894.98 1480.94 Q1894.98 1473.81 1893.15 1470.27 Q1891.35 1466.71 1887.71 1466.71 M1887.71 1463 Q1893.52 1463 1896.58 1467.61 Q1899.66 1472.19 1899.66 1480.94 Q1899.66 1489.67 1896.58 1494.28 Q1893.52 1498.86 1887.71 1498.86 Q1881.9 1498.86 1878.83 1494.28 Q1875.77 1489.67 1875.77 1480.94 Q1875.77 1472.19 1878.83 1467.61 Q1881.9 1463 1887.71 1463 Z\" fill=\"#000000\" fill-rule=\"evenodd\" fill-opacity=\"1\" /><path clip-path=\"url(#clip120)\" d=\"M 0 0 M1899.66 1458.68 L1909.8 1458.68 L1909.8 1461.77 L1899.66 1461.77 L1899.66 1458.68 Z\" fill=\"#000000\" fill-rule=\"evenodd\" fill-opacity=\"1\" /><path clip-path=\"url(#clip120)\" d=\"M 0 0 M1936.45 1446.01 L1926.86 1461 L1936.45 1461 L1936.45 1446.01 M1935.45 1442.7 L1940.23 1442.7 L1940.23 1461 L1944.23 1461 L1944.23 1464.16 L1940.23 1464.16 L1940.23 1470.78 L1936.45 1470.78 L1936.45 1464.16 L1923.77 1464.16 L1923.77 1460.49 L1935.45 1442.7 Z\" fill=\"#000000\" fill-rule=\"evenodd\" fill-opacity=\"1\" /><path clip-path=\"url(#clip120)\" d=\"M 0 0 M2137.18 1494.25 L2144.82 1494.25 L2144.82 1467.89 L2136.51 1469.55 L2136.51 1465.29 L2144.78 1463.63 L2149.45 1463.63 L2149.45 1494.25 L2157.09 1494.25 L2157.09 1498.19 L2137.18 1498.19 L2137.18 1494.25 Z\" fill=\"#000000\" fill-rule=\"evenodd\" fill-opacity=\"1\" /><path clip-path=\"url(#clip120)\" d=\"M 0 0 M2172.16 1466.71 Q2168.55 1466.71 2166.72 1470.27 Q2164.91 1473.81 2164.91 1480.94 Q2164.91 1488.05 2166.72 1491.61 Q2168.55 1495.15 2172.16 1495.15 Q2175.79 1495.15 2177.6 1491.61 Q2179.43 1488.05 2179.43 1480.94 Q2179.43 1473.81 2177.6 1470.27 Q2175.79 1466.71 2172.16 1466.71 M2172.16 1463 Q2177.97 1463 2181.03 1467.61 Q2184.1 1472.19 2184.1 1480.94 Q2184.1 1489.67 2181.03 1494.28 Q2177.97 1498.86 2172.16 1498.86 Q2166.35 1498.86 2163.27 1494.28 Q2160.22 1489.67 2160.22 1480.94 Q2160.22 1472.19 2163.27 1467.61 Q2166.35 1463 2172.16 1463 Z\" fill=\"#000000\" fill-rule=\"evenodd\" fill-opacity=\"1\" /><path clip-path=\"url(#clip120)\" d=\"M 0 0 M2184.1 1458.68 L2194.24 1458.68 L2194.24 1461.77 L2184.1 1461.77 L2184.1 1458.68 Z\" fill=\"#000000\" fill-rule=\"evenodd\" fill-opacity=\"1\" /><path clip-path=\"url(#clip120)\" d=\"M 0 0 M2212.79 1467.58 L2226.05 1467.58 L2226.05 1470.78 L2208.22 1470.78 L2208.22 1467.58 Q2210.38 1465.34 2214.1 1461.58 Q2217.85 1457.8 2218.8 1456.71 Q2220.63 1454.66 2221.34 1453.25 Q2222.08 1451.82 2222.08 1450.45 Q2222.08 1448.21 2220.5 1446.8 Q2218.94 1445.39 2216.42 1445.39 Q2214.63 1445.39 2212.64 1446.01 Q2210.66 1446.63 2208.4 1447.89 L2208.4 1444.05 Q2210.7 1443.13 2212.69 1442.66 Q2214.69 1442.19 2216.34 1442.19 Q2220.7 1442.19 2223.3 1444.37 Q2225.9 1446.55 2225.9 1450.2 Q2225.9 1451.93 2225.24 1453.49 Q2224.6 1455.03 2222.89 1457.14 Q2222.42 1457.69 2219.9 1460.3 Q2217.38 1462.9 2212.79 1467.58 Z\" fill=\"#000000\" fill-rule=\"evenodd\" fill-opacity=\"1\" /><path clip-path=\"url(#clip120)\" d=\"M 0 0 M161.755 1321.88 L169.394 1321.88 L169.394 1295.51 L161.083 1297.18 L161.083 1292.92 L169.347 1291.25 L174.023 1291.25 L174.023 1321.88 L181.662 1321.88 L181.662 1325.81 L161.755 1325.81 L161.755 1321.88 Z\" fill=\"#000000\" fill-rule=\"evenodd\" fill-opacity=\"1\" /><path clip-path=\"url(#clip120)\" d=\"M 0 0 M196.731 1294.33 Q193.12 1294.33 191.292 1297.89 Q189.486 1301.44 189.486 1308.57 Q189.486 1315.67 191.292 1319.24 Q193.12 1322.78 196.731 1322.78 Q200.366 1322.78 202.171 1319.24 Q204 1315.67 204 1308.57 Q204 1301.44 202.171 1297.89 Q200.366 1294.33 196.731 1294.33 M196.731 1290.63 Q202.542 1290.63 205.597 1295.23 Q208.676 1299.82 208.676 1308.57 Q208.676 1317.29 205.597 1321.9 Q202.542 1326.48 196.731 1326.48 Q190.921 1326.48 187.843 1321.9 Q184.787 1317.29 184.787 1308.57 Q184.787 1299.82 187.843 1295.23 Q190.921 1290.63 196.731 1290.63 Z\" fill=\"#000000\" fill-rule=\"evenodd\" fill-opacity=\"1\" /><path clip-path=\"url(#clip120)\" d=\"M 0 0 M208.676 1286.31 L218.813 1286.31 L218.813 1289.39 L208.676 1289.39 L208.676 1286.31 Z\" fill=\"#000000\" fill-rule=\"evenodd\" fill-opacity=\"1\" /><path clip-path=\"url(#clip120)\" d=\"M 0 0 M232.787 1270.32 L250.843 1270.32 L250.843 1271.94 L240.649 1298.4 L236.681 1298.4 L246.273 1273.52 L232.787 1273.52 L232.787 1270.32 Z\" fill=\"#000000\" fill-rule=\"evenodd\" fill-opacity=\"1\" /><path clip-path=\"url(#clip120)\" d=\"M 0 0 M160.419 1133.36 L168.058 1133.36 L168.058 1106.99 L159.748 1108.66 L159.748 1104.4 L168.012 1102.73 L172.688 1102.73 L172.688 1133.36 L180.327 1133.36 L180.327 1137.29 L160.419 1137.29 L160.419 1133.36 Z\" fill=\"#000000\" fill-rule=\"evenodd\" fill-opacity=\"1\" /><path clip-path=\"url(#clip120)\" d=\"M 0 0 M195.396 1105.81 Q191.785 1105.81 189.956 1109.38 Q188.151 1112.92 188.151 1120.05 Q188.151 1127.16 189.956 1130.72 Q191.785 1134.26 195.396 1134.26 Q199.03 1134.26 200.836 1130.72 Q202.665 1127.16 202.665 1120.05 Q202.665 1112.92 200.836 1109.38 Q199.03 1105.81 195.396 1105.81 M195.396 1102.11 Q201.206 1102.11 204.262 1106.72 Q207.34 1111.3 207.34 1120.05 Q207.34 1128.78 204.262 1133.38 Q201.206 1137.97 195.396 1137.97 Q189.586 1137.97 186.507 1133.38 Q183.452 1128.78 183.452 1120.05 Q183.452 1111.3 186.507 1106.72 Q189.586 1102.11 195.396 1102.11 Z\" fill=\"#000000\" fill-rule=\"evenodd\" fill-opacity=\"1\" /><path clip-path=\"url(#clip120)\" d=\"M 0 0 M207.34 1097.79 L217.478 1097.79 L217.478 1100.87 L207.34 1100.87 L207.34 1097.79 Z\" fill=\"#000000\" fill-rule=\"evenodd\" fill-opacity=\"1\" /><path clip-path=\"url(#clip120)\" d=\"M 0 0 M241.477 1094.33 Q238.919 1094.33 237.414 1096.08 Q235.928 1097.83 235.928 1100.87 Q235.928 1103.9 237.414 1105.67 Q238.919 1107.42 241.477 1107.42 Q244.034 1107.42 245.52 1105.67 Q247.025 1103.9 247.025 1100.87 Q247.025 1097.83 245.52 1096.08 Q244.034 1094.33 241.477 1094.33 M249.018 1082.42 L249.018 1085.89 Q247.589 1085.21 246.122 1084.85 Q244.674 1084.49 243.244 1084.49 Q239.483 1084.49 237.489 1087.03 Q235.514 1089.57 235.232 1094.71 Q236.342 1093.07 238.016 1092.2 Q239.69 1091.32 241.702 1091.32 Q245.934 1091.32 248.379 1093.9 Q250.843 1096.46 250.843 1100.87 Q250.843 1105.2 248.285 1107.81 Q245.727 1110.43 241.477 1110.43 Q236.605 1110.43 234.029 1106.71 Q231.452 1102.96 231.452 1095.87 Q231.452 1089.21 234.612 1085.26 Q237.771 1081.3 243.094 1081.3 Q244.523 1081.3 245.972 1081.58 Q247.439 1081.86 249.018 1082.42 Z\" fill=\"#000000\" fill-rule=\"evenodd\" fill-opacity=\"1\" /><path clip-path=\"url(#clip120)\" d=\"M 0 0 M161.642 944.842 L169.281 944.842 L169.281 918.477 L160.971 920.143 L160.971 915.884 L169.234 914.218 L173.91 914.218 L173.91 944.842 L181.549 944.842 L181.549 948.778 L161.642 948.778 L161.642 944.842 Z\" fill=\"#000000\" fill-rule=\"evenodd\" fill-opacity=\"1\" /><path clip-path=\"url(#clip120)\" d=\"M 0 0 M196.619 917.296 Q193.007 917.296 191.179 920.861 Q189.373 924.403 189.373 931.532 Q189.373 938.639 191.179 942.203 Q193.007 945.745 196.619 945.745 Q200.253 945.745 202.058 942.203 Q203.887 938.639 203.887 931.532 Q203.887 924.403 202.058 920.861 Q200.253 917.296 196.619 917.296 M196.619 913.593 Q202.429 913.593 205.484 918.199 Q208.563 922.782 208.563 931.532 Q208.563 940.259 205.484 944.866 Q202.429 949.449 196.619 949.449 Q190.808 949.449 187.73 944.866 Q184.674 940.259 184.674 931.532 Q184.674 922.782 187.73 918.199 Q190.808 913.593 196.619 913.593 Z\" fill=\"#000000\" fill-rule=\"evenodd\" fill-opacity=\"1\" /><path clip-path=\"url(#clip120)\" d=\"M 0 0 M208.563 909.274 L218.7 909.274 L218.7 912.358 L208.563 912.358 L208.563 909.274 Z\" fill=\"#000000\" fill-rule=\"evenodd\" fill-opacity=\"1\" /><path clip-path=\"url(#clip120)\" d=\"M 0 0 M233.859 893.287 L248.774 893.287 L248.774 896.484 L237.339 896.484 L237.339 903.368 Q238.166 903.086 238.994 902.954 Q239.821 902.804 240.649 902.804 Q245.351 902.804 248.097 905.381 Q250.843 907.957 250.843 912.358 Q250.843 916.891 248.022 919.411 Q245.2 921.913 240.066 921.913 Q238.298 921.913 236.455 921.612 Q234.631 921.311 232.675 920.709 L232.675 916.891 Q234.367 917.812 236.173 918.264 Q237.978 918.715 239.991 918.715 Q243.244 918.715 245.144 917.004 Q247.044 915.292 247.044 912.358 Q247.044 909.424 245.144 907.713 Q243.244 906.001 239.991 906.001 Q238.467 906.001 236.944 906.34 Q235.439 906.678 233.859 907.393 L233.859 893.287 Z\" fill=\"#000000\" fill-rule=\"evenodd\" fill-opacity=\"1\" /><path clip-path=\"url(#clip120)\" d=\"M 0 0 M159.347 756.326 L166.986 756.326 L166.986 729.96 L158.676 731.627 L158.676 727.368 L166.94 725.701 L171.616 725.701 L171.616 756.326 L179.255 756.326 L179.255 760.261 L159.347 760.261 L159.347 756.326 Z\" fill=\"#000000\" fill-rule=\"evenodd\" fill-opacity=\"1\" /><path clip-path=\"url(#clip120)\" d=\"M 0 0 M194.324 728.78 Q190.713 728.78 188.884 732.344 Q187.079 735.886 187.079 743.016 Q187.079 750.122 188.884 753.687 Q190.713 757.228 194.324 757.228 Q197.958 757.228 199.764 753.687 Q201.593 750.122 201.593 743.016 Q201.593 735.886 199.764 732.344 Q197.958 728.78 194.324 728.78 M194.324 725.076 Q200.134 725.076 203.19 729.682 Q206.268 734.266 206.268 743.016 Q206.268 751.742 203.19 756.349 Q200.134 760.932 194.324 760.932 Q188.514 760.932 185.435 756.349 Q182.38 751.742 182.38 743.016 Q182.38 734.266 185.435 729.682 Q188.514 725.076 194.324 725.076 Z\" fill=\"#000000\" fill-rule=\"evenodd\" fill-opacity=\"1\" /><path clip-path=\"url(#clip120)\" d=\"M 0 0 M206.268 720.757 L216.406 720.757 L216.406 723.842 L206.268 723.842 L206.268 720.757 Z\" fill=\"#000000\" fill-rule=\"evenodd\" fill-opacity=\"1\" /><path clip-path=\"url(#clip120)\" d=\"M 0 0 M243.056 708.081 L233.464 723.07 L243.056 723.07 L243.056 708.081 M242.06 704.77 L246.837 704.77 L246.837 723.07 L250.843 723.07 L250.843 726.23 L246.837 726.23 L246.837 732.85 L243.056 732.85 L243.056 726.23 L230.38 726.23 L230.38 722.563 L242.06 704.77 Z\" fill=\"#000000\" fill-rule=\"evenodd\" fill-opacity=\"1\" /><path clip-path=\"url(#clip120)\" d=\"M 0 0 M161.322 567.809 L168.961 567.809 L168.961 541.443 L160.651 543.11 L160.651 538.851 L168.915 537.184 L173.591 537.184 L173.591 567.809 L181.229 567.809 L181.229 571.744 L161.322 571.744 L161.322 567.809 Z\" fill=\"#000000\" fill-rule=\"evenodd\" fill-opacity=\"1\" /><path clip-path=\"url(#clip120)\" d=\"M 0 0 M196.299 540.263 Q192.688 540.263 190.859 543.828 Q189.054 547.369 189.054 554.499 Q189.054 561.605 190.859 565.17 Q192.688 568.712 196.299 568.712 Q199.933 568.712 201.739 565.17 Q203.567 561.605 203.567 554.499 Q203.567 547.369 201.739 543.828 Q199.933 540.263 196.299 540.263 M196.299 536.559 Q202.109 536.559 205.165 541.166 Q208.243 545.749 208.243 554.499 Q208.243 563.226 205.165 567.832 Q202.109 572.415 196.299 572.415 Q190.489 572.415 187.41 567.832 Q184.354 563.226 184.354 554.499 Q184.354 545.749 187.41 541.166 Q190.489 536.559 196.299 536.559 Z\" fill=\"#000000\" fill-rule=\"evenodd\" fill-opacity=\"1\" /><path clip-path=\"url(#clip120)\" d=\"M 0 0 M208.243 532.24 L218.381 532.24 L218.381 535.325 L208.243 535.325 L208.243 532.24 Z\" fill=\"#000000\" fill-rule=\"evenodd\" fill-opacity=\"1\" /><path clip-path=\"url(#clip120)\" d=\"M 0 0 M245.05 529.194 Q247.777 529.777 249.301 531.62 Q250.843 533.463 250.843 536.171 Q250.843 540.328 247.984 542.603 Q245.125 544.879 239.859 544.879 Q238.091 544.879 236.21 544.522 Q234.348 544.183 232.355 543.487 L232.355 539.82 Q233.935 540.742 235.815 541.212 Q237.696 541.682 239.746 541.682 Q243.32 541.682 245.182 540.271 Q247.062 538.861 247.062 536.171 Q247.062 533.689 245.313 532.297 Q243.583 530.886 240.48 530.886 L237.207 530.886 L237.207 527.764 L240.63 527.764 Q243.433 527.764 244.918 526.654 Q246.404 525.526 246.404 523.42 Q246.404 521.257 244.862 520.109 Q243.339 518.943 240.48 518.943 Q238.919 518.943 237.132 519.282 Q235.345 519.62 233.201 520.335 L233.201 516.95 Q235.364 516.348 237.245 516.047 Q239.144 515.746 240.818 515.746 Q245.144 515.746 247.664 517.721 Q250.185 519.677 250.185 523.025 Q250.185 525.357 248.849 526.974 Q247.514 528.573 245.05 529.194 Z\" fill=\"#000000\" fill-rule=\"evenodd\" fill-opacity=\"1\" /><path clip-path=\"url(#clip120)\" d=\"M 0 0 M161.98 379.292 L169.619 379.292 L169.619 352.927 L161.309 354.593 L161.309 350.334 L169.573 348.668 L174.249 348.668 L174.249 379.292 L181.888 379.292 L181.888 383.228 L161.98 383.228 L161.98 379.292 Z\" fill=\"#000000\" fill-rule=\"evenodd\" fill-opacity=\"1\" /><path clip-path=\"url(#clip120)\" d=\"M 0 0 M196.957 351.746 Q193.346 351.746 191.517 355.311 Q189.712 358.853 189.712 365.982 Q189.712 373.089 191.517 376.653 Q193.346 380.195 196.957 380.195 Q200.591 380.195 202.397 376.653 Q204.226 373.089 204.226 365.982 Q204.226 358.853 202.397 355.311 Q200.591 351.746 196.957 351.746 M196.957 348.043 Q202.767 348.043 205.823 352.649 Q208.901 357.232 208.901 365.982 Q208.901 374.709 205.823 379.316 Q202.767 383.899 196.957 383.899 Q191.147 383.899 188.068 379.316 Q185.013 374.709 185.013 365.982 Q185.013 357.232 188.068 352.649 Q191.147 348.043 196.957 348.043 Z\" fill=\"#000000\" fill-rule=\"evenodd\" fill-opacity=\"1\" /><path clip-path=\"url(#clip120)\" d=\"M 0 0 M208.901 343.724 L219.039 343.724 L219.039 346.808 L208.901 346.808 L208.901 343.724 Z\" fill=\"#000000\" fill-rule=\"evenodd\" fill-opacity=\"1\" /><path clip-path=\"url(#clip120)\" d=\"M 0 0 M237.583 352.62 L250.843 352.62 L250.843 355.817 L233.013 355.817 L233.013 352.62 Q235.176 350.382 238.9 346.62 Q242.643 342.84 243.602 341.749 Q245.426 339.699 246.141 338.288 Q246.874 336.859 246.874 335.486 Q246.874 333.248 245.295 331.837 Q243.733 330.427 241.213 330.427 Q239.427 330.427 237.433 331.047 Q235.458 331.668 233.201 332.928 L233.201 329.091 Q235.496 328.17 237.489 327.7 Q239.483 327.229 241.138 327.229 Q245.501 327.229 248.097 329.411 Q250.692 331.593 250.692 335.241 Q250.692 336.972 250.034 338.533 Q249.395 340.075 247.683 342.182 Q247.213 342.727 244.693 345.341 Q242.172 347.937 237.583 352.62 Z\" fill=\"#000000\" fill-rule=\"evenodd\" fill-opacity=\"1\" /><path clip-path=\"url(#clip120)\" d=\"M 0 0 M163.09 190.776 L170.729 190.776 L170.729 164.41 L162.419 166.077 L162.419 161.818 L170.683 160.151 L175.359 160.151 L175.359 190.776 L182.997 190.776 L182.997 194.711 L163.09 194.711 L163.09 190.776 Z\" fill=\"#000000\" fill-rule=\"evenodd\" fill-opacity=\"1\" /><path clip-path=\"url(#clip120)\" d=\"M 0 0 M198.067 163.23 Q194.456 163.23 192.627 166.794 Q190.821 170.336 190.821 177.466 Q190.821 184.572 192.627 188.137 Q194.456 191.678 198.067 191.678 Q201.701 191.678 203.507 188.137 Q205.335 184.572 205.335 177.466 Q205.335 170.336 203.507 166.794 Q201.701 163.23 198.067 163.23 M198.067 159.526 Q203.877 159.526 206.932 164.132 Q210.011 168.716 210.011 177.466 Q210.011 186.192 206.932 190.799 Q203.877 195.382 198.067 195.382 Q192.257 195.382 189.178 190.799 Q186.122 186.192 186.122 177.466 Q186.122 168.716 189.178 164.132 Q192.257 159.526 198.067 159.526 Z\" fill=\"#000000\" fill-rule=\"evenodd\" fill-opacity=\"1\" /><path clip-path=\"url(#clip120)\" d=\"M 0 0 M210.011 155.207 L220.149 155.207 L220.149 158.292 L210.011 158.292 L210.011 155.207 Z\" fill=\"#000000\" fill-rule=\"evenodd\" fill-opacity=\"1\" /><path clip-path=\"url(#clip120)\" d=\"M 0 0 M234.668 164.103 L240.875 164.103 L240.875 142.681 L234.123 144.035 L234.123 140.575 L240.837 139.22 L244.636 139.22 L244.636 164.103 L250.843 164.103 L250.843 167.3 L234.668 167.3 L234.668 164.103 Z\" fill=\"#000000\" fill-rule=\"evenodd\" fill-opacity=\"1\" /><path clip-path=\"url(#clip120)\" d=\"M 0 0 M1328.73 1534.53 L1328.73 1556.04 L1322.87 1556.04 L1322.87 1534.72 Q1322.87 1529.66 1320.9 1527.14 Q1318.92 1524.63 1314.98 1524.63 Q1310.23 1524.63 1307.5 1527.65 Q1304.76 1530.68 1304.76 1535.9 L1304.76 1556.04 L1298.87 1556.04 L1298.87 1506.52 L1304.76 1506.52 L1304.76 1525.93 Q1306.86 1522.72 1309.69 1521.13 Q1312.56 1519.54 1316.28 1519.54 Q1322.42 1519.54 1325.58 1523.36 Q1328.73 1527.14 1328.73 1534.53 Z\" fill=\"#000000\" fill-rule=\"evenodd\" fill-opacity=\"1\" /><path clip-path=\"url(#clip120)\" d=\"M 0 0 M40.4842 807.59 L40.4842 777.544 L45.895 777.544 L45.895 801.161 L59.9632 801.161 L59.9632 778.531 L65.3741 778.531 L65.3741 801.161 L82.5933 801.161 L82.5933 776.971 L88.0042 776.971 L88.0042 807.59 L40.4842 807.59 Z\" fill=\"#000000\" fill-rule=\"evenodd\" fill-opacity=\"1\" /><path clip-path=\"url(#clip120)\" d=\"M 0 0 M57.8307 750.171 Q57.2578 751.158 57.0032 752.336 Q56.7167 753.482 56.7167 754.882 Q56.7167 759.847 59.9632 762.521 Q63.1779 765.163 69.2253 765.163 L88.0042 765.163 L88.0042 771.051 L52.3562 771.051 L52.3562 765.163 L57.8944 765.163 Q54.6479 763.317 53.0883 760.357 Q51.4968 757.396 51.4968 753.163 Q51.4968 752.559 51.5923 751.826 Q51.656 751.094 51.8151 750.203 L57.8307 750.171 Z\" fill=\"#000000\" fill-rule=\"evenodd\" fill-opacity=\"1\" /><path clip-path=\"url(#clip120)\" d=\"M 0 0 M57.8307 724.518 Q57.2578 725.504 57.0032 726.682 Q56.7167 727.828 56.7167 729.228 Q56.7167 734.193 59.9632 736.867 Q63.1779 739.509 69.2253 739.509 L88.0042 739.509 L88.0042 745.397 L52.3562 745.397 L52.3562 739.509 L57.8944 739.509 Q54.6479 737.663 53.0883 734.703 Q51.4968 731.743 51.4968 727.509 Q51.4968 726.905 51.5923 726.173 Q51.656 725.441 51.8151 724.549 L57.8307 724.518 Z\" fill=\"#000000\" fill-rule=\"evenodd\" fill-opacity=\"1\" /><path clip-path=\"url(#clip120)\" d=\"M 0 0 M56.4621 705.993 Q56.4621 710.704 60.1542 713.441 Q63.8145 716.179 70.212 716.179 Q76.6095 716.179 80.3017 713.473 Q83.9619 710.736 83.9619 705.993 Q83.9619 701.315 80.2698 698.577 Q76.5777 695.84 70.212 695.84 Q63.8781 695.84 60.186 698.577 Q56.4621 701.315 56.4621 705.993 M51.4968 705.993 Q51.4968 698.355 56.4621 693.994 Q61.4273 689.634 70.212 689.634 Q78.9649 689.634 83.9619 693.994 Q88.9272 698.355 88.9272 705.993 Q88.9272 713.664 83.9619 718.025 Q78.9649 722.353 70.212 722.353 Q61.4273 722.353 56.4621 718.025 Q51.4968 713.664 51.4968 705.993 Z\" fill=\"#000000\" fill-rule=\"evenodd\" fill-opacity=\"1\" /><path clip-path=\"url(#clip120)\" d=\"M 0 0 M57.8307 662.834 Q57.2578 663.821 57.0032 664.998 Q56.7167 666.144 56.7167 667.545 Q56.7167 672.51 59.9632 675.183 Q63.1779 677.825 69.2253 677.825 L88.0042 677.825 L88.0042 683.713 L52.3562 683.713 L52.3562 677.825 L57.8944 677.825 Q54.6479 675.979 53.0883 673.019 Q51.4968 670.059 51.4968 665.826 Q51.4968 665.221 51.5923 664.489 Q51.656 663.757 51.8151 662.866 L57.8307 662.834 Z\" fill=\"#000000\" fill-rule=\"evenodd\" fill-opacity=\"1\" /><polyline clip-path=\"url(#clip122)\" style=\"stroke:#009af9; stroke-width:8; stroke-opacity:1; fill:none\" points=\"\n",
       "  2293.95,182.626 2251.33,240.235 2208.72,297.412 2166.1,354.375 2123.49,411.231 2080.87,468.033 2038.26,524.809 1995.64,581.572 1953.03,638.327 1910.41,695.08 \n",
       "  1867.8,751.831 1825.18,808.581 1782.57,865.33 1739.95,922.08 1697.34,978.828 1654.72,1035.58 1612.11,1092.32 1569.49,1149.02 1526.87,1205.49 1484.26,1261.92 \n",
       "  1441.64,1318.97 1399.03,1356.31 1356.41,1384.24 1313.8,1384.24 1271.18,1384.24 1228.57,1265.74 1185.95,1189.76 1143.34,1317.79 1100.72,1124.86 1058.11,1110.65 \n",
       "  1015.49,1029.9 972.878,921.777 930.263,921.777 887.648,809.679 845.033,734.944 802.418,670.494 759.803,867.853 717.188,610.151 674.573,610.151 631.957,610.151 \n",
       "  589.342,610.151 546.727,610.151 504.112,610.151 461.497,264.995 418.882,264.995 376.267,264.995 333.652,86.1857 \n",
       "  \"/>\n",
       "<path clip-path=\"url(#clip120)\" d=\"\n",
       "M2001.59 214.069 L2283.49 214.069 L2283.49 93.1086 L2001.59 93.1086  Z\n",
       "  \" fill=\"#ffffff\" fill-rule=\"evenodd\" fill-opacity=\"1\"/>\n",
       "<polyline clip-path=\"url(#clip120)\" style=\"stroke:#000000; stroke-width:4; stroke-opacity:1; fill:none\" points=\"\n",
       "  2001.59,214.069 2283.49,214.069 2283.49,93.1086 2001.59,93.1086 2001.59,214.069 \n",
       "  \"/>\n",
       "<polyline clip-path=\"url(#clip120)\" style=\"stroke:#009af9; stroke-width:4; stroke-opacity:1; fill:none\" points=\"\n",
       "  2024.68,153.589 2163.21,153.589 \n",
       "  \"/>\n",
       "<path clip-path=\"url(#clip120)\" d=\"M 0 0 M2200.14 173.276 Q2198.34 177.906 2196.62 179.318 Q2194.91 180.73 2192.04 180.73 L2188.64 180.73 L2188.64 177.165 L2191.14 177.165 Q2192.9 177.165 2193.87 176.332 Q2194.84 175.498 2196.02 172.396 L2196.78 170.452 L2186.3 144.943 L2190.81 144.943 L2198.91 165.221 L2207.02 144.943 L2211.53 144.943 L2200.14 173.276 Z\" fill=\"#000000\" fill-rule=\"evenodd\" fill-opacity=\"1\" /><path clip-path=\"url(#clip120)\" d=\"M 0 0 M2217.41 166.933 L2225.05 166.933 L2225.05 140.568 L2216.74 142.235 L2216.74 137.975 L2225 136.309 L2229.68 136.309 L2229.68 166.933 L2237.32 166.933 L2237.32 170.869 L2217.41 170.869 L2217.41 166.933 Z\" fill=\"#000000\" fill-rule=\"evenodd\" fill-opacity=\"1\" /></svg>\n"
      ]
     },
     "execution_count": 3,
     "metadata": {},
     "output_type": "execute_result"
    }
   ],
   "source": [
    "f = x -> exp(x)\n",
    "df = x -> exp(x)\n",
    "x0 = 1\n",
    "hh = 0.5.^(4:50)\n",
    "error = [abs((f(x0+h) - f(x0))/h - df(x0)) for h in hh]\n",
    "plot(hh, error, xaxis=:log, yaxis=:log, xlabel=\"h\", ylabel=\"Error\", lw=2)"
   ]
  },
  {
   "cell_type": "markdown",
   "metadata": {
    "deletable": false,
    "editable": false,
    "nbgrader": {
     "cell_type": "markdown",
     "checksum": "f9ef2f7b1f2a9894808639222cb9ad40",
     "grade": false,
     "grade_id": "cell-1f0784bdf7a942b7",
     "locked": true,
     "schema_version": 3,
     "solution": false,
     "task": false
    }
   },
   "source": [
    "Question 3 continued ...\n",
    "\n",
    "(b) For `Float64` precision $\\epsilon \\approx 10^{-16}$ (cf. `eps(Float64)`) How would you choose $h$? How would you choose $h$ for `Float32` precision?\n",
    "\n",
    "(c+) What is the corresponding estimate for the centered difference from Q2a and how does it affect your choice of $h$?"
   ]
  },
  {
   "cell_type": "markdown",
   "metadata": {
    "deletable": false,
    "nbgrader": {
     "cell_type": "markdown",
     "checksum": "b646a28c0875ddee06a5cd017527aa95",
     "grade": true,
     "grade_id": "cell-e18eb7942334c764",
     "locked": false,
     "points": 15,
     "schema_version": 3,
     "solution": true,
     "task": false
    }
   },
   "source": [
    "(b)\n",
    "\n",
    "The key is to choose h such that the errors are balance. You want the $O(h)$ and $O(\\epsilon h^{-1})$ terms to be the same. This occurs when $h = \\sqrt{\\epsilon}$. In the case of Float64, this happens at $10^{-8}$ as shown in the plot in part (a). The error is minimized around $10^{-8]$.  \n",
    "\n",
    "For Float32 the machine precision is roughly $10^{-7}$. So, taking a square root would yield $10^{-7/2}$ for the appropriate value of h.\n",
    "\n",
    "(c) \n",
    "\n",
    "The expression for centered finite difference reduces down to essentially the same form. The difference here is that the expression is second order accurate and therefore, one of the error term's $O(h^2)$.\n",
    "$$\n",
    "  fl\\Big[\\frac{f(x+h) - f(x-h)}{2h}\\Big] = \\frac{f(x+h) - f(x-h)}{2h} + O(\\epsilon/h) \\\\\n",
    "  fl\\Big[\\frac{f(x+h) - f(x-h)}{2h}\\Big] = f'(x) + O(h^2) + O(\\epsilon/h) \\\\\n",
    "$$\n",
    "As metioned in part (b), the two error terms need to be balanced. This means that $ h^2 \\approx \\epsilon/h$. Solving for h results in $h = \\epsilon^(1/3)$. So, in the case of centered difference, $\\epsilon^(1/3)$ is an appropriate value of h.\n"
   ]
  },
  {
   "cell_type": "markdown",
   "metadata": {
    "deletable": false,
    "editable": false,
    "nbgrader": {
     "cell_type": "markdown",
     "checksum": "b193d4bf306524a8e3e902fbe3cc6012",
     "grade": false,
     "grade_id": "cell-b13bc18813644137",
     "locked": true,
     "schema_version": 3,
     "solution": false,
     "task": false
    }
   },
   "source": [
    "In all subsequent questions: $\\mathbb{F} \\in \\{ \\mathbb{R}, \\mathbb{C}\\}$.\n",
    "\n",
    "### Question 4 [5]\n",
    "\n",
    "If $A, B \\in \\mathbb{F}^{N \\times N}$ are invertible then $C = AB$ is also invertible and $C^{-1} = B^{-1} A^{-1}$. Check this result numerically, by testing the identity for randomly chosen matrices. As an exception you may use the `inv` command."
   ]
  },
  {
   "cell_type": "code",
   "execution_count": 4,
   "metadata": {
    "deletable": false,
    "nbgrader": {
     "cell_type": "code",
     "checksum": "3a8b65c64e398b561e989ed159ef7786",
     "grade": true,
     "grade_id": "cell-adb8679bad7224c2",
     "locked": false,
     "points": 5,
     "schema_version": 3,
     "solution": true,
     "task": false
    }
   },
   "outputs": [
    {
     "name": "stdout",
     "output_type": "stream",
     "text": [
      "true\n"
     ]
    }
   ],
   "source": [
    "# Create Random  Matrices\n",
    "A = rand(5,5)\n",
    "B = rand(5,5)\n",
    "println(inv(A*B) ≈ inv(B)*inv(A))"
   ]
  },
  {
   "cell_type": "markdown",
   "metadata": {
    "deletable": false,
    "editable": false,
    "nbgrader": {
     "cell_type": "markdown",
     "checksum": "95df397a8cf6c5f86da037fb0764c8dd",
     "grade": false,
     "grade_id": "cell-2dad2c372bf9982f",
     "locked": true,
     "schema_version": 3,
     "solution": false,
     "task": false
    }
   },
   "source": [
    "### Question 5 [5+5+10]\n",
    "\n",
    "(a) Construct a right-hand side $b$ such that the system \n",
    "$$ \n",
    "   A x = b, \\qquad \\text{where} \\quad \n",
    "   A = \\begin{pmatrix}\n",
    "       2 & 1 & 0 & 2 \\\\ \n",
    "       3 & 1 & 1 & 4 \\\\ \n",
    "       4 & 1 & 2 & 6 \\\\ \n",
    "       5 & 1 & 3 & 8 \n",
    "   \\end{pmatrix}\n",
    "$$\n",
    "has no solution. In the solution cell enter this right-hand side as \n",
    "```julia \n",
    "b = [ # insert elements\n",
    "```\n",
    "\n",
    "(b) For $b = 0$ compute the set of all solutions to the system in (a) (i.e. the null-space of the system matrix). In the solution cell, enter your solution as a matrix\n",
    "```julia \n",
    "N = # enter the definition of the null space \n",
    "```\n",
    "such that the columns `N[:, i]` span the space of all solutions.\n",
    "\n",
    "(c+) For the system that you derived in (a) which has no solution, find the \"regularised least squares solution\" i.e. \n",
    "$$\n",
    "    x = \\arg\\min \\| A x - b \\|^2 + \\|x\\|^2\n",
    "$$\n",
    "In the solution cell, enter this solution as \n",
    "```julia \n",
    "x = # enter the definition of the solution   \n",
    "```"
   ]
  },
  {
   "cell_type": "code",
   "execution_count": 5,
   "metadata": {
    "deletable": false,
    "nbgrader": {
     "cell_type": "code",
     "checksum": "2a7afbf9321c3ad1ec9569d6e27002a1",
     "grade": false,
     "grade_id": "cell-cc228c3143f579d4",
     "locked": false,
     "schema_version": 3,
     "solution": true,
     "task": false
    }
   },
   "outputs": [
    {
     "data": {
      "text/plain": [
       "4×1 Array{Float64,2}:\n",
       "  0.34538878842676357\n",
       "  0.33453887884267564\n",
       " -0.3236889692585907\n",
       "  0.02169981916817365"
      ]
     },
     "execution_count": 5,
     "metadata": {},
     "output_type": "execute_result"
    }
   ],
   "source": [
    "A = [ 2 1 0 2\n",
    "      3 1 1 4\n",
    "      4 1 2 6\n",
    "      5 1 3 8 ]\n",
    "##########\n",
    "# PART A #\n",
    "##########\n",
    "# Rank of A is two meaning that the column space of A is spaned by two vectors.\n",
    "# Upon converting the matrix the row echelon form, the pivots indicate that [2 3 4 5] and [1 1 1 1]\n",
    "# are the basis vectors of A.\n",
    "# For Ax = b to have a solution, b has to be the space spanned by the aforementioned two vectors.\n",
    "# Otherwise, the system doesn't have a solution. We can guarantee that b isn't in the column space of A\n",
    "# by ensuring that the basis vectors of A and b are linearly independent.\n",
    "\n",
    "b = [1 2 1 1]\n",
    "\n",
    "# Testing: if rank of the matrix below is 3 then, b is not in the column space of A\n",
    "test = [2 1 1\n",
    "        3 1 2\n",
    "        4 1 1\n",
    "        5 1 1]\n",
    "rank(test) == 3\n",
    "\n",
    "##########\n",
    "# PART B #\n",
    "##########\n",
    "# Reduce A to \"reduced row echelon form\". \n",
    "\n",
    "N = [-1 -2\n",
    "      2  2\n",
    "      1  0 \n",
    "      0  1]\n",
    "\n",
    "# Testing: the result should be zero.\n",
    "A*N*rand(2,1)\n",
    "\n",
    "##########\n",
    "# PART C #\n",
    "##########\n",
    "# Explanation added in markdown below. b is transposed to convert it to a column vector.\n",
    "x = inv(A'A + I)*A'*b'"
   ]
  },
  {
   "cell_type": "markdown",
   "metadata": {},
   "source": [
    "(c)\n",
    "\n",
    "A and b can be restructured to include the regularization term. This reduces the expression back to the linear least squares.\n",
    "$$\n",
    "\\| A x - b \\|^2 + \\|x\\|^2 = \\| A_0 x - b_0 \\|^2 \\\\\n",
    "A_0 = \\Big[ A; I\\Big] \\\\\n",
    "b_0 = \\Big[ b; zeros(size(x))\\Big]\n",
    "$$\n",
    "\n",
    "Find x such that gradient is minimized.\n",
    "$$\n",
    "\\nabla(\\| A_0x-b_0\\|^2) = 2A_0^{T}(A_0x-b_0) = 0 \\\\\n",
    "A_0^{T}A_0x = A_0^{T}b \\\\\n",
    "x = (A_0^{T}A_0)^{-1}A_0^{T}b\n",
    "$$\n",
    "\n",
    "Re-expressing the above expression for x in terms of original A and b\n",
    "$$\n",
    "x = (A^TA + I)^{-1}A^Tb\n",
    "$$"
   ]
  },
  {
   "cell_type": "code",
   "execution_count": null,
   "metadata": {
    "deletable": false,
    "editable": false,
    "nbgrader": {
     "cell_type": "code",
     "checksum": "697732e41bff6d69a4d2ea8d571cfb38",
     "grade": true,
     "grade_id": "cell-0e2c6e3f1db1838b",
     "locked": true,
     "points": 20,
     "schema_version": 3,
     "solution": false,
     "task": false
    }
   },
   "outputs": [],
   "source": []
  },
  {
   "cell_type": "markdown",
   "metadata": {
    "deletable": false,
    "editable": false,
    "nbgrader": {
     "cell_type": "markdown",
     "checksum": "9e72e1f1bc9e051d0764d4d2412b5eb3",
     "grade": false,
     "grade_id": "cell-83151558c15a9a0d",
     "locked": true,
     "schema_version": 3,
     "solution": false,
     "task": false
    }
   },
   "source": [
    "### Question 6 [5+5]\n",
    "\n",
    "Find out how to use Julia's LU factorisation `lu` with *AND WITHOUT* partial pivoting, and find out how to compute the condition number of a matrix.\n",
    "\n",
    "The codes `system1()` and `system2()` below will produce two linear systems.  Solve them with and without pivoting and comment on your observations. How is the result related to the condition numbers?\n",
    "\n",
    "(5 points for code + 5 points for discussion)"
   ]
  },
  {
   "cell_type": "code",
   "execution_count": 6,
   "metadata": {
    "deletable": false,
    "nbgrader": {
     "cell_type": "code",
     "checksum": "634484c94a4257a6313c0d9ae21846ec",
     "grade": true,
     "grade_id": "cell-55aec68999869425",
     "locked": false,
     "points": 5,
     "schema_version": 3,
     "solution": true,
     "task": false
    }
   },
   "outputs": [
    {
     "name": "stdout",
     "output_type": "stream",
     "text": [
      "System 1: no pivoting vs. pivoting\n",
      "(norm(A1 * x1_np - b1), norm(A1 * x1_p - b1)) = (4.5298083617618044e-10, 2.5327559112567555e-12)\n",
      "System 2: no pivoting vs. pivoting\n",
      "(norm(A2 * x2_np - b2), norm(A2 * x2_p - b2)) = (0.05622822876602502, 1.0265458793901108e-12)\n",
      "Condition Number: System 1 vs. System 2\n",
      "(cond1, cond2) = (21726.33051315123, 11098.718342377622)\n"
     ]
    },
    {
     "data": {
      "text/plain": [
       "(21726.33051315123, 11098.718342377622)"
      ]
     },
     "execution_count": 6,
     "metadata": {},
     "output_type": "execute_result"
    }
   ],
   "source": [
    "Random.seed!(3)\n",
    "\n",
    "system1() = randn(500, 500), randn(500)\n",
    "\n",
    "function system2()\n",
    "    A = randn(500,500)\n",
    "    for n = 1:500\n",
    "        A[n,n] *= 1e-12\n",
    "    end \n",
    "    b = randn(500)\n",
    "    return A, b \n",
    "end\n",
    "\n",
    "# YOUR CODE HERE\n",
    "A1, b1 = system1()\n",
    "A2, b2 = system2()\n",
    "\n",
    "# No Pivoting\n",
    "L1_np, U1_np, p1_np = lu(A1, Val(false))\n",
    "x1_np = U1_np\\(L1_np\\b1[p1_np])\n",
    "L2_np, U2_np, p2_np = lu(A2, Val(false))\n",
    "x2_np = U2_np\\(L2_np\\b2[p2_np])\n",
    "\n",
    "# # Pivoting\n",
    "L1_p, U1_p, p1_p = lu(A1)\n",
    "x1_p = U1_p\\(L1_p\\b1[p1_p])\n",
    "L2_p, U2_p, p2_p = lu(A2)\n",
    "x2_p = U2_p\\(L2_p\\b2[p2_p])\n",
    "\n",
    "println(\"System 1: no pivoting vs. pivoting\")\n",
    "@show norm(A1*x1_np-b1), norm(A1*x1_p-b1)\n",
    "println(\"System 2: no pivoting vs. pivoting\")\n",
    "@show norm(A2*x2_np-b2), norm(A2*x2_p-b2)\n",
    "\n",
    "# Condition Number\n",
    "cond1 = norm(A1)*norm(inv(A1))\n",
    "cond2 = norm(A2)*norm(inv(A2))\n",
    "\n",
    "println(\"Condition Number: System 1 vs. System 2\")\n",
    "@show cond1, cond2"
   ]
  },
  {
   "cell_type": "markdown",
   "metadata": {
    "deletable": false,
    "nbgrader": {
     "cell_type": "markdown",
     "checksum": "bfe6360840d7595104f75465eb89728e",
     "grade": true,
     "grade_id": "cell-dadf4f50eba0b90b",
     "locked": false,
     "points": 5,
     "schema_version": 3,
     "solution": true,
     "task": false
    }
   },
   "source": [
    "Upon solving both systems with and without pivoting, solving without pivoting yielded greater errors (norm of the residual) in both cases. However, not pivoting had a much greater impact on system 2 leading to an error that several orders of magnitude greater than the pivoted counterpart. This is due to the main diagonal of system 2 being populated with small floating point numbers. Gaussian elimination works by converting model A into a upper triangular matrix by populating elements with zero using row operations. This proceeds in a top-down, left-right fashion. This leads to repeated division by the small floating point number along the diagonal which negatively affects the numerical stability of the system. One can also verify this by looking at the output of lu factorization; there are many large numbers resulting from the division.\\\\\n",
    "\n",
    "As for the condition number, system 1 is roughly two times greater than system 2. Condition number is an amplification factor for the relative error of the data that helps bound the relative error of the solution. The above result indicates that system 1 is less stable than system 2. This does not affect the error due to not pivoting as that's due to error with floating point calculations."
   ]
  },
  {
   "cell_type": "markdown",
   "metadata": {
    "deletable": false,
    "editable": false,
    "nbgrader": {
     "cell_type": "markdown",
     "checksum": "79a800c766dee227e92f4c897844f4c0",
     "grade": false,
     "grade_id": "cell-fba7362a8e59d387",
     "locked": true,
     "schema_version": 3,
     "solution": false,
     "task": false
    }
   },
   "source": [
    "### Question 7 [5+10]\n",
    "\n",
    "The *entropy* (measure of disorder / randomness) for a multivariate Gaussian distribution with covariance $\\Sigma$ is given by \n",
    "$$\n",
    "    S = \\log\\det\\Sigma\n",
    "$$\n",
    "In this question we will come up with an efficient and numerically stable algorithm to compute this.\n",
    "\n",
    "(a+) Observe the result of the following naive simulation and in the cell below explain what you have observed, relating it to properties of `Float64` floating point arithmetic.\n",
    "\n"
   ]
  },
  {
   "cell_type": "code",
   "execution_count": 7,
   "metadata": {
    "deletable": false,
    "editable": false,
    "nbgrader": {
     "cell_type": "code",
     "checksum": "6bcfd2340e507b2fb32ffdd555e652c5",
     "grade": false,
     "grade_id": "cell-ed1403c446ab14dd",
     "locked": true,
     "schema_version": 3,
     "solution": false,
     "task": false
    }
   },
   "outputs": [
    {
     "name": "stdout",
     "output_type": "stream",
     "text": [
      "log(det(A)) = 29.57833090452126\n",
      "log(det(A)) = 82.22278128218313\n",
      "log(det(A)) = 198.30226035015812\n",
      "log(det(A)) = 493.8257777140677\n",
      "log(det(A)) = Inf\n",
      "log(det(A)) = Inf\n",
      "log(det(A)) = Inf\n"
     ]
    }
   ],
   "source": [
    "Random.seed!(0)\n",
    "for N in (2).^(4:10)\n",
    "    A = randn(N, N)  # random matrix\n",
    "    A = A * A'       # symmetric and positive definite \n",
    "    @show log(det(A))\n",
    "end    "
   ]
  },
  {
   "cell_type": "code",
   "execution_count": 8,
   "metadata": {},
   "outputs": [
    {
     "name": "stdout",
     "output_type": "stream",
     "text": [
      "N = 16\n",
      "entropy = 29.57833090452123\n",
      "det(A) = 7.009804336429675e12\n",
      "prod(eigenvalues) = 7.009804336429477e12\n",
      "N = 32\n",
      "entropy = 82.22278128218282\n",
      "det(A) = 5.115642627523491e35\n",
      "prod(eigenvalues) = 5.1156426275219475e35\n",
      "N = 64\n",
      "entropy = 198.30226035015926\n",
      "det(A) = 1.323053539635243e86\n",
      "prod(eigenvalues) = 1.323053539636782e86\n",
      "N = 128\n",
      "entropy = 493.82577771406784\n",
      "det(A) = 2.9228752701043716e214\n",
      "prod(eigenvalues) = 2.922875270105087e214\n",
      "N = 256\n",
      "entropy = 1157.887003089666\n",
      "det(A) = Inf\n",
      "prod(eigenvalues) = Inf\n",
      "N = 512\n",
      "entropy = 2684.223307816881\n",
      "det(A) = Inf\n",
      "prod(eigenvalues) = Inf\n",
      "N = 1024\n",
      "entropy = 6063.255345354044\n",
      "det(A) = Inf\n",
      "prod(eigenvalues) = Inf\n"
     ]
    },
    {
     "data": {
      "text/plain": [
       "1.7976931348623157e308"
      ]
     },
     "execution_count": 8,
     "metadata": {},
     "output_type": "execute_result"
    }
   ],
   "source": [
    "# use this cell to experiment\n",
    "Random.seed!(0)\n",
    "for N in (2).^(4:10)\n",
    "    A = randn(N, N)  # random matrix\n",
    "    A = A * A'       # symmetric and positive definite \n",
    "    eigenvalues = eigen(A).values\n",
    "    entropy = 0\n",
    "    for val in eigenvalues\n",
    "        entropy += log(val)\n",
    "    end\n",
    "    @show N\n",
    "    @show entropy\n",
    "    @show det(A)\n",
    "    @show prod(eigenvalues)\n",
    "end    \n",
    "\n",
    "floatmax(Float64)"
   ]
  },
  {
   "cell_type": "markdown",
   "metadata": {
    "deletable": false,
    "nbgrader": {
     "cell_type": "markdown",
     "checksum": "69474d78741fcb175baf753788070e1e",
     "grade": true,
     "grade_id": "cell-c84ba081d25f1c5a",
     "locked": false,
     "points": 5,
     "schema_version": 3,
     "solution": true,
     "task": false
    },
    "slideshow": {
     "slide_type": "slide"
    }
   },
   "source": [
    "The simulation attempts to calculate the entropy for matrices of size ranging from 16x16 to 1024x1024. What we observe in the naive version of the simulation is that the entropy can't be determined for matrices of size greater than 128x128. The returned value is \"Inf\". \\\\ \n",
    "\n",
    "The problem here is that the determinant starts blowing up. While the magnitude of entropy remains relatively small due to the log, the determinant which is the preceding step to calculating the log increases rapidly as the size of the matrix increases. When the matrix size is 128x128, the determinant is 2.922875270105087e214 which is venturing closer to the maximum float64 value of 1.7976931348623157e308. When the matrix size is 256x256, the value for the determinant overflows."
   ]
  },
  {
   "cell_type": "markdown",
   "metadata": {
    "deletable": false,
    "editable": false,
    "nbgrader": {
     "cell_type": "markdown",
     "checksum": "c743c500c0478bbf8abc1b779c687d3d",
     "grade": false,
     "grade_id": "cell-e0b3568f2efc68b6",
     "locked": true,
     "schema_version": 3,
     "solution": false,
     "task": false
    }
   },
   "source": [
    "Question 7 continued ... \n",
    "\n",
    "(b+) Devise an algorithm to evaluate $\\log \\det A$ when $A$ is symmetric and positive definite, which does not suffer from the problem in part (a)."
   ]
  },
  {
   "cell_type": "code",
   "execution_count": 9,
   "metadata": {
    "deletable": false,
    "nbgrader": {
     "cell_type": "code",
     "checksum": "c24bb533b7109ea7c81770129373a8c1",
     "grade": false,
     "grade_id": "cell-8e928a8431930662",
     "locked": false,
     "schema_version": 3,
     "solution": true,
     "task": false
    }
   },
   "outputs": [
    {
     "data": {
      "text/plain": [
       "mylogdet (generic function with 1 method)"
      ]
     },
     "execution_count": 9,
     "metadata": {},
     "output_type": "execute_result"
    }
   ],
   "source": [
    "# For symmetric and positive definite matrices,\n",
    "# determinant is equal to the product of eigenvalues\n",
    "function mylogdet(A)\n",
    "    eigenvalues = eigen(A).values\n",
    "    entropy = 0\n",
    "    # using log rules to break up the multiplication into summations\n",
    "    for val in eigenvalues\n",
    "        entropy += log(val)\n",
    "    end\n",
    "    return entropy\n",
    "end"
   ]
  },
  {
   "cell_type": "code",
   "execution_count": null,
   "metadata": {
    "deletable": false,
    "editable": false,
    "nbgrader": {
     "cell_type": "code",
     "checksum": "f67436eab08955479bbd2bad7118cc55",
     "grade": true,
     "grade_id": "cell-067350467b42919a",
     "locked": true,
     "points": 5,
     "schema_version": 3,
     "solution": false,
     "task": false
    }
   },
   "outputs": [],
   "source": []
  },
  {
   "cell_type": "markdown",
   "metadata": {
    "deletable": false,
    "editable": false,
    "nbgrader": {
     "cell_type": "markdown",
     "checksum": "b46dd7c22ec3af6f031177aa45bc884e",
     "grade": false,
     "grade_id": "cell-56592db75fdfbf15",
     "locked": true,
     "schema_version": 3,
     "solution": false,
     "task": false
    }
   },
   "source": [
    "When you have completed all tasks, please click on `[Kernel]` and then `[Restart & Run All]` to make sure that your answers reproduce correctly when running from a clean notebook with no hidden variables left over from editing. Once you have convinced yourself that it is all in order, please download and submit the notebook to CANVAS."
   ]
  }
 ],
 "metadata": {
  "@webio": {
   "lastCommId": null,
   "lastKernelId": null
  },
  "kernelspec": {
   "display_name": "Julia 1.5.1",
   "language": "julia",
   "name": "julia-1.5"
  },
  "language_info": {
   "file_extension": ".jl",
   "mimetype": "application/julia",
   "name": "julia",
   "version": "1.5.1"
  }
 },
 "nbformat": 4,
 "nbformat_minor": 4
}
