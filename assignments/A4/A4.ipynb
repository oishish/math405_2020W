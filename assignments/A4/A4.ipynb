{
 "cells": [
  {
   "cell_type": "markdown",
   "metadata": {},
   "source": [
    "* Before you turn this problem in, make sure everything runs as expected. First, **restart the kernel** (in the menubar, select Kernel$\\rightarrow$Restart) and then **run all cells** (in the menubar, select Cell$\\rightarrow$Run All). Or, alternatively, **Restart & Run All**.\n",
    "\n",
    "* Make sure you fill in any place that says `YOUR CODE HERE` or \"YOUR ANSWER HERE\".\n",
    "\n",
    "* You can always add additional cells to the notebook to experiment, to test your answers, or to provide additional support for your answers.\n",
    "\n",
    "* You should not need to install new packages to complete an assignment. If you use any packages not available via the MATH405 `Project.toml` then your assignment will likely not be graded correctly.\n",
    "\n",
    "* Submissions are only accepted via CANVAS!\n",
    "\n",
    "* Late submissions: within 24h I will reduce the grade to 70%. I will not accept submissions after 24h. Please manage your time well and complete the assignments with plenty of buffer time.\n",
    "\n",
    "* By entering your name below you confirm that you have completed this assignment on your own and without (direct) help from your colleagues. Plagiarism / copying will be checked by comparing assignments and by by testing understanding in workshops and the oral exam (final). I reserve the option to downgrade an assignment at any point."
   ]
  },
  {
   "cell_type": "code",
   "execution_count": null,
   "metadata": {},
   "outputs": [],
   "source": [
    "NAME = \"\""
   ]
  },
  {
   "cell_type": "markdown",
   "metadata": {},
   "source": [
    "---"
   ]
  },
  {
   "cell_type": "markdown",
   "metadata": {
    "deletable": false,
    "editable": false,
    "nbgrader": {
     "cell_type": "markdown",
     "checksum": "055d1e0f7cfe6eb343437c241b29fdc7",
     "grade": false,
     "grade_id": "cell-df1ebdcbbddb40cd",
     "locked": true,
     "schema_version": 3,
     "solution": false,
     "task": false
    }
   },
   "source": [
    "# MATH 405/607 \n",
    "\n",
    "# Numerical Methods for Differential Equations\n",
    "\n",
    "## Assignment 4: Finite difference methods for BVPs and IBVPs\n",
    "\n",
    "#### Notes\n",
    "\n",
    "* **Due date:** Wed Nov 18, 2020, 1200 noon\n",
    "* This assignment will be worth 12% of the overall grade (A1, A2 were 12% each, A3 14%, A5 will be 10%).\n",
    "* For Q3 and Q5 you have a choice whether to work on them theoretically or computationally. Only answer *EITHER* Q3a *OR* Q3b but not both. Same with Q5a, b.\n",
    "* Q3 is a bit involved, you may wish to do the rest of the assignment first."
   ]
  },
  {
   "cell_type": "markdown",
   "metadata": {
    "deletable": false,
    "editable": false,
    "nbgrader": {
     "cell_type": "markdown",
     "checksum": "50e6067397c02c2f695c1d5ec63e0407",
     "grade": false,
     "grade_id": "cell-90e0ac176823535b",
     "locked": true,
     "schema_version": 3,
     "solution": false,
     "task": false
    }
   },
   "source": [
    "* [Question 1 : Singularly perturbed advection-diffusion](#q1)\n",
    "* [Question 2a : Implementation of advection-diffusion](#q2a)\n",
    "* [Question 2b :](#q2b)\n",
    "* [Question 2c](#q2c)\n",
    "* [Question 3 : Crank-Nicholson Method](#q2)\n",
    "* [Question 3T : Crank-Nicholson Theory](#q3a)\n",
    "* [Question 3C (a) Crank-Nicholson Implementation](#q3ba)\n",
    "* [Question 3C (b)](#q3bb)\n",
    "* [Question 4 : Advection with Boundary Condition](#q4)\n",
    "* [Question 4C : Advection Theory](#q5a)\n",
    "* [Question 4T : Advection Implementation](#q5b)\n",
    "* [Question 5 : Review Fourier Analysis](#q6)\n",
    "* [Question 6 : Von Neuman Stability Analysis](#q7)\n",
    "* [Bonus Question](#bonus)"
   ]
  },
  {
   "cell_type": "code",
   "execution_count": null,
   "metadata": {
    "deletable": false,
    "editable": false,
    "nbgrader": {
     "cell_type": "code",
     "checksum": "e26efc59b78a88affdc02928d941d3c9",
     "grade": false,
     "grade_id": "cell-8e6d26a863226f59",
     "locked": true,
     "schema_version": 3,
     "solution": false,
     "task": false
    }
   },
   "outputs": [],
   "source": [
    "include(\"math405.jl\")"
   ]
  },
  {
   "cell_type": "markdown",
   "metadata": {
    "deletable": false,
    "editable": false,
    "nbgrader": {
     "cell_type": "markdown",
     "checksum": "7c65041bddfa32098ed0ea6c2fd3d34b",
     "grade": false,
     "grade_id": "cell-85315ba5bca65423",
     "locked": true,
     "schema_version": 3,
     "solution": false,
     "task": false
    }
   },
   "source": [
    "<a name = 'q1'></a>\n",
    "### Question 1: A 'singularly perturbed' advection-diffusion problem [5+5+5]\n",
    "\n",
    "Consider the boundary value problem\n",
    "$$\\begin{aligned}\n",
    "   u_x - \\epsilon u_{xx} &= 1, \\qquad x \\in (0, 1) \\\\ \n",
    "   u(0) &= u(1) = 0.\n",
    "\\end{aligned}$$\n",
    "\n",
    "You may use, without proof, that the unique solution is given by \n",
    "$$\n",
    "    u(x) =  x - \\frac{e^{x/\\epsilon} - 1}{e^{1/\\epsilon} - 1}\n",
    "$$\n",
    "\n",
    "(a) Discretise the domain with $x_n = n h$, $h = 1/N$, $n = 0, \\dots, N$, then formulate a finite-difference discretisation of the BVP, using a centered finite-difference approximation for $u_x$ (cf. A1)\n",
    "\n",
    "(b) Define the *truncation error* $T_n$ for your discretisation. \n",
    "\n",
    "<!-- (c) Estimate the trunction error $T_n$ in terms of $h$ and derivatives of $u$. Note: You can reuse results from the lectures and from A1.\n",
    " -->\n",
    "If defined correctly, the truncation error $T_n$ will satisfy \n",
    "$$\n",
    "|T_n| \\leq C h^2 \\big( \\| u_{xxx} \\|_\\infty + \\epsilon  \\| u_{xxxx} \\|_{\\infty} \\big) \n",
    "$$\n",
    "You need not prove this.\n",
    " \n",
    "(c) Estimate the truncation error $T_n$ in terms of $h$ and $\\epsilon$. (Hint: from the exact solution above we can bound $\\| u^{(j)} \\|_\\infty \\leq 2\\epsilon^{-j}$ for $j \\geq 2$, where $u^{(j)}$ denotes the $j$-th derivative of $u$) Suppose we want to achieve some tolerance $c \\tau$ with some unspecified constant. Given $\\epsilon$, how should we choose $h$? I.e., how should we balance $h$ and $\\epsilon$?"
   ]
  },
  {
   "cell_type": "markdown",
   "metadata": {
    "deletable": false,
    "nbgrader": {
     "cell_type": "markdown",
     "checksum": "41fc9948f8f506619b865a0da1cd1e18",
     "grade": true,
     "grade_id": "cell-5d9c62c2c14e249b",
     "locked": false,
     "points": 15,
     "schema_version": 3,
     "solution": true,
     "task": false
    }
   },
   "source": [
    "YOUR ANSWER HERE"
   ]
  },
  {
   "cell_type": "markdown",
   "metadata": {
    "deletable": false,
    "editable": false,
    "nbgrader": {
     "cell_type": "markdown",
     "checksum": "2fd6d1eb4e40cd88382e84f36283d0a3",
     "grade": false,
     "grade_id": "cell-ae32e25fb537c15c",
     "locked": true,
     "schema_version": 3,
     "solution": false,
     "task": false
    }
   },
   "source": [
    "<a name = 'q2a'></a>\n",
    "### Question 2: Implementation of advection-diffusion [10+5+5]\n",
    "\n",
    "(a) Implement the method derived in Question 1 (a) as a function taking the parameters $N, \\epsilon$ as input and return the finite difference solution $U$ as vector of the *interior nodes only*, i.e., $U = (U_1, \\dots, U_{N-1})$."
   ]
  },
  {
   "cell_type": "code",
   "execution_count": null,
   "metadata": {
    "deletable": false,
    "nbgrader": {
     "cell_type": "code",
     "checksum": "8b6f6884298eead0340528b11354f16c",
     "grade": false,
     "grade_id": "cell-03f0a5a1f612f022",
     "locked": false,
     "schema_version": 3,
     "solution": true,
     "task": false
    }
   },
   "outputs": [],
   "source": [
    "function steady_advection_diffusion(N, epsn)\n",
    "    h =  1/N\n",
    "    # YOUR CODE HERE\n",
    "    return U\n",
    "end\n"
   ]
  },
  {
   "cell_type": "code",
   "execution_count": null,
   "metadata": {
    "deletable": false,
    "editable": false,
    "nbgrader": {
     "cell_type": "code",
     "checksum": "4a97904f4e3395f4d266a3a9f7677fd2",
     "grade": true,
     "grade_id": "cell-ebd61e6c4af76612",
     "locked": true,
     "points": 10,
     "schema_version": 3,
     "solution": false,
     "task": false
    }
   },
   "outputs": [],
   "source": []
  },
  {
   "cell_type": "markdown",
   "metadata": {
    "deletable": false,
    "editable": false,
    "nbgrader": {
     "cell_type": "markdown",
     "checksum": "e44fea81fb7db1d040dbe70dd4b80001",
     "grade": false,
     "grade_id": "cell-2b29e9f59b0d5153",
     "locked": true,
     "schema_version": 3,
     "solution": false,
     "task": false
    }
   },
   "source": [
    "<a name = 'q2b'></a>\n",
    "\n",
    "(b) For $\\epsilon = 0.03$ plot the exact solution, then overlay the numerical solutions with \n",
    "$N = 10$ and $N = 20$. Label the graphs and axis so the figure can be read and understood efficiently. \n",
    "\n",
    "HINT: For a nicer plot you may wish to append the boundary conditions to the solution. If `a, b` are two vectors, then `[a; b]` or `vcat(a, b)` will be the concatenated vector. Note you cannot concatenate `[0.0; a]` but you need to use `[[0.0]; a]`."
   ]
  },
  {
   "cell_type": "code",
   "execution_count": null,
   "metadata": {
    "deletable": false,
    "nbgrader": {
     "cell_type": "code",
     "checksum": "2b0f6811e111bd3329a8cd485f605049",
     "grade": true,
     "grade_id": "cell-6b7ca46adc99db9c",
     "locked": false,
     "points": 5,
     "schema_version": 3,
     "solution": true,
     "task": false
    }
   },
   "outputs": [],
   "source": [
    "# YOUR CODE HERE\n",
    "    "
   ]
  },
  {
   "cell_type": "markdown",
   "metadata": {
    "deletable": false,
    "editable": false,
    "nbgrader": {
     "cell_type": "markdown",
     "checksum": "867a674c30c185bb17f8b49e1029fd0f",
     "grade": false,
     "grade_id": "cell-dc16313d606b3cea",
     "locked": true,
     "schema_version": 3,
     "solution": false,
     "task": false
    }
   },
   "source": [
    "<a name = 'q2c'></a>\n",
    "\n",
    "(c) Produce a figure that provides a graphical confirmation of the convergence rate in $h$ **and** $\\epsilon$ derived in Question 1. To get you started, there is some code provided that collects some suitable data to visualise. You can use this as is, or modify the code to collect different data. There are multiple ways to solve this question. \n",
    "\n",
    "(To understand the provided code you will need to solve Question 1 in detail.)"
   ]
  },
  {
   "cell_type": "code",
   "execution_count": null,
   "metadata": {
    "deletable": false,
    "nbgrader": {
     "cell_type": "code",
     "checksum": "f9376792894f2e5d1d18e2ae191c7f32",
     "grade": true,
     "grade_id": "cell-5dc165d77660ed47",
     "locked": false,
     "points": 5,
     "schema_version": 3,
     "solution": true,
     "task": false
    }
   },
   "outputs": [],
   "source": [
    "function get_err(N, epsn)\n",
    "    u = x -> x - (exp(x/epsn) - 1) /  (exp(1/epsn) - 1)\n",
    "    X = range(0, 1, length=N+1)[2:end-1]\n",
    "    U = steady_advection_diffusion(N, epsn)\n",
    "    return norm(U - u.(X), Inf)\n",
    "end \n",
    "\n",
    "H = []\n",
    "Epsn = [] \n",
    "Err = []\n",
    "for epsn in [1.0, 0.3, 0.1, 0.03, 0.01]\n",
    "    for tau in [10.0, 3.0, 1.0, 0.3, 0.1, 0.03, 0.01, 0.003, 0.001]\n",
    "        h = tau * epsn^(-2/3)\n",
    "        N = max(10, ceil(Int, 1/h))\n",
    "        push!(H, 1/N)\n",
    "        push!(Epsn, epsn)\n",
    "        push!(Err, get_err(N, epsn))\n",
    "    end\n",
    "end\n",
    "\n",
    "# Now use the error data collected in the above loop to \n",
    "# produce a convergence graph. E.g. you could produce \n",
    "# a scatter plot overlayed by the theoretical \n",
    "# prediction\n",
    "\n",
    "# YOUR CODE HERE"
   ]
  },
  {
   "cell_type": "markdown",
   "metadata": {
    "deletable": false,
    "editable": false,
    "nbgrader": {
     "cell_type": "markdown",
     "checksum": "32f8128124040bc6dd4dabd062aaffba",
     "grade": false,
     "grade_id": "cell-556d03010d24d2ec",
     "locked": true,
     "schema_version": 3,
     "solution": false,
     "task": false
    }
   },
   "source": [
    "<a name = 'q2'></a>\n",
    "\n",
    "### Question  3: Crank-Nicholson Method [5]\n",
    "\n",
    "Consider the model diffusion equation \n",
    "$$\\begin{aligned}\n",
    "    u_t(t, x) &= u_{xx}(t, x) + f(t, x), \\\\ \n",
    "    u(0, x) &= u_0(x), \\\\ \n",
    "    u(t, 0) &= u(t, 1) = 0\n",
    "\\end{aligned}$$\n",
    "for $x \\in (0, 1)$ and $t \\in (0, 1)$, $u_0 : [0, 1] \\to \\mathbb{R}$, $f : [0, 1] \\times [0, 1] \\to \\mathbb{R}$.\n",
    "\n",
    "Discretise it using second-order centered finite-differences in space and the Crank-Nicholson scheme (cf L06, L07) in time. Write down the full set of equations for the *interior* degrees of freedom, $U_n^m \\approx u(m \\tau, n h)$, $n = 1, \\dots, N$, where $h$ is the spatial grid spacing and $\\tau$ the time-step.\n",
    "\n"
   ]
  },
  {
   "cell_type": "markdown",
   "metadata": {
    "deletable": false,
    "nbgrader": {
     "cell_type": "markdown",
     "checksum": "4ace0db9da2a4c666bc28ae5dbe6a48a",
     "grade": true,
     "grade_id": "cell-b9deca5ed6238426",
     "locked": false,
     "points": 5,
     "schema_version": 3,
     "solution": true,
     "task": false
    }
   },
   "source": [
    "YOUR ANSWER HERE"
   ]
  },
  {
   "cell_type": "markdown",
   "metadata": {
    "deletable": false,
    "editable": false,
    "nbgrader": {
     "cell_type": "markdown",
     "checksum": "49eb3348060e64e4bfdf7a4fe554b372",
     "grade": false,
     "grade_id": "cell-45c0f6da21f84d71",
     "locked": true,
     "schema_version": 3,
     "solution": false,
     "task": false
    }
   },
   "source": [
    "Solve **EITHER** Question 3T **OR** Question 3C"
   ]
  },
  {
   "cell_type": "markdown",
   "metadata": {
    "deletable": false,
    "editable": false,
    "nbgrader": {
     "cell_type": "markdown",
     "checksum": "aec506b4c6ab832fa570fe2cb4c197bb",
     "grade": false,
     "grade_id": "cell-2363c7b0095a6cd3",
     "locked": true,
     "schema_version": 3,
     "solution": false,
     "task": false
    }
   },
   "source": [
    "### <a name = 'q3a'></a>\n",
    "\n",
    "### Question  3T: Crank-Nicholson Theory [12 + 8]\n",
    "\n",
    "Following on from Question 2:\n",
    "\n",
    "(a) Define the truncation error $T_n^m$; show that it satisfies \n",
    "$$\n",
    "    |T_n^m| \\leq C  \\big( c_h h^2 + c_\\tau \\tau^2 \\big)\n",
    "$$\n",
    "and specify $c_h, c_\\tau$ in terms of the max-norm of certain derivatives of the exact solution $u$.\n",
    "\n",
    "HINTs: \n",
    "* This calculation can get messy. Work out all details on paper before typesetting. Write out only  the most important steps in Latex. Make an effort to find an elegant path.\n",
    "* re-use information from lectures as much as possible and effectively use the fact that $u$ satiesfies the PDE to make your life easier.\n",
    "* When Taylor-expanding $(u^{m+1}-u^m) / \\tau$, expand it in a way that is symmetric. For example, expand it twice: at $t_m$ and at $t_{m+1}$.\n",
    "\n",
    "(b) Assuming that $\\tau \\leq h^2$ prove an error estimate for the max-norm error \n",
    "$$\n",
    "    \\| U - u \\|_\\infty := \\max_{n, m} |U_n^m - u(\\tau m, h n)|\n",
    "$$\n",
    "where $n = 0, \\dots, N$ and $m = 0, \\dots, M := \\lceil 1/\\tau \\rceil$.\n",
    "\n",
    "NOTE: The restriction $\\tau \\leq h^2$ leads to a simple proof, following the argument we used for the purely explicit and purely implicit discretisations. One can in fact prove stronger results without this restriction but they are more involved."
   ]
  },
  {
   "cell_type": "markdown",
   "metadata": {
    "deletable": false,
    "nbgrader": {
     "cell_type": "markdown",
     "checksum": "776a9b1053382253961aaa3b989a9ea9",
     "grade": true,
     "grade_id": "cell-fce3a03cdecff2e9",
     "locked": false,
     "points": 20,
     "schema_version": 3,
     "solution": true,
     "task": false
    }
   },
   "source": [
    "YOUR ANSWER HERE"
   ]
  },
  {
   "cell_type": "markdown",
   "metadata": {
    "deletable": false,
    "editable": false,
    "nbgrader": {
     "cell_type": "markdown",
     "checksum": "4fd9ca4ebd15565574465a5b6b10a586",
     "grade": false,
     "grade_id": "cell-05c3226ac15eb98b",
     "locked": true,
     "schema_version": 3,
     "solution": false,
     "task": false
    }
   },
   "source": [
    "<a name = 'q3ba'></a>\n",
    "\n",
    "### Question 3C: Crank-Nicholson Implementation [10+10]\n",
    "\n",
    "(a) Implement the Crank-Nicholson scheme from Q.2, following the example of the Implicit Euler scheme. I.e. the Crank-Nicholson method should return arrays of the same size and shape with each column containing the solution for that time-step. *Hint: how much of the implicit Euler code can you re-use?*"
   ]
  },
  {
   "cell_type": "code",
   "execution_count": null,
   "metadata": {
    "deletable": false,
    "nbgrader": {
     "cell_type": "code",
     "checksum": "c7a050b06a39036fe5927ba8f363adba",
     "grade": false,
     "grade_id": "cell-5c07a1ab6f3031aa",
     "locked": false,
     "schema_version": 3,
     "solution": true,
     "task": false
    }
   },
   "outputs": [],
   "source": [
    "\"\"\"\n",
    "N: number of spatial grid points\n",
    "M: number of temporal grid points\n",
    "u0 : initial condition (:: Function)\n",
    "f : driving force (:: Function)\n",
    "\"\"\"\n",
    "function heat_implicit_euler(N, M, u0, f)\n",
    "    h = 1/N\n",
    "    X = range(0, 1, length = N+1)\n",
    "    T = range(0, 1, length = M+1)\n",
    "    U = zeros(N+1, M+1)\n",
    "    U[:, 1] = u0.(X)\n",
    "    D2 = spdiagm( -1 => N^2 * ones(N-2), \n",
    "                   0 => - 2*N^2 * ones(N-1), \n",
    "                   1 => N^2 * ones(N-2) )\n",
    "    for m = 1:M\n",
    "        F = f.(T[m+1], X[2:end-1])  # NOTE f is a function of t and x !\n",
    "        U[2:end-1, m+1] = (I - h * D2) \\ (U[2:end-1, m] + h * F)\n",
    "    end\n",
    "    return X, T, U\n",
    "end\n",
    "\n",
    "function heat_crank_nicholson(N, M, u0, f)\n",
    "    # YOUR CODE HERE\n",
    "    return X, T, U\n",
    "end"
   ]
  },
  {
   "cell_type": "code",
   "execution_count": null,
   "metadata": {
    "deletable": false,
    "editable": false,
    "nbgrader": {
     "cell_type": "code",
     "checksum": "d696e2c80a11836a0a5f2f5bd5e10500",
     "grade": true,
     "grade_id": "cell-cac4cb80da7d3ac6",
     "locked": true,
     "points": 10,
     "schema_version": 3,
     "solution": false,
     "task": false
    }
   },
   "outputs": [],
   "source": []
  },
  {
   "cell_type": "markdown",
   "metadata": {
    "deletable": false,
    "editable": false,
    "nbgrader": {
     "cell_type": "markdown",
     "checksum": "253565cfea35fb7fd254311671d29db3",
     "grade": false,
     "grade_id": "cell-7afeb5da985ab3bb",
     "locked": true,
     "schema_version": 3,
     "solution": false,
     "task": false
    }
   },
   "source": [
    "<a name = 'q3bb'></a>\n",
    "\n",
    "(b) Prescribe an exact solution $u(t, x) := \\sin(\\pi x) e^{-t}$ (note I've *deliberately* not chosen a solution of the homogeneous equation!) to choose $u_0$ and $f$ in order to numerically demonstrate the predicted convergence rate for implicit Euler and Crank-Nicholson methods. Visualize your results in a \"presentation-quality\" figure. Use $N = M$ for this test.\n",
    "\n",
    "NOTEs: \n",
    "1. This strategy to check convergence and correctness of your code is called the **Method of Manufactured Solutions**.\n",
    "\n",
    "2. I'm deliberately not giving you too much information here. The challenge (fun, I hope?) is to figure out how to write a convergence test more or less from scratch. This is a little bit of work but gets you out of doing the theory question. Be careful to correctly compute the force $f$. Be careful to use an appropriate range of $N=M$ values. Make the figure look nice."
   ]
  },
  {
   "cell_type": "code",
   "execution_count": null,
   "metadata": {
    "deletable": false,
    "nbgrader": {
     "cell_type": "code",
     "checksum": "f7af57d108c0cf0e1f5d007ac5b3515a",
     "grade": true,
     "grade_id": "cell-fc37d7aa7623bf59",
     "locked": false,
     "points": 10,
     "schema_version": 3,
     "solution": true,
     "task": false
    }
   },
   "outputs": [],
   "source": [
    "# Hint: use `heat_implicit_euler` and `heat_crank_nicholson` to produce the \n",
    "#       solutions and use the following to evaluate the exact solution on the grid\n",
    "\n",
    "uex(t, x) = sin(pi * x) * exp(-t)\n",
    "eval_uex(T, X) = [ uex(t, x) for x in X, t in T ]\n",
    "\n",
    "# YOUR CODE HERE\n"
   ]
  },
  {
   "cell_type": "markdown",
   "metadata": {
    "deletable": false,
    "editable": false,
    "nbgrader": {
     "cell_type": "markdown",
     "checksum": "a47899a1756dab5308ba334cf1001364",
     "grade": false,
     "grade_id": "cell-bdca42d0eeb51fa2",
     "locked": true,
     "schema_version": 3,
     "solution": false,
     "task": false
    }
   },
   "source": [
    "<a name = 'q4'></a>\n",
    "\n",
    "### Question 4: Advection with Boundary Condition  [5]\n",
    "\n",
    "For $a > 0$ consider the advection equation with an inflow boundary at $x = 0$ and an outflow boundary at $x = 1$:\n",
    "\n",
    "$$\n",
    "\\begin{aligned}\n",
    "    u_t + a u_x &= 0,  \\qquad x \\in (0, 1), t \\in (0, 1), \\\\ \n",
    "    u(0, x) &= u_0(x), \\\\ \n",
    "    u(t, 0) &= q(t).\n",
    "\\end{aligned}\n",
    "$$\n",
    "\n",
    "Adapt the upwind discretisation from the lecture for this equation and write down the full discrete system."
   ]
  },
  {
   "cell_type": "markdown",
   "metadata": {
    "deletable": false,
    "nbgrader": {
     "cell_type": "markdown",
     "checksum": "aeb1a28635965e228ad6a5a7c44fb7be",
     "grade": true,
     "grade_id": "cell-6e57c31c1dd51472",
     "locked": false,
     "points": 5,
     "schema_version": 3,
     "solution": true,
     "task": false
    }
   },
   "source": [
    "YOUR ANSWER HERE"
   ]
  },
  {
   "cell_type": "markdown",
   "metadata": {
    "deletable": false,
    "editable": false,
    "nbgrader": {
     "cell_type": "markdown",
     "checksum": "45b1fc1292688998efdfd0d0a1bd3182",
     "grade": false,
     "grade_id": "cell-8b36f9e2383b14b9",
     "locked": true,
     "schema_version": 3,
     "solution": false,
     "task": false
    }
   },
   "source": [
    "Solve **EITHER** Question 4T **OR** Question 4C"
   ]
  },
  {
   "cell_type": "markdown",
   "metadata": {
    "deletable": false,
    "editable": false,
    "nbgrader": {
     "cell_type": "markdown",
     "checksum": "e9a27100e88766c38dbb59a17a384f33",
     "grade": false,
     "grade_id": "cell-af518c2e5e40d7ca",
     "locked": true,
     "schema_version": 3,
     "solution": false,
     "task": false
    }
   },
   "source": [
    "<a name = 'q5a'></a>\n",
    "\n",
    "### Question 4T: Advection Theory [7+8]\n",
    "\n",
    "Following on from Q4:\n",
    "\n",
    "(a) Define the truncation error $T_n^m$ and prove that \n",
    "$$\n",
    "    |T_n^m| \\leq C\\big( c_h h + c_\\tau \\tau \\big)\n",
    "$$\n",
    "specifying the constants $c_h, c_\\tau$ in terms of the max-norm of derivatives of $u$.\n",
    "\n",
    "(b) Follow the stability and converge proof in the lectures to deduce that \n",
    "$$\n",
    "    \\max_{n, m} |U_n^m - u(m\\tau, nh)| \\leq C(h + \\tau),\n",
    "$$\n",
    "To prove this you will need to use the CFL condition. Clearly state it and point out where you are using it."
   ]
  },
  {
   "cell_type": "markdown",
   "metadata": {
    "deletable": false,
    "nbgrader": {
     "cell_type": "markdown",
     "checksum": "8d4113486bdee5bacacea23f83a8f345",
     "grade": true,
     "grade_id": "cell-42e8f93becd8a3b0",
     "locked": false,
     "points": 15,
     "schema_version": 3,
     "solution": true,
     "task": false
    }
   },
   "source": [
    "YOUR ANSWER HERE"
   ]
  },
  {
   "cell_type": "markdown",
   "metadata": {
    "deletable": false,
    "editable": false,
    "nbgrader": {
     "cell_type": "markdown",
     "checksum": "2f041cbbab1a79b71a430c725196fb53",
     "grade": false,
     "grade_id": "cell-80d4a7ef3c616260",
     "locked": true,
     "schema_version": 3,
     "solution": false,
     "task": false
    }
   },
   "source": [
    "<a name = 'q5b'></a>\n",
    "\n",
    "### Question 4C: Advection Implementation [15]\n",
    "\n",
    "Following on from Question 4:\n",
    "\n",
    "Let $a = 1.1$. Consider an exact solution $u(t, x) = \\sin(5*(x - a t))$ to the homogeneous solution. Determine the corresponding initial and boundary values $u_0(x)$ and $q(t)$. Then implement the finite-difference scheme from Q4, and animate the solution for $0 \\leq x \\leq 1, 0 \\leq t \\leq 5$, plotting both the exact and numerical solution. Choose a suitable resolution in both time and space.\n",
    "\n",
    "HINT: Modify the codes from L10. Use the `@gif` macro."
   ]
  },
  {
   "cell_type": "code",
   "execution_count": null,
   "metadata": {
    "deletable": false,
    "nbgrader": {
     "cell_type": "code",
     "checksum": "132fc88300853759a0cc10bbf96bdd21",
     "grade": true,
     "grade_id": "cell-4a00176278238cfc",
     "locked": false,
     "points": 15,
     "schema_version": 3,
     "solution": true,
     "task": false
    }
   },
   "outputs": [],
   "source": [
    "# YOUR CODE HERE"
   ]
  },
  {
   "cell_type": "markdown",
   "metadata": {
    "deletable": false,
    "editable": false,
    "nbgrader": {
     "cell_type": "markdown",
     "checksum": "8c3ebc7a1346bbdb54bccb306647056d",
     "grade": false,
     "grade_id": "cell-2cea1610bb5cffb6",
     "locked": true,
     "schema_version": 3,
     "solution": false,
     "task": false
    }
   },
   "source": [
    "<a name = 'q6'></a>\n",
    "\n",
    "### Question 5: Review Fourier Analysis [5+5+5]\n",
    "\n",
    "We consider sequences $(U_n)_{n \\in \\mathbb{Z}}$ where we think of $U_n \\approx u(h n)$. The semi-discrete Fourier transform is given by \n",
    "$$\n",
    "    \\hat{U}(k) := \\sum_{n \\in \\mathbb{Z}} U_n e^{i k h n}, \\qquad k \\in (-\\pi/h, \\pi/h].\n",
    "$$\n",
    "We can think of the mapping $U \\mapsto \\hat{U}$ as a coordinate transformation. A (homogeneous) finite-difference scheme in terms of $U$ can be rewritten in terms of $\\hat{U}$ and becomes *diagonal*. In preparation, we now transform three finite-difference operators into reciprocal space:\n",
    "\n",
    "**Note:** The semi-discrete Fourier transform is more commonly defined as $\\hat{U}(k) := \\sum_{n \\in \\mathbb{Z}} U_n e^{-i k h n}.$ Since the choice of sign is a bit arbitrary and I used the $e^{i k h n}$ definition in the lectures, I am sticking with it for the assignment as well. But please be aware that most references you look at will use the $e^{- i k h n}$ definition.\n",
    "\n",
    "(a) Let $V_n := U_n - U_{n-1}$; prove that \n",
    "$$\n",
    "    \\hat{V}(k) = (1 - e^{ikh}) \\hat{U}(k)\n",
    "$$\n",
    "\n",
    "(b) Let $V_n := U_{n+1} - U_{n-1}$; prove that \n",
    "$$\n",
    "    \\hat{V}(k) = 2i \\sin(kh) \\hat{U}(k)\n",
    "$$\n",
    "\n",
    "(c) Let $V_n := U_{n+1} - 2 U_n + U_{n-1}$; prove that \n",
    "$$\n",
    "    \\hat{V}(k) = - 4 \\sin^2(kh/2) \\hat{U}(k).\n",
    "$$\n"
   ]
  },
  {
   "cell_type": "markdown",
   "metadata": {
    "deletable": false,
    "nbgrader": {
     "cell_type": "markdown",
     "checksum": "201fd21e339a4d019873d44b5afdd08d",
     "grade": true,
     "grade_id": "cell-410240dbae71d697",
     "locked": false,
     "points": 15,
     "schema_version": 3,
     "solution": true,
     "task": false
    }
   },
   "source": [
    "YOUR ANSWER HERE"
   ]
  },
  {
   "cell_type": "markdown",
   "metadata": {
    "deletable": false,
    "editable": false,
    "nbgrader": {
     "cell_type": "markdown",
     "checksum": "924b7cd1394fc5e8dd4aca5177257092",
     "grade": false,
     "grade_id": "cell-64ef44d574ecf73b",
     "locked": true,
     "schema_version": 3,
     "solution": false,
     "task": false
    }
   },
   "source": [
    "<a name = 'q7'></a>\n",
    "\n",
    "### Question 6: Von Neuman Stability Analysis [8+7] \n",
    "\n",
    "All finite-difference discretisations of various advection-diffusion systems we have considered so far can be written in the form \n",
    "$$\n",
    "    [A U^{m+1}]_n = [B U^m]_n,\n",
    "$$\n",
    "where $A, B$ are finite-difference operators. By writing $\\widehat{A U}(k) =\n",
    "\\hat{a}(k) \\hat{U}(k)$ we obtain \n",
    "$$\n",
    "    \\hat{a}(k) \\hat{U}^{m+1}(k) = \\hat{b}(k) \\hat{U}^m(k), \n",
    "$$\n",
    "<!-- or \n",
    "$$\n",
    "    \\hat{U}^{m+1}(k) = \\frac{\\hat{b}(k)}{\\hat{a}(k)} \\hat{U}^m(k), \n",
    "$$ -->\n",
    "Thus, we obtain the stability estimate \n",
    "$$\n",
    "    \\| \\hat{U}^{m+1} \\|_{2} \\leq \\| \\hat{b}/\\hat{a} \\|_\\infty \\| \\hat{U}^m \\|_{2},\n",
    "$$\n",
    "and using the Plancherel theorem, \n",
    "$$\n",
    "    \\| U^{m+1} \\|_{2} \\leq \\| \\hat{b}/\\hat{a} \\|_\\infty \\| U^m \\|_{2}.\n",
    "$$\n",
    "A method is called *von Neumann stable* if $\\| \\hat{b}/\\hat{a} \\|_\\infty \\leq 1$. It is unconditionally stable, if there are no restrictions on the step size. In the following we look at two concrete examples. \n",
    "\n",
    "HINT: Use the results of Question 5!\n",
    "\n",
    "(a) Crank-Nicholson Scheme: show that the Crank-Nicholson method from Question 2 is unconditionally von Neumann stable.\n",
    "\n",
    "(b) Consider the centered finite difference approximation of the advection equation $u_t + a u_x = 0$, \n",
    "$$\n",
    "    \\frac{U^{m+1}_n - U^m_n}{\\tau} + a \\frac{U^m_{n+1} - U^m_{n-1}}{2h} = 0, \n",
    "    \\qquad n \\in \\mathbb{Z}, m = 0, 1, \\dots, M-1,\n",
    "$$\n",
    "Prove that, given $h$, there is no choice of $\\tau$ for which this scheme is von Neumann stable.\n"
   ]
  },
  {
   "cell_type": "markdown",
   "metadata": {
    "deletable": false,
    "nbgrader": {
     "cell_type": "markdown",
     "checksum": "650789cd3a7782533be1815bfa3111b1",
     "grade": true,
     "grade_id": "cell-01ac537f88200168",
     "locked": false,
     "points": 15,
     "schema_version": 3,
     "solution": true,
     "task": false
    }
   },
   "source": [
    "YOUR ANSWER HERE"
   ]
  },
  {
   "cell_type": "markdown",
   "metadata": {
    "deletable": false,
    "editable": false,
    "nbgrader": {
     "cell_type": "markdown",
     "checksum": "5228f8354ff081c9a44f3ec35d52ced9",
     "grade": false,
     "grade_id": "cell-d27f068cbc6aa3b8",
     "locked": true,
     "schema_version": 3,
     "solution": false,
     "task": false
    }
   },
   "source": [
    "<a name = 'bonus'></a>\n",
    "\n",
    "### Bonus Question [no credit]\n",
    "\n",
    "The von Neumann stability analysis gives a different notion of stability than the max-norm stability we used in the lectures so far. It therefore gives rise to a different error estimate. Concretely for the case of the Crank-Nicholson discretisation from Question 2, derive the natural error estimate arising from this alternative stability analysis and show that - unlike in Q.3 - it is *not conditional* on a step-size restriction.\n",
    "\n",
    "Note that the numerical tests of Q3b should already be enough to confirm the correctness of your analysis in this question."
   ]
  },
  {
   "cell_type": "markdown",
   "metadata": {
    "deletable": false,
    "nbgrader": {
     "cell_type": "markdown",
     "checksum": "746e19502f7509afe411ca69468ad115",
     "grade": true,
     "grade_id": "cell-16b2b603e58b3ab7",
     "locked": false,
     "points": 0,
     "schema_version": 3,
     "solution": true,
     "task": false
    }
   },
   "source": [
    "YOUR ANSWER HERE"
   ]
  }
 ],
 "metadata": {
  "@webio": {
   "lastCommId": null,
   "lastKernelId": null
  },
  "kernelspec": {
   "display_name": "Julia 1.5.2",
   "language": "julia",
   "name": "julia-1.5"
  },
  "language_info": {
   "file_extension": ".jl",
   "mimetype": "application/julia",
   "name": "julia",
   "version": "1.5.2"
  }
 },
 "nbformat": 4,
 "nbformat_minor": 4
}
