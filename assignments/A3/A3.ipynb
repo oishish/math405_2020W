{
 "cells": [
  {
   "cell_type": "markdown",
   "metadata": {},
   "source": [
    "* Before you turn this problem in, make sure everything runs as expected. First, **restart the kernel** (in the menubar, select Kernel$\\rightarrow$Restart) and then **run all cells** (in the menubar, select Cell$\\rightarrow$Run All). Or, alternatively, **Restart & Run All**.\n",
    "\n",
    "* Make sure you fill in any place that says `YOUR CODE HERE` or \"YOUR ANSWER HERE\".\n",
    "\n",
    "* You can always add additional cells to the notebook to experiment, to test your answers, or to provide additional support for your answers.\n",
    "\n",
    "* You should not need to install new packages to complete an assignment. If you use any packages not available via the MATH405 `Project.toml` then your assignment will likely not be graded correctly.\n",
    "\n",
    "* Submissions are only accepted via CANVAS!\n",
    "\n",
    "* Late submissions: within 24h I will reduce the grade to 70%. I will not accept submissions after 24h. Please manage your time well and complete the assignments with plenty of buffer time.\n",
    "\n",
    "* By entering your name below you confirm that you have completed this assignment on your own and without (direct) help from your colleagues. Plagiarism / copying will be checked by comparing assignments and by by testing understanding in workshops and the oral exam (final). I reserve the option to downgrade an assignment at any point."
   ]
  },
  {
   "cell_type": "code",
   "execution_count": null,
   "metadata": {},
   "outputs": [],
   "source": [
    "NAME = \"\""
   ]
  },
  {
   "cell_type": "markdown",
   "metadata": {},
   "source": [
    "---"
   ]
  },
  {
   "cell_type": "markdown",
   "metadata": {
    "deletable": false,
    "editable": false,
    "nbgrader": {
     "cell_type": "markdown",
     "checksum": "d37c2bac12d97c3f0002fa4fcfa5634a",
     "grade": false,
     "grade_id": "cell-df1ebdcbbddb40cd",
     "locked": true,
     "schema_version": 3,
     "solution": false,
     "task": false
    }
   },
   "source": [
    "# MATH 405/607 \n",
    "\n",
    "# Numerical Methods for Differential Equations\n",
    "\n",
    "## Assignment 3: ODEs\n",
    "\n",
    "\n",
    "#### Notes\n",
    "\n",
    "* **Due date:** Tue Nov 3, 2020, 1200 noon\n",
    "* From here on all questions will count towards the grade, i.e. to get 100% you will need to answer all questions.\n",
    "* Note also that this assignment is worth 14% of the overall grade (A1, A2 were 12% each, A4 will likely be 10%)"
   ]
  },
  {
   "cell_type": "code",
   "execution_count": null,
   "metadata": {
    "deletable": false,
    "editable": false,
    "nbgrader": {
     "cell_type": "code",
     "checksum": "e26efc59b78a88affdc02928d941d3c9",
     "grade": false,
     "grade_id": "cell-8e6d26a863226f59",
     "locked": true,
     "schema_version": 3,
     "solution": false,
     "task": false
    }
   },
   "outputs": [],
   "source": [
    "include(\"math405.jl\")"
   ]
  },
  {
   "cell_type": "markdown",
   "metadata": {
    "deletable": false,
    "editable": false,
    "nbgrader": {
     "cell_type": "markdown",
     "checksum": "3f2aa8441712d1c253488d29a5df3e58",
     "grade": false,
     "grade_id": "cell-6529d09bddd5d67b",
     "locked": true,
     "schema_version": 3,
     "solution": false,
     "task": false
    }
   },
   "source": [
    "### Question 1 [10]\n",
    "\n",
    "Implement Kutta's third-order method which has Butcher tableau\n",
    "$$\\begin{array}{c|ccc} \n",
    "    0 &   &   &   \\\\ \n",
    "    1/2 & 1/2 &   &   \\\\ \n",
    "    1 & -1 & 2 &     \\\\ \n",
    "    \\hline \n",
    "      & 1/6 & 2/3  & 1/6 \n",
    "\\end{array}$$ \n",
    "\n",
    "The function you implement must have the signature `kutta3(f, u0, h, Tfinal)` and return `U, t`, as in the lectures; use the model given in the answer cell!\n"
   ]
  },
  {
   "cell_type": "code",
   "execution_count": null,
   "metadata": {
    "deletable": false,
    "nbgrader": {
     "cell_type": "code",
     "checksum": "2e9d903d010d85128c2d964303a98ef6",
     "grade": false,
     "grade_id": "cell-6f6e5f37f89915d8",
     "locked": false,
     "schema_version": 3,
     "solution": true,
     "task": false
    }
   },
   "outputs": [],
   "source": [
    "\n",
    "function kutta3(f, u0, h, Tf)\n",
    "    t = 0.0:h:Tf \n",
    "    # make sure that h and Tf are compatible!\n",
    "    @assert t[end] ≈ Tf     \n",
    "    U = zeros(length(u0), length(t))\n",
    "    U[:, 1] = u0 \n",
    "    # ------------------------------------\n",
    "    # YOUR CODE HERE\n",
    "    # ------------------------------------\n",
    "    return U, t\n",
    "end "
   ]
  },
  {
   "cell_type": "code",
   "execution_count": null,
   "metadata": {
    "deletable": false,
    "editable": false,
    "nbgrader": {
     "cell_type": "code",
     "checksum": "9814e27a0aa04790f11850e702884bca",
     "grade": true,
     "grade_id": "cell-e43b9d689d8a4320",
     "locked": true,
     "points": 10,
     "schema_version": 3,
     "solution": false,
     "task": false
    }
   },
   "outputs": [],
   "source": [
    "\n"
   ]
  },
  {
   "cell_type": "markdown",
   "metadata": {
    "deletable": false,
    "editable": false,
    "nbgrader": {
     "cell_type": "markdown",
     "checksum": "56d9c95e6b412ec22864bfc971b06511",
     "grade": false,
     "grade_id": "cell-5d981ee991750018",
     "locked": true,
     "schema_version": 3,
     "solution": false,
     "task": false
    }
   },
   "source": [
    "If you wish you may write a test to check the correctness of your implementation in the cell below. E.g.,  you could use a model from the lectures, or from this assignment or pick your own. Test against an exact solution or against the Julia ODE suite. If your tests don't pass, maybe try first to make them pass with the `euler` and `ieuler` codes from the lectures. That way you can determine whether your the bug is in your code or in your tests.\n",
    "\n",
    "NOTE: This cell is \"manually graded\" but there are 0 points available. You will not be penalized if you don't complete this task!"
   ]
  },
  {
   "cell_type": "code",
   "execution_count": null,
   "metadata": {
    "deletable": false,
    "nbgrader": {
     "cell_type": "code",
     "checksum": "6810974853c15f64bcef4e68dffa4d85",
     "grade": true,
     "grade_id": "cell-805c994420faff56",
     "locked": false,
     "points": 0,
     "schema_version": 3,
     "solution": true,
     "task": false
    }
   },
   "outputs": [],
   "source": [
    "\n",
    "# YOUR CODE HERE"
   ]
  },
  {
   "cell_type": "markdown",
   "metadata": {
    "deletable": false,
    "editable": false,
    "nbgrader": {
     "cell_type": "markdown",
     "checksum": "7b92b81cbd073207d4a94884d44fd117",
     "grade": false,
     "grade_id": "cell-0c41c3f3c1e1c609",
     "locked": true,
     "schema_version": 3,
     "solution": false,
     "task": false
    }
   },
   "source": [
    "### Question 2 [5+5+5+5]\n",
    "\n",
    "Read the documentation on [choices of ODE solvers](https://diffeq.sciml.ai/dev/solvers/ode_solve/) then solve the following IVPs, first with your `kutta3` method, and then with an adaptive ODE solver from this package.  In each case ensure that the solution is accurate to at least 4 digits. The solutions must be stored as `soln_x` and `mysoln_x` where `x = a, b, c, d`\n",
    "```julia \n",
    "soln_a = solve(ODEProblem(...    # adaptive solver solution \n",
    "mysoln_a = kutta3(...  # kutta3 solution \n",
    "soln_b = ... \n",
    "```\n",
    "Make sure you convert the scalar systems to vectorial ones.\n",
    "\n",
    "(a) \n",
    "$$ \n",
    "    \\dot{x}(t) = -  x(t)^2, \\qquad x(0) = 1, t \\in (0, 1)\n",
    "$$\n",
    "\n",
    "(b) \n",
    "$$ \n",
    "    (1+t^3) x(t) \\dot{x}(t) = t^2, \\qquad x(0) = 1, t \\in (0, 3)\n",
    "$$\n",
    "\n",
    "\n",
    "(c) The Fitzhugh–Nagumo equations are a simple model of the repeated firing of a neuron. They are given by\n",
    "$$\\begin{aligned} \n",
    "    \\dot{v}_1 &= - v_1 (v_1 - 1) (v_1 - a) - v_2 + I, \\\\ \n",
    "    \\dot{v}_2 &=  \\epsilon (v_1 - \\gamma v_2).\n",
    "\\end{aligned}$$\n",
    "Assume $v_1(0) = 0.5, v_2(0) = 0.1, a = 0.1, \\epsilon = 0.008, \\gamma = 1, I = 0.055$. Solve for $t \\in (0, 600)$.\n",
    "\n",
    "\n",
    "(d) First convert to a first-order system using the canonical substitution $u_1 = x, u_2 = \\dot{x}$,\n",
    "$$\n",
    "    0.1 \\ddot{x} + \\dot{x} = - 10 x^2 +  e^{-t}, \\qquad x(0) = 1, \\dot{x}(0) = 0, \\qquad t \\in (0, 10)\n",
    "$$\n",
    "\n",
    "\n",
    "\n",
    "\n",
    "\n",
    "**NOTE:** Think about managing your computational resources, i.e., use a method that is suitable for the desired accuracy and set the tolerance to a reasonable value. I won't reduce your score against this issue, but it is useful for you if you can give it some thought."
   ]
  },
  {
   "cell_type": "code",
   "execution_count": null,
   "metadata": {
    "deletable": false,
    "nbgrader": {
     "cell_type": "code",
     "checksum": "8b921d92aa7f32c02432de830d428e4f",
     "grade": false,
     "grade_id": "cell-47f851e8151dbffd",
     "locked": false,
     "schema_version": 3,
     "solution": true,
     "task": false
    }
   },
   "outputs": [],
   "source": [
    "# YOUR CODE HERE\n",
    "\n",
    "# you can test your solution againstthe exact solution for (a)\n",
    "# refsol_a = t -> 1 / (1+t);"
   ]
  },
  {
   "cell_type": "code",
   "execution_count": null,
   "metadata": {
    "deletable": false,
    "editable": false,
    "nbgrader": {
     "cell_type": "code",
     "checksum": "511f0c620bd8c07cf0305cf8900ce8f4",
     "grade": true,
     "grade_id": "cell-3942580238279201",
     "locked": true,
     "points": 20,
     "schema_version": 3,
     "solution": false,
     "task": false
    }
   },
   "outputs": [],
   "source": []
  },
  {
   "cell_type": "markdown",
   "metadata": {
    "deletable": false,
    "editable": false,
    "nbgrader": {
     "cell_type": "markdown",
     "checksum": "7cddaa7c0a18b538c8cd356d89f9eec5",
     "grade": false,
     "grade_id": "cell-1e0cafd4b2fd88a7",
     "locked": true,
     "schema_version": 3,
     "solution": false,
     "task": false
    }
   },
   "source": [
    "### Question 3 [5]\n",
    "\n",
    "Find the reference (i.e. the journal article) for the `Tsit5()` solver and post it here. Summarize in 1-2 sentences why `Tsit5()` is the recommended default solver for `OrdinaryDiffEq.jl`.\n"
   ]
  },
  {
   "cell_type": "markdown",
   "metadata": {
    "deletable": false,
    "nbgrader": {
     "cell_type": "markdown",
     "checksum": "af1345003ec09265e5b8957f0ec2b0cf",
     "grade": true,
     "grade_id": "cell-fadded83730945aa",
     "locked": false,
     "points": 10,
     "schema_version": 3,
     "solution": true,
     "task": false
    }
   },
   "source": [
    "YOUR ANSWER HERE"
   ]
  },
  {
   "cell_type": "markdown",
   "metadata": {
    "deletable": false,
    "editable": false,
    "nbgrader": {
     "cell_type": "markdown",
     "checksum": "01afa2202f8e836907a382ee86c4f300",
     "grade": false,
     "grade_id": "cell-5be8747dba81fba0",
     "locked": true,
     "schema_version": 3,
     "solution": false,
     "task": false
    }
   },
   "source": [
    "### Question 4 [5+10+5]\n",
    "\n",
    "Consider van der Pol's oscillator,  \n",
    "$$\n",
    "    \\ddot{x} - \\mu (1-x^2) \\dot{x} + x = 0. \n",
    "$$\n",
    "\n",
    "(a) Use the Lienard transform,\n",
    "$$ \n",
    "    y = x - x^3 / 3 - \\dot{x} / \\mu \n",
    "$$\n",
    "to convert it to a first-order system\n",
    "$$\\begin{aligned}\n",
    "    \\dot{x} &= f_1(x, y) \\\\ \n",
    "    \\dot{y} &= f_2(x, y)\n",
    "\\end{aligned}$$\n",
    "for $u = (u_1, u_2) = (x, y)$. Implement this system as a function \n",
    "```julia \n",
    "f_vdp(u, p, t) = [ ..., \n",
    "                   ... ]\n",
    "```\n",
    "where `p` is the value of the parameter $\\mu$."
   ]
  },
  {
   "cell_type": "code",
   "execution_count": null,
   "metadata": {
    "deletable": false,
    "nbgrader": {
     "cell_type": "code",
     "checksum": "348a733bddad88bcfb2925bc12510639",
     "grade": false,
     "grade_id": "cell-8fcf8b53310a0a93",
     "locked": false,
     "schema_version": 3,
     "solution": true,
     "task": false
    }
   },
   "outputs": [],
   "source": [
    "# Solution part (a)\n",
    "\n",
    "# YOUR CODE HERE\n"
   ]
  },
  {
   "cell_type": "code",
   "execution_count": null,
   "metadata": {
    "deletable": false,
    "editable": false,
    "nbgrader": {
     "cell_type": "code",
     "checksum": "9d39b17ffa097056581cf4930baa2600",
     "grade": true,
     "grade_id": "cell-f17ef14bbfa76cd6",
     "locked": true,
     "points": 5,
     "schema_version": 3,
     "solution": false,
     "task": false
    }
   },
   "outputs": [],
   "source": []
  },
  {
   "cell_type": "markdown",
   "metadata": {
    "deletable": false,
    "editable": false,
    "nbgrader": {
     "cell_type": "markdown",
     "checksum": "469e99ab24e11e0e33437f5314c1e793",
     "grade": false,
     "grade_id": "cell-b45a164766349460",
     "locked": true,
     "schema_version": 3,
     "solution": false,
     "task": false
    }
   },
   "source": [
    "(b) Solve the VDP equation as the first order system implemented in (a) with initial condition $(x_0, y_0) = (1, 0)$ and parameters $\\mu = 2$ and $\\mu = 8$, and for $0 \\leq t \\leq 50$. Produce phase space plots for both trajectories in a single figure. Try to make the figure close to publication quality (labels, axis, formatting, etc)"
   ]
  },
  {
   "cell_type": "code",
   "execution_count": null,
   "metadata": {
    "deletable": false,
    "nbgrader": {
     "cell_type": "code",
     "checksum": "684edff8830b5951a7a99da705309e2c",
     "grade": true,
     "grade_id": "cell-4437ea7a941c04c6",
     "locked": false,
     "points": 0,
     "schema_version": 3,
     "solution": true,
     "task": false
    }
   },
   "outputs": [],
   "source": [
    "# Solution part (b)\n",
    "\n",
    "# YOUR CODE HERE\n"
   ]
  },
  {
   "cell_type": "markdown",
   "metadata": {
    "deletable": false,
    "editable": false,
    "nbgrader": {
     "cell_type": "markdown",
     "checksum": "b1b0deefb01d41771586028ef4cfdb8e",
     "grade": false,
     "grade_id": "cell-f5dee023307a25bf",
     "locked": true,
     "schema_version": 3,
     "solution": false,
     "task": false
    }
   },
   "source": [
    "(c) For each of the two cases $\\mu = 2, 8$ decide whether the problem is stiff. Explain your reasoning. You can use the code cell below to experiment and can reference the results of these experiments in your solution. [The code cell as 0-score attached, so you won't be graded against that code, but only against  your answer in the text cell.]\n",
    "\n",
    "Note this question can have a very brief answer or a more in-depth investigation. For a particularly nice discussion we can give bonus points."
   ]
  },
  {
   "cell_type": "code",
   "execution_count": null,
   "metadata": {
    "deletable": false,
    "nbgrader": {
     "cell_type": "code",
     "checksum": "3092afe0171ba11ec2fc10841d0b3156",
     "grade": true,
     "grade_id": "cell-a2441a342146c006",
     "locked": false,
     "points": 0,
     "schema_version": 3,
     "solution": true,
     "task": false
    }
   },
   "outputs": [],
   "source": [
    "# Use this cell if you want to run some additional to support your answer below.\n",
    "\n",
    "# YOUR CODE HERE"
   ]
  },
  {
   "cell_type": "markdown",
   "metadata": {
    "deletable": false,
    "nbgrader": {
     "cell_type": "markdown",
     "checksum": "3e5b79cb2c209f39651633c0a9bc41b1",
     "grade": true,
     "grade_id": "cell-b97badf1c304c296",
     "locked": false,
     "points": 5,
     "schema_version": 3,
     "solution": true,
     "task": false
    }
   },
   "source": [
    "YOUR ANSWER HERE"
   ]
  },
  {
   "cell_type": "markdown",
   "metadata": {
    "deletable": false,
    "editable": false,
    "nbgrader": {
     "cell_type": "markdown",
     "checksum": "d9c0143c11d58fdb11ce3ffc24b0a287",
     "grade": false,
     "grade_id": "cell-654adf8684c31e80",
     "locked": true,
     "schema_version": 3,
     "solution": false,
     "task": false
    }
   },
   "source": [
    "### Question 5 [10]\n",
    "\n",
    "A model for the (vertical) velocity $v(t)$ of a skydiver is \n",
    "$$ \n",
    "    \\dot{v}(t) = - g + \\frac{k}{m} v^2\n",
    "$$\n",
    "where $g$ is graviational acceleration, $m$ is the mass of the skydiver with parachute and $k$ quantifies the effect of air resistance. Use SI units, i.e. m/s for velocity and kg for mass. For the mass we will take $m = 100 {\\rm kg}$. \n",
    "\n",
    "Suppose a jump starts at 1,200m with closed parachute with friction parameter $k = 0.4875~{\\rm kg/m}$. After 13 seconds, the diver opens the parachute at which point the friction parameter changes to $k = 29.16~{\\rm kg/m}$.\n",
    "\n",
    "Decide what the initial condition should be! Define it in your code as \n",
    "```julia \n",
    "v0 = ... \n",
    "```\n",
    "Then find the time at which the diver hits the ground, and the velocity at impact, and define them in your code as \n",
    "```julia\n",
    "t_impact = ...\n",
    "v_impact = ... \n",
    "```\n",
    "Ensure that both are accurate to within 1% tolerance.\n"
   ]
  },
  {
   "cell_type": "code",
   "execution_count": null,
   "metadata": {
    "deletable": false,
    "nbgrader": {
     "cell_type": "code",
     "checksum": "a219b33cd1f6043623d712f8fd5f466f",
     "grade": false,
     "grade_id": "cell-f3b6333702eb61b6",
     "locked": false,
     "schema_version": 3,
     "solution": true,
     "task": false
    }
   },
   "outputs": [],
   "source": [
    "\n",
    "# YOUR CODE HERE\n",
    "\n",
    "\n",
    "# let's just do a very quick test to make sure the orders of magnitude are right! \n",
    "# If this fails then you likely havee a bug / made a wrong assumption somewhere\n",
    "println(@test -10 < v_impact < 0)\n",
    "println(@test 0 < t_impact < 1000)"
   ]
  },
  {
   "cell_type": "code",
   "execution_count": null,
   "metadata": {
    "deletable": false,
    "editable": false,
    "nbgrader": {
     "cell_type": "code",
     "checksum": "b9fbd19b5cd8687f0346af747a009698",
     "grade": true,
     "grade_id": "cell-b46dda1a87f7d96d",
     "locked": true,
     "points": 10,
     "schema_version": 3,
     "solution": false,
     "task": false
    }
   },
   "outputs": [],
   "source": []
  },
  {
   "cell_type": "markdown",
   "metadata": {
    "deletable": false,
    "editable": false,
    "nbgrader": {
     "cell_type": "markdown",
     "checksum": "7d8692360f2fa53774e6d067880866a5",
     "grade": false,
     "grade_id": "cell-3146e5c6ccbc3690",
     "locked": true,
     "schema_version": 3,
     "solution": false,
     "task": false
    }
   },
   "source": [
    "### Question 6 - The Crank-Nicholson Method [10 + 10]\n",
    "\n",
    "Recall the Crank-Nicholson method from the lectures: \n",
    "$$ \n",
    "    U_{n+1} = U_n + \\frac{h}{2}\\big( f(nh, U_n) + f((n+1)h, U_{n+1}) \\big)\n",
    "$$\n",
    "\n",
    "(a) Define and estimate the truncation error. What is the order of accuracy?\n",
    "\n",
    "(b) Compute the region of stability, and conclude that the CN method is A-stable."
   ]
  },
  {
   "cell_type": "markdown",
   "metadata": {
    "deletable": false,
    "nbgrader": {
     "cell_type": "markdown",
     "checksum": "8d447da1af36e752fc6a230daab4e8a6",
     "grade": true,
     "grade_id": "cell-5b270e2b01377d16",
     "locked": false,
     "points": 20,
     "schema_version": 3,
     "solution": true,
     "task": false
    }
   },
   "source": [
    "YOUR ANSWER HERE"
   ]
  },
  {
   "cell_type": "markdown",
   "metadata": {
    "deletable": false,
    "editable": false,
    "nbgrader": {
     "cell_type": "markdown",
     "checksum": "acf55072df4596927d3111d6b00a9662",
     "grade": false,
     "grade_id": "cell-d205288d6dd1ea54",
     "locked": true,
     "schema_version": 3,
     "solution": false,
     "task": false
    }
   },
   "source": [
    "### Question 7 - Energy conservation [10 + 5 + 5 + 5]\n",
    "\n",
    "Consider a harmonic oscillator, $\\ddot{r} = - c r$ with Hamiltonian $H = \\frac12 v^2 + \\frac{c}{2} r^2$, where $c > 0$. In the lecture we stated that the explicit and implicit Euler methods satisfy \n",
    "$$\n",
    "    H_{n+1} - H_n \n",
    "    =\n",
    "    \\begin{cases}\n",
    "        ch^2 H_n & \\text{Euler method}  \\\\\n",
    "        - c  h^2 H_{n+1} & \\text{Implicit Euler method} \n",
    "    \\end{cases}\n",
    "$$\n",
    "\n",
    "(a+) Prove the above result only for the explicit Euler method (the proof for the implicit Euler method is similar). Hint : Use the fact that $R_{n+1}^2 - R_n^2 = (R_{n+1}-R_n)(R_{n+1}+R_n)$ and similar for $V_{n+1}^2 - V_n^2$.\n",
    "\n",
    "(b) Deduce that $(R_n, V_n) \\to 0$ for the implicit Euler method, but $(R_n, V_n) \\to \\infty$ for the explicit Euler method.\n",
    "\n",
    "(c) For the Euler-A method, prove that there is a shadow hamiltonian which is conserved. (see L08 for details and hints!)\n",
    "\n",
    "(d+) What is the situation for the Crank-Nicholson scheme? "
   ]
  },
  {
   "cell_type": "markdown",
   "metadata": {
    "deletable": false,
    "nbgrader": {
     "cell_type": "markdown",
     "checksum": "c2f997f41b9b7f040397c16a0b98b65d",
     "grade": true,
     "grade_id": "cell-195efb3b29afc3bf",
     "locked": false,
     "points": 25,
     "schema_version": 3,
     "solution": true,
     "task": false
    }
   },
   "source": [
    "YOUR ANSWER HERE"
   ]
  }
 ],
 "metadata": {
  "@webio": {
   "lastCommId": null,
   "lastKernelId": null
  },
  "kernelspec": {
   "display_name": "Julia 1.5.2",
   "language": "julia",
   "name": "julia-1.5"
  },
  "language_info": {
   "file_extension": ".jl",
   "mimetype": "application/julia",
   "name": "julia",
   "version": "1.5.2"
  }
 },
 "nbformat": 4,
 "nbformat_minor": 4
}
