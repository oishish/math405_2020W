{
 "cells": [
  {
   "cell_type": "markdown",
   "metadata": {
    "slideshow": {
     "slide_type": "slide"
    }
   },
   "source": [
    "# MATH 405/607 \n",
    "\n",
    "# Numerical Methods for Differential Equations\n",
    "\n",
    "[[Instructor: Christoph Ortner]](http://www.math.ubc.ca/~ortner/)  [[CANVAS]](https://canvas.ubc.ca/courses/55324)\n",
    "\n",
    "\n",
    "## PDEs - Advection\n",
    "\n",
    "* The advection equation (transport)\n",
    "* characteristics \n",
    "* upwind scheme, downwind scheme\n",
    "* CFL condition \n",
    "* numerical dissipation and dispersion\n",
    "* Lax-Wendroff scheme \n",
    "* Conservation laws \n",
    "\n",
    "### Literature\n",
    "\n",
    "* Morton and Mayers: Numerical Solution of Partial Differential Equations"
   ]
  },
  {
   "cell_type": "code",
   "execution_count": null,
   "metadata": {},
   "outputs": [],
   "source": [
    "include(\"../math405.jl\")"
   ]
  },
  {
   "cell_type": "markdown",
   "metadata": {
    "slideshow": {
     "slide_type": "slide"
    }
   },
   "source": [
    "### Motivation \n",
    "\n",
    "* Conservation laws \n",
    "$$ \n",
    "    {\\bf u}_t + \\big({\\bf f}(x, {\\bf u})\\big)_x = 0 \n",
    "$$\n",
    "\n",
    "* Wave equation \n",
    "$$ \n",
    "    u_{tt} = u_{xx}\n",
    "$$\n",
    "or equivalently \n",
    "$$ \n",
    "    u_t = v_x, \\qquad v_t = u_x\n",
    "$$\n",
    "\n",
    "* Advection-diffusion \n",
    "$$ \n",
    "    u_t = a u_x + c u_{xx}\n",
    "$$\n",
    "(closely connected to Fokker-Planck, Black-Scholes, Navier-Stokes)"
   ]
  },
  {
   "cell_type": "markdown",
   "metadata": {
    "slideshow": {
     "slide_type": "slide"
    }
   },
   "source": [
    "### Model Problem \n",
    "\n",
    "$$\\begin{aligned} \n",
    "    u_t(x, t) + a u_x(x,t) &= 0, \\qquad x \\in \\mathbb{R}, \\quad t > 0, \\\\ \n",
    "                    u(x, 0) &= u_0(x)\n",
    "\\end{aligned}$$\n",
    "where $a$ is constant. This can be solved by the method of characteristics, \n",
    "$$\n",
    "    \\frac{d}{dt} u(x_0 + at, t) = u_t + a u_x = 0,\n",
    "$$\n",
    "i.e. $u$ is constant along the *characteristics* $(x_0 + a t, t)$: \n",
    "$$\n",
    "    u(x, t) = u_0(x - at)\n",
    "$$"
   ]
  },
  {
   "cell_type": "code",
   "execution_count": null,
   "metadata": {
    "slideshow": {
     "slide_type": "fragment"
    }
   },
   "outputs": [],
   "source": [
    "MATH405.illustrate_characteristicsR()"
   ]
  },
  {
   "cell_type": "markdown",
   "metadata": {
    "slideshow": {
     "slide_type": "subslide"
    }
   },
   "source": [
    "If $u_0$ is 1-periodic, then solving on $x \\in \\mathbb{R}$ is equivalent to solving on $x \\in (0, 1]$ with periodic boundary conditins (PBCs): \n",
    "\n",
    "$$\\begin{aligned}\n",
    "    u_t(x, t) + a u_x(x,t) &= 0, \\qquad x \\in (0, 1), \\quad t > 0, \\\\ \n",
    "                    u(x, 0) &= u_0(x), \\\\ \n",
    "                    u(0, t) &= u(1, t)\n",
    "\\end{aligned}$$"
   ]
  },
  {
   "cell_type": "markdown",
   "metadata": {
    "slideshow": {
     "slide_type": "fragment"
    }
   },
   "source": [
    "After rescaling time we can always set $a = 1$, let's keep this for now!"
   ]
  },
  {
   "cell_type": "markdown",
   "metadata": {
    "slideshow": {
     "slide_type": "subslide"
    }
   },
   "source": [
    "Discretise in space: $U_n(t) \\approx u(nh, t)$. \n",
    "\n",
    "* How should we discretise $u_x$? \n",
    "    - Forward difference: $u_x(x_n) \\approx (U_{n+1} - U_n) / h$? \n",
    "    - Backward difference: $u_x(x_n) \\approx (U_{n} - U_{n-1}) / h$? "
   ]
  },
  {
   "cell_type": "markdown",
   "metadata": {
    "slideshow": {
     "slide_type": "fragment"
    }
   },
   "source": [
    "Discretise in time as well: $U_n^k(t) \\approx U_n(k\\tau) \\approx u(nh, k\\tau)$\n",
    "\n",
    "The space discretisation is first-order so let's just use the forward Euler method to discretise in time and we can explore issues such as stiffness, and higher-order schemes later. This gives us two possible schemes: \n",
    "\n",
    "$$\n",
    "    \\frac{U_n^{m+1} - U_n^m}{\\tau} + \\frac{U_{n+1}^m - U_n^m}{h} = 0\n",
    "    \\qquad \\text{and} \\qquad \n",
    "    \\frac{U_n^{m+1} - U_n^m}{\\tau} + \\frac{U_{n}^m - U_{n-1}^m}{h} = 0\n",
    "$$"
   ]
  },
  {
   "cell_type": "code",
   "execution_count": null,
   "metadata": {
    "slideshow": {
     "slide_type": "slide"
    }
   },
   "outputs": [],
   "source": [
    "N = 50; h = 1/N\n",
    "X = range(h, 1, length=N)\n",
    "Id = sparse(I, (N, N))\n",
    "D⁺ = (circshift(Id, -1) - Id) / h\n",
    "D⁻ = (Id - circshift(Id, 1)) / h\n",
    "u0 = x -> exp( - 3 * cos(pi*x)^2 )\n",
    "plot(u0, 0, 1, lw=2, size = (400, 150), label = L\"u_0\")"
   ]
  },
  {
   "cell_type": "code",
   "execution_count": null,
   "metadata": {
    "slideshow": {
     "slide_type": "subslide"
    }
   },
   "outputs": [],
   "source": [
    "τ = 0.2 * h # let's be a bit conservative here!\n",
    "U⁺ = u0.(X); U⁻ = u0.(X);\n",
    "@gif for m = 1:150\n",
    "    U⁺ -= τ * (D⁺ * U⁺)\n",
    "    U⁻ -= τ * (D⁻ * U⁻)\n",
    "    plot(X, u0.(X .- m*τ), lw=2, size = (400, 200), xlims = (0, 1), ylims = (-0.02, 1.5), label = \"exact\", legend = :topleft)\n",
    "    plot!(X, U⁺, lw=2, label = \"U+\")\n",
    "    plot!(X, U⁻, lw=2, label = \"U-\")\n",
    "end"
   ]
  },
  {
   "cell_type": "markdown",
   "metadata": {
    "slideshow": {
     "slide_type": "slide"
    }
   },
   "source": [
    "### Upwind and Downwind\n",
    "\n",
    "Advection model problem: assume $a > 0$\n",
    "$$\\begin{aligned}\n",
    "    u_t(x, t) + a u_x(x,t) &= 0, \\qquad x \\in \\mathbb{R}, \\quad t > 0, \\\\ \n",
    "                    u(x, 0) &= u_0(x), \\\\ \n",
    "\\end{aligned}$$\n",
    "\n",
    "Two discretisations: \n",
    "$$\n",
    "    \\frac{U_n^{m+1} - U_n^m}{\\tau} + a \\frac{U_{n+1}^m - U_n^m}{\\tau} = 0\n",
    "    \\qquad \\text{and} \\qquad \n",
    "    \\frac{U_n^{m+1} - U_n^m}{\\tau} + a \\frac{U_{n}^m - U_{n-1}^m}{\\tau} = 0\n",
    "$$"
   ]
  },
  {
   "cell_type": "code",
   "execution_count": null,
   "metadata": {},
   "outputs": [],
   "source": [
    "MATH405.illustrate_fwdbwdstencils() # maybe this gives us a hint???"
   ]
  },
  {
   "cell_type": "markdown",
   "metadata": {
    "slideshow": {
     "slide_type": "subslide"
    }
   },
   "source": [
    "### Analysis of the upwind scheme (backward difference)\n",
    "\n",
    "same old strategy ... $u_n^m := u(nh, m\\tau)$ then \n",
    "$$\\begin{aligned}\n",
    "    \\frac{u_n^{m+1} - u_n^m}{\\tau} + a \\frac{u_n^m - u_{n-1}^m}{h} &= T_n^m, \\\\ \n",
    "    \\frac{U_n^{m+1} - U_n^m}{\\tau} + a \\frac{U_n^m - U_{n-1}^m}{h} &= 0, \\\\ \n",
    "\\end{aligned}$$\n",
    "\n",
    "with $|T_n^m| \\leq C(h + \\tau)$. (easy exercise by now ...)"
   ]
  },
  {
   "cell_type": "markdown",
   "metadata": {
    "slideshow": {
     "slide_type": "fragment"
    }
   },
   "source": [
    "$E_n^m := u_n^m - U_n^m$, then \n",
    "$$ \n",
    "    \\frac{E_n^{m+1} - E_n^m}{\\tau} + a \\frac{E_n^m - E_{n-1}^m}{h} = T_n^m\n",
    "$$\n",
    "or, equivalently, with $\\mu = a \\tau/h$, \n",
    "$$ \n",
    "    E_n^{m+1} = (1 - \\mu) E_n^m + \\mu E_{n-1}^m + \\tau T_n^m\n",
    "$$"
   ]
  },
  {
   "cell_type": "markdown",
   "metadata": {
    "slideshow": {
     "slide_type": "subslide"
    }
   },
   "source": [
    "With $\\mu = a \\tau/h$, \n",
    "$$ \n",
    "    E_n^{m+1} = (1 - \\mu) E_n^m + \\mu E_{n-1}^m + \\tau T_n^m\n",
    "$$"
   ]
  },
  {
   "cell_type": "markdown",
   "metadata": {
    "slideshow": {
     "slide_type": "fragment"
    }
   },
   "source": [
    "If $a > 0$ then $\\mu > 0$. If in addition we assume that $\\mu \\leq 1$, then \n",
    "$$\\begin{aligned}\n",
    "    |E_n^{m+1}| \n",
    "    &\\leq (1-\\mu) \\|E^m\\|_\\infty + \\mu \\|E^m\\|_\\infty + \\tau \\|T^m\\|_\\infty \\\\ \n",
    "   \\|E^{m+1}\\|_\\infty &\\leq \\|E^m\\|_\\infty +  \\tau \\|T^m\\|_\\infty,\n",
    "\\end{aligned}$$\n",
    "\n",
    "I.e., the upwind scheme is stable! We can now proceed as in previous lectures..."
   ]
  },
  {
   "cell_type": "markdown",
   "metadata": {
    "slideshow": {
     "slide_type": "subslide"
    }
   },
   "source": [
    "**Theorem:** Provided that $|a| \\tau \\leq h$, the *upwind scheme* is first-order accurate and convergent, \n",
    "\n",
    "$$\n",
    "    \\max_{x_n, t_k \\leq T_f} |u(x_n, t_k) - U_n^k| \\leq C T_f (h + \\tau).\n",
    "$$\n",
    "\n",
    "**NB:** The condition $|a| \\tau \\leq h$ is called the CFL condition (Courant-Friedrichs-Lewy) and is probably one of the most far-reaching early results in numerical analysis."
   ]
  },
  {
   "cell_type": "markdown",
   "metadata": {
    "slideshow": {
     "slide_type": "fragment"
    }
   },
   "source": [
    "What if $a < 0$? Then the forward difference scheme becomes the upwind scheme!"
   ]
  },
  {
   "cell_type": "markdown",
   "metadata": {
    "slideshow": {
     "slide_type": "slide"
    }
   },
   "source": [
    "### The downwind scheme\n",
    "\n",
    "Still with $a > 0$ consider \n",
    "$$ \n",
    "    \\frac{U_n^{m+1} - U_n^m}{\\tau} + a \\frac{U_{n+1}^m - U_{n}^m}{h} = 0\n",
    "$$\n",
    "or, equivalently, with $\\mu = a \\tau/h$, \n",
    "$$\n",
    "    U_n^{m+1} = (1 + \\mu) U_n^m - \\mu U_{n+1}^m\n",
    "$$\n",
    "\n",
    "We can kind of guess at instability from this, but it is not so obvious from this real-space representation. We should look at it from the perspective of Fourier analysis."
   ]
  },
  {
   "cell_type": "markdown",
   "metadata": {
    "slideshow": {
     "slide_type": "subslide"
    }
   },
   "source": [
    "### Fourier analysis of the downwind scheme \n",
    "\n",
    "(von Neumann stability analysis)\n",
    "\n",
    "Suppose at the $m$-th time-step we have a pure Fourier mode, \n",
    "$$ \n",
    "    U_n^m = e^{i k x_n}\n",
    "$$\n",
    "then \n",
    "$$\\begin{aligned}\n",
    "    U_{n}^{m+1} \n",
    "    &= (1+\\mu) e^{i k x_n} - \\mu e^{i k (x_n + h)} \\\\ \n",
    "    &= \\big[ 1 + \\mu (1 - e^{i k h}) \\big] e^{i k n}\n",
    "\\end{aligned}$$\n",
    "We call \n",
    "$$\n",
    "    \\lambda(k) = 1 + \\mu (1 - e^{i k h})\n",
    "$$\n",
    "the amplification factor."
   ]
  },
  {
   "cell_type": "markdown",
   "metadata": {
    "slideshow": {
     "slide_type": "subslide"
    }
   },
   "source": [
    "$$\\begin{aligned}\n",
    "    |\\lambda(k)|^2 \n",
    "    &= [1 + \\mu (1-\\cos kh)]^2 + [\\mu \\sin kh]^2 \\\\ \n",
    "    &= \\dots \\\\ \n",
    "    &= 1 + 4 \\mu (1+\\mu) \\sin^2\\big( k h / 2 \\big)\n",
    "\\end{aligned}$$"
   ]
  },
  {
   "cell_type": "code",
   "execution_count": null,
   "metadata": {
    "slideshow": {
     "slide_type": "fragment"
    }
   },
   "outputs": [],
   "source": [
    "a = 1; h = 0.1; τ = 0.2 * h; μ = a * τ / h;  # experiment with smaller τ!\n",
    "plot(x -> (1 + 4 * μ * (1+μ) * sin(h*x/2)^2), 0, pi/h, lw=3, label = \"λ (downwind)\", size = (400, 150), legend = :topleft)"
   ]
  },
  {
   "cell_type": "markdown",
   "metadata": {
    "slideshow": {
     "slide_type": "-"
    }
   },
   "source": [
    "Even if we start with a very smooth initial condition, numerical errors will quickly create high wave-number modes, and these will then be amplified causing the numerical stability we have observed."
   ]
  },
  {
   "cell_type": "markdown",
   "metadata": {
    "slideshow": {
     "slide_type": "subslide"
    }
   },
   "source": [
    "For the upwind scheme we simply substitute $\\mu \\to -\\mu$ and $h \\to -h$ which yields  the amplification factor\n",
    "\n",
    "$$ \n",
    "    \\lambda(k) = 1 - 4 \\mu(1-\\mu) \\sin^2(kh/2)\n",
    "$$"
   ]
  },
  {
   "cell_type": "code",
   "execution_count": null,
   "metadata": {},
   "outputs": [],
   "source": [
    "a = 1; h = 0.1; τ = 0.2 * h; μ = a * τ / h;  # experiment with larger τ!\n",
    "plot(x -> (1 + 4 * μ * (1+μ) * sin(h*x/2)^2), 0, pi/h, lw=3, label = \"λ (downwind)\", size = (500, 150), legend = :outertopright)\n",
    "plot!(x -> (1 - 4 * μ * (1-μ) * sin(h*x/2)^2), 0, pi/h, lw=3, label = \"λ (upwind, CFL)\")\n",
    "plot!(x -> (1 + 4 * 1.1*0.1 * sin(h*x/2)^2), 0, pi/h, lw=3, label = \"λ (upwind, UNSTABLE)\")"
   ]
  },
  {
   "cell_type": "markdown",
   "metadata": {
    "slideshow": {
     "slide_type": "-"
    }
   },
   "source": [
    "and instead of blow-up we have artificial numerical damping of higher eigenmodes:\n",
    "$$\n",
    "    \\| U^{m+1}\\|^2 \n",
    "    = h\\int_{-\\pi/h}^{\\pi/h} |\\hat{U}^{m+1}|^2 \\,dk\n",
    "    = h\\int_{-\\pi/h}^{\\pi/h} |\\lambda(k)|^2 |\\hat{U}^m(k)|^2 \\,dk.\n",
    "$$"
   ]
  },
  {
   "cell_type": "markdown",
   "metadata": {
    "slideshow": {
     "slide_type": "slide"
    }
   },
   "source": [
    "### Instability & Damping in Real Space\n",
    "\n",
    "$$\\begin{aligned}\n",
    "    \\| U^{m+1}\\|^2 \n",
    "    = h\\int_{-\\pi/h}^{\\pi/h} |\\hat{U}^{m+1}|^2 \\,dk\n",
    "    &= h\\int_{-\\pi/h}^{\\pi/h} |\\lambda(k)|^2 |\\hat{U}^m(k)|^2 \\,dk, \\\\\n",
    "    \\text{where} \\qquad \\lambda(k) &= 1 - 4 \\mu(1-\\mu) \\sin^2(kh/2)\n",
    "\\end{aligned}$$\n",
    "\n",
    "For many mathematicians (but maybe more so for physicists, engineers, ...) this is an extremely intuitive representation of what occurs in these schemes. But for others it would be nice to interpret this in real space. Such a real-space interpretation is also important if we want to add (non-PBC) boundary conditions since in that case we can no longer use Fourier analysis!"
   ]
  },
  {
   "cell_type": "markdown",
   "metadata": {
    "slideshow": {
     "slide_type": "fragment"
    }
   },
   "source": [
    "Key observation (see exercises): $4 \\sin^2(kh/2)$ is the multiplier associated with the forward or backward finite difference:\n",
    "$$\n",
    "    h \\int_{-\\pi/h}^{\\pi/h} 4 \\sin^2(kh/2) |\\hat{U}(k)|^2 \\,dk \n",
    "    = \\sum_{n \\in \\mathbb{Z}} | U_{n+1} - U_n |^2 =: \\| D^\\pm U \\|^2.\n",
    "$$"
   ]
  },
  {
   "cell_type": "markdown",
   "metadata": {
    "slideshow": {
     "slide_type": "subslide"
    }
   },
   "source": [
    "**Proposition:** Let $a > 0$ and $D^\\pm$ the forward/backward difference operators, then \n",
    "* the upwind scheme satisfies\n",
    "$$ \n",
    "    \\|U^{m+1}\\|^2 = \\| U^m\\|^2 - \\mu(1-\\mu) \\|D^- U^m\\|^2\n",
    "$$\n",
    "* while the downwind scheme satisfies \n",
    "$$ \n",
    "    \\|U^{m+1}\\|^2 = \\| U^m\\|^2 + \\mu(1+\\mu) \\|D^+ U^m\\|^2\n",
    "$$"
   ]
  },
  {
   "cell_type": "markdown",
   "metadata": {
    "slideshow": {
     "slide_type": "fragment"
    }
   },
   "source": [
    "Thus, we see that the blow-up in the downwind scheme and the artificial numerical damping in the upwind scheme occurs precisely when there are large gradients."
   ]
  },
  {
   "cell_type": "code",
   "execution_count": null,
   "metadata": {
    "slideshow": {
     "slide_type": "subslide"
    }
   },
   "outputs": [],
   "source": [
    "N = 50; h = 1/N; X = range(h, 1, length=N); xp = range(0, 1, length=1000)\n",
    "Id = sparse(I, (N, N)); D⁻ = (Id - circshift(Id, 1)) / h\n",
    "τ = 0.1 * h # let's be even more conservative than before!\n",
    "u0 = x -> 1/(1+exp(-100 * (x - 0.2))) * 1/(1+exp(100 * (x - 0.6)))\n",
    "# /u0 = x -> max(1 - 10*abs(x-0.5), 0)   #\n",
    "U = u0.(X)\n",
    "@gif for m = 1:150\n",
    "    U -= τ * (D⁻ * U)\n",
    "    plot(x -> u0(x-m*τ), 0, 1, lw=2, size = (400, 200), xlims = (0, 1), ylims = (-0.02, 1.5), label = \"exact\", legend = :topleft)\n",
    "    plot!(X, U, lw=2, label = \"upwind\")\n",
    "end"
   ]
  },
  {
   "cell_type": "markdown",
   "metadata": {},
   "source": [
    "### Other schemes\n",
    "\n",
    "* **Centered difference scheme:** \n",
    "$$\n",
    "    \\frac{U_{n}^{m+1} - U_n^m}{\\tau} = - a \\frac{U_{n+1}^m - U_{n-1}^m}{2 h}\n",
    "$$\n",
    "Incorporate both up and downwind. Idea is to get a stable scheme no matter which direction the advection. We will analyze this scheme in A4.\n",
    "\n",
    "* **Lax-Wendroff scheme:** \n",
    "$$\n",
    "    \\frac{U_n^{m+1} - U_n^m}{\\tau}\n",
    "    = \n",
    "    - a \\frac{U_{n+1}^m - U_{n-1}^m}{2 h}\n",
    "    + \\frac{\\tau a^2}{2} \\frac{U_{n+1}^m - 2 U_n^m + U_{n-1}^m}{h^2}\n",
    "$$\n",
    "Famous scheme for conservation laws, designed to overcome some problems of centered differences. This is a group project.\n"
   ]
  },
  {
   "cell_type": "markdown",
   "metadata": {
    "slideshow": {
     "slide_type": "slide"
    }
   },
   "source": [
    "### Outlook\n",
    "\n",
    "We have now developed a first understanding of stability in FD schemes for advection problems. We have also seen a big challenge: numerical damping / diffusion.\n",
    "\n",
    "Another related challenge is numerical dispersion and correctly capturing the group velocity! This is another group project!"
   ]
  }
 ],
 "metadata": {
  "@webio": {
   "lastCommId": null,
   "lastKernelId": null
  },
  "celltoolbar": "Slideshow",
  "kernelspec": {
   "display_name": "Julia 1.5.1",
   "language": "julia",
   "name": "julia-1.5"
  },
  "language_info": {
   "file_extension": ".jl",
   "mimetype": "application/julia",
   "name": "julia",
   "version": "1.5.1"
  }
 },
 "nbformat": 4,
 "nbformat_minor": 4
}
