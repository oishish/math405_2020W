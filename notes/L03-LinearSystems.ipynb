{
 "cells": [
  {
   "cell_type": "markdown",
   "metadata": {
    "slideshow": {
     "slide_type": "slide"
    }
   },
   "source": [
    "# MATH 405/607 \n",
    "\n",
    "# Numerical Methods for Differential Equations\n",
    "\n",
    "[[Instructor: Christoph Ortner]](http://www.math.ubc.ca/~ortner/)  [[CANVAS]](https://canvas.ubc.ca/courses/55324)\n",
    "\n",
    "\n",
    "## Linear Systems\n",
    "\n",
    "* arrays\n",
    "* vectors and matrices\n",
    "* linear systems in matrix form\n",
    "* backsubstitution\n",
    "* Gaussian elimination \n",
    "* LU factorisation\n",
    "* sparse matrices\n",
    "* banded matrices \n",
    "* Eigendecomposition"
   ]
  },
  {
   "cell_type": "code",
   "execution_count": 3,
   "metadata": {
    "slideshow": {
     "slide_type": "subslide"
    }
   },
   "outputs": [
    {
     "name": "stderr",
     "output_type": "stream",
     "text": [
      "\u001b[32m\u001b[1m Activating\u001b[22m\u001b[39m environment at `~/Documents/UBC/Math/Math 405/math405_2020W/Project.toml`\n"
     ]
    }
   ],
   "source": [
    "include(\"../math405.jl\")"
   ]
  },
  {
   "cell_type": "markdown",
   "metadata": {
    "slideshow": {
     "slide_type": "subslide"
    }
   },
   "source": [
    "* https://fncbook.github.io/fnc/linsys/overview.html // reccomended for everyone\n",
    "* https://github.com/ettersi/ComputationalMathematics/blob/master/03_lu_factorisation.pdf\n",
    "* E. Süli and D. Mayer, An Introduction to Numerical Analysis, Ch. 2\n",
    "* G. H. Golub and C. F. Van Loan. Matrix Computations. 1996\n",
    "* L. N. Trefethen and D. Bau. Numerical Linear Algebra. 1997\n",
    "* N. J. Higham. Accuracy and Stability of Numerical Algorithms. 2002 "
   ]
  },
  {
   "cell_type": "markdown",
   "metadata": {
    "slideshow": {
     "slide_type": "slide"
    }
   },
   "source": [
    "## Background \n",
    "\n",
    "I will assume that you are familiar with symbolic linear algebra, in particular: \n",
    "* The vector spaces $\\mathbb{R}^N, \\mathbb{C}^N$\n",
    "* If we don't want to specify which field we are considering we will write $\\mathbb{F}$\n",
    "* Matrices $A \\in \\mathbb{F}^{N \\times M}$\n",
    "* Standard matrix algebra, such as $A * B, A+\\lambda B, A*x$, etc.\n",
    "* Matrices are representations of linear operators\n",
    "* Writing linear systems in matrix form \n",
    "* Gaussian elimination for solving linear systems\n",
    "\n",
    "If you feel you are missing this background, then please find some suitable lecture notes."
   ]
  },
  {
   "cell_type": "markdown",
   "metadata": {
    "slideshow": {
     "slide_type": "subslide"
    }
   },
   "source": [
    "In `Julia` we can create and manipulate matrices and vectors as follows:\n",
    "* https://docs.julialang.org/en/v1/manual/arrays/\n",
    "* https://docs.julialang.org/en/v1/stdlib/LinearAlgebra/"
   ]
  },
  {
   "cell_type": "code",
   "execution_count": 2,
   "metadata": {
    "slideshow": {
     "slide_type": "fragment"
    }
   },
   "outputs": [
    {
     "data": {
      "text/plain": [
       "3-element Array{Float64,1}:\n",
       " 0.9170045282035915\n",
       " 0.768880118743648\n",
       " 0.0033841710289770344"
      ]
     },
     "execution_count": 2,
     "metadata": {},
     "output_type": "execute_result"
    }
   ],
   "source": [
    "x = rand(3)       # vector with random entries"
   ]
  },
  {
   "cell_type": "code",
   "execution_count": 10,
   "metadata": {
    "slideshow": {
     "slide_type": "fragment"
    }
   },
   "outputs": [
    {
     "data": {
      "text/plain": [
       "3×3 Array{Float64,2}:\n",
       " 0.187352  0.135617  0.167922\n",
       " 0.725257  0.458663  0.6781\n",
       " 0.832594  0.749268  0.0784122"
      ]
     },
     "execution_count": 10,
     "metadata": {},
     "output_type": "execute_result"
    }
   ],
   "source": [
    "A = rand(3, 3)   # 3 x 3 matrix with random entries"
   ]
  },
  {
   "cell_type": "code",
   "execution_count": 4,
   "metadata": {
    "slideshow": {
     "slide_type": "fragment"
    }
   },
   "outputs": [
    {
     "data": {
      "text/plain": [
       "3-element Array{Float64,1}:\n",
       " 0.45980585190505574\n",
       " 0.8549202855454611\n",
       " 0.8644982880296159"
      ]
     },
     "execution_count": 4,
     "metadata": {},
     "output_type": "execute_result"
    }
   ],
   "source": [
    "y = A * x          # mat-vec multiplication"
   ]
  },
  {
   "cell_type": "code",
   "execution_count": 5,
   "metadata": {
    "slideshow": {
     "slide_type": "subslide"
    }
   },
   "outputs": [
    {
     "data": {
      "text/plain": [
       "3-element Array{Float64,1}:\n",
       " 1.376810380108647\n",
       " 1.623800404289109\n",
       " 0.867882459058593"
      ]
     },
     "execution_count": 5,
     "metadata": {},
     "output_type": "execute_result"
    }
   ],
   "source": [
    "y + x              # addition "
   ]
  },
  {
   "cell_type": "code",
   "execution_count": 7,
   "metadata": {
    "slideshow": {
     "slide_type": "fragment"
    }
   },
   "outputs": [
    {
     "data": {
      "text/plain": [
       "3-element Array{Float64,1}:\n",
       " 0.4216440482914461\n",
       " 0.6573312106665475\n",
       " 0.00292561006095007"
      ]
     },
     "execution_count": 7,
     "metadata": {},
     "output_type": "execute_result"
    }
   ],
   "source": [
    "y .* x             # elementwise multiplication\n",
    "# dot is very powerful! can work with any function"
   ]
  },
  {
   "cell_type": "code",
   "execution_count": 8,
   "metadata": {
    "slideshow": {
     "slide_type": "fragment"
    }
   },
   "outputs": [
    {
     "data": {
      "text/plain": [
       "3×3 Array{Float64,2}:\n",
       " 0.13219   0.527286  0.361787\n",
       " 0.338672  0.831399  0.518202\n",
       " 0.442764  0.674888  0.353318"
      ]
     },
     "execution_count": 8,
     "metadata": {},
     "output_type": "execute_result"
    }
   ],
   "source": [
    "#y * x              # Warning to Matlab users : y * x is not defined \n",
    "# But you could\n",
    "A = rand(3,2)\n",
    "B  = rand(2,3)\n",
    "A * B"
   ]
  },
  {
   "cell_type": "code",
   "execution_count": 11,
   "metadata": {
    "slideshow": {
     "slide_type": "fragment"
    }
   },
   "outputs": [
    {
     "data": {
      "text/plain": [
       "3×2 Array{Float64,2}:\n",
       " 0.225511  0.207101\n",
       " 0.832476  0.812073\n",
       " 1.00492   0.577882"
      ]
     },
     "execution_count": 11,
     "metadata": {},
     "output_type": "execute_result"
    }
   ],
   "source": [
    "A * rand(3, 2)   # matrix-matrix multiplication"
   ]
  },
  {
   "cell_type": "code",
   "execution_count": 12,
   "metadata": {
    "slideshow": {
     "slide_type": "subslide"
    }
   },
   "outputs": [
    {
     "data": {
      "text/plain": [
       "3-element Array{Float64,1}:\n",
       " 1.0\n",
       " 2.0\n",
       " 3.0"
      ]
     },
     "execution_count": 12,
     "metadata": {},
     "output_type": "execute_result"
    }
   ],
   "source": [
    "# construct vectors and matrices \"manually\"\n",
    "x = [ 1.0, 2.0, 3.0 ]"
   ]
  },
  {
   "cell_type": "code",
   "execution_count": 13,
   "metadata": {
    "slideshow": {
     "slide_type": "fragment"
    }
   },
   "outputs": [
    {
     "data": {
      "text/plain": [
       "2×2 Array{Float64,2}:\n",
       " 1.0  2.0\n",
       " 3.0  4.0"
      ]
     },
     "execution_count": 13,
     "metadata": {},
     "output_type": "execute_result"
    }
   ],
   "source": [
    "A = [ 1.0 2.0 \n",
    "      3.0 4.0 ]"
   ]
  },
  {
   "cell_type": "code",
   "execution_count": 14,
   "metadata": {},
   "outputs": [
    {
     "data": {
      "text/plain": [
       "2×2 Array{Float64,2}:\n",
       " 1.0  2.0\n",
       " 3.0  4.0"
      ]
     },
     "execution_count": 14,
     "metadata": {},
     "output_type": "execute_result"
    }
   ],
   "source": [
    "B = [ 1.0 2.0; 3.0 4.0 ]"
   ]
  },
  {
   "cell_type": "markdown",
   "metadata": {
    "slideshow": {
     "slide_type": "subslide"
    }
   },
   "source": [
    "Further Julia functions and types to work with arrays: \n",
    "* `Array` is the type, but also the constructor, e.g., `Array{Float64, 2}(undef, 10, 10)` allocates a 10 x 10 real matrix with undefined entires.\n",
    "* `zeros`, `ones`, `randn`\n",
    "* `A'` for adjoint; `transpose` for transpose\n",
    "* `ComplexF64` for complex matrices, e.g., `rand(ComplexF64, (10,10))`\n",
    "* `ldiv!, rdiv!, mul!` for efficient in-place operations\n",
    "* broadcasting, e.g., `f.(A)` applies `f` to each element\n",
    "* Warning: `exp(A)` is the matrix exponential, `exp.(A)` the elementwise exponential"
   ]
  },
  {
   "cell_type": "markdown",
   "metadata": {
    "slideshow": {
     "slide_type": "fragment"
    }
   },
   "source": [
    "Remark on transpose vs adjoint: $A^H = A^* = \\bar{A}^T$ (i.e. transpose and complex conjugate)"
   ]
  },
  {
   "cell_type": "markdown",
   "metadata": {
    "slideshow": {
     "slide_type": "subslide"
    }
   },
   "source": [
    "Most Julia functions are well documented, you can look at the help text using `?`"
   ]
  },
  {
   "cell_type": "code",
   "execution_count": null,
   "metadata": {},
   "outputs": [],
   "source": [
    "?randn #print docs"
   ]
  },
  {
   "cell_type": "markdown",
   "metadata": {
    "slideshow": {
     "slide_type": "slide"
    }
   },
   "source": [
    "### Goal of this lecture: \n",
    "\n",
    "Direct solution of linear systems: If $A = (a_{ij})_{i,j=1}^N \\in \\mathbb{F}^{N \\times N}, b = (b_i)_{i=1}^N \\in \\mathbb{F}^N$, find $x = (x_i)_{i=1}^N \\in \\mathbb{F}^N$ s.t.\n",
    "\n",
    "$$\\begin{aligned}\n",
    "   a_{11} x_1 + a_{12} x_2 + \\cdots + a_{1N} x_N &= b_1 \\\\ \n",
    "   a_{21} x_1 + a_{22} x_2 + \\cdots + a_{2N} x_N &= b_2  \\\\ \n",
    "         & \\qquad  \\vdots \\\\\n",
    "   a_{N1} x_1 + a_{N2} x_2 + \\cdots + a_{NN} x_N &= b_N  \\\\ \n",
    "\\end{aligned}$$\n"
   ]
  },
  {
   "cell_type": "markdown",
   "metadata": {
    "slideshow": {
     "slide_type": "subslide"
    }
   },
   "source": [
    "$$\\begin{aligned}\n",
    "   a_{11} x_1 + a_{12} x_2 + \\cdots + a_{1N} x_N &= b_1 \\\\ \n",
    "   a_{21} x_1 + a_{22} x_2 + \\cdots + a_{2N} x_N &= b_2  \\\\ \n",
    "         & \\qquad  \\vdots \\\\\n",
    "   a_{N1} x_1 + a_{N2} x_2 + \\cdots + a_{NN} x_N &= b_N  \\\\ \n",
    "\\end{aligned}$$"
   ]
  },
  {
   "cell_type": "markdown",
   "metadata": {
    "slideshow": {
     "slide_type": "fragment"
    }
   },
   "source": [
    "$$\n",
    "        \\Leftrightarrow  \\qquad\\qquad \\qquad \n",
    "    \\begin{pmatrix}\n",
    "        a_{11} & a_{12} &  \\cdots & a_{1N}  \\\\ \n",
    "        a_{21} & a_{22} &  \\cdots & a_{2N}  \\\\ \n",
    "          \\vdots & \\vdots &        & \\vdots \\\\ \n",
    "        a_{N1} & a_{N2} &  \\cdots & a_{NN}  \\\\ \n",
    "    \\end{pmatrix}\n",
    "    \\cdot\n",
    "    \\begin{pmatrix}\n",
    "        x_1 \\\\ x_2 \\\\ \\vdots \\\\ x_N\n",
    "    \\end{pmatrix}\n",
    "    = \n",
    "    \\begin{pmatrix}\n",
    "        b_1 \\\\ b_2 \\\\ \\vdots \\\\ b_N\n",
    "    \\end{pmatrix}\n",
    "$$"
   ]
  },
  {
   "cell_type": "markdown",
   "metadata": {
    "slideshow": {
     "slide_type": "fragment"
    }
   },
   "source": [
    "$$\n",
    "   \\Leftrightarrow \\qquad \\qquad  \\qquad A x = b\n",
    "$$"
   ]
  },
  {
   "cell_type": "markdown",
   "metadata": {
    "slideshow": {
     "slide_type": "subslide"
    }
   },
   "source": [
    "We've done this already in the intro lecture when we solved the 2-point BVP. In Julia this can be done simply via the `\\` operator."
   ]
  },
  {
   "cell_type": "code",
   "execution_count": null,
   "metadata": {
    "slideshow": {
     "slide_type": "fragment"
    }
   },
   "outputs": [],
   "source": [
    "A, b = rand(10,10), rand(10)    # a random linear system \n",
    "x = A \\ b     # assign solution to `x`\n",
    "display(x')\n",
    "@show norm(A * x - b);"
   ]
  },
  {
   "cell_type": "markdown",
   "metadata": {
    "slideshow": {
     "slide_type": "fragment"
    }
   },
   "source": [
    "Behind the `\\` operator is the so-called LU factorisation, which is the main goal of this lecture."
   ]
  },
  {
   "cell_type": "markdown",
   "metadata": {
    "slideshow": {
     "slide_type": "slide"
    }
   },
   "source": [
    "### Triangular Systems & Backward substitution\n",
    "\n",
    "#### Example\n",
    "The simplest to solve\n",
    "\n",
    "$$\\begin{aligned}\n",
    "    4 x_1 + x_2 - 2 x_3 &=  3 \\\\ \n",
    "          2 x_2 - x_3&= 4 \\\\ \n",
    "                   3 x_3 &= 6      \n",
    "\\end{aligned}$$"
   ]
  },
  {
   "cell_type": "markdown",
   "metadata": {
    "slideshow": {
     "slide_type": "fragment"
    }
   },
   "source": [
    "$$\\begin{aligned}\n",
    "   x_3 &= 2 \\\\ \n",
    "   x_2 &= 4 + x_3/2 =?\\\\ \n",
    "   x_1 &= 3 + x_2 + 4 x_3 = 1\n",
    "\\end{aligned}$$\n",
    "FIX THIS"
   ]
  },
  {
   "cell_type": "markdown",
   "metadata": {
    "slideshow": {
     "slide_type": "subslide"
    }
   },
   "source": [
    "### General Case\n",
    "\n",
    "$$\\begin{aligned}\n",
    "    a_{11} x_1 + \\cdots + a_{1,N-1} x_{N-1} + a_{1N} x_N &= b_1 \\\\ \n",
    "    & \\vdots \\\\ \n",
    "    a_{N-1,N-1} x_{N-1} + a_{N-1,N} x_N &= b_{N-1} \\\\ \n",
    "    a_{NN} x_N &= b_N \n",
    "\\end{aligned}$$\n",
    "\n",
    "corresponds to $A x = b$ where $A$ is *UPPER TRIANGULAR*: \n",
    "\n",
    "$$\n",
    "  A = \\begin{pmatrix}\n",
    "      * & * &  \\cdots & * &  * \\\\ \n",
    "        & * &  \\cdots & * &  * \\\\ \n",
    "        &   &  \\ddots   & & \\vdots \\\\ \n",
    "        &   &         & *  &  *  \\\\ \n",
    "        &   &          &    & * \n",
    "  \\end{pmatrix}\n",
    "$$"
   ]
  },
  {
   "cell_type": "markdown",
   "metadata": {
    "slideshow": {
     "slide_type": "subslide"
    }
   },
   "source": [
    "$$\\begin{aligned}\n",
    "    a_{11} x_1 + \\cdots + a_{1,N-1} x_{N-1} + a_{1N} x_N &= b_1 \\\\ \n",
    "    & \\vdots \\\\ \n",
    "    a_{N-1,N-1} x_{N-1} + a_{N-1,N} x_N &= b_{N-1} \\\\ \n",
    "    a_{NN} x_N &= b_N \n",
    "\\end{aligned}$$\n",
    "\n",
    "```\n",
    "FOR columns n = N, N-1, ..., 1 DO\n",
    "   x[n] = ( b[n] - sum( A[n, m] * x[m] for m = n+1:N ) ) / A[n,n]\n",
    "END\n",
    "```"
   ]
  },
  {
   "cell_type": "code",
   "execution_count": null,
   "metadata": {
    "slideshow": {
     "slide_type": "subslide"
    }
   },
   "outputs": [],
   "source": [
    "function backsubstitution(A::UpperTriangular, b::AbstractVector)\n",
    "    N = length(b)\n",
    "    x = zeros(N)\n",
    "    x[N] = b[N] / A[N,N]\n",
    "    for n = N-1:-1:1 \n",
    "        x[n] = (b[n] - sum(A[n,m]*x[m] for m=n+1:N)) / A[n,n]\n",
    "    end\n",
    "    return x\n",
    "end "
   ]
  },
  {
   "cell_type": "code",
   "execution_count": null,
   "metadata": {
    "slideshow": {
     "slide_type": "fragment"
    }
   },
   "outputs": [],
   "source": [
    "A = UpperTriangular(rand(10,10))\n",
    "b = rand(10)\n",
    "x = backsubstitution(A, b)\n",
    "println(\"Residual: ||A*x-b|| = $(norm(A*x-b))\")"
   ]
  },
  {
   "cell_type": "markdown",
   "metadata": {
    "slideshow": {
     "slide_type": "subslide"
    }
   },
   "source": [
    "### Performance Analysis\n",
    "\n",
    "```\n",
    "FOR columns n = N, N-1, ..., 1 DO\n",
    "   x[n] = ( b[n] - sum( A[n, m] * x[m] for m = n+1:N ) ) / A[n,n]\n",
    "END\n",
    "```\n",
    "\n",
    "$$\n",
    "  \\#{\\rm FLOPS} \\approx 1 + 2 + 3 + \\dots + N \\approx N^2\n",
    "$$\n",
    "\n",
    "We will say that \"backsubstituation requires $O(N^2)$ operations. This is the same cost as a matrix-vector multiplication, but much cheaper than a matrix-matrix multiplication $O(N^3)$."
   ]
  },
  {
   "cell_type": "markdown",
   "metadata": {
    "slideshow": {
     "slide_type": "subslide"
    }
   },
   "source": [
    "### Remark on Julia performance\n",
    "\n",
    "Julia is an incredibly \"democratic\" language. Similar to C, C++, Fortran, \n",
    "etc but very different from Python or Matlab, well-written user code in Julia \n",
    "can be just as fast as core library code. Our code here is not very well-written\n",
    "but it still gets into an ok performance ball-park."
   ]
  },
  {
   "cell_type": "code",
   "execution_count": null,
   "metadata": {
    "slideshow": {
     "slide_type": "-"
    }
   },
   "outputs": [],
   "source": [
    "using BenchmarkTools\n",
    "N = 10; A = UpperTriangular(rand(N,N)); b = rand(N)\n",
    "print(\"  Our toy code:\" ); @btime backsubstitution($A, $b)\n",
    "print(\"Julia built-in:\" ); @btime ($A\\$b)\n",
    ";"
   ]
  },
  {
   "cell_type": "markdown",
   "metadata": {
    "slideshow": {
     "slide_type": "slide"
    }
   },
   "source": [
    "### Gaussian Elimination\n",
    "\n",
    "We now return to *full* systems, $A x = b$ where $A \\in \\mathbb{F}^{N \\times N}, b \\in \\mathbb{F}^N$. Our goal is to reduce their solution to backsubstitution. This is achieved by performing Gaussian elimination but remembering the operations:\n",
    "\n",
    "#### Example\n",
    "\n",
    "$$\n",
    "\\begin{pmatrix}\n",
    "   3 &  -1 & 2 \\\\ \n",
    "   1 & 2 & 3 \\\\ \n",
    "   2 & -2 & -1 \n",
    "\\end{pmatrix}\n",
    "\\cdot \n",
    "\\begin{pmatrix}\n",
    "  x_1 \\\\ x_2 \\\\ x_3 \n",
    "\\end{pmatrix}\n",
    "= \n",
    "\\begin{pmatrix}\n",
    " 12 \\\\ 11 \\\\ 2 \n",
    "\\end{pmatrix} \n",
    "$$"
   ]
  },
  {
   "cell_type": "markdown",
   "metadata": {
    "slideshow": {
     "slide_type": "subslide"
    }
   },
   "source": [
    "$$\n",
    "\\begin{pmatrix}\n",
    "   3 &  -1 & 2 \\\\ \n",
    "   1 & 2 & 3 \\\\ \n",
    "   2 & -2 & -1 \n",
    "\\end{pmatrix}\n",
    "\\cdot \n",
    "\\begin{pmatrix}\n",
    "  x_1 \\\\ x_2 \\\\ x_3 \n",
    "\\end{pmatrix}\n",
    "= \n",
    "\\begin{pmatrix}\n",
    " 12 \\\\ 11 \\\\ 2 \n",
    "\\end{pmatrix}\n",
    "$$\n",
    "* row[2] $\\leftarrow$ row[2] - $\\frac{1}{3}$ row[1]\n",
    "* row[3] $\\leftarrow$ row[3] - $\\frac{2}{3}$ row[1]"
   ]
  },
  {
   "cell_type": "markdown",
   "metadata": {
    "slideshow": {
     "slide_type": "fragment"
    }
   },
   "source": [
    "$$\n",
    "\\begin{pmatrix}\n",
    "   3 &  -1 & 2 \\\\ \n",
    "   0 & 7/3 & 7/3 \\\\ \n",
    "   0 & -4/3 & -7/3 \n",
    "\\end{pmatrix}\n",
    "\\cdot \n",
    "\\begin{pmatrix}\n",
    "  x_1 \\\\ x_2 \\\\ x_3 \n",
    "\\end{pmatrix}\n",
    "= \n",
    "\\begin{pmatrix}\n",
    " 12 \\\\ 7 \\\\ -6\n",
    "\\end{pmatrix} \n",
    "$$"
   ]
  },
  {
   "cell_type": "markdown",
   "metadata": {
    "slideshow": {
     "slide_type": "subslide"
    }
   },
   "source": [
    "$$\n",
    "\\begin{pmatrix}\n",
    "   3 &  -1 & 2 \\\\ \n",
    "   0 & 7/3 & 7/3 \\\\ \n",
    "   0 & -4/3 & -7/3 \n",
    "\\end{pmatrix}\n",
    "\\cdot \n",
    "\\begin{pmatrix}\n",
    "  x_1 \\\\ x_2 \\\\ x_3 \n",
    "\\end{pmatrix}\n",
    "= \n",
    "\\begin{pmatrix}\n",
    " 12 \\\\ 7 \\\\ -6\n",
    "\\end{pmatrix} \n",
    "$$\n",
    "* row[3] $\\leftarrow$ row[3] + $\\frac{4}{7}$ row[2]"
   ]
  },
  {
   "cell_type": "markdown",
   "metadata": {},
   "source": [
    "$$\n",
    "\\begin{pmatrix}\n",
    "   3 &  -1 & 2 \\\\ \n",
    "   0 & 7/3 & 7/3 \\\\ \n",
    "   0 & 0 & -1 \n",
    "\\end{pmatrix}\n",
    "\\cdot \n",
    "\\begin{pmatrix}\n",
    "  x_1 \\\\ x_2 \\\\ x_3 \n",
    "\\end{pmatrix}\n",
    "= \n",
    "\\begin{pmatrix}\n",
    " 12 \\\\ 7 \\\\ -2\n",
    "\\end{pmatrix} \n",
    "$$\n",
    "We have obtained an upper triangular system which we can now solve via backsubstitution!"
   ]
  },
  {
   "cell_type": "markdown",
   "metadata": {
    "slideshow": {
     "slide_type": "subslide"
    }
   },
   "source": [
    "The Gaussian elimination steps are *linear operations* and can therefore be represented as a matrix multiplication:"
   ]
  },
  {
   "cell_type": "code",
   "execution_count": 15,
   "metadata": {},
   "outputs": [
    {
     "data": {
      "text/plain": [
       "3×3 Array{Int64,2}:\n",
       " 3  -1   2\n",
       " 1   2   3\n",
       " 2  -2  -1"
      ]
     },
     "execution_count": 15,
     "metadata": {},
     "output_type": "execute_result"
    }
   ],
   "source": [
    "A = [ 3 -1  2 \n",
    "      1  2  3 \n",
    "      2 -2 -1 ]"
   ]
  },
  {
   "cell_type": "code",
   "execution_count": 16,
   "metadata": {
    "slideshow": {
     "slide_type": "fragment"
    }
   },
   "outputs": [
    {
     "data": {
      "text/plain": [
       "3×3 Array{Float64,2}:\n",
       " 3.0  -1.0       2.0\n",
       " 0.0   2.33333   2.33333\n",
       " 0.0  -1.33333  -2.33333"
      ]
     },
     "execution_count": 16,
     "metadata": {},
     "output_type": "execute_result"
    }
   ],
   "source": [
    "L1i = [ 1     0 0\n",
    "        -1/3  1 0 \n",
    "        -2/3  0 1 ]\n",
    "\n",
    "L1i * A"
   ]
  },
  {
   "cell_type": "code",
   "execution_count": 17,
   "metadata": {
    "slideshow": {
     "slide_type": "subslide"
    }
   },
   "outputs": [
    {
     "data": {
      "text/plain": [
       "3×3 Array{Float64,2}:\n",
       " 3.0  -1.0       2.0\n",
       " 0.0   2.33333   2.33333\n",
       " 0.0  -1.33333  -2.33333"
      ]
     },
     "execution_count": 17,
     "metadata": {},
     "output_type": "execute_result"
    }
   ],
   "source": [
    "L1i * A"
   ]
  },
  {
   "cell_type": "code",
   "execution_count": 18,
   "metadata": {
    "slideshow": {
     "slide_type": "fragment"
    }
   },
   "outputs": [
    {
     "data": {
      "text/plain": [
       "3×3 Array{Float64,2}:\n",
       " 3.0          -1.0       2.0\n",
       " 0.0           2.33333   2.33333\n",
       " 2.22045e-16   0.0      -1.0"
      ]
     },
     "execution_count": 18,
     "metadata": {},
     "output_type": "execute_result"
    }
   ],
   "source": [
    "L2i = [ 1  0  0 \n",
    "        0  1  0 \n",
    "        0 4/7 1]\n",
    "U = L2i * L1i *  A "
   ]
  },
  {
   "cell_type": "markdown",
   "metadata": {
    "slideshow": {
     "slide_type": "subslide"
    }
   },
   "source": [
    "We are now very close to an LU factorisation: \n",
    "$$\n",
    "   U := L_2^{-1} L_1^{-1} A\n",
    "$$\n",
    "is upper triangular. "
   ]
  },
  {
   "cell_type": "markdown",
   "metadata": {
    "slideshow": {
     "slide_type": "fragment"
    }
   },
   "source": [
    "Now observe that \n",
    "$$\n",
    "\\begin{pmatrix}\n",
    "    1 &  &  \\\\ \n",
    "    -l_{21} & 1 &  \\\\ \n",
    "    -l_{31}  & 0 &  1 \n",
    "\\end{pmatrix}^{-1} \n",
    "= \n",
    "\\begin{pmatrix}\n",
    "    1 &  &  \\\\ \n",
    "    l_{21} & 1 &  \\\\ \n",
    "    l_{31}  & 0 &  1 \n",
    "\\end{pmatrix} \n",
    "$$\n",
    "and analogously for all $L_n^{-1}$-matrices. True for allLT matrices with 1s on diagonal"
   ]
  },
  {
   "cell_type": "markdown",
   "metadata": {
    "slideshow": {
     "slide_type": "subslide"
    }
   },
   "source": [
    "Take $L = L_1 L_2 = (L_2^{-1} L_1^{-1})^{-1}$ then we have \n",
    "$$ \n",
    "  L = \n",
    "\\begin{pmatrix}\n",
    "    1 &  &  \\\\ \n",
    "    l_{21} & 1 &  \\\\ \n",
    "    l_{31}  & 0 &  1 \n",
    "\\end{pmatrix}\n",
    "\\cdot \n",
    "\\begin{pmatrix}\n",
    "    1 &  &  \\\\ \n",
    "    0 & 1 &  \\\\ \n",
    "    0  & l_{32} &  1 \n",
    "\\end{pmatrix}\n",
    "= \n",
    "\\begin{pmatrix}\n",
    "    1 &  &  \\\\ \n",
    "    l_{21} & 1 &  \\\\ \n",
    "    l_{31}  & l_{32} &  1 \n",
    "\\end{pmatrix}\n",
    "$$"
   ]
  },
  {
   "cell_type": "code",
   "execution_count": 20,
   "metadata": {
    "slideshow": {
     "slide_type": "fragment"
    }
   },
   "outputs": [
    {
     "data": {
      "text/plain": [
       "3×3 Array{Float64,2}:\n",
       " 1.0        0.0       0.0\n",
       " 0.333333   1.0       0.0\n",
       " 0.666667  -0.571429  1.0"
      ]
     },
     "execution_count": 20,
     "metadata": {},
     "output_type": "execute_result"
    }
   ],
   "source": [
    "Li =  L2i * L1i \n",
    "L = inv(Li)"
   ]
  },
  {
   "cell_type": "code",
   "execution_count": 21,
   "metadata": {
    "slideshow": {
     "slide_type": "fragment"
    }
   },
   "outputs": [
    {
     "data": {
      "text/plain": [
       "3×3 Array{Float64,2}:\n",
       " 0.0  0.0  0.0\n",
       " 0.0  0.0  0.0\n",
       " 0.0  0.0  0.0"
      ]
     },
     "execution_count": 21,
     "metadata": {},
     "output_type": "execute_result"
    }
   ],
   "source": [
    "# check that we haven't made a mess! -> now, we have an LU factorisation\n",
    "L * U - A"
   ]
  },
  {
   "cell_type": "markdown",
   "metadata": {
    "slideshow": {
     "slide_type": "slide"
    }
   },
   "source": [
    "## LU Factorisation \n",
    "\n",
    "**Theorem:** If $A$ is non-singular then there exist\n",
    "* a permuation matrix $P$ \n",
    "* a lower triangular matrix $L$\n",
    "* and an upper triangular matrix $U$\n",
    "such that \n",
    "$$\n",
    "    P A = LU\n",
    "$$\n",
    "\n",
    "*Proof:* see e.g. Süli & Mayers, §4.2. "
   ]
  },
  {
   "cell_type": "markdown",
   "metadata": {
    "slideshow": {
     "slide_type": "subslide"
    }
   },
   "source": [
    "### Why the Permutation Matrix?\n",
    "\n",
    "To prevent division by zero \n",
    "$$ \n",
    "   A = \n",
    "   \\begin{pmatrix}\n",
    "       0 & b \\\\ \n",
    "       a & c\n",
    "   \\end{pmatrix}\n",
    "$$\n",
    "Cannot eliminate $a_{21}$. Instead: \n",
    "$$ \n",
    "   P A = \n",
    "   \\begin{pmatrix}\n",
    "       0 & 1 \\\\ \n",
    "       1 & 0\n",
    "   \\end{pmatrix}\n",
    "    \\cdot \n",
    "   \\begin{pmatrix}\n",
    "       0 & b \\\\ \n",
    "       a & c\n",
    "   \\end{pmatrix}\n",
    "    = \n",
    "   \\begin{pmatrix}\n",
    "       a & c \\\\ \n",
    "       0 & b\n",
    "   \\end{pmatrix}   \n",
    "$$\n",
    "This is called (partial) *pivoting*! The matrix $P$ is never stored, this is just a convenient way to write permutations in the language of linear algebra.  (See also *complete pivoting* which is almost never used!)"
   ]
  },
  {
   "cell_type": "markdown",
   "metadata": {
    "slideshow": {
     "slide_type": "subslide"
    }
   },
   "source": [
    "... but also for numerical stability. (cf. Workshops!) E.g. if \n",
    "$$\n",
    "   A = \n",
    "   \\begin{pmatrix}\n",
    "       \\epsilon & b \\\\ \n",
    "       a & c\n",
    "   \\end{pmatrix}\n",
    "$$\n",
    "Then \n",
    "$$\n",
    "    L = \n",
    "   \\begin{pmatrix}\n",
    "       1 & 0 \\\\ \n",
    "       a/\\epsilon & 1\n",
    "   \\end{pmatrix},\n",
    "    \\qquad \\qquad\n",
    "    U = \n",
    "   \\begin{pmatrix}\n",
    "       \\epsilon & b \\\\ \n",
    "        0 & c - v/\\epsilon\n",
    "   \\end{pmatrix}    \n",
    "$$"
   ]
  },
  {
   "cell_type": "markdown",
   "metadata": {
    "slideshow": {
     "slide_type": "subslide"
    }
   },
   "source": [
    "But with pivoting: (assuming $a \\gg \\epsilon$)\n",
    "$$ \n",
    "    P = \n",
    "   \\begin{pmatrix}\n",
    "       0 & 1 \\\\ \n",
    "       1 & 0\n",
    "    \\end{pmatrix},\n",
    "    \\qquad \\qquad \n",
    "    %\n",
    "    L = \n",
    "   \\begin{pmatrix}\n",
    "       1 & 0 \\\\ \n",
    "       \\epsilon/a & 1\n",
    "    \\end{pmatrix},    \n",
    "    %\n",
    "    \\qquad \\qquad \n",
    "    U = \n",
    "   \\begin{pmatrix}\n",
    "       a & c \\\\ \n",
    "       0 & b - c/a\n",
    "    \\end{pmatrix}.\n",
    "$$"
   ]
  },
  {
   "cell_type": "markdown",
   "metadata": {
    "slideshow": {
     "slide_type": "slide"
    }
   },
   "source": [
    "### Sparse matrices\n",
    "\n",
    "**Loose Definition:** A matrix $A \\in \\mathbb{F}^{N \\times M}$ is called *sparse* if the number of non-zero entries is much smaller than $NM$. We will encounter sparse matrices when we cover PDEs, but see also [Sparse Arrays Documentation](https://docs.julialang.org/en/v1/stdlib/SparseArrays/)\n",
    "\n",
    "For example, in our opening lecture we enountered the tri-diagonal matrices\n",
    "$$\n",
    "    A = \n",
    "    \\begin{pmatrix} \n",
    "        a_{11} & a_{12} &   &  & & \\\\ \n",
    "        a_{21} & a_{22} & a_{23} & &  & \\\\ \n",
    "               & a_{32} & a_{33} & a_{34}  &   &  \\\\ \n",
    "               &        &  \\ddots & \\ddots & \\ddots & \n",
    "    \\end{pmatrix}\n",
    "$$\n",
    "In this case the $A = LU$ factorisation can be performed in $O(N)$ operations as long as no pivoting is required! (see exercises/workshops)\n",
    "\n",
    "This is a special case of [*banded matrices*](https://en.wikipedia.org/wiki/Band_matrix); see also [BandedMatrices.jl](https://github.com/JuliaMatrices/BandedMatrices.jl)."
   ]
  },
  {
   "cell_type": "markdown",
   "metadata": {
    "slideshow": {
     "slide_type": "slide"
    }
   },
   "source": [
    "### Conditioning \n",
    "\n",
    "We consider again a linear system \n",
    "$$ \n",
    " A x = b \n",
    "$$\n",
    "But let us now assume that the right-hand side $b$ has an error, i.e. the \"real\" system which we don't know is \n",
    "$$\n",
    " A \\tilde{x} = \\tilde{b}\n",
    "$$\n",
    "How close are $x$ and $\\tilde{x}$?"
   ]
  },
  {
   "cell_type": "markdown",
   "metadata": {
    "slideshow": {
     "slide_type": "fragment"
    }
   },
   "source": [
    "First things first: What do we mean by \"close\"? There is no single correct definition, it is problem-dependent. But in the absence of a specific problem, in our general setting let us just assume that there is some norm $\\|\\cdot\\|$ defined on $\\mathbb{F}^N$. Then we can ask how large is the error $\\| x - \\tilde{x}\\|$? "
   ]
  },
  {
   "cell_type": "markdown",
   "metadata": {
    "slideshow": {
     "slide_type": "subslide"
    }
   },
   "source": [
    "$$\\begin{aligned}\n",
    "    A (x - \\tilde x) &= b - \\tilde b \\\\ \n",
    "    \\| x -  \\tilde x \\| &= \\| A^{-1} (b -  \\tilde b) \\| \n",
    "\\end{aligned}$$\n",
    "\n",
    "But this is too explicit; we want something more generic ... "
   ]
  },
  {
   "cell_type": "markdown",
   "metadata": {
    "slideshow": {
     "slide_type": "fragment"
    }
   },
   "source": [
    "The matrix-norm: \n",
    "$$ \n",
    "    \\| A \\| := \\sup_{x \\neq 0} \\frac{ \\| A x \\|}{\\|x\\|} \n",
    "         = \\sup_{\\|x \\| =  1} \\|Ax\\|\n",
    "$$"
   ]
  },
  {
   "cell_type": "markdown",
   "metadata": {
    "slideshow": {
     "slide_type": "fragment"
    }
   },
   "source": [
    "Then we obtain \n",
    "$$\n",
    "    \\| x - \\tilde x\\| \\leq \\| A^{-1} \\| \\| b - \\tilde b\\|\n",
    "$$ "
   ]
  },
  {
   "cell_type": "markdown",
   "metadata": {
    "slideshow": {
     "slide_type": "subslide"
    }
   },
   "source": [
    "Now the relative error:  $A \\tilde x = \\tilde b$, \n",
    "$$ \n",
    "    \\| \\tilde b \\| \\leq \\|A \\| \\, \\|\\tilde x \\| \n",
    "$$"
   ]
  },
  {
   "cell_type": "markdown",
   "metadata": {
    "slideshow": {
     "slide_type": "fragment"
    }
   },
   "source": [
    "$$\n",
    "    \\frac{\\| x - \\tilde x\\|}{\\|\\tilde x \\|} \\leq \\frac{\\| A^{-1} \\| \\| b - \\tilde b\\|}{ \\| \\tilde x \\| }\n",
    "    \\leq \\| A \\| \\, \\| A^{-1} \\| \\frac{\\|b - \\tilde b \\|}{\\| \\tilde b\\|}.\n",
    "$$ "
   ]
  },
  {
   "cell_type": "markdown",
   "metadata": {
    "slideshow": {
     "slide_type": "fragment"
    }
   },
   "source": [
    "**Definition:** $\\kappa(A) := \\|A\\| \\| A^{-1} \\|$. Note that this definition is norm-dependent. If a norm is not explicitly specified then we normally understand $\\|\\cdot\\| = \\|\\cdot\\|_2$\n",
    "\n",
    "**Proposition:** \n",
    "$$ \n",
    "        \\frac{\\| x - \\tilde x\\|}{\\|\\tilde x \\|} \\leq \n",
    "        \\kappa(A) \n",
    "        \\frac{\\|b - \\tilde b \\|}{\\| \\tilde b\\|}\n",
    "$$\n",
    "\n",
    "In Julia we can use the function `cond` to compute the condition number. "
   ]
  },
  {
   "cell_type": "markdown",
   "metadata": {
    "slideshow": {
     "slide_type": "slide"
    }
   },
   "source": [
    "## Other Useful Factorisations\n",
    "\n",
    "* Cholesky Factorisations: $A = L L^*$ for hermitian positive definite matrices  (Julia: `cholesky`)\n",
    "* LDL factorisation: $A = L D L^*$ for hermitian matrices (Julia: `ldlt`)\n",
    "* QR factorisation: $A = Q R$ with $Q$ orthogonal, $R$ upper triangular, for solving least-squares systems (Julia: `qr`)\n",
    "* singular value decomposition: $A = U \\Sigma V^*$  (Julia: `svd`) \n",
    "* eigen decomposition: $A = V \\Lambda V^{-1}$  (Julia: `eigen`)\n",
    "\n",
    "[... and many others ...](https://en.wikipedia.org/wiki/Matrix_decomposition)"
   ]
  },
  {
   "cell_type": "markdown",
   "metadata": {
    "slideshow": {
     "slide_type": "slide"
    }
   },
   "source": [
    "### Quick Review of the Eigendecomposition\n",
    "\n",
    "Let $A \\in \\mathbb{C}^{N \\times N}$ then with say $(\\lambda, v) \\in \\mathbb{C} \\times \\mathbb{C}^N$ is an eigen-pair (eigenvalue, eigenvector) of $A$ if \n",
    "\n",
    "$$\n",
    "    A v = \\lambda v\n",
    "$$\n",
    "\n",
    "The set of eigenvalues is called the spectrum of $A$ and denoted $\\sigma(A)$."
   ]
  },
  {
   "cell_type": "markdown",
   "metadata": {
    "slideshow": {
     "slide_type": "subslide"
    }
   },
   "source": [
    "* If $(\\lambda_i, v_i)$ are eigenpairs and $\\lambda_i$ distinct, then the $v_i$ are linearly independent.\n",
    "* In particular if $A$ has $N$ distinct eigenvalues, $\\lambda_1, \\dots, \\lambda_N$ then \n",
    "$$\n",
    "    A = V \\Lambda V^{-1}, \\qquad \\Lambda = {\\rm diag}(\\lambda_i), \\quad V = [v_1 \\dots v_N].\n",
    "$$\n",
    "This is called the eigendecomposition. \n",
    "\n",
    "In general, if there exists an invertible $V \\in \\mathbb{C}^{N \\times N}$ and a diagonal $\\Lambda$ such that $A = V \\Lambda V^{-1}$ then we say that $A$ is diagonalisable."
   ]
  },
  {
   "cell_type": "code",
   "execution_count": 2,
   "metadata": {
    "slideshow": {
     "slide_type": "subslide"
    }
   },
   "outputs": [
    {
     "ename": "LoadError",
     "evalue": "UndefVarError: eigen not defined",
     "output_type": "error",
     "traceback": [
      "UndefVarError: eigen not defined",
      "",
      "Stacktrace:",
      " [1] top-level scope at In[2]:2",
      " [2] include_string(::Function, ::Module, ::String, ::String) at ./loading.jl:1091"
     ]
    }
   ],
   "source": [
    "A = rand(100, 100)\n",
    "F = eigen(A)\n",
    "# extract the first eigenpair\n",
    "λ1 = F.values[1]\n",
    "v1 = F.vectors[:,1]\n",
    "norm(A * v1 - λ1 * v1)"
   ]
  },
  {
   "cell_type": "code",
   "execution_count": 1,
   "metadata": {
    "slideshow": {
     "slide_type": "fragment"
    }
   },
   "outputs": [
    {
     "ename": "LoadError",
     "evalue": "UndefVarError: F not defined",
     "output_type": "error",
     "traceback": [
      "UndefVarError: F not defined",
      "",
      "Stacktrace:",
      " [1] top-level scope at In[1]:2",
      " [2] include_string(::Function, ::Module, ::String, ::String) at ./loading.jl:1091"
     ]
    }
   ],
   "source": [
    "# Or we can compute A * V - V * Λ\n",
    "norm(A * F.vectors - F.vectors * Diagonal(F.values))"
   ]
  },
  {
   "cell_type": "markdown",
   "metadata": {
    "slideshow": {
     "slide_type": "subslide"
    }
   },
   "source": [
    "We will often encounter real symmetric matrices, which have a very nice property: \n",
    "\n",
    "**Proposition:** \n",
    "* If $A \\in \\mathbb{R}^{N \\times N}$ is symmetric, or $A \\in \\mathbb{C}^{N \\times N}$ is hermitian, then $A$ has real eigenvalues and orthogonal eigenvectors. \n",
    "* Equivalently, $A = Q \\Lambda Q^T$ with $\\Lambda = {\\rm diag}(\\lambda_i)$, $\\lambda_i \\in \\mathbb{R}$ and $Q^T Q = Q Q^T = I$.\n",
    "* Equivalently, there exists an orthonormal basis $\\{q_n\\}$ of $\\mathbb{R}^N$ and $\\lambda_n \\in \\mathbb{R}$ such that \n",
    " $$\n",
    "     A = \\sum_{n = 1}^N \\lambda_n q_n q_n^*\n",
    " $$\n",
    " \n",
    " Proof: see recorded lecture"
   ]
  },
  {
   "cell_type": "markdown",
   "metadata": {
    "slideshow": {
     "slide_type": "fragment"
    }
   },
   "source": [
    "**Definition:** More generally we call a matrix $A \\in \\mathbb{C}^{N \\times N}$ *normal* if $A = Q \\Lambda Q^*$ with $\\Lambda$ complex diagonal and $Q^* Q = Q Q^* = I$; i.e., if it has a (complex) orthonormal eigenbasis (the columns of $Q$)"
   ]
  },
  {
   "cell_type": "code",
   "execution_count": 4,
   "metadata": {
    "slideshow": {
     "slide_type": "subslide"
    }
   },
   "outputs": [
    {
     "name": "stdout",
     "output_type": "stream",
     "text": [
      "σ = [-1.98, -1.51, -1.1, -0.85, -0.03, -0.0, 0.58, 0.98, 1.78, 9.87]\n",
      "||QQ' - I|| = 2.311800325368522e-14\n"
     ]
    }
   ],
   "source": [
    "A = rand(10, 10)\n",
    "A = A + A' \n",
    "F = eigen(A)\n",
    "println(\"σ = \", round.(F.values, digits=2))\n",
    "println(\"||QQ' - I|| = \", norm(F.vectors * F.vectors' - I))"
   ]
  },
  {
   "cell_type": "markdown",
   "metadata": {
    "slideshow": {
     "slide_type": "subslide"
    }
   },
   "source": [
    "**Applications:**\n",
    "\n",
    "Let $A \\in \\mathbb{C}^{N \\times N}$ normal, $A = Q \\Lambda Q^T$, then \n",
    "* $A^{-1} = Q \\Lambda^{-1} Q^T$ \n",
    "* $\\| A \\| = \\max_n |\\lambda_n|$  (cf exercise)\n",
    "* $\\| A^{-1} \\| = \\max_n |\\lambda_n^{-1}| = (\\min_n |\\lambda_n|)^{-1}$ \n",
    "* So for the condition number we get \n",
    "$$\n",
    "    \\kappa(A) = \\frac{\\max_n |\\lambda_n|}{\\min_n |\\lambda_n|}\n",
    "$$\n",
    "$\\kappa = || A || \\,|| A^{-1} ||$"
   ]
  },
  {
   "cell_type": "markdown",
   "metadata": {
    "slideshow": {
     "slide_type": "fragment"
    }
   },
   "source": [
    "Operator norm $\\|A\\| = \\max_{\\|x\\|_2 = 1}\\|Ax\\|_2$\n",
    "\n",
    "Think about it as the the maximum amount of scaling for any unit vector"
   ]
  }
 ],
 "metadata": {
  "@webio": {
   "lastCommId": null,
   "lastKernelId": null
  },
  "author": "x",
  "celltoolbar": "Slideshow",
  "kernelspec": {
   "display_name": "Julia 1.5.1",
   "language": "julia",
   "name": "julia-1.5"
  },
  "language_info": {
   "file_extension": ".jl",
   "mimetype": "application/julia",
   "name": "julia",
   "version": "1.5.1"
  },
  "latex_envs": {
   "LaTeX_envs_menu_present": true,
   "autoclose": false,
   "autocomplete": true,
   "bibliofile": "biblio.bib",
   "cite_by": "apalike",
   "current_citInitial": 1,
   "eqLabelWithNumbers": true,
   "eqNumInitial": 1,
   "hotkeys": {
    "equation": "Ctrl-E",
    "itemize": "Ctrl-I"
   },
   "labels_anchors": false,
   "latex_user_defs": false,
   "report_style_numbering": false,
   "user_envs_cfg": false
  }
 },
 "nbformat": 4,
 "nbformat_minor": 4
}
