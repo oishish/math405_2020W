{
 "cells": [
  {
   "cell_type": "markdown",
   "metadata": {
    "slideshow": {
     "slide_type": "slide"
    }
   },
   "source": [
    "# MATH 405/607 \n",
    "\n",
    "# Numerical Methods for Differential Equations\n",
    "\n",
    "[[Instructor: Christoph Ortner]](http://www.math.ubc.ca/~ortner/)  [[CANVAS]](https://canvas.ubc.ca/courses/55324)\n",
    "\n",
    "\n",
    "## IVPs Part 3: Hamiltonian Systems\n",
    "\n",
    "* Hamiltonian Systems, conservation of energy \n",
    "* Symplectic Euler methods\n",
    "* Outlook: Symplectic integrators"
   ]
  },
  {
   "cell_type": "code",
   "execution_count": null,
   "metadata": {
    "slideshow": {
     "slide_type": "slide"
    }
   },
   "outputs": [],
   "source": [
    "include(\"../math405.jl\")\n",
    "\n",
    "euler_step(u, f, h) = u + h * f(u)\n",
    "\n",
    "function implicit_euler_step(u, f, h; nnewton=5, \n",
    "                             df = u_ -> ForwardDiff.jacobian(f, u_))\n",
    "    u1 = u\n",
    "    for n = 1:nnewton # unew - uold - h * f(unew) = 0\n",
    "        u1 -= (I - h * df(u1)) \\ (u1 - u - h * f(u1))\n",
    "    end        \n",
    "    return u1 \n",
    "end\n",
    "\n",
    "function rk4_step(u, f, h)\n",
    "    k1 = h * f(u)\n",
    "    k2 = h * f(u + 0.5 * k1)\n",
    "    k3 = h * f(u + 0.5 * k2)\n",
    "    k4 = h * f(u + k3)\n",
    "    return u + k1/6 + k2/3 + k3/3 + k4/6\n",
    "end\n",
    "\n",
    "euler_method(f, u0, h, Tf) = _iterate(f, u0, h, Tf, euler_step)\n",
    "\n",
    "implicit_euler_method(f, u0, h, Tf; kwargs...) = _iterate(f, u0, h, Tf, implicit_euler_step; kwargs...)\n",
    "\n",
    "function _iterate(f, u0, h, Tf, stepper; kwargs...)\n",
    "    t = 0:h:Tf\n",
    "    U = zeros(length(u0), length(t))\n",
    "    U[:, 1] = u0\n",
    "    for n = 2:length(t)\n",
    "        U[:, n] = stepper(U[:,n-1], f, h; kwargs...)\n",
    "    end \n",
    "    return U, t\n",
    "end         "
   ]
  },
  {
   "cell_type": "markdown",
   "metadata": {
    "slideshow": {
     "slide_type": "slide"
    }
   },
   "source": [
    "### N-Body Problem\n",
    "\n",
    "Point particles at positions ${\\bf r}_i$ with masses $m_i$\n",
    "$$\n",
    "    m_i \\ddot{\\bf r}_i = \\sum_{j \\neq i} \\frac{G m_i m_j ({\\bf r}_i - {\\bf r}_j)}{|{\\bf r}_i - {\\bf r}_j|^3}\n",
    "$$"
   ]
  },
  {
   "cell_type": "code",
   "execution_count": null,
   "metadata": {
    "slideshow": {
     "slide_type": "fragment"
    }
   },
   "outputs": [],
   "source": [
    "u2rv(u) = (n = length(u)÷4; (reshape(u[1:2*n], (2, n)), reshape(u[2*n+1:end], (2, n))))\n",
    "rv2u(r, v) = [r v][:]\n",
    "\n",
    "function nbody_accel(r, G, m)\n",
    "    a = zeros(eltype(r), 2, n)\n",
    "    for i = 1:n, j = 1:n\n",
    "        i == j && continue\n",
    "        r_ij = r[:,j] - r[:,i]\n",
    "        a[:, i] += r_ij * G * m[j] / norm(r_ij)^3\n",
    "    end\n",
    "    return a \n",
    "end \n",
    "\n",
    "function nbody(u, G, m)\n",
    "    r, v = u2rv(u)\n",
    "    a = nbody_accel(r, G, m)\n",
    "    return [ v a ][:]\n",
    "end"
   ]
  },
  {
   "cell_type": "markdown",
   "metadata": {
    "slideshow": {
     "slide_type": "subslide"
    }
   },
   "source": [
    "\n",
    "|   Sun       |   Earth     |  Mercury   |   Mars       |   Venus      |\n",
    "|-------------|-------------|------------|--------------|--------------|\n",
    "| 1.989e30 kg | 5.972e24 kg | 3.30e23 kg | 6.4219e23 kg | 4.869e24 kg  |\n",
    "|   0 AU      |   1 AU      |  0.38 AU   |   1.52 AU    |   0.72 AU    |\n"
   ]
  },
  {
   "cell_type": "code",
   "execution_count": null,
   "metadata": {
    "slideshow": {
     "slide_type": "-"
    }
   },
   "outputs": [],
   "source": [
    "# Masses of bodies; non-dimensionalize!\n",
    "m = [1.989e30, 5.972e24, 3.30e23, 6.4219e23, 4.869e24]\n",
    "m /= sum(m)\n",
    "n = length(m)\n",
    "# Gravitational constant (non-dimensionalize!)\n",
    "G = 1.0\n",
    "\n",
    "# effective force\n",
    "f = u->nbody(u, G, m)\n",
    "\n",
    "# Initial values for position and velocity properly scaled\n",
    "r = [0 1 0.38 1.52 0.72 \n",
    "     0 0 0    0    0 ]\n",
    "v = [ zeros(1,n); \n",
    "      [ [0.0]; sqrt.(G ./ r[1,2:end]) ]'  ]\n",
    "\n",
    "# initial condition provided in a long vector\n",
    "u0 = rv2u(r, v)\n",
    ";"
   ]
  },
  {
   "cell_type": "code",
   "execution_count": null,
   "metadata": {
    "slideshow": {
     "slide_type": "subslide"
    }
   },
   "outputs": [],
   "source": [
    "function plot_nbody(U; kwargs...)\n",
    "    r, _ = u2rv(U)\n",
    "    scatter(r[1,:]', r[2,:]', ms=5, xlims = (-2.5, 2.5), ylims = (-2.5, 2.5), label = \"\"; kwargs...)\n",
    "end\n",
    "\n",
    "h = 0.02\n",
    "Ue = u0; Ui = u0 \n",
    "# for time = 1:10\n",
    "while true\n",
    "    Ue = euler_step(Ue, f, h)\n",
    "    Ui = implicit_euler_step(Ui, f, h)\n",
    "    plot( plot_nbody(Ue, title = \"Exlicit Euler\", show=false), \n",
    "          plot_nbody(Ui, title = \"Implicit Euler\", show=false), size = (600, 300), show=:ijulia)\n",
    "end\n",
    "IJulia.clear_output()"
   ]
  },
  {
   "cell_type": "markdown",
   "metadata": {
    "slideshow": {
     "slide_type": "subslide"
    }
   },
   "source": [
    "![](http://cse.ssl.berkeley.edu/bmendez/ay10/2002/notes/pics/bt2lfS314_a.jpg)"
   ]
  },
  {
   "cell_type": "markdown",
   "metadata": {
    "slideshow": {
     "slide_type": "subslide"
    }
   },
   "source": [
    "What is the mechanism for planets to remain in orbit? **Conservation of Energy**. For a general Hamiltonian system (I'm just ignoring masses here) we have \n",
    "\n",
    "$$\\begin{aligned}\n",
    "   \\dot{q} &= p \\\\ \n",
    "   \\dot{p} &= - \\nabla V(q)\n",
    "\\end{aligned}$$\n",
    "\n",
    "The *Hamiltonian* (kinetic + potential E) is \n",
    "$$ \n",
    "   H(q, p) = \\frac{1}{2} |p|^2 + V(q)\n",
    "$$"
   ]
  },
  {
   "cell_type": "markdown",
   "metadata": {
    "slideshow": {
     "slide_type": "fragment"
    }
   },
   "source": [
    "And $H$ is conserved along trajectories: \n",
    "$$\\begin{aligned}\n",
    "    \\frac{d}{dt} H(q, p) &= p \\cdot \\dot{p} + \\nabla V(q) \\cdot \\dot{q} \\\\ \n",
    "    &= - p \\cdot \\nabla V(q) + \\nabla V(q) \\cdot p = 0\n",
    "\\end{aligned}$$"
   ]
  },
  {
   "cell_type": "markdown",
   "metadata": {
    "slideshow": {
     "slide_type": "subslide"
    }
   },
   "source": [
    "* Because we make numerical errors it its no surprise that $H$ is not preserved along trajectories of the two Euler methods.\n",
    "* But the result is more catastrophic than we might have anticipated.\n",
    "* We can of course alleviate this by taking a method with higher accuracy!"
   ]
  },
  {
   "cell_type": "code",
   "execution_count": null,
   "metadata": {
    "slideshow": {
     "slide_type": "fragment"
    }
   },
   "outputs": [],
   "source": [
    "# recall the RK4 method! A fourth-order RK method, with a nice stability region!\n",
    "Plots.pyplot()\n",
    "mult_e   = z -> 1+z\n",
    "mult_ie  = z -> 1 + z + z^2/2\n",
    "mult_rk4 = z -> 1 + z + z^2/2 + z^3/6 + z^4/24 \n",
    "plt = MATH405.levelset([-3.5,1.5], [-3.5, 3.5], [ (x, y) -> abs(mult(x + im * y)) for mult in [mult_rk4, mult_ie, mult_e] ],\n",
    "                       1.0, xy=true, fill=true, label = (\"RK4\", \"Improved Euler\", \"Euler\"), \n",
    "                       legend = :outertopright, size = (380, 300))"
   ]
  },
  {
   "cell_type": "code",
   "execution_count": null,
   "metadata": {
    "slideshow": {
     "slide_type": "subslide"
    }
   },
   "outputs": [],
   "source": [
    "Plots.gr()\n",
    "h = 0.1\n",
    "U = u0\n",
    "# for time = 1:10 \n",
    "while true \n",
    "    U = rk4_step(U, f, h)\n",
    "    plot_nbody(U, title = \"RK4\", size = (300,300), show = :ijulia)\n",
    "    sleep(0.02)\n",
    "end\n",
    "IJulia.clear_output();"
   ]
  },
  {
   "cell_type": "markdown",
   "metadata": {
    "slideshow": {
     "slide_type": "slide"
    }
   },
   "source": [
    "### The Quadratic Case\n",
    "\n",
    "Time for a toy model. Let's consider a linear oscillator, in fact let's consider the simplest linear oscillator, \n",
    "$$ \n",
    "\\ddot{r} = - c r\n",
    "$$\n",
    "or equivalently \n",
    "$$\\begin{aligned}\n",
    "      \\dot{r} &= v \\\\ \n",
    "      \\dot{v} &= - c r\n",
    "\\end{aligned}$$\n",
    "(We use the $c$ only to visually separate position and momentum min the equations...) The conserved Hamiltonian is \n",
    "$$ \n",
    "    H = \\frac12 v^2 + \\frac{c}{2} r^2.\n",
    "$$\n",
    "The trajectories are the ellipsi given by level-sets of $H$."
   ]
  },
  {
   "cell_type": "code",
   "execution_count": null,
   "metadata": {
    "slideshow": {
     "slide_type": "subslide"
    }
   },
   "outputs": [],
   "source": [
    "harmosc(u, c=1.0) = [u[2], - c * u[1]]\n",
    "u0 = [1.0, 0.0]\n",
    "h = 0.1\n",
    "Tf = 6 * π\n",
    "\n",
    "Ue, te = euler_method(harmosc, u0, h, Tf)\n",
    "Ui, ti = implicit_euler_method(harmosc, u0, h, Tf, nnewton=1)\n",
    "\n",
    "plot(cos, sin, 0, 2*π, lw=5, label = \"exact orbit\", size = (300,300))\n",
    "scatter!(Ue[1,:], Ue[2,:], label = \"Euler\")\n",
    "plt = scatter!(Ui[1,:], Ui[2,:], label = \"Implicit Euler\")"
   ]
  },
  {
   "cell_type": "markdown",
   "metadata": {
    "slideshow": {
     "slide_type": "subslide"
    }
   },
   "source": [
    "So what we see is that $H(U_n) = H(R_n, V_n)$ is *increasing* for the Euler method and *decreasing* for the implicit Euler method. I.e. the two Euler methods, respectively, \"create\" and \"dissipate\" energy. With a bit of algebra this can easily be proven: \n",
    "\n",
    "**Proposition:** Consider the harmonic oscillator with hamiltonian $H = \\frac12 v^2 + \\frac{c}{2} r^2$, and let $H_n = H(U_n) = H(R_n, V_n)$ the hamiltonian value at the nth step of the Euler method, then \n",
    "\n",
    "$$\n",
    "    H_{n+1} - H_n \n",
    "    =\n",
    "    \\begin{cases}\n",
    "        c h^2 H_n, & \\text{Euler method}  \\\\\n",
    "        - c h^2 H_{n+1}, & \\text{Implicit Euler method} \n",
    "    \\end{cases}\n",
    "$$\n",
    "\n",
    "**Proof:** direct calculation; cf exercise."
   ]
  },
  {
   "cell_type": "markdown",
   "metadata": {
    "slideshow": {
     "slide_type": "subslide"
    }
   },
   "source": [
    "Is the situation hopeless? No. We can get a lot of intuition from the theory of Hamiltonian systems, such as preservation of phase-space volume, time-reversibility, etc, and this would quite naturally lead to some new method. This would go a bit beyond this course though and so for the purposes of this lecture let us introduce an Euler method with a \"bug\": "
   ]
  },
  {
   "cell_type": "code",
   "execution_count": null,
   "metadata": {
    "slideshow": {
     "slide_type": "fragment"
    }
   },
   "outputs": [],
   "source": [
    "\"\"\"\n",
    "In this code `f` denotes the physical force and not the \n",
    "RHS in the hamiltonian dynamical system!\n",
    "\"\"\"\n",
    "function eulerA_step(u, f, h)   \n",
    "    n = length(u) ÷ 2\n",
    "    r, v = u[1:n], u[n+1:end]\n",
    "    r = r + h * v \n",
    "    v = v - h * f(r)\n",
    "    return rv2u(r, v)\n",
    "end\n",
    "\n",
    "eulerA_method(f, u0, h, Tf) = _iterate(f, u0, h, Tf, eulerA_step)"
   ]
  },
  {
   "cell_type": "code",
   "execution_count": null,
   "metadata": {
    "slideshow": {
     "slide_type": "subslide"
    }
   },
   "outputs": [],
   "source": [
    "Ua, ta = eulerA_method(r -> r, [1.0,0.0], 0.1, 6*π) \n",
    "scatter!(plt, Ua[1,:], Ua[2,:], label = \"Euler-A\", xlims=(-2.5, 2.5), ylims = (-2.5, 2.5));"
   ]
  },
  {
   "cell_type": "markdown",
   "metadata": {},
   "source": [
    "Perfect Energy conservation! (Or is it?)"
   ]
  },
  {
   "cell_type": "code",
   "execution_count": null,
   "metadata": {
    "slideshow": {
     "slide_type": "subslide"
    }
   },
   "outputs": [],
   "source": [
    "He, Hi, Ha = tuple([ [ 0.5*norm(u)^2 for u in eachcol(U) ] for U in (Ue, Ui, Ua) ]...)\n",
    "plot(te, He, yaxis = :log10, lw=3, label = \"Explicit Euler\", size = (500, 200), legend = :topleft)\n",
    "plot!(ti, Hi, label = \"Implicit Euler\", lw=3, xlabel = \"t\", ylabel = \"H(t)\")\n",
    "plot!(ta, Ha, label = \"Euler-A\", lw=3)"
   ]
  },
  {
   "cell_type": "markdown",
   "metadata": {
    "slideshow": {
     "slide_type": "subslide"
    }
   },
   "source": [
    "### Euler-A Method\n",
    "\n",
    "Hamiltonian System:\n",
    "$$\\begin{aligned}\n",
    "   \\dot{q} &= p \\\\ \n",
    "   \\dot{p} &= - \\nabla V(q)\n",
    "\\end{aligned}$$\n",
    "\n",
    "\n",
    "Euler-A method:\n",
    "$$\\begin{aligned}\n",
    "      q_{n+1} &= q_n + h p_n \\\\ \n",
    "      p_{n+1} &= p_n - \\nabla V(q_{n+1})\n",
    "\\end{aligned}$$"
   ]
  },
  {
   "cell_type": "markdown",
   "metadata": {
    "slideshow": {
     "slide_type": "subslide"
    }
   },
   "source": [
    "**Proposition:** Consider the harmonic oscillator with hamiltonian $H = \\frac12 v^2 + \\frac{c}{2} r^2$, and let \n",
    "$$\n",
    "    H_n^A(h) = H(V_n, R_n) + \\frac{c h}{2} V_n R_n\n",
    "$$ \n",
    "be the *Shadow Hamiltonian* for the Euler-A method, then \n",
    "$$\n",
    "    H_{n+1}^A(h) = H_n^A(h)\n",
    "$$\n",
    "I.e. the Shadow Hamiltonian is conserved! In particular, for $h$ sufficiently small \n",
    "$$ \n",
    "    |H_n - H_0| \\leq C h.\n",
    "$$\n",
    "i.e. the exact Hamiltonian is conserved to within an $O(h)$ error.\n",
    "\n",
    "**Proof:** direct calculation; cf exercise."
   ]
  },
  {
   "cell_type": "markdown",
   "metadata": {
    "slideshow": {
     "slide_type": "subslide"
    }
   },
   "source": [
    "Let's try this on the Solar system!"
   ]
  },
  {
   "cell_type": "code",
   "execution_count": null,
   "metadata": {},
   "outputs": [],
   "source": [
    "r = [0 1 0.38 1.52 0.72 \n",
    "     0 0 0    0    0 ]\n",
    "v = [ zeros(1,n); \n",
    "      [ [0.0]; sqrt.(G ./ r[1,2:end]) ]'  ]\n",
    "Ua = rv2u(r, v)\n",
    "h = 0.02 \n",
    "\n",
    "Fa = r -> -nbody_accel(reshape(r, 2, :), G, m)[:]\n",
    "\n",
    "nstep = 0\n",
    "while true\n",
    "# for nstep = 1:10\n",
    "    nstep += 1\n",
    "    Ua = eulerA_step(Ua, Fa, h)\n",
    "    plot_nbody(Ua, title = \"t = $(round(nstep*h, digits=1))\", size = (300,300), show=:ijulia);\n",
    "    sleep(0.01)\n",
    "end\n",
    "IJulia.clear_output();"
   ]
  },
  {
   "cell_type": "markdown",
   "metadata": {
    "slideshow": {
     "slide_type": "slide"
    }
   },
   "source": [
    "### Outlook \n",
    "\n",
    "* What we discussed today is one of the most striking and also most important examlpes of structure-preserving numerical integrators. \n",
    "* The idea is that we give up on staying globally close to a solution, but we ask that solutions are accurate for short time-intervals combined with global accuracy on physical constraints.\n",
    "* Going deeper, one can often show that such schemes preserve certain statistics of the trajectories (cf. ergodicity!), and this is important in statistical sampling as well as statistical mechanics.\n",
    "\n",
    "For more on this topic look at \n",
    "\n",
    "* Hairer, Ernst, Lubich, Christian, Wanner, Gerhard, Geometric Numerical Integration, Springer 2006 \n",
    "* B. Leimkuhler and S. Reich, Simulating Hamiltonian Dynamics, CUP, 2004 \n",
    "\n",
    "and getting into statistical aspects ... \n",
    "\n",
    "* M. Rousset, G. Stoltz and T. Lelievre, Free Energy Computations: A Mathematical Perspective, 2010\n",
    "* B. Leimkuhler and C. Matthews, Molecular Dynamics, 2015 "
   ]
  },
  {
   "cell_type": "markdown",
   "metadata": {
    "slideshow": {
     "slide_type": "slide"
    }
   },
   "source": [
    "### Molecular Dynamics\n",
    "\n",
    "Similar to $n$-body problem, but with more complex driving force. In general *very* complex full many-body interaction. Here we will just play with a toy model.\n",
    "\n",
    "$$\n",
    "    \\ddot{\\bf r}_i = \\sum_{j \\neq i} \\phi'(r_{ij}) \\frac{{\\bf r}_i - {\\bf r}_j}{r_{ij}}\n",
    "$$\n",
    "where $r_{ij} = |{\\bf r}_i - {\\bf r}_j|$ and $\\phi$ is the (non-dimensional) Lennard-Jones potential \n",
    "$$ \n",
    "    \\phi(r) = r^{-12} - 2 r^{-6}\n",
    "$$"
   ]
  },
  {
   "cell_type": "code",
   "execution_count": null,
   "metadata": {
    "slideshow": {
     "slide_type": "-"
    }
   },
   "outputs": [],
   "source": [
    "plot( r -> r^(-12) - 2 * r^(-6), 0.8, 3.0, size = (400, 150), lw=3, label = \"\", \n",
    "      xlabel = \"r\", xlims = [0.0, 3.0], ylabel = L\"\\phi(r)\", ylims = [-1.2, 2.0] );"
   ]
  },
  {
   "cell_type": "code",
   "execution_count": null,
   "metadata": {
    "slideshow": {
     "slide_type": "subslide"
    }
   },
   "outputs": [],
   "source": [
    "function ljforce(R)\n",
    "    dphi(r) = -12  * r^(-7) * (r^(-6) - 1)\n",
    "    F = zeros(size(R))\n",
    "    for i = 1:size(R, 2)-1, j = i+1:size(R,2)\n",
    "        rij = norm(R[:,i] - R[:,j])\n",
    "        Fij = dphi(rij) * (R[:,i] - R[:,j]) / rij\n",
    "        F[:, i] += Fij\n",
    "        F[:, j] -= Fij\n",
    "    end\n",
    "    return F\n",
    "end\n",
    "\n",
    "function lj_step(R, V, h)\n",
    "    R += h * V\n",
    "    V -= h * ljforce(R)\n",
    "    return R, V    \n",
    "end\n",
    "\n",
    "lj_plot(R, ctr) = ctr > 5 ? (scatter(R[1,:], R[2,:], ms = 6, show = :ijulia, label = \"\", size = (400,400), xlims = [3,17], ylims = [3,17]); ctr + 1) : 0"
   ]
  },
  {
   "cell_type": "code",
   "execution_count": null,
   "metadata": {
    "slideshow": {
     "slide_type": "subslide"
    }
   },
   "outputs": [],
   "source": [
    "# square grid initial positions of particles\n",
    "x = 0:20; o = ones(21)\n",
    "X = (x * o')[:]; Y = (o * x')[:]\n",
    "R = [ X'; Y' ]\n",
    "# random initial velocities \n",
    "V = 0.01 * randn(size(R))\n",
    "h = 0.03\n",
    "\n",
    "default(show=:ijulia)\n",
    "ctr = lj_plot(R, 100)\n",
    "\n",
    "while true\n",
    "# for nstep = 1:10\n",
    "    R, V = lj_step(R, V, h)\n",
    "    ctr = lj_plot(R, ctr)\n",
    "    sleep(0.01)\n",
    "end\n",
    "IJulia.clear_output();"
   ]
  },
  {
   "cell_type": "code",
   "execution_count": null,
   "metadata": {
    "slideshow": {
     "slide_type": "subslide"
    }
   },
   "outputs": [],
   "source": [
    "using PyCall \n",
    "YouTubeVideo = pyimport(\"IPython.lib.display\").YouTubeVideo\n",
    "YouTubeVideo(\"_0QhOCDzP4I&t\")  # salt crystal melting in water"
   ]
  },
  {
   "cell_type": "code",
   "execution_count": null,
   "metadata": {},
   "outputs": [],
   "source": []
  }
 ],
 "metadata": {
  "@webio": {
   "lastCommId": null,
   "lastKernelId": null
  },
  "celltoolbar": "Slideshow",
  "kernelspec": {
   "display_name": "Julia 1.5.1",
   "language": "julia",
   "name": "julia-1.5"
  },
  "language_info": {
   "file_extension": ".jl",
   "mimetype": "application/julia",
   "name": "julia",
   "version": "1.5.1"
  }
 },
 "nbformat": 4,
 "nbformat_minor": 4
}
