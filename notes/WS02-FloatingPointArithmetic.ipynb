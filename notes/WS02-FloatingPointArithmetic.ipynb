{
 "cells": [
  {
   "cell_type": "markdown",
   "metadata": {
    "slideshow": {
     "slide_type": "slide"
    }
   },
   "source": [
    "# MATH 405 - Numerical Methods for Differential Equations\n",
    "\n",
    "# MATH 607 - Topics in Numerical Analysis\n",
    "\n",
    "[[Instructor: Christoph Ortner]](http://www.math.ubc.ca/~ortner/)  [[CANVAS]](https://canvas.ubc.ca/courses/55324)\n",
    "\n",
    "# Floating Point Arithmetic\n",
    "\n",
    "The content of this lecture is not Julia specific but applies to all languages!\n",
    "\n",
    "#### Further Reading \n",
    "\n",
    "* Michael Overton, Numerical Computing with IEEE Floating Point Arithmetic, SIAM \n",
    "* Nicholas Higham, Accuracy and Stability of Numerical Algorithms, SIAM"
   ]
  },
  {
   "cell_type": "markdown",
   "metadata": {
    "slideshow": {
     "slide_type": "slide"
    }
   },
   "source": [
    "### Integers\n",
    "\n",
    "$$ \n",
    "    \\dots, -3, -2, -1, 0, 1, 2, 3, \\dots \n",
    "$$\n",
    "\n",
    "Integers are, by default, of type `Int = Int64`. They are represented as 64 bit (8 byte) in memory (base - 2). E.g. "
   ]
  },
  {
   "cell_type": "code",
   "execution_count": null,
   "metadata": {},
   "outputs": [],
   "source": [
    "3, typeof(3)"
   ]
  },
  {
   "cell_type": "code",
   "execution_count": null,
   "metadata": {},
   "outputs": [],
   "source": [
    "@show bitstring(3); \n",
    "@show bitstring(253780027);"
   ]
  },
  {
   "cell_type": "markdown",
   "metadata": {
    "slideshow": {
     "slide_type": "subslide"
    }
   },
   "source": [
    "Integer arithmetic is exact "
   ]
  },
  {
   "cell_type": "code",
   "execution_count": null,
   "metadata": {},
   "outputs": [],
   "source": [
    "2 + 3 ==  5"
   ]
  },
  {
   "cell_type": "markdown",
   "metadata": {
    "slideshow": {
     "slide_type": "fragment"
    }
   },
   "source": [
    "... except when we overflow "
   ]
  },
  {
   "cell_type": "code",
   "execution_count": null,
   "metadata": {},
   "outputs": [],
   "source": [
    "@show 2^62, bitstring(2^63-1);\n",
    "@show 2^63, bitstring(2^63);"
   ]
  },
  {
   "cell_type": "markdown",
   "metadata": {
    "slideshow": {
     "slide_type": "slide"
    }
   },
   "source": [
    "### Fractions \n",
    "\n",
    "This is an interesting subject, especially in Julia, but we don't have time to cover it, so I will skip it. "
   ]
  },
  {
   "cell_type": "code",
   "execution_count": null,
   "metadata": {},
   "outputs": [],
   "source": [
    "3 // 5, typeof(3 // 5)"
   ]
  },
  {
   "cell_type": "code",
   "execution_count": null,
   "metadata": {},
   "outputs": [],
   "source": [
    "3//5 * 5//3"
   ]
  },
  {
   "cell_type": "markdown",
   "metadata": {
    "slideshow": {
     "slide_type": "slide"
    }
   },
   "source": [
    "### Floating Point Numbers\n",
    "\n",
    "General real numbers cannot be represented"
   ]
  },
  {
   "cell_type": "code",
   "execution_count": null,
   "metadata": {},
   "outputs": [],
   "source": [
    "@show x = 5/7\n",
    "@show y = (x / 30) * 210;"
   ]
  },
  {
   "cell_type": "code",
   "execution_count": null,
   "metadata": {},
   "outputs": [],
   "source": [
    "@show y == 5    # y should be 5\n",
    "@show y ≈ 5     # but it is only approximately equal to 5 "
   ]
  },
  {
   "cell_type": "code",
   "execution_count": null,
   "metadata": {
    "slideshow": {
     "slide_type": "fragment"
    }
   },
   "outputs": [],
   "source": [
    "# or even simpler \n",
    "@show (0.1 + 0.2) + 0.3\n",
    "@show 0.1 + (0.2 + 0.3)"
   ]
  },
  {
   "cell_type": "markdown",
   "metadata": {
    "slideshow": {
     "slide_type": "subslide"
    }
   },
   "source": [
    "### 32 bit Floating point number \n",
    "\n",
    "$$ \n",
    "    x = s \\cdot m \\times 2^e\n",
    "$$\n",
    "where $s \\in \\{1, -1\\}$ is the sign, $m > 0$ the mantissa (fraction) and $e > 0$ the exponent.\n",
    "\n",
    "![](https://upload.wikimedia.org/wikipedia/commons/d/d2/Float_example.svg)"
   ]
  },
  {
   "cell_type": "markdown",
   "metadata": {
    "slideshow": {
     "slide_type": "fragment"
    }
   },
   "source": [
    "E.g., \n",
    "$$ \n",
    "    12.2792 = 0.122792 \\times 10^2\n",
    "$$\n",
    "(except of course in base 2 rather than base 10)"
   ]
  },
  {
   "cell_type": "code",
   "execution_count": null,
   "metadata": {},
   "outputs": [],
   "source": [
    "bitstring(Float32(12.2792))"
   ]
  },
  {
   "cell_type": "markdown",
   "metadata": {
    "slideshow": {
     "slide_type": "subslide"
    }
   },
   "source": [
    "### Floating point operations \n",
    "\n",
    "Crudely, we can think of a floating point operation ${\\rm fl}(a \\odot b)$ as follows: \n",
    "1. exact operation $c = a \\odot b$ \n",
    "2. rounding $d = {\\rm round}(d)$"
   ]
  },
  {
   "cell_type": "code",
   "execution_count": null,
   "metadata": {},
   "outputs": [],
   "source": [
    "@show a = Float32(sqrt(2))\n",
    "@show b = Float32(exp(1))\n",
    "# \"exact\" operation by going to more accurate arithmetic\n",
    "@show c = Float64(a) + Float64(b)\n",
    "@show d = a + b "
   ]
  },
  {
   "cell_type": "markdown",
   "metadata": {
    "slideshow": {
     "slide_type": "subslide"
    }
   },
   "source": [
    "There is much more we should say about floating point arithmetic, but we will keep it to these basics, just a few more comments: \n",
    "* Standard accuracy is 64 bit, but sometimes 32bit are use for speed.\n",
    "* Floating point numbers have a range, i.e. one can underflow or overflow\n",
    "* Floating point numbers are roughly logarithmically distributed in that range, i.e. relative floating point accuracy is the same at all scales (within the range)"
   ]
  },
  {
   "cell_type": "code",
   "execution_count": null,
   "metadata": {},
   "outputs": [],
   "source": [
    "@show floatmin(Float64), floatmax(Float64)   # the range\n",
    "@show floatmin(Float32), floatmax(Float32)   # the range"
   ]
  },
  {
   "cell_type": "markdown",
   "metadata": {
    "slideshow": {
     "slide_type": "slide"
    }
   },
   "source": [
    "### The Standard Model of Floating Point Arithmetic\n",
    "\n",
    "Let $\\odot$ denote one of the four arithmetic operations, $+, -, \\times, \\div$. Then in the standard model for floating point arithmetic is to assume that \n",
    "$$ \n",
    "    {\\rm fl}[ a \\odot b ] = (a \\odot b) (1+\\eta)\n",
    "$$\n",
    "where $|\\eta| \\leq \\epsilon$ and $\\epsilon > 0$ is *machine precision*."
   ]
  },
  {
   "cell_type": "code",
   "execution_count": null,
   "metadata": {},
   "outputs": [],
   "source": [
    "@show eps(Float64); \n",
    "@show eps(Float32);"
   ]
  },
  {
   "cell_type": "markdown",
   "metadata": {
    "slideshow": {
     "slide_type": "subslide"
    }
   },
   "source": [
    "### Example: finite difference formulas\n",
    "\n",
    "In exact Arithmetic: \n",
    "$$ \n",
    "    \\frac{f(x+h) - f(x)}{h} = f'(x) + O(h)\n",
    "$$"
   ]
  },
  {
   "cell_type": "markdown",
   "metadata": {
    "slideshow": {
     "slide_type": "subslide"
    }
   },
   "source": [
    "In floating point arithmetic: \n",
    "$$\\begin{aligned}\n",
    "    {\\rm fl}\\Big[ \\frac{f(x+h) - f(x)}{h}\\Big]\n",
    "    &=  \n",
    "    \\frac{ {\\rm fl}[f(x+h) - f(x)] }{h} (1+\\eta_1) \\\\ \n",
    "%     &= \n",
    "%     \\frac{(f(x+h) - f(x))(1+\\eta_2)}{h} (1+\\eta_1) \\\\ \n",
    "    &= \n",
    "    \\frac{{\\rm fl}[f(x+h)] - {\\rm fl}[f(x)]}{h} \\frac{1+\\eta_2}{1+\\eta_1} \\\\             \n",
    "    &= \n",
    "    \\frac{f(x+h)(1+\\eta_3) - f(x)(1+\\eta_4)}{h} \\frac{1+\\eta_2}{1+\\eta_1} \\\\   \n",
    "    &= \n",
    "    \\frac{f(x+h) - f(x)}{h}  \\frac{1+\\eta_2}{1+\\eta_1} \n",
    "    +  \\frac{f(x+h) \\eta_3 - f(x) \\eta_4}{h} \\frac{1+\\eta_2}{1+\\eta_1} \\\\   \n",
    "    &=\n",
    "    \\frac{f(x+h) - f(x)}{h} (1+O(\\epsilon)) + O(\\epsilon/h)\n",
    "\\end{aligned}$$"
   ]
  },
  {
   "cell_type": "markdown",
   "metadata": {
    "slideshow": {
     "slide_type": "subslide"
    }
   },
   "source": [
    "Summary: \n",
    "$$ \n",
    "{\\rm fl}\\Big[ \\frac{f(x+h) - f(x)}{h}\\Big] = f'(x) + O(h) + O(\\epsilon/h)\n",
    "$$"
   ]
  },
  {
   "cell_type": "code",
   "execution_count": null,
   "metadata": {
    "slideshow": {
     "slide_type": "fragment"
    }
   },
   "outputs": [],
   "source": [
    "using Plots \n",
    "hh = 0.5.^(4:45)\n",
    "f = x -> cos(x); df = x -> - sin(x); x0 = pi/4  # what happens if we change pi/4 -> pi/2 ??\n",
    "err_ex = [ abs((f(big(x0+h)) - f(big(x0)))/big(h) - df(x0)) for h in hh ]\n",
    "err_fl = [ abs((f(x0+h) - f(x0))/h - df(x0)) for h in hh ]\n",
    "plot(hh, err_ex, xaxis = :log, xlabel = \"h\", yaxis = :log, ylabel = \"err\", lw = 2, label = \"exact\", size = (500, 200), ylims = [1e-15, 1e-2], legend = :outertopright)\n",
    "plot!(hh, err_fl, label = \"Float64\", lw = 2)"
   ]
  },
  {
   "cell_type": "markdown",
   "metadata": {
    "slideshow": {
     "slide_type": "slide"
    }
   },
   "source": [
    "### Things can get arbitrarily bad ... \n",
    "\n",
    "The following incredible example is due to [Stefan Karpinski](https://discourse.julialang.org/t/array-ordering-and-naive-summation/1929).  (Julia co-developer, but the example has nothing to do with Julia)\n"
   ]
  },
  {
   "cell_type": "code",
   "execution_count": null,
   "metadata": {},
   "outputs": [],
   "source": [
    "# The sumsto function always returns the same 2046 floating-point numbers but \n",
    "# returns them in a different order based on x\n",
    "function sumsto(x::Float64)\n",
    "    0 <= x < exp2(970) || throw(ArgumentError(\"sum must be in [0,2^970)\"))\n",
    "    n, p₀ = Base.decompose(x) # integers such that `n*exp2(p₀) == x`\n",
    "    [floatmax(); [exp2(p) for p in -1074:969 if iseven(n >> (p-p₀))]\n",
    "    -floatmax(); [exp2(p) for p in -1074:969 if isodd(n >> (p-p₀))]]\n",
    "end"
   ]
  },
  {
   "cell_type": "code",
   "execution_count": null,
   "metadata": {},
   "outputs": [],
   "source": [
    "X1 = sumsto(3.142592654)    #  pi\n",
    "X2 = sumsto(2.99792458e8)   #  speed of light\n",
    "@show sort(X1) == sort(X2)  #  the two arrays X1, x2 contain the same numbers!\n",
    "@show sum(x for x in X1)    #  but sum to entirely different values \n",
    "@show sum(x for x in X2);   #    (i.e. order of summation matters!)\n",
    "@show sum(X1), sum(X2)"
   ]
  },
  {
   "cell_type": "markdown",
   "metadata": {
    "slideshow": {
     "slide_type": "slide"
    }
   },
   "source": [
    " .... which is why numerical stability is so important!  If  you think this was a fun example and would like to understand it then pick the Kahan summation mini-project!\n",
    " \n",
    "### Conclusions\n",
    "\n",
    " * Julia's `sum` function is not a naive summation - see e.g. Mini-project on compensated summation to understand more!\n",
    " * More often than not you don't need to worry about numerical stability, generations of Numerical Analysts have already done this for you!\n",
    " * But be aware that the problem does exist and where to start looking in case you run into it! (i.e. know how to perform a numerical stability analysis)\n",
    " * Numerical stability is not always intuitive. E.g. how can naive summation be a problem? (We have seen that it is!!) Sometimes an expression that looks incredibly unstable turns out to be perfectly fine, e.g. see A2 - barycentric formula.\n",
    " * `Float64` is the de-factor standard in numerical computations. \n",
    " * When you really need more accuracy and are willing to sacrifice performance consider using \n",
    "     - `Float128` which is implemented in [`QuadMath.jl`](https://github.com/JuliaMath/Quadmath.jl)\n",
    "     - or `BigFloat` which is built-in and can be accessed via `big`; cf. `?big` for more detail.\n",
    "     - Use these with great care!!!"
   ]
  },
  {
   "cell_type": "markdown",
   "metadata": {},
   "source": [
    "#### Further Reading \n",
    "\n",
    "* Michael Overton, Numerical Computing with IEEE Floating Point Arithmetic, SIAM \n",
    "* Nicholas Higham, Accuracy and Stability of Numerical Algorithms, SIAM"
   ]
  }
 ],
 "metadata": {
  "@webio": {
   "lastCommId": null,
   "lastKernelId": null
  },
  "celltoolbar": "Slideshow",
  "kernelspec": {
   "display_name": "Julia 1.5.1",
   "language": "julia",
   "name": "julia-1.5"
  },
  "language_info": {
   "file_extension": ".jl",
   "mimetype": "application/julia",
   "name": "julia",
   "version": "1.5.1"
  }
 },
 "nbformat": 4,
 "nbformat_minor": 4
}
