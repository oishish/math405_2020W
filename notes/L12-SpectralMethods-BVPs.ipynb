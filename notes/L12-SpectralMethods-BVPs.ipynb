{
 "cells": [
  {
   "cell_type": "markdown",
   "metadata": {
    "slideshow": {
     "slide_type": "slide"
    }
   },
   "source": [
    "# MATH 405/607 \n",
    "\n",
    "# Numerical Methods for Differential Equations\n",
    "\n",
    "[[Instructor: Christoph Ortner]](http://www.math.ubc.ca/~ortner/)  [[CANVAS]](https://canvas.ubc.ca/courses/55324)\n",
    "\n",
    "\n",
    "## Spectral Methods 2 - Solving IBVPs\n",
    "\n",
    "* discretisation of (initial) boundary value problems using Fourier spectral methods.\n",
    "\n",
    "\n",
    "### Literature\n",
    "\n",
    "* N Trefethen, Spectral Methods in Matlab [[html]](https://people.maths.ox.ac.uk/trefethen/spectral.html)\n",
    "* https://people.maths.ox.ac.uk/trefethen/pdetext.html, Ch. 7 "
   ]
  },
  {
   "cell_type": "code",
   "execution_count": null,
   "metadata": {
    "slideshow": {
     "slide_type": "slide"
    }
   },
   "outputs": [],
   "source": [
    "include(\"../math405.jl\")"
   ]
  },
  {
   "cell_type": "code",
   "execution_count": null,
   "metadata": {},
   "outputs": [],
   "source": [
    "# Some codes from L11\n",
    "\n",
    "using FFTW\n",
    "\"construct a real-space grid - use FFT convention\"\n",
    "xgrid(N) = range(0.0, stop=2π-2π/2N, length=2N)\n",
    "\"construct the reciprocal space grid assumed by `fft` - carefully use FFT convention\"\n",
    "kgrid(N) = [0:N; -N+1:-1]\n",
    "\"compute the fourier coefficients of I_N\"\n",
    "fouriercoeffs(f::Function, N) = fouriercoeffs(f.(xgrid(N)))\n",
    "fouriercoeffs(F::Vector) = fft(F) / length(F)\n",
    "\"evaluate a trigonometric polynomial\"\n",
    "eval_trig(F::Function, N, Z) = eval_trig(fouriercoeffs(F, N), Z)\n",
    "eval_trig(F̂::Vector, Z) = real(sum( f̂k * exp.((im * k)*Z) for (f̂k, k) in zip(F̂, kgrid(length(F̂)÷2)) ))\n"
   ]
  },
  {
   "cell_type": "markdown",
   "metadata": {
    "slideshow": {
     "slide_type": "slide"
    }
   },
   "source": [
    "This notebook contains only computational examples. See the recorded lecture for derivation of the implemented methods / some minimal theory. All examples use periodic boundary conditions, i.e., $x \\in (-\\pi, \\pi]$ with $u(-\\pi) = u(\\pi)$ as well as for all required derivatives. Or, alternatively we can consider the problem to be posed for $x \\in \\mathbb{R}$ but restricted to periodic solutions.\n",
    "\n",
    "Since all examples will use PBCs we will not state them explicitly every time."
   ]
  },
  {
   "cell_type": "markdown",
   "metadata": {
    "slideshow": {
     "slide_type": "slide"
    }
   },
   "source": [
    "### Example 1: Stead state diffusion\n",
    "\n",
    "$$\n",
    "    - u'' = f  \n",
    "$$\n",
    "After transformation to reciprocal space, \n",
    "$$\n",
    "    |k|^2 \\hat{u}_k = \\hat{f}_k\n",
    "$$\n",
    "or, \n",
    "$$\n",
    "    \\hat{u}_k = |k|^{-2} \\hat{f}_k\n",
    "$$\n",
    "The discretisation / approximation occurs due to approximation of the right-hand side via trigonometric interpolant.\n",
    "\n",
    "The only error we commit here is in the approximation of the $f$. If $f$ is analytic, then we expect an exponential rate."
   ]
  },
  {
   "cell_type": "code",
   "execution_count": null,
   "metadata": {
    "slideshow": {
     "slide_type": "slide"
    }
   },
   "outputs": [],
   "source": [
    "# method of manufactured solutions!\n",
    "u = x ->  exp(cos(x)^3) - 7.3256351769886540462/(2*pi)\n",
    "du = x -> ForwardDiff.derivative(u, x)\n",
    "f = x -> - ForwardDiff.derivative(du, x)\n",
    "N = 10\n",
    "X = xgrid(N)\n",
    "F = f.(X) \n",
    "F̂ = fouriercoeffs(F); F̂[1] = 0   # for stability!\n",
    "K = kgrid(N)\n",
    "Û = F̂ ./ (eps() .+ K.^2)    # solution in reciprocal space, eps() is to avoid NaN\n",
    "U = real.(2*N*ifft(Û));     # solution in terms of nodal values!"
   ]
  },
  {
   "cell_type": "code",
   "execution_count": null,
   "metadata": {
    "slideshow": {
     "slide_type": "subslide"
    }
   },
   "outputs": [],
   "source": [
    "xp = range(0, 2*pi, length=200)\n",
    "Up = [ real(eval_trig(Û, x)) for x in xp ]   # interpolate in-between nodal values\n",
    "plot(xp, Up, label = \"spectral method\", lw = 3, size = (400, 200), legend = :top)\n",
    "plot!(xp, u.(xp), lw = 2, ls =:dash, label = \"exact\")\n",
    "plot!(X, U, ms=5, m = :o, lw=0, label = \"nodal values\")"
   ]
  },
  {
   "cell_type": "code",
   "execution_count": null,
   "metadata": {
    "slideshow": {
     "slide_type": "subslide"
    }
   },
   "outputs": [],
   "source": [
    "# convergence test \n",
    "function solve_ex1(N)\n",
    "    F̂ = fouriercoeffs(f, N); F̂[1] = 0 \n",
    "    return F̂ ./ (eps() .+ kgrid(N).^2)\n",
    "end\n",
    "NN = 4:2:36 \n",
    "xe = range(0, 2*pi, length = 10_000) \n",
    "ue = u.(xe) # [eval_trig(solve_ex1(64), x) for x in xe]\n",
    "Err = [ norm(ue - eval_trig.(Ref(solve_ex1(N)), xe), Inf) for N in NN ]\n",
    "plot(NN, Err, lw=3, ms=5, m=:o, label = \"\", ylabel = L\"\\|u - U_N\\|_\\infty\", size = (400, 200), yscale = :log10)\n",
    "hline!([eps()], lw=2, c=:red, label = \"\")\n",
    "plot!(NN[4:end], 3000*exp.(-1.3*NN[4:end]), c=:black, lw=2, ls=:dash, label = \"\", xlabel = L\"N\")"
   ]
  },
  {
   "cell_type": "markdown",
   "metadata": {
    "slideshow": {
     "slide_type": "slide"
    }
   },
   "source": [
    "### Example 2: Linear, Homogeneous Advection \n",
    "\n",
    "$$\n",
    "    u_t + a u_x = 0 \n",
    "$$\n",
    "Transform to reciprocal space\n",
    "$$\n",
    "    \\partial_t \\hat{u}_k + a i k \\hat{u}_k = 0 \n",
    "$$\n",
    "We can think of this as a Schrödinger equation, which is closely related to hamiltonian systems. In this case we can get a Hamiltonian system by converting to a real and immaginary parts (cf. recorded lecture). We know from A3 that the Crank-Nicholson scheme is a good integrator for linear Hamiltonian systems, so let's use this for the discretisation:\n",
    "$$\n",
    "    \\frac{\\hat{u}_k^{m+1} - \\hat{u}_k^m}{\\tau} + \\frac{a i k}{2} \\big( \\hat{u}_k^{m+1} + \\hat{u}_k^m \\big) = 0\n",
    "$$\n",
    "or, equivalently, \n",
    "$$\n",
    "    \\hat{u}_k^{m+1} = \\frac{1 - \\tau a i k/2}{1+ \\tau aik/2} \\hat{u}_k^m\n",
    "$$\n",
    "This will conserve $|\\hat{u}_k^m|$ *exactly* - hence there will be no artificial dampling!"
   ]
  },
  {
   "cell_type": "code",
   "execution_count": null,
   "metadata": {
    "slideshow": {
     "slide_type": "subslide"
    }
   },
   "outputs": [],
   "source": [
    "N = 6; τ = 1e-2\n",
    "X = xgrid(N); xp = range(0, 2*pi, length=200)\n",
    "K = kgrid(N)\n",
    "u0 = \n",
    "U = exp.(- sin.(X).^2) .- exp(-1)\n",
    "Û = fouriercoeffs(U)\n",
    "Â = (1 .- im*τ/2 * K) ./ (1 .+ im*τ/2 * K)\n",
    "@gif for t in τ:τ:5\n",
    "    Û = Â .* Û\n",
    "    plot(xp, eval_trig.(Ref(Û), xp), lw=3, label = \"\", title = \"||Û||_2 = $(round(norm(Û), digits=15))\", size = (400, 200))\n",
    "end"
   ]
  },
  {
   "cell_type": "markdown",
   "metadata": {
    "slideshow": {
     "slide_type": "slide"
    }
   },
   "source": [
    "### Example 3: Korteweg–de Vries Equation\n",
    "\n",
    "$$\n",
    "    u_t + \\Big(\\frac12 u^2\\Big)_x + \\epsilon u_{xxx} = 0\n",
    "$$\n",
    "Fourier transform to \n",
    "$$\n",
    "    \\partial_t \\hat{u}_k + \\frac{i k}{2} \\big(u^2\\big)^{\\wedge}_k - i \\epsilon k^3 \\hat{u}_k = 0\n",
    "$$\n",
    "Due to the $u_{xxx}$ term the problem is potentially extremely stiff, but we will essentially ignore this here and just \"overkill\" the time integration.\n",
    "\n",
    "Another challenge: how do we discretize $\\widehat{u^2}$?"
   ]
  },
  {
   "cell_type": "markdown",
   "metadata": {
    "slideshow": {
     "slide_type": "fragment"
    }
   },
   "source": [
    "If $f, g$ are degree-$N$ trigonometric polynomials then $fg$ will have degree $2N$ and we need to project it back to a degree-$N$ trig poly. A convenient method to achieve this is via trigonometric interpolation:\n",
    "$$\n",
    "    (f g)^{\\wedge} \\approx {\\rm DFT}\\big[ I_N[f g] \\big]\n",
    "$$\n"
   ]
  },
  {
   "cell_type": "code",
   "execution_count": null,
   "metadata": {
    "slideshow": {
     "slide_type": "subslide"
    }
   },
   "outputs": [],
   "source": [
    "N = 64\n",
    "X = xgrid(N); K = kgrid(N)\n",
    "xp = range(0, 2*π, length = 300)\n",
    "# A = 25; B = 16\n",
    "# U0 = 2*A^2*sech.(0.5*(A*(X.+(2-π)))).^2 + 2 * B^2*sech.(0.5*(B*(X.+(1-π)))).^2\n",
    "δ = 0.1\n",
    "U0 = cos.(X); \n",
    "Û0 = fouriercoeffs(U0)\n",
    "plot(xp, eval_trig.(Ref(Û0), xp), lw = 2, label = \"\", size = (400, 200))"
   ]
  },
  {
   "cell_type": "code",
   "execution_count": null,
   "metadata": {
    "slideshow": {
     "slide_type": "subslide"
    }
   },
   "outputs": [],
   "source": [
    "function kdv1(Û, _p, _t) \n",
    "    U = real.(2*N*ifft(Û))\n",
    "    return δ^2 * im * K.^3 .* Û - im/2 * K .* fouriercoeffs(U.^2)\n",
    "end\n",
    "Tf = 10.0; Trange = range(0.0, Tf, length = 500)\n",
    "soln = solve(ODEProblem(kdv1, Û0, Tf), RK4(), saveat = Trange)\n",
    "# @show length(soln.t)\n",
    ";"
   ]
  },
  {
   "cell_type": "code",
   "execution_count": null,
   "metadata": {
    "slideshow": {
     "slide_type": "fragment"
    }
   },
   "outputs": [],
   "source": [
    "@gif for t in Trange\n",
    "    Û = soln(t)\n",
    "    plot(xp, eval_trig.(Ref(Û), xp), lw=2, label = \"t=$(round(t, digits=1))\", size = (400, 200), ylims=[-1.5, 3]) \n",
    "end"
   ]
  },
  {
   "cell_type": "code",
   "execution_count": null,
   "metadata": {
    "slideshow": {
     "slide_type": "slide"
    }
   },
   "outputs": [],
   "source": [
    "# A travelling wave solution \n",
    "N = 128\n",
    "X = xgrid(N); K = kgrid(N)\n",
    "xp = range(0, 2*π, length = 600)\n",
    "A = 25; B = 16\n",
    "U0 = 2*A^2*sech.(0.5*(A*(sin.(X.+(2-π))))).^2 # + 2 * B^2*sech.(0.5*(B*(X.+(1-π)))).^2\n",
    "δ = 1.0\n",
    "Û0 = fouriercoeffs(U0)\n",
    "plot(xp, eval_trig.(Ref(Û0), xp), lw = 2, label = \"\", size = (400, 200))"
   ]
  },
  {
   "cell_type": "code",
   "execution_count": null,
   "metadata": {
    "slideshow": {
     "slide_type": "subslide"
    }
   },
   "outputs": [],
   "source": [
    "Tf = 0.006; Trange = range(0.0, Tf, length = 300)\n",
    "soln = solve(ODEProblem(kdv1, Û0, Tf), RK4(), saveat = Trange)\n",
    ";"
   ]
  },
  {
   "cell_type": "code",
   "execution_count": null,
   "metadata": {
    "slideshow": {
     "slide_type": "fragment"
    }
   },
   "outputs": [],
   "source": [
    "@gif for t in Trange\n",
    "    Û = soln(t)\n",
    "    plot(xp, eval_trig.(Ref(Û), xp), lw=2, label = \"t=$(round(t, digits=1))\", size = (400, 200), ylims=[-100, 2000]) \n",
    "end"
   ]
  },
  {
   "cell_type": "code",
   "execution_count": null,
   "metadata": {
    "slideshow": {
     "slide_type": "subslide"
    }
   },
   "outputs": [],
   "source": [
    "# Looks dodgy? Experimentally check the convergence!!!\n",
    "N = 256\n",
    "X = xgrid(N); K = kgrid(N)\n",
    "A = 25; B = 16\n",
    "U0 = 2*A^2*sech.(0.5*(A*(sin.(X.+(2-π))))).^2 # + 2 * B^2*sech.(0.5*(B*(X.+(1-π)))).^2\n",
    "δ = 1.0\n",
    "Û0 = fouriercoeffs(U0)\n",
    "soln_256 = solve(ODEProblem(kdv1, Û0, Tf), RK4(), saveat = Trange)\n",
    ";"
   ]
  },
  {
   "cell_type": "code",
   "execution_count": null,
   "metadata": {
    "slideshow": {
     "slide_type": "fragment"
    }
   },
   "outputs": [],
   "source": [
    "xp = range(0, 2*π, length = 600)\n",
    "@gif for t in Trange\n",
    "    Û = soln(t); Û256 = soln_256(t);\n",
    "    plot(xp, eval_trig.(Ref(Û), xp), lw=2, label = \"t=$(round(t, digits=1))\", size = (400, 200), ylims=[-100, 1500]) \n",
    "    plot!(xp, eval_trig.(Ref(Û256), xp), lw=1, ls = :dash, label = \"\") \n",
    "end"
   ]
  },
  {
   "cell_type": "markdown",
   "metadata": {
    "slideshow": {
     "slide_type": "slide"
    }
   },
   "source": [
    "## 2D Examples\n",
    "\n",
    "Trigonometric polynomials and the DFT can be generalised to $d$ dimension: \n",
    "$$\n",
    "    u({\\bf x}) = \\sum_{{\\bf k} \\in \\mathbb{Z}^d} \\hat{u}_{{\\bf k}} e^{i {\\bf k} \\cdot {\\bf x}}\n",
    "$$\n",
    "where ${\\bf x} = (x_1, \\dots, x_d)$, ${\\bf k} = (k_1, \\dots, k_d)$. We can use this analogously as in the 1D case. I won't give any details here but just show you how to use this."
   ]
  },
  {
   "cell_type": "markdown",
   "metadata": {
    "slideshow": {
     "slide_type": "slide"
    }
   },
   "source": [
    "### Example 4: Laplace equation in 2D\n",
    "\n",
    "$$\n",
    "    - u_{xx} - u_{yy} = f, \\qquad (x, y) \\in (0, 2\\pi)^2\n",
    "$$\n",
    "with PBCs. We require again that $\\int f = 0$."
   ]
  },
  {
   "cell_type": "code",
   "execution_count": null,
   "metadata": {
    "slideshow": {
     "slide_type": "subslide"
    }
   },
   "outputs": [],
   "source": [
    "# grid parameters: 2π x 2π\n",
    "N = 2^4          # number of grid points \n",
    "h = π/N        # mesh spacing \n",
    "# model parameters \n",
    "f = (x,y) -> exp(sin(x)*cos(2*y)+0.2*sin(x+y)) # + const -> to be removed below!\n",
    "\n",
    "# real-space grid \n",
    "x = xgrid(N); Xx = kron(x, ones(2*N)'); Xy = Xx'\n",
    "# reciprocal-space grid\n",
    "k = kgrid(N); Kx = kron(k, ones(2*N)'); Ky = Kx'\n",
    "\n",
    "# trigonometric interpolant of f\n",
    "F = f.(Xx, Xy)\n",
    "F̂ = fft(F); F̂[1] = 0  # this is a 2D tensor-product FFT!\n",
    "# solve PDE\n",
    "Û = F̂ ./ (eps() .+ Kx.^2 + Ky.^2) \n",
    "U = real.(ifft(Û))\n",
    "\n",
    "# plot the solution \n",
    "Plots.surface(x, x, U, size = (400, 300))"
   ]
  },
  {
   "cell_type": "code",
   "execution_count": null,
   "metadata": {
    "slideshow": {
     "slide_type": "subslide"
    }
   },
   "outputs": [],
   "source": [
    "# or as a contour plot \n",
    "Plots.contour(x, x, U, fill=true, size = (350,300))"
   ]
  },
  {
   "cell_type": "markdown",
   "metadata": {
    "slideshow": {
     "slide_type": "subslide"
    }
   },
   "source": [
    "### Example 5: 2D Wave Equation \n",
    "\n",
    "with constant wave speed\n",
    "$$\n",
    "    u_{tt} = u_{xx} + u_{yy}\n",
    "$$\n",
    "Spectral discretisation in space: \n",
    "$$\n",
    "    \\partial_t^2 \\hat{U}_{k_1 k_2} = - (k_1^2 + k_2^2) \\hat{U}_{k_1 k_2}\n",
    "$$\n",
    "Leapfrog formula in time to conserve energy\n",
    "$$\n",
    "    \\frac{\\hat{U}_{k_1 k_2}^{m+1} - 2 \\hat{U}_{k_1 k_2}^m - \\hat{U}_{k_1 k_2}^{m-1}}{\\tau^2} \n",
    "    = - (k_1^2 + k_2^2) \\hat{U}_{k_1 k_2}^m\n",
    "$$\n",
    "\n"
   ]
  },
  {
   "cell_type": "code",
   "execution_count": null,
   "metadata": {
    "slideshow": {
     "slide_type": "subslide"
    }
   },
   "outputs": [],
   "source": [
    "N = 64\n",
    "x = xgrid(N); Xx = kron(x, ones(2*N)'); Xy = Xx'\n",
    "k = kgrid(N); Kx = kron(k, ones(2*N)'); Ky = Kx'\n",
    "U0 = exp.(-10*(1 .+ cos.(Xx))) .* exp.(-10*(1 .+ cos.(Xy)))\n",
    "Û0 = fft(U0)\n",
    "Û1 = Û0  # zero initial velocity \n",
    "dt = 0.2 / N \n",
    "@gif for n = 1:4_000\n",
    "    Û0, Û1 = Û1, 2 * Û1 - Û0 - dt^2 * (Kx.^2 + Ky.^2) .* Û1 \n",
    "    Plots.surface(x, x, real.(ifft(Û1)), zlims = [-0.3, 0.3], color=:viridis)\n",
    "end every 5"
   ]
  },
  {
   "cell_type": "markdown",
   "metadata": {
    "slideshow": {
     "slide_type": "subslide"
    }
   },
   "source": [
    "### Example 6: Cahn--Hilliard equation\n",
    "\n",
    "$$ \n",
    "    (-\\Delta)^{-1} u_t = \\epsilon \\Delta u - \\frac{1}{\\epsilon} (u^3 - u) \n",
    "$$\n",
    "The difficulty here is that a trivial semi-implicit time discretisation\n",
    "$$\n",
    "    u^{(n+1)} + \\epsilon \\tau \\Delta^2 u^{(n+1)} = u^{(n)} + \\frac{\\tau}{\\epsilon} \\Delta (u^3 - u)\n",
    "$$\n",
    "has time-step restriction $O( \\epsilon h^2 )$. We can stabilise with a (local) convex-concave splitting such as\n",
    "$$\n",
    "    (1 + \\epsilon \\tau \\Delta^2 - C \\tau \\Delta) u^{(n+1)}\n",
    "    = (1-C \\tau \\Delta) u^{(n)} + \\frac{\\tau}{\\epsilon} \\Delta (u^3 - u)^{(n)}.\n",
    "$$\n",
    "Since $(u^3-u)' = 3 u^2 - 1 \\in [-1, 2]$ so we need $C \\geq 2/\\epsilon$ to get $\\tau$-independent stability. \n",
    "We then choose the time-step $\\tau = h \\epsilon$ to make up for the loss of accuracy.\n",
    "\n",
    "In reciprocal space, the time step equation becomes\n",
    "$$\n",
    "    (1+\\epsilon \\tau |k|^4 + C \\tau |k|^2) \\hat{u}^{(n+1)} = \\big(1+C\\tau |k|^2 + \\frac{\\tau}{\\epsilon} |k|^2\\big) \\hat{u}^{(n)} - \\frac{\\tau}{\\epsilon} |k|^2 (\\widehat{u^3})^{(n)},\n",
    "$$\n",
    "(For something more serious we should probably implement a decent adaptive time-stepping strategy.)"
   ]
  },
  {
   "cell_type": "code",
   "execution_count": null,
   "metadata": {
    "slideshow": {
     "slide_type": "subslide"
    }
   },
   "outputs": [],
   "source": [
    "# grid parameters: 2π x 2π\n",
    "N = 2^6          # number of grid points \n",
    "h = π/N        # mesh spacing \n",
    "# model parameters \n",
    "ϵ = h * 3        # interface thickness \n",
    "C = 2/ϵ          # stabilisation parameter\n",
    "τ = ϵ * h        # time-step \n",
    "Tfinal = 10      # final time \n",
    "\n",
    "# real-space and reciprocal-space grids\n",
    "x = xgrid(N)\n",
    "k = kgrid(N)\n",
    "# Δ multiplier\n",
    "Δ = -kron(k.^2, ones(2*N)') .- kron(ones(2*N), k'.^2)\n",
    "\n",
    "# initial condition\n",
    "u = rand(2*N, 2*N)  .- 0.5\n",
    "\n",
    "# time-stepping loop\n",
    "@gif for n = 1:ceil(Tfinal / τ)\n",
    "    global u \n",
    "    f̂ = (1 .- C*τ*Δ) .* fft(u) + τ/ϵ * (Δ .* fft(u.^3-u))\n",
    "    u = real(ifft( f̂ ./ (1 .+ ϵ*τ*Δ.^2 - C*τ*Δ) ))\n",
    "    contour(x, x, u, fill=true, lw=0, color=:thermal)\n",
    "end every 5"
   ]
  },
  {
   "cell_type": "code",
   "execution_count": null,
   "metadata": {},
   "outputs": [],
   "source": []
  },
  {
   "cell_type": "code",
   "execution_count": null,
   "metadata": {},
   "outputs": [],
   "source": []
  },
  {
   "cell_type": "code",
   "execution_count": null,
   "metadata": {},
   "outputs": [],
   "source": []
  },
  {
   "cell_type": "code",
   "execution_count": null,
   "metadata": {
    "slideshow": {
     "slide_type": "subslide"
    }
   },
   "outputs": [],
   "source": [
    "# INCOMPLETE CODE - PLEASE IGNORE\n",
    "# function solve_laplace2D(N, f, xerr) \n",
    "#     x = xgrid(N); Xx = kron(x, ones(2*N)'); Xy = Xx'\n",
    "#     k = kgrid(N); Kx = kron(k, ones(2*N)'); Ky = Kx'\n",
    "#     F̂ = fft(f.(Xx, Xy));  F̂[1] = 0 \n",
    "#     Û = F̂ ./ (eps() .+ Kx.^2 + Ky.^2)\n",
    "#     u = [ sum(û * exp(im * (kx*x+ky*y)) for (û, kx, ky) in zip(Û, Kx, Ky))\n",
    "#           for x in xerr, y in xerr ]\n",
    "#     return u\n",
    "# end\n",
    "# NN = (2).^(3:8)"
   ]
  }
 ],
 "metadata": {
  "@webio": {
   "lastCommId": null,
   "lastKernelId": null
  },
  "celltoolbar": "Slideshow",
  "kernelspec": {
   "display_name": "Julia 1.5.1",
   "language": "julia",
   "name": "julia-1.5"
  },
  "language_info": {
   "file_extension": ".jl",
   "mimetype": "application/julia",
   "name": "julia",
   "version": "1.5.1"
  }
 },
 "nbformat": 4,
 "nbformat_minor": 4
}
