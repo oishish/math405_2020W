{
 "cells": [
  {
   "cell_type": "markdown",
   "metadata": {},
   "source": [
    "# MATH 405 - Numerical Methods for Differential Equations\n",
    "\n",
    "# MATH 607 - Topics in Numerical Analysis\n",
    "\n",
    "[[Instructor: Christoph Ortner]](http://www.math.ubc.ca/~ortner/)  [[CANVAS]](https://canvas.ubc.ca/courses/55324)\n",
    "\n",
    "# WS - Implementation of Finite-Difference Schemes in 2D, 3D\n"
   ]
  },
  {
   "cell_type": "markdown",
   "metadata": {},
   "source": [
    "We will restrict attention to the $d$-dimensional Laplace equation, \n",
    "$$\\begin{aligned}\n",
    "    -\\Delta u = f, \\qquad x \\in \\Omega, \\\\ \n",
    "        u = 0, & x \\in \\partial \\Omega,\n",
    "\\end{aligned}$$\n",
    "where $\\Omega$ is a domain in $\\mathbb{R}^d$ and $\\partial\\Omega$ denotes its boundary. \n",
    "\n",
    "Implementing finite-difference schemes for general domains is possible but requires a large number of \"tricks\", hence we will restrict ourselves only to tensor-product domains, e.g., the unit cube\n",
    "$$\n",
    "    \\Omega := (0, 1)^d\n",
    "$$\n",
    "but other tensor-product domains are equally easy to treat."
   ]
  },
  {
   "cell_type": "markdown",
   "metadata": {},
   "source": [
    "The main idea is to exploit the tensor product structure of the Laplace operator, e.g., if $d = 2$, \n",
    "$$\n",
    "    \\Delta u = \\frac{\\partial^2 u}{\\partial x_1^2}  + \\frac{\\partial^2 u}{\\partial x_2^2} \n",
    "     = \\Big( D^2 \\otimes I + I \\otimes D^2 \\Big) u,\n",
    "$$\n",
    "where $D$ denotes the univariate derivative operator. Suppose now that $D^2_h$ denotes a univariate finite difference discretisation of $D^2$ then the resulting finite-difference discretisation of the laplace operator becomes \n",
    "$$\n",
    "    \\Delta_h u = \\Big( D_h^2 \\otimes I + I \\otimes D_h^2 \\Big) u.\n",
    "$$\n"
   ]
  },
  {
   "cell_type": "markdown",
   "metadata": {},
   "source": [
    "Let us consider the case we are most interested in, \n",
    "$$\n",
    "    D_h^2 V_n = \\frac{V_{n+1} - 2 V_n + V_{n-1}}{h^2}\n",
    "$$\n",
    "and assume that $U_{nm}$ is a 2-dimensional grid function, then \n",
    "$$\\begin{aligned}\n",
    "    \\big(D_h^2 \\otimes I\\big) U_{nm} &= \\frac{U_{n+1,m} - 2 U_{nm} + U_{n-1,m}}{h^2}, \\\\ \n",
    "    \\big(I \\otimes D_h^2\\big) U_{nm} &= \\frac{U_{n,m+1} - 2 U_{nm} + U_{n,m-1}}{h^2}, \\\\ \n",
    "\\end{aligned}$$\n",
    "and hence \n",
    "$$\n",
    "    \\Delta_h U_{nm} = \\big(D_h^2 \\otimes I + I \\otimes D_h^2\\big) U_{nm} = \n",
    "    \\frac{U_{n+1,m} + U_{n,m+1} + U_{n-1,m} + U_{n,m-1}  - 4 U_{nm} }{h^2}.\n",
    "$$\n",
    "One can readily check exactly as in the univariate case that, if $u_{nm} = u(nh, mh)$ then \n",
    "$$\n",
    "    \\Delta_h u_{nm} = \\Delta u_{nm} + O(h^2).\n",
    "$$"
   ]
  },
  {
   "cell_type": "markdown",
   "metadata": {},
   "source": [
    "The generalisation to $d$ dimensions is \n",
    "$$\n",
    "    \\Delta_hU_{{\\bf n}} = \\sum_{i = 1}^d \\frac{U_{{\\bf n} + {\\bf e}_i} - 2 U_{{\\bf n}} + U_{{\\bf n} - {\\bf e}_i}}{h^2}\n",
    "    = \\Big( D_h^2 \\otimes I \\otimes \\cdots \\otimes I\n",
    "            + I \\otimes D_h^2 \\otimes I \\otimes \\cdots \\otimes I\n",
    "            + \\cdots\n",
    "            + I \\otimes \\cdots \\otimes I \\otimes D_h^2 \\Big) U_{{\\bf n}}.\n",
    "$$"
   ]
  },
  {
   "cell_type": "code",
   "execution_count": null,
   "metadata": {},
   "outputs": [],
   "source": [
    "include(\"../math405.jl\")"
   ]
  },
  {
   "cell_type": "code",
   "execution_count": null,
   "metadata": {},
   "outputs": [],
   "source": [
    "# this implementation uses dirichlet boundary conditions only.\n",
    "L1d(N) = Tridiagonal(-N^2 * ones(N-2), 2*N^2*ones(N-1), -N^2*ones(N-2))\n",
    "Id(N) = sparse(I, (N-1,N-1))\n",
    "L2d(N) = sparse(kron(L1d(N), Id(N)) + kron(Id(N), L1d(N)))"
   ]
  },
  {
   "cell_type": "code",
   "execution_count": null,
   "metadata": {},
   "outputs": [],
   "source": [
    "display(L1d(5))"
   ]
  },
  {
   "cell_type": "code",
   "execution_count": null,
   "metadata": {},
   "outputs": [],
   "source": [
    "display(Matrix(L2d(5)))"
   ]
  },
  {
   "cell_type": "code",
   "execution_count": null,
   "metadata": {},
   "outputs": [],
   "source": [
    "N = 20 \n",
    "# solve the laplace equation - Δu = 1\n",
    "L = L2d(20)\n",
    "F = ones(size(L,1))\n",
    "U = L \\ F;"
   ]
  },
  {
   "cell_type": "code",
   "execution_count": null,
   "metadata": {},
   "outputs": [],
   "source": [
    "# postprocess for plotting; use plotly backend to manipulate the plot\n",
    "Plots.plotly()\n",
    "U0 = zeros(N+1, N+2) \n",
    "U0[2:N, 2:N] = reshape(U, (N-1, N-1))\n",
    "x = range(0, 1, length = N+1)\n",
    "surface(x, x, U0)"
   ]
  },
  {
   "cell_type": "markdown",
   "metadata": {},
   "source": [
    "The convergence theory / error analysis for the $d$-dimensional setting is essentially equivalant to the one-dimensional one. I.e. we can prove that \n",
    "\n",
    "$$\n",
    "    \\| U - u \\|_\\infty \\leq C h^2.\n",
    "$$\n",
    "\n",
    "Let's check this numerically via the method of manufactured solutions: If we take $u(x_1, x_2) = \\sin(\\pi x_1) \\sin(\\pi x_2)$, then we have $- \\Delta u = \\pi^2 u$."
   ]
  },
  {
   "cell_type": "code",
   "execution_count": null,
   "metadata": {},
   "outputs": [],
   "source": [
    "ufun = (x1, x2) -> sin(pi*x1)*sin(pi*x2)\n",
    "err = []\n",
    "NN = (2).^(3:7)\n",
    "for N in NN \n",
    "    x = range(0, 1, length=N+1)\n",
    "    o = ones(N+1)\n",
    "    u = ufun.(x*o', o*x')\n",
    "    F = 2*pi^2 * u[2:N,2:N][:]\n",
    "    U = L2d(N) \\ F \n",
    "    push!(err, norm(u[2:N,2:N][:] - U, Inf))\n",
    "end "
   ]
  },
  {
   "cell_type": "code",
   "execution_count": null,
   "metadata": {},
   "outputs": [],
   "source": [
    "plot(NN.^(-1), err, lw=3, ms = 5, m = :o, label = \"error\", xscale = :log10, yscale = :log10, size = (400, 200))\n",
    "plot!(NN[3:end].^(-1), NN[3:end].^(-2), lw=2, ls=:dash, c=:black, label = \"h^2\", legend = :topleft)"
   ]
  },
  {
   "cell_type": "code",
   "execution_count": null,
   "metadata": {},
   "outputs": [],
   "source": []
  }
 ],
 "metadata": {
  "kernelspec": {
   "display_name": "Julia 1.5.1",
   "language": "julia",
   "name": "julia-1.5"
  },
  "language_info": {
   "file_extension": ".jl",
   "mimetype": "application/julia",
   "name": "julia",
   "version": "1.5.1"
  }
 },
 "nbformat": 4,
 "nbformat_minor": 4
}
