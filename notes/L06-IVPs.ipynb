{
 "cells": [
  {
   "cell_type": "markdown",
   "metadata": {},
   "source": [
    "###  Announcements\n",
    "\n",
    "- Assignments are graded and will be released soon\n",
    "- Many notebooks had to be manually altered to enable auto-grading: \n",
    "    - please do not duplicate cells\n",
    "    - please validate your assignment before submitting; I will explain how this is done.\n",
    "    - if there are discrepancies between what you submitted and what you get feedback on, then please get in touch."
   ]
  },
  {
   "cell_type": "markdown",
   "metadata": {
    "slideshow": {
     "slide_type": "slide"
    }
   },
   "source": [
    "# MATH 405/607 \n",
    "\n",
    "# Numerical Methods for Differential Equations\n",
    "\n",
    "[[Instructor: Christoph Ortner]](http://www.math.ubc.ca/~ortner/)  [[CANVAS]](https://canvas.ubc.ca/courses/55324)\n",
    "\n",
    "\n",
    "## IVPs Part 1 \n",
    "\n",
    "* Review of basic ODE theory \n",
    "* Euler method\n",
    "* Improved Euler method\n",
    "* Truncation error analysis, order of a method\n",
    "* Runge-Kutta methods "
   ]
  },
  {
   "cell_type": "markdown",
   "metadata": {
    "slideshow": {
     "slide_type": "slide"
    }
   },
   "source": [
    "**References:** \n",
    "* https://fncbook.github.io/fnc\n",
    "* E. Süli and D. Mayer, An Introduction to Numerical Analysis, Ch. 12\n",
    "* https://people.maths.ox.ac.uk/trefethen/1all.pdf\n",
    "* E. Hairer and G. Wanner, Solving Ordinary Differential Equations I & II, Springer, 1993 & 1996\n",
    "\n",
    "For this lecture I'm following https://fncbook.github.io/fnc/ivp/ quite closely as it provides a very nice and intuitive introduction to the numerical solution of IVPs. "
   ]
  },
  {
   "cell_type": "code",
   "execution_count": null,
   "metadata": {
    "slideshow": {
     "slide_type": "slide"
    }
   },
   "outputs": [],
   "source": [
    "include(\"../math405.jl\")"
   ]
  },
  {
   "cell_type": "markdown",
   "metadata": {
    "slideshow": {
     "slide_type": "slide"
    }
   },
   "source": [
    "### An Example: SIR Models\n",
    "\n",
    "$$\\begin{aligned} \n",
    " \\dot{S}(t) &= -\\frac{\\beta I S}{N} \\\\ \n",
    " \\dot{I}(t) &= \\frac{\\beta I S}{N} - \\gamma I \\\\ \n",
    " \\dot{R}(t) &= \\gamma I \n",
    "\\end{aligned}$$\n",
    "* $S(t)$ = number of individual susceptible to a disease\n",
    "* $I(t)$ = number of infectuous individuals (have been infected and are capable of infecting susceptible individuals)\n",
    "* $R(t)$ = number of individuals who have recovered or died ($R$ stands for \"removed\")\n",
    "* $\\beta, \\gamma$ are model parameters, $N$ is the total population"
   ]
  },
  {
   "cell_type": "code",
   "execution_count": null,
   "metadata": {
    "slideshow": {
     "slide_type": "subslide"
    }
   },
   "outputs": [],
   "source": [
    "using OrdinaryDiffEq\n",
    "# u = [S, I, R]\n",
    "const β = 1.23; const γ = 0.789; const N = 10_000\n",
    "f(t, u) = [ - β * u[1] * u[2] / N, \n",
    "              β * u[1] * u[2] / N - γ * u[2], \n",
    "                                    γ * u[2] ]\n",
    "u0 = [ N * 0.95, N * 0.05, 0.0 ]\n",
    "prob = ODEProblem((u,p,t) -> f(t, u), u0, (0.0, 20.0))\n",
    "sol = solve(prob, Tsit5());\n",
    "\n",
    "plot(sol, vars = 1, lw=3, label = \"S\", size = (600, 300), ylabel=\"population\")\n",
    "plot!(sol, vars = 2, lw=3, label = \"I\")\n",
    "plot!(sol, vars = 3, lw=3, label = \"R\")"
   ]
  },
  {
   "cell_type": "markdown",
   "metadata": {
    "slideshow": {
     "slide_type": "slide"
    }
   },
   "source": [
    "So what is behind these numerical ODE solver? \n",
    "* First review some very basic ODE theory\n",
    "* Discuss the basic principles on the most elementary scheme, Forward Euler \n",
    "* Sketch briefly how to extend to higher-order methods\n",
    "* Introduce Runge-Kutta methods\n",
    "\n",
    "Next two lectures: qualitative properties of ODE solvers, stability, stiffness, ..."
   ]
  },
  {
   "cell_type": "markdown",
   "metadata": {
    "slideshow": {
     "slide_type": "slide"
    }
   },
   "source": [
    "### Review of IVPs\n",
    "\n",
    "An initial value problem (IVP) is an ODE of the form \n",
    "\n",
    "$$ \\begin{aligned}\n",
    "   \\dot{u} &= f(t, u(t)), \\qquad t \\in (0, T], \\\\ \n",
    "     u(0) &= u_0\n",
    "\\end{aligned} $$\n",
    "\n",
    "where $f : (0, T] \\times D \\to \\mathbb{R}^N$, $D \\subset \\mathbb{R}^N$, $T > 0$ (possibly infinite) and $u_0 \\in \\mathbb{R}^N$.\n",
    "\n",
    "Higher-order problems, such as \n",
    "$$ \n",
    "    m \\ddot{u} + \\gamma \\dot{u} = f(t, u)\n",
    "$$\n",
    "can be rewritten as extended systems in terms of $x = (u, v) = (u, \\dot{u})$, \n",
    "$$\n",
    "    \\begin{pmatrix} \\dot{u} \\\\ \\dot{v} \\end{pmatrix}\n",
    "    = \n",
    "    \\begin{pmatrix} v \\\\ m^{-1}(f(t, u) - \\gamma v) \\end{pmatrix}\n",
    "$$\n",
    "**NB: this is not always a good idea; see L08!**"
   ]
  },
  {
   "cell_type": "markdown",
   "metadata": {
    "slideshow": {
     "slide_type": "subslide"
    }
   },
   "source": [
    "**REMARKS:** \n",
    "* Throughout this lecture, if you are uncomfortable with multi-variate calculus in $\\mathbb{R}^N$, e.g. jacobi matrix, partial derivatives, norms and inner products, then just take $N = 1, 2, 3$.\n",
    "* If you are uncomfortable with $\\mathbb{R}^N$ because it is \"too concrete\", then just replace $\\mathbb{R}^N$ with a Banach space and everything will still work (sort of, sometimes you want a Hilbert space...)"
   ]
  },
  {
   "cell_type": "markdown",
   "metadata": {
    "slideshow": {
     "slide_type": "subslide"
    }
   },
   "source": [
    "### Review of IVPs\n",
    "\n",
    "For simplicity we always assume $f \\in C^1([0, \\infty) \\times \\mathbb{R}^N)$ and solve the IVP on $[0, \\infty)$\n",
    "\n",
    "$$ \\begin{aligned}\n",
    "   \\dot{u} &= f(t, u(t)), \\qquad t > 0 \\\\ \n",
    "     u(0) &= u_0\n",
    "\\end{aligned} $$"
   ]
  },
  {
   "cell_type": "markdown",
   "metadata": {
    "slideshow": {
     "slide_type": "fragment"
    }
   },
   "source": [
    "**Existence and Uniqueness (simplified):** If $|\\partial f / \\partial u|$ is bounded, then $\\exists! u \\in C^1([0, \\infty); \\mathbb{R}^N)$ solving the IVP."
   ]
  },
  {
   "cell_type": "markdown",
   "metadata": {
    "slideshow": {
     "slide_type": "fragment"
    }
   },
   "source": [
    "**Maximal Existence and Blowup:** without boundedness of $|\\partial f / \\partial u|$\n",
    "$\\exists! T_* \\in (0, \\infty], u \\in C^1([0, T_*); \\mathbb{R}^N)$ such that \n",
    "* $u$ solves the IVP on $(0, T_*)$; and\n",
    "* if $T_* < \\infty$, then $|u(t)| \\to \\infty$ as $t \\to T_*$.\n",
    "\n",
    "see Assignment A3!"
   ]
  },
  {
   "cell_type": "markdown",
   "metadata": {
    "slideshow": {
     "slide_type": "subslide"
    }
   },
   "source": [
    "Blow-up in action: \n",
    "\n",
    "* No blow-up, solution exists for $t \\to \\infty$\n",
    "$$ \n",
    "    \\dot{u} = u, u(0) = 1 \\qquad \\Rightarrow \\qquad u(t) = e^t\n",
    "$$\n",
    "\n",
    "* Finite-time blow-up: solution cannot be extended past $t = 1$\n",
    "$$ \n",
    "    \\dot{u} = u^2, u(0) = 1 \\qquad \\Rightarrow \\qquad u(t) = \\frac{1}{1-t}\n",
    "$$"
   ]
  },
  {
   "cell_type": "markdown",
   "metadata": {
    "slideshow": {
     "slide_type": "subslide"
    }
   },
   "source": [
    "### An Example: SIR Models\n",
    "\n",
    "$$\\begin{aligned} \n",
    " \\dot{S}(t) &= -\\frac{\\beta I S}{N} \\\\ \n",
    " \\dot{I}(t) &= \\frac{\\beta I S}{N} - \\gamma I \\\\ \n",
    " \\dot{R}(t) &= \\gamma I \n",
    "\\end{aligned}$$\n",
    "or to bring it into the form $\\dot{u} = f(u)$ just write \n",
    "$$\n",
    "    \\frac{d}{dt} \\begin{pmatrix} S \\\\ I \\\\ R \\end{pmatrix}\n",
    "    = \n",
    "    \\begin{pmatrix}\n",
    "        - \\beta I S / N \\\\ \n",
    "        \\beta I S / N - \\gamma I \\\\ \n",
    "        \\gamma I \n",
    "    \\end{pmatrix}\n",
    "$$\n",
    "i.e. $u = (S, I, R)$ and $f(u) = (- \\beta I S / N, \\beta I S / N - \\gamma I, \\gamma I )$"
   ]
  },
  {
   "cell_type": "markdown",
   "metadata": {
    "slideshow": {
     "slide_type": "slide"
    }
   },
   "source": [
    "\n",
    "## Towards our first ODE Solver\n",
    "\n",
    "$$\n",
    "\\dot{u} = f(t, u(t))\n",
    "$$ \n",
    "Many analogues with the intro lecture on BVPs:\n",
    "* discretise the solution, i.e., we will seek an approximation to $U_n \\approx u(t_n)$ at grid points $t_n = h n$.\n",
    "* as before need to discretise the ODE as well!"
   ]
  },
  {
   "cell_type": "markdown",
   "metadata": {
    "slideshow": {
     "slide_type": "fragment"
    }
   },
   "source": [
    "If we know $u(t_n)$ then we can approximate $u(t_n+h)$ via Taylor expansion, \n",
    "$$ \n",
    "    u(t_{n+1})= u(t_n + h) = u(t_n) + h \\dot{u}(t_n) + \\frac{h^2}{2} \\ddot{u}(\\tau_n)\n",
    "$$\n",
    "But $u$ solves the ODE, so $\\dot u = f$, hence \n",
    "$$ \n",
    "    u(t_{n+1}) = u(t_n + h) + h f(t_n, u(t_n)) + \\frac{h^2}{2} \\ddot{u}(\\tau_n)\n",
    "$$\n",
    "Inserting $U_n \\approx u(t_n)$ and dropping the remainder yields .... "
   ]
  },
  {
   "cell_type": "markdown",
   "metadata": {
    "slideshow": {
     "slide_type": "subslide"
    }
   },
   "source": [
    "## Forward Euler Method\n",
    "\n",
    "$$ \n",
    "  U_{n+1} = U_n + h f(t_n, U_n)\n",
    "$$"
   ]
  },
  {
   "cell_type": "code",
   "execution_count": null,
   "metadata": {
    "slideshow": {
     "slide_type": "fragment"
    }
   },
   "outputs": [],
   "source": [
    "function euler(f, u0, h, T)\n",
    "    t = 0.0:h:T \n",
    "    U = zeros(length(u0), length(t)); U[:, 1] = u0 \n",
    "    for n = 2:length(t) \n",
    "        U[:,n] = U[:,n-1] + h * f(t[n-1], U[:,n-1])\n",
    "    end \n",
    "    return U, t\n",
    "end"
   ]
  },
  {
   "cell_type": "code",
   "execution_count": null,
   "metadata": {
    "slideshow": {
     "slide_type": "subslide"
    }
   },
   "outputs": [],
   "source": [
    "U, tt = euler(f, u0, 0.5, 20.0)   # play with the time-step!!\n",
    "plot(sol, label = \"\", size = (600, 300), lw=2, ls = :dash, ylabel=\"population\")\n",
    "plot!(tt, U[1,:], lw=3, c=1, label = \"S\", size = (600, 300))\n",
    "plot!(tt, U[2,:], lw=3, c=2, label = \"I\")\n",
    "plot!(tt, U[3,:], lw=3, c=3, label = \"R\")"
   ]
  },
  {
   "cell_type": "markdown",
   "metadata": {
    "slideshow": {
     "slide_type": "slide"
    }
   },
   "source": [
    "## Error Analysis\n",
    "\n",
    "Very similar strategy as for the BVP: "
   ]
  },
  {
   "cell_type": "markdown",
   "metadata": {
    "slideshow": {
     "slide_type": "fragment"
    }
   },
   "source": [
    "1. take the exact solution and insert it into the numerical scheme $\\to$ *truncation error*\n",
    "$$ \\begin{aligned}\n",
    "  u(t_{n+1}) &= u(t_n) + h f(t_n, u(t_n)) + \\frac{h^2}{2} \\ddot{u}(\\tau_n) \\\\ \n",
    "             &=: u(t_n) + h f(t_n, u(t_n)) + h T_n \\\\ \n",
    "\\end{aligned} $$\n",
    "where $\\|T_n\\| \\leq \\frac{1}{2} h \\|\\ddot{u}\\|_\\infty$."
   ]
  },
  {
   "cell_type": "markdown",
   "metadata": {
    "slideshow": {
     "slide_type": "fragment"
    }
   },
   "source": [
    "2. Subtract the numerical solution $U_{n+1} = U_n + h f(t_n, U_n)$\n",
    "$$ \\begin{aligned}\n",
    "   u(t_{n+1}) - U_{n+1}  &= u(t_n) - U_n + h [f(t_n, u(t_n)) - f(u_n, U_n)] + h T_n \\\\ \n",
    "   \\|u(t_{n+1}) - U_{n+1}\\| &\\leq \\|u(t_n) - U_n\\| + h \\|f(t_n, u(t_n)) - f(u_n, U_n)\\| + h \\|T_n\\|\n",
    "\\end{aligned} $$"
   ]
  },
  {
   "cell_type": "markdown",
   "metadata": {
    "slideshow": {
     "slide_type": "subslide"
    }
   },
   "source": [
    "$$ \n",
    "   \\|u(t_{n+1}) - U_{n+1}\\| \\leq \\|u(t_n) - U_n\\| + h \\|f(t_n, u(t_n)) - f(t_n, U_n)\\| + h \\|T_n\\|\n",
    "$$\n",
    "\n",
    "3. This step is different (and ad hoc): remove the nonlinearity ... Let's assume that $\\|\\partial_u f\\| \\leq L$, then $\\|f(t_n, u(t_n)) - f(t_n, U_n)\\| \\leq L \\| u(t_n) - U_n \\|$ and hence\n",
    "\n",
    "$$\n",
    "   \\|u(t_{n+1}) - U_{n+1}\\| \\leq \\|u(t_n) - U_n\\| + h L \\|u(t_n) - U_n\\| + h \\|T_n\\| \n",
    "$$\n"
   ]
  },
  {
   "cell_type": "markdown",
   "metadata": {
    "slideshow": {
     "slide_type": "fragment"
    }
   },
   "source": [
    "4. Stability: Call $e_n := \\|u(t_n) - U_n\\|$ and use $\\|T_n\\| \\leq C h$ then we have \n",
    "$$ \n",
    "    e_{n+1} \\leq (1+ h L) e_n + C h^2 \n",
    "$$\n",
    "Using $e_0 = 0$ and induction we obtain\n",
    "$$ \n",
    "    e_n \\leq C h \\frac{ (1+hL)^n - 1 }{L} \\leq C h \\frac{e^{L t_n} - 1}{L}.\n",
    "$$\n",
    "(this is called a Gronwall inequality; cf. recorded lecture...)"
   ]
  },
  {
   "cell_type": "markdown",
   "metadata": {
    "slideshow": {
     "slide_type": "subslide"
    }
   },
   "source": [
    "### Summary Error Analysis: \n",
    "\n",
    "$$\\begin{aligned} \n",
    "    \\dot{u} &= f(t, u(t)), \\qquad u(0) = u_0, \\\\ \n",
    "    U_{n+1} &= U_n + h f(t_n, U_n), \\qquad U_0 = u_0\n",
    "\\end{aligned}$$\n",
    "\n",
    "**Theorem:** Suppose that $\\| \\partial_u f(t, u)\\| \\leq L$ for all $t, u$, then \n",
    "$$\n",
    "    \\| u(t_n) - U_n \\| \\leq C_{n,f,u} h\n",
    "$$\n",
    "where \n",
    "$$ \n",
    "    C_{n,f,u} = \\frac{\\|\\ddot{u} \\|_\\infty (e^{L t_n} - 1)}{2L}\n",
    "$$"
   ]
  },
  {
   "cell_type": "markdown",
   "metadata": {
    "slideshow": {
     "slide_type": "fragment"
    }
   },
   "source": [
    "**Remark:** If we want an approximate continuous trajectory, then we can interpolate $(U_n)$, e.g., if we use the piecewise affine interpolant\n",
    "$$ \n",
    "    U(t) = U_n \\frac{t - t_{n}}{t_{n+1}-t_n} + U_{n+1} \\frac{t_{n+1}-t}{t_{n+1} - t_n}, \\qquad t \\in [t_n, t_{n+1}],\n",
    "$$\n",
    "then we have $\\dot U = f(t, \\lceil U \\rceil)$ and $\\|U - u \\|_\\infty \\leq C_{f,u} h$. Most numerical ODE solvers come with such an embedded interpolation scheme that allows us to evaluate the approximate trajectory between the integration points. "
   ]
  },
  {
   "cell_type": "markdown",
   "metadata": {
    "slideshow": {
     "slide_type": "slide"
    }
   },
   "source": [
    "### Next Steps\n",
    "\n",
    "* More advanced integrators, e.g., higher-order (smaller error)\n",
    "    - Runge-Kutta methods\n",
    "    - Multi-step methods \n",
    "* Qualitative properties of exact vs numerical solutions\n",
    "    - Dissipative systems\n",
    "    - stiff problems \n",
    "    - Hamiltonian systems\n",
    "* Automatic choice of step-lengths\n",
    "    - (a posteriori) error indicators\n",
    "* Time-stepping for time-depending PDEs"
   ]
  },
  {
   "cell_type": "markdown",
   "metadata": {
    "slideshow": {
     "slide_type": "subslide"
    }
   },
   "source": [
    "**Julia codes:**\n",
    "\n",
    "* ODE solvers suite: [OrdinaryDiffEq.jl](https://github.com/SciML/OrdinaryDiffEq.jl)\n",
    "* Wider ecosystem: [DifferentialEquations.jl](https://github.com/SciML/DifferentialEquations.jl)\n",
    "* Tutorial: https://diffeq.sciml.ai/stable/tutorials/ode_example/\n",
    "* Choice of solvers: https://diffeq.sciml.ai/stable/solvers/ode_solve/\n",
    "* An older library based on Matlab's ODE solvers: [ODE.jl](https://github.com/SciML/ODE.jl)\n",
    "\n",
    "**Other important ODE codes:**\n",
    "\n",
    "* The [Matlab ODE suite](https://www.mathworks.com/help/pdf_doc/otherdocs/ode_suite.pdf)\n",
    "* More or less an industry standard: [SUNDIALS](https://computing.llnl.gov/projects/sundials)\n",
    "* An older industry standard: [ODEPACK](https://computing.llnl.gov/casc/odepack/)\n",
    "* A [comparison](http://www.stochasticlifestyle.com/comparison-differential-equation-solver-suites-matlab-r-julia-python-c-fortran/) "
   ]
  },
  {
   "cell_type": "markdown",
   "metadata": {
    "slideshow": {
     "slide_type": "slide"
    }
   },
   "source": [
    "## Higher-Order Methods \n",
    "\n",
    "$$\n",
    "    \\dot{u}(t) = f(t, u(t))\n",
    "$$\n",
    "\n",
    "To derive Euler's method we performed a Taylor expansion \n",
    "$$ \n",
    "    u(t_n+h) = u(t_n) + h \\dot{u}(t_n) + \\frac{h^2}{2} \\ddot{u}(\\tau_n)\n",
    "$$\n",
    "and truncated the $O(h^2)$ term."
   ]
  },
  {
   "cell_type": "markdown",
   "metadata": {
    "slideshow": {
     "slide_type": "fragment"
    }
   },
   "source": [
    "To get a higher-order method, let's continue the expansion. \n",
    "$$ \n",
    "    u(t_n+h) = u(t_n) + h \\dot{u}(t_n) + \\frac{h^2}{2} \\ddot{u}(t_n) + O(h^3)\n",
    "$$\n",
    "As before, we have $\\dot{u}(t_n) = f(t_n, u(t_n))$, but $\\ddot{u}$ is a bit trickier: "
   ]
  },
  {
   "cell_type": "markdown",
   "metadata": {
    "slideshow": {
     "slide_type": "subslide"
    }
   },
   "source": [
    "$$\n",
    "\\ddot{u}(t) = \\frac{d}{dt} \\dot{u} = \\frac{d}{dt} f(t, u(t))\n",
    "    = \\partial_t f(t, u(t)) + \\partial_u f(t, u(t)) \\dot{u}(t)\n",
    "$$\n",
    "This suggests that we need to evaluate $\\partial_t f, \\partial_u f$, putting a huge burden on the code. Can we avoid this?"
   ]
  },
  {
   "cell_type": "markdown",
   "metadata": {
    "slideshow": {
     "slide_type": "fragment"
    }
   },
   "source": [
    "$$ \n",
    "    \\ddot{u}(t) = \\frac{d}{dt} f(t, u(t)) = \\frac{f(t+h, u(t+h)) - f(t, u(t))}{h} + O(h)\n",
    "$$"
   ]
  },
  {
   "cell_type": "markdown",
   "metadata": {
    "slideshow": {
     "slide_type": "fragment"
    }
   },
   "source": [
    "Remember we started from \n",
    "$$ \n",
    "    u(t_n+h) = u(t_n) + h \\dot{u}(t_n) + \\frac{h^2}{2} \\ddot{u}(t_n) + O(h^3)\n",
    "$$\n",
    "Dropping $O(h^3)$ this suggests the following scheme: \n",
    "$$\n",
    "    U_{n+1} = U_n + h f(t_n, U_n) + \\frac{h^2}{2} \\frac{f(t_{n+1}, U_{n+1}) - f(t_n, U_n)}{h}\n",
    "$$"
   ]
  },
  {
   "cell_type": "markdown",
   "metadata": {
    "slideshow": {
     "slide_type": "subslide"
    }
   },
   "source": [
    "### The Crank-Nicholson Method \n",
    "\n",
    "After re-arranging we get \n",
    "$$\n",
    "    U_{n+1} = U_n + h \\frac{f(t_n, U_n) + f(t_{n+1}, U_{n+1})}{2}\n",
    "$$\n",
    "\n",
    "* This is an *implicit scheme*: one time-step requires solution of a (nonlinear) equation for $U_{n+1}$.\n",
    "* There are specific problems where implicit schemes are important; we will return to this topic later.\n"
   ]
  },
  {
   "cell_type": "markdown",
   "metadata": {
    "slideshow": {
     "slide_type": "fragment"
    }
   },
   "source": [
    "**Remark:** Connection with trapezoidal rule quadrature and therefore with polynomial interpolation:\n",
    "$$\\begin{aligned}\n",
    "    u(t_{n+1}) &= u(t_n) + \\int_{t_n}^{t_{n+1}} \\dot{u}(t) \\,dt \\\\ \n",
    "    &= u(t_n) + \\int_{t_n}^{t_{n+1}} f(t, u(t)) \\,dt \\\\ \n",
    "    &\\approx u(t_n) + h \\frac{ f(t_n, u(t_n)) + f(t_{n+1}, u(t_{n+1})) }{2}\n",
    "\\end{aligned}$$"
   ]
  },
  {
   "cell_type": "markdown",
   "metadata": {
    "slideshow": {
     "slide_type": "subslide"
    }
   },
   "source": [
    "How can we avoid the nonlinear equation?\n",
    "$$\n",
    "    U_{n+1} = U_n + h \\frac{f(t_n, U_n) + f(t_{n+1}, U_{n+1})}{2}\n",
    "$$\n",
    "\n",
    "* $U_n + h f(t_n, U_n)$ already gives an approximation to $u(t_{n+1})$. \n",
    "* If $U_n = u(t_n)$, then $U_n + h f(t_n, U_n) = u(t_{n+1}) + O(h^2)$. \n",
    "* With the additional $h$ in front of the average, this becomes $O(h^3)$ which is precisely the order at which we have truncated."
   ]
  },
  {
   "cell_type": "markdown",
   "metadata": {
    "slideshow": {
     "slide_type": "fragment"
    }
   },
   "source": [
    "### Improved Euler Method \n",
    "\n",
    "$$\n",
    "    U_{n+1} = U_n + h \\frac{f(t_n, U_n) + f\\big(t_{n+1}, U_n + h f(t_n, U_n)\\big)}{2}\n",
    "$$\n",
    "\n",
    "* $O(h^2)$ accuracy (see below) at the cost of 2 function evaluations per step\n",
    "* We can interpret this as a *Predictor-corrector method* or as a *Runge-Kutta method* -> we look at these next."
   ]
  },
  {
   "cell_type": "code",
   "execution_count": null,
   "metadata": {
    "slideshow": {
     "slide_type": "slide"
    }
   },
   "outputs": [],
   "source": [
    "function ieuler(f, u0, h, T)\n",
    "    t = 0.0:h:T \n",
    "    U = zeros(length(u0), length(t)); U[:, 1] = u0 \n",
    "    for n = 2:length(t) \n",
    "        F = f(t[n-1], U[:,n-1])\n",
    "        U[:,n] = U[:,n-1] + 0.5 * h * (F + f(t[n], U[:,n-1] + h * F))\n",
    "    end \n",
    "    return U, t\n",
    "end"
   ]
  },
  {
   "cell_type": "code",
   "execution_count": null,
   "metadata": {
    "slideshow": {
     "slide_type": "fragment"
    }
   },
   "outputs": [],
   "source": [
    "Ue, tt = euler(f, u0, 0.5, 20.0)   # play with the time-step!!\n",
    "Ui, tt = ieuler(f, u0, 0.5, 20.0)   # play with the time-step!!\n",
    "plot(sol, label = \"\", size = (600, 300), lw=2, ls = :dash, ylabel = \"population\")\n",
    "plot!(tt, Ui[1,:], lw=3, c=1, label = \"S\"); plot!(tt, Ue[1,:], lw=2, style=:dot, c=1, label = \"\")\n",
    "plot!(tt, Ui[2,:], lw=3, c=2, label = \"I\"); plot!(tt, Ue[2,:], lw=2, style=:dot, c=2, label = \"\")\n",
    "plot!(tt, Ui[3,:], lw=3, c=3, label = \"R\"); plot!(tt, Ue[3,:], lw=2, style=:dot, c=3, label = \"\")"
   ]
  },
  {
   "cell_type": "markdown",
   "metadata": {
    "slideshow": {
     "slide_type": "subslide"
    }
   },
   "source": [
    "### Convergence study\n",
    "...validating the theory and the code "
   ]
  },
  {
   "cell_type": "code",
   "execution_count": null,
   "metadata": {},
   "outputs": [],
   "source": [
    "get_err(sol, U, tt) = maximum(norm(sol(t) - u) for (t, u) in zip(tt, eachcol(U)))\n",
    "hh = 0.5.^(-1:5); err_eu = [ ]; err_ieu = [ ]\n",
    "sol = solve(prob, Tsit5(), abstol = 1e-8, reltol=1e-8);\n",
    "for h in hh \n",
    "    push!(err_eu,  get_err(sol,  euler(f, u0, h, 20.0)...))\n",
    "    push!(err_ieu, get_err(sol, ieuler(f, u0, h, 20.0)...))\n",
    "end"
   ]
  },
  {
   "cell_type": "code",
   "execution_count": null,
   "metadata": {
    "slideshow": {
     "slide_type": "fragment"
    }
   },
   "outputs": [],
   "source": [
    "plot(hh, err_eu/N, lw=3, m=:o, ms=6, label=\"Euler Method\", xaxis = :log, yaxis = :log, xlabel = L\"h\", ylabel = L\"\\|u - U\\|_\\infty / N\", size = (600, 300), legend = :outertopright) \n",
    "plot!(hh, err_ieu/N, lw=3, m=:o, ms=6, label = \"Improved Euler M.\")\n",
    "plot!(hh[2:end-1], 0.2*hh[2:end-1], lw=2, c=:black, ls=:dash, label = L\"h, h^2\")\n",
    "plot!(hh[2:end-1], 0.01*hh[2:end-1].^2, lw=2, c=:black, ls=:dash, label = \"\")\n",
    "plot!(hh[1:end-4], 0.0002*hh[1:end-4].^5, lw=2, c=:lightgrey, ls=:dash, label = L\"h^5\")"
   ]
  },
  {
   "cell_type": "markdown",
   "metadata": {
    "slideshow": {
     "slide_type": "slide"
    }
   },
   "source": [
    "### Error Analysis of (Explicit) Higher-Order Schemes\n",
    "\n",
    "We can rewrite the improved Euler method much more briefly as\n",
    "\n",
    "$$\\begin{aligned}\n",
    "    U_{n+1} &=  U_n + h \\Phi(t_n, U_n, h) \\\\ \n",
    "    &:= U_n + h \\frac{f(t_n, U_n) + f\\big(t_{n}+h, U_n + h f(t_n, U_n)\\big)}{2}\n",
    "\\end{aligned}$$\n",
    "\n",
    "In fact all *explicit one-step methods* can be written in this way! "
   ]
  },
  {
   "cell_type": "markdown",
   "metadata": {
    "slideshow": {
     "slide_type": "fragment"
    }
   },
   "source": [
    "If we have such a method, then we can ask what the truncation error is. Suppose $u$ solved the ODE, then \n",
    "\n",
    "$$ \n",
    "   u(t_n + h) = u(t_n) + h \\Phi(t_n, u(t_n), h) + h T_n\n",
    "$$\n",
    "where \n",
    "$$ \n",
    "    T_n = \\frac{ u(t_n + h) - u(t_n)}{h} - \\Phi(t_n, u(t_n), h)\n",
    "$$\n",
    "is called the *truncation error* or *local truncation error*. It measures the *additional error* we commit in one time-step."
   ]
  },
  {
   "cell_type": "markdown",
   "metadata": {
    "slideshow": {
     "slide_type": "subslide"
    }
   },
   "source": [
    "**Definition:** We say that a numerical integrator is of order $p$ if $|T_n| = O(h^p)$ as $h \\to 0$."
   ]
  },
  {
   "cell_type": "markdown",
   "metadata": {
    "slideshow": {
     "slide_type": "fragment"
    }
   },
   "source": [
    "**Theorem:** If an integrator $\\Phi$ is of order $p$, i.e., $\\|T_n\\| \\leq C h^p$ and if we have the Lipschitz bound $|\\partial_u \\Phi(t, u, h)| \\leq L$ for all $t, u$, then \n",
    "\n",
    "$$ \n",
    "    \\| u(t_n) - U_n \\| \\leq C_{n,f,u} h^p\n",
    "$$\n",
    "\n",
    "where $C_{n,f,u} =  C \\frac{e^{L t_n} - 1}{L}$. \n",
    "\n",
    "**Proof:** the proof is identical to the one for the basic Euler method; see [here](https://fncbook.github.io/fnc/ivp/euler.html) for a sketch.\n"
   ]
  },
  {
   "cell_type": "markdown",
   "metadata": {
    "slideshow": {
     "slide_type": "slide"
    }
   },
   "source": [
    "# Outlook: Runge-Kutta Methods \n",
    "\n",
    "A nice and \"tidy\" way to implement the improved Euler method, \n",
    "$$ \n",
    "U_{n+1} =  U_n + h \\frac{f(t_n, U_n) + f\\big(t_{n}+h, U_n + h f(t_n, U_n)\\big)}{2}\n",
    "$$\n",
    "is \n",
    "```\n",
    "While t < T\n",
    "    k1 = h * f(t, U)\n",
    "    k2 = h * f(t+h, U + k1)\n",
    "    U = U + 0.5 * k1 + 0.5 * k2 \n",
    "    t = t + h \n",
    "end\n",
    "```\n",
    "This is called a 2-stage Runge-Kutta (RK) method."
   ]
  },
  {
   "cell_type": "markdown",
   "metadata": {
    "slideshow": {
     "slide_type": "subslide"
    }
   },
   "source": [
    "**Definition:** An $s$-stage explicit RK method is an integrator of the form \n",
    "\n",
    "$$\\begin{aligned}\n",
    "    k_1 &= h f(t_n, U_n) \\\\ \n",
    "    k_2 &= h f(t_n + c_2 h, U_n + a_{21} k_1) \\\\ \n",
    "    k_3 &= h f(t_n + c_3 h, U_n + a_{31} k_1 + a_{32} k_2) \\\\ \n",
    "    &\\vdots \\\\ \n",
    "    k_{s} &= h f(t_n + c_{s} h, U_n + a_{s,1} k_1 + \\dots + a_{s,s-1} k_{s-1}) \\\\ \n",
    "    U_{n+1} &= U_n + b_1 k_1 + b_2 k_2 + \\dots + b_s k_s\n",
    "\\end{aligned}$$\n",
    "\n",
    "The recipe is usually displayed in a [*Butcher table*](https://en.wikipedia.org/wiki/John_C._Butcher), \n",
    "\n",
    "$$\n",
    "\\begin{array}{c|ccccc}\n",
    "    0      &       & & & &  \\\\\n",
    "    c_2    & a_{21}   &&& &   \\\\\n",
    "    c_3    & a_{31} & a_{32} & & &   \\\\\n",
    "    \\vdots &   \\vdots     &   & \\ddots & &  \\\\\n",
    "    c_{s}    & a_{s,1} & a_{s,2} & \\cdots & a_{s,s-1} &   \\\\ \\hline\n",
    "           &  b_1 & b_2 & \\cdots & b_{s-1} & b_s \n",
    "\\end{array}\n",
    "$$"
   ]
  },
  {
   "cell_type": "markdown",
   "metadata": {
    "slideshow": {
     "slide_type": "subslide"
    }
   },
   "source": [
    "E.g., the improved Euler method is given by \n",
    "$$\n",
    "\\begin{array}{c|cc}\n",
    "    0 &   & \\\\\n",
    "    1 & 1 & \\\\ \\hline \n",
    "      & 1/2 & 1/2 \n",
    "\\end{array}\n",
    "$$"
   ]
  },
  {
   "cell_type": "markdown",
   "metadata": {
    "slideshow": {
     "slide_type": "fragment"
    }
   },
   "source": [
    "The most famous and most common RK method (RK4)\n",
    "$$ \n",
    "\\begin{array}{c|cccc}\n",
    "    0   &      &   &   & \\\\\n",
    "    1/2 & 1/2  &   &   & \\\\\n",
    "    1/2 &   0  & 1/2 & & \\\\\n",
    "    1   &   0  & 0 & 1 & \\\\ \\hline \n",
    "        & 1/6 & 1/3 & 1/3 & 1/6 \n",
    "\\end{array}\n",
    "$$\n",
    "Notice the many zeros!"
   ]
  },
  {
   "cell_type": "markdown",
   "metadata": {
    "slideshow": {
     "slide_type": "subslide"
    }
   },
   "source": [
    "And just for fun ... Fehlberg, 13-stage, order-8 method:\n",
    "$$\n",
    "\\begin{split}\\renewcommand{\\arraystretch}{1.5}\n",
    "\\begin{array}{r|ccccccccccccc}\n",
    "  0&   0& 0& 0& 0& 0& 0& 0& 0& 0& 0& 0& 0& 0\\\\\n",
    "  \\frac{2}{27}&   \\frac{2}{27}& 0& 0& 0& 0& 0& 0& 0& 0& 0& 0& 0& 0\\\\\n",
    "  \\frac{1}{9}&   \\frac{1}{36}& \\frac{1}{12}& 0& 0& 0& 0& 0& 0& 0& 0& 0& 0& 0\\\\\n",
    "  \\frac{1}{6}&   \\frac{1}{24}& 0& \\frac{1}{8}& 0& 0& 0& 0& 0& 0& 0& 0& 0& 0\\\\\n",
    "  \\frac{5}{12}&   \\frac{5}{12}& 0& -\\frac{25}{16}& \\frac{25}{16}& 0& 0& 0& 0& 0& 0& 0& 0& 0\\\\\n",
    "  \\frac{1}{2}&   \\frac{1}{20}& 0& 0& \\frac{1}{4}& \\frac{1}{5}& 0& 0& 0& 0& 0& 0& 0& 0\\\\\n",
    "  \\frac{5}{6}&   -\\frac{25}{108}& 0& 0& \\frac{125}{108}& -\\frac{65}{27}& \\frac{125}{54}& 0& 0& 0& 0& 0& 0& 0\\\\\n",
    "  \\frac{1}{6}&   \\frac{31}{300}& 0& 0& 0& \\frac{61}{225}& -\\frac{2}{9}& \\frac{13}{900}& 0& 0& 0& 0& 0& 0\\\\\n",
    "  \\frac{2}{3}&   2& 0& 0& -\\frac{53}{6}& \\frac{704}{45}& -\\frac{107}{9}& \\frac{67}{90}& 3& 0& 0& 0& 0& 0\\\\\n",
    "  \\frac{1}{3}&   -\\frac{91}{108}& 0& 0& \\frac{23}{108}& -\\frac{976}{135}& \\frac{311}{54}& -\\frac{19}{60}& \\frac{17}{6}& -\\frac{1}{12}& 0& 0& 0& 0\\\\\n",
    "  1&   \\frac{2383}{4100}& 0& 0& -\\frac{341}{164}& \\frac{4496}{1025}& -\\frac{301}{82}& \\frac{2133}{4100}& \\frac{45}{82}& \\frac{45}{164}& \\frac{18}{41}& 0& 0& 0\\\\\n",
    "  0&   \\frac{3}{205}& 0& 0& 0& 0& -\\frac{6}{41}& -\\frac{3}{205}& -\\frac{3}{41}& \\frac{3}{41}& \\frac{6}{41}& 0& 0& 0\\\\\n",
    "  1&   -\\frac{1777}{4100}& 0& 0& -\\frac{341}{164}& \\frac{4496}{1025}& -\\frac{289}{82}& \\frac{2193}{4100}& \\frac{51}{82}& \\frac{33}{164}& \\frac{12}{41}& 0& 1& 0\\\\\n",
    "  \\hline\n",
    "  & 0& 0& 0& 0& 0& \\frac{34}{105}& \\frac{9}{35}& \\frac{9}{35}& \\frac{9}{280}& \\frac{9}{280}& 0& \\frac{41}{840}& \\frac{41}{840}\n",
    "\\end{array}\\end{split}\n",
    "$$\n",
    "<!-- %   \\\\\n",
    "%   7& \\frac{41}{840}& 0& 0& 0& 0& \\frac{34}{105}& \\frac{9}{35}& \\frac{9}{35}& \\frac{9}{280}& \\frac{9}{280}& \\frac{41}{840}& 0& 0\n",
    " -->\n"
   ]
  },
  {
   "cell_type": "markdown",
   "metadata": {
    "slideshow": {
     "slide_type": "subslide"
    }
   },
   "source": [
    "### Existence of explicit RK formulas\n",
    "\n",
    "see [Trefethen (1994)](https://people.maths.ox.ac.uk/trefethen/1all.pdf) or Butcher (1987)\n",
    "\n",
    "![trefthm](figs/trefethen_erk_thm.png)"
   ]
  }
 ],
 "metadata": {
  "@webio": {
   "lastCommId": null,
   "lastKernelId": null
  },
  "celltoolbar": "Slideshow",
  "kernelspec": {
   "display_name": "Julia 1.5.1",
   "language": "julia",
   "name": "julia-1.5"
  },
  "language_info": {
   "file_extension": ".jl",
   "mimetype": "application/julia",
   "name": "julia",
   "version": "1.5.1"
  }
 },
 "nbformat": 4,
 "nbformat_minor": 4
}
