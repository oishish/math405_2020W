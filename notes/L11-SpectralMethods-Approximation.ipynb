{
 "cells": [
  {
   "cell_type": "markdown",
   "metadata": {
    "slideshow": {
     "slide_type": "slide"
    }
   },
   "source": [
    "# MATH 405/607 \n",
    "\n",
    "# Numerical Methods for Differential Equations\n",
    "\n",
    "[[Instructor: Christoph Ortner]](http://www.math.ubc.ca/~ortner/)  [[CANVAS]](https://canvas.ubc.ca/courses/55324)\n",
    "\n",
    "\n",
    "## Spectral Methods 1 - Approximation\n",
    "\n",
    "* Approximation with Trigonometric Polynomials\n",
    "* Paley-Wiener Theorem\n",
    "* Exponental approximation rates\n",
    "* Trigonometric Interpolant\n",
    "\n",
    "### Literature\n",
    "\n",
    "* N Trefethen, Spectral Methods in Matlab [[html]](https://people.maths.ox.ac.uk/trefethen/spectral.html)\n",
    "* https://people.maths.ox.ac.uk/trefethen/pdetext.html, Ch. 7"
   ]
  },
  {
   "cell_type": "code",
   "execution_count": null,
   "metadata": {},
   "outputs": [],
   "source": [
    "include(\"../math405.jl\")"
   ]
  },
  {
   "cell_type": "markdown",
   "metadata": {
    "slideshow": {
     "slide_type": "slide"
    }
   },
   "source": [
    "### Motivation: Trapezoidal Rule \n",
    "\n",
    "We will integrate two functions over $[-\\pi, \\pi]$, using the composite trapezoidal rule:\n",
    "$$\n",
    "f_1(x) = \\frac{1}{1+x^2}, \\qquad f_2(x) = \\frac{1}{1 + \\sin^2(x)}\n",
    "$$"
   ]
  },
  {
   "cell_type": "code",
   "execution_count": null,
   "metadata": {
    "slideshow": {
     "slide_type": "fragment"
    }
   },
   "outputs": [],
   "source": [
    "f1(x) = 1 / (1 + x^2); f2(x) = 1 / (1 + sin(x)^2); a, b = -π, π\n",
    "plot(f1, a, b, lw=2, label = L\"f_1\", size = (400, 200))\n",
    "plot!(f2, a, b, lw=2, label = L\"f_2\")"
   ]
  },
  {
   "cell_type": "code",
   "execution_count": null,
   "metadata": {
    "slideshow": {
     "slide_type": "subslide"
    }
   },
   "outputs": [],
   "source": [
    "function trapezoidal_rule(f, a, b, N)\n",
    "    x = range(a; stop=b, length=N+1)   # linspace(a, b, N+1)\n",
    "    h = (b-a)/N\n",
    "    return h * sum( f.(x) ) - h/2 * (f(a)+f(b)) \n",
    "end ;\n"
   ]
  },
  {
   "cell_type": "code",
   "execution_count": null,
   "metadata": {
    "slideshow": {
     "slide_type": "subslide"
    }
   },
   "outputs": [],
   "source": [
    "# convergence of trapezoidal rule for f1\n",
    "for N in [10, 20, 30, 40, 50]\n",
    "    @show trapezoidal_rule(f1, a, b, N)\n",
    "end"
   ]
  },
  {
   "cell_type": "code",
   "execution_count": null,
   "metadata": {
    "slideshow": {
     "slide_type": "fragment"
    }
   },
   "outputs": [],
   "source": [
    "# convergence of trapezoidal rule for f2\n",
    "for N in [10, 20, 30, 40]\n",
    "    @show trapezoidal_rule(f2, a, b, N)\n",
    "end\n"
   ]
  },
  {
   "cell_type": "markdown",
   "metadata": {
    "slideshow": {
     "slide_type": "subslide"
    }
   },
   "source": [
    "A proper convergence test: what is going on here?"
   ]
  },
  {
   "cell_type": "code",
   "execution_count": null,
   "metadata": {
    "slideshow": {
     "slide_type": "fragment"
    }
   },
   "outputs": [],
   "source": [
    "# data for error of integral f1\n",
    "NN1 = (2).^(2:10); I_f1 = 2 * atan(pi)\n",
    "err_f1 = [ abs(trapezoidal_rule(f1, a, b, N) - I_f1)  for N in NN1 ]\n",
    "# data for error of integral f2\n",
    "NN2 = 4:2:20; I_f2 = pi*sqrt(2)\n",
    "err_f2 = [ abs(trapezoidal_rule(f2, a, b, N) - I_f2)  for N in NN2 ]\n",
    "# plot the convergence both on a log-log and and a lin-log axis\n",
    "P0 = plot(NN1, err_f1, lw=2, m=:o, label = \"err[f1]\")\n",
    "plot!(P0, NN2, err_f2, lw=2, m=:o, label = \"err[f2]\")\n",
    "plot!(P0, NN1, NN1.^(-2), lw=1, ls=:dash, c=:black, label = \"\")\n",
    "plot( plot!(deepcopy(P0), xaxis = (:log,), yaxis = (:log,)), plot!(P0, xlims = [0, 25], yaxis = (:log,)), size = (500, 250) ) "
   ]
  },
  {
   "cell_type": "markdown",
   "metadata": {
    "slideshow": {
     "slide_type": "slide"
    }
   },
   "source": [
    "### Fourier Series\n",
    "\n",
    "It turns out the periodicity of $f_2$ is crucial. And the way to see this is via Fourier series!\n",
    "\n",
    "If $f : \\mathbb{R} \\to \\mathbb{R}$ is continuous and $2\\pi$-periodic then \n",
    "$$\\begin{aligned}\n",
    "    f(x) &= \\sum_{k \\in \\mathbb{Z}} \\hat{f}_k e^{ikx} , \\qquad \\text{where}  \\\\\n",
    "      \\hat{f}_k &= \\frac{1}{2\\pi} \\int_{-\\pi}^{\\pi} f(x) e^{-ikx} dx.\n",
    "\\end{aligned}$$\n",
    "\n",
    "The decay of the Fourier coefficients $|\\hat{f}_k|$ as $|k| \\to \\infty$ determine the convergence. See notes / recordings / assignment A5."
   ]
  },
  {
   "cell_type": "markdown",
   "metadata": {
    "slideshow": {
     "slide_type": "subslide"
    }
   },
   "source": [
    "### Approximation with Trigonometric Polynomials\n",
    "\n",
    "Let the $N$-the partial sum is given by \n",
    "$$\n",
    "    S_N f(x) := \\sum_{k = -N}^N \\hat{f}_k e^{ikx}\n",
    "$$\n",
    "Then \n",
    "$$\n",
    "    \\| f - S_N f\\|_\\infty \\leq \\sum_{|k| > N} |\\hat{f}_k|\n",
    "$$\n",
    "so again the decay of $\\hat{f}_k$ plays a fundamental role."
   ]
  },
  {
   "cell_type": "markdown",
   "metadata": {
    "slideshow": {
     "slide_type": "subslide"
    }
   },
   "source": [
    "### Paley Wiener Theorem \n",
    "\n",
    "**Theorem:** Let $f$ be $2\\pi$-periodic and analytic in the strip $\\Omega_{\\bar\\alpha} := \\{ z : |{\\rm Re}z| < \\bar\\alpha \\}$ where $\\bar\\alpha > 0$, then for all $\\alpha < \\bar\\alpha$ \n",
    "$$\n",
    "    |\\hat{f}_k| \\leq M_\\alpha e^{- \\alpha |k|},\n",
    "$$\n",
    "where $M_\\alpha = \\max_{z \\in \\Omega_\\alpha} |f(z)|$."
   ]
  },
  {
   "cell_type": "markdown",
   "metadata": {
    "slideshow": {
     "slide_type": "fragment"
    }
   },
   "source": [
    "**Corollary: Exponential Convergence** Let $f$ be $2\\pi$-periodic and analytic in the strip $\\Omega_{\\bar\\alpha}$ then\n",
    "$$\n",
    "    \\| f - S_N f \\|_\\infty \\lesssim M_\\alpha e^{-\\alpha N} \n",
    "$$\n",
    "for all $\\alpha < \\bar\\alpha$."
   ]
  },
  {
   "cell_type": "markdown",
   "metadata": {
    "slideshow": {
     "slide_type": "subslide"
    }
   },
   "source": [
    "E.g., \n",
    "$$\n",
    "    f(z) = \\frac{1}{1 + \\sin^2(z)}\n",
    "$$\n",
    "    has a singularity at $z = \\pm i \\sinh^{-1}(1)$ (i.e., where $1 + \\sin^2(z) = 0$). I.e. the maximal region of analyticity is $\\Omega_\\alpha$ with $\\alpha = \\sinh^{-1}(1) \\approx 0.88$."
   ]
  },
  {
   "cell_type": "code",
   "execution_count": null,
   "metadata": {
    "slideshow": {
     "slide_type": "fragment"
    }
   },
   "outputs": [],
   "source": [
    "x = range(-pi, pi, length=100); y = range(-2, 2, length=100);\n",
    "X = ones(length(y)) * x'; Y = y * ones(length(x))'\n",
    "ffun = z -> 1 / (1 + sin(z)^2)\n",
    "contourf(x, y, log.(abs.(ffun.(X + im * Y))))\n",
    "hline!([-0.88, 0.88], lw=4, c=:red, label = \"\", size = (500, 300))"
   ]
  },
  {
   "cell_type": "markdown",
   "metadata": {
    "slideshow": {
     "slide_type": "slide"
    }
   },
   "source": [
    "### Trigonometric Interpolant and the Discrete Fourier Transform\n",
    "\n",
    "The $N$th partial sum $S_N f$ is not convenient to evaluate. A more practical concept is the trigonometric interpolant:\n",
    "\n",
    "The trigonometric interpolant of degree $N$ is defined by \n",
    "$$\\begin{aligned}\n",
    "    I_N f(x) &= {\\rm Re}\\bigg[ \\sum_{k = -N+1}^N \\hat{F}_k e^{i k x} \\bigg], \\\\ \n",
    "    I_N f(\\pi n/N) &= F_n := f(\\pi n/N), \\qquad n = -N+1, \\dots, N.\n",
    "\\end{aligned}$$\n",
    "\n",
    "**Proposition:** The trigonometric interpolant is close to optimal in the sense that \n",
    "$$\n",
    "    \\| f - I_N f \\|_\\infty \\lesssim \\log N \\inf \\| f - t_N \\|_\\infty,\n",
    "$$\n",
    "where $t_N$ ranges over all trigonometric polynomials of degree $N$. "
   ]
  },
  {
   "cell_type": "code",
   "execution_count": null,
   "metadata": {
    "slideshow": {
     "slide_type": "subslide"
    }
   },
   "outputs": [],
   "source": [
    "# note this is not a 1-1 translation of the math. The reason \n",
    "# is that there are multiple possible conventions for the \n",
    "# x-space and k-space grid.\n",
    "using FFTW\n",
    "\"construct a real-space grid - use FFT convention\"\n",
    "xgrid(N) = range(0.0, stop=2π-2π/2N, length=2N)\n",
    "\"construct the reciprocal space grid assumed by `fft` - carefully use FFT convention\"\n",
    "kgrid(N) = [0:N; -N+1:-1]\n",
    "\"compute the fourier coefficients of I_N\"\n",
    "fouriercoeffs(f::Function, N) = fouriercoeffs(f.(xgrid(N)))\n",
    "fouriercoeffs(F::Vector) = fft(F) / length(F)\n",
    "\"evaluate a trigonometric polynomial\"\n",
    "eval_trig(F::Function, N, Z) = eval_trig(fouriercoeffs(F, N), Z)\n",
    "eval_trig(F̂::Vector, Z) = real(sum( f̂k * exp.((im * k)*Z) for (f̂k, k) in zip(F̂, kgrid(length(F̂)÷2)) ))"
   ]
  },
  {
   "cell_type": "markdown",
   "metadata": {
    "slideshow": {
     "slide_type": "subslide"
    }
   },
   "source": [
    "A class of illustrative examples: \n",
    "$$\n",
    "    f_c(x) = \\frac{1}{1+c^2 \\sin^2(x)}\n",
    "$$\n",
    "Then $\\bar\\alpha_c = \\sinh^{-1}(1/c) \\sim 1/c$ as $c \\to \\infty$ and we get the rate \n",
    "$$\n",
    "    \\| f_c - I_N f_c\\|_\\infty \\lesssim e^{ - \\bar\\alpha_c N} \\approx e^{- N/c}.\n",
    "$$"
   ]
  },
  {
   "cell_type": "code",
   "execution_count": null,
   "metadata": {
    "slideshow": {
     "slide_type": "subslide"
    }
   },
   "outputs": [],
   "source": [
    "C = [1.0, 2.0, 8.0]\n",
    "A = asinh.(1.0 ./ C)\n",
    "G = [ x -> 1/(1+c^2*sin(x)^2) for c in C ]\n",
    "NN = 4:4:32\n",
    "xerr = range(-π, stop=π, length=1_000); t = [NN[4], NN[7]]\n",
    "P = plot( xaxis  = (L\"N\", ), yaxis  = (:log, L\"\\| f - I_N f\\|_{L^\\infty}\"), legend = :left, size = (500, 300) )\n",
    "for (i, (f, c, a)) in enumerate(zip(G, C, A))\n",
    "    err = [ norm(f.(xerr) - eval_trig(f, N, xerr), Inf) for N in NN ]\n",
    "    plot!(P, NN, err, lw=2, m=:o, ms=6, c = i, label = \"c=$c\")\n",
    "    plot!(P, t, 0.1*exp.( - a * t), lw=2, ls=:dash, c=:black, label = i == 3 ? L\"e^{-\\alpha N}\" : \"\")    \n",
    "end \n",
    "P"
   ]
  },
  {
   "cell_type": "markdown",
   "metadata": {
    "slideshow": {
     "slide_type": "subslide"
    }
   },
   "source": [
    "An entire function:\n",
    "$$\n",
    "    f(x) = e^{sin(x)}\n",
    "$$\n",
    "then $f$ is *entire*, i.e. analytic in all of $\\mathbb{C}$. We therefore expect that \n",
    "$$\n",
    "    \\|f - I_N f\\|_\\infty \\lesssim e^{-\\alpha N} \\qquad \\forall N\n",
    "$$\n",
    "Or written differently, \n",
    "$$\n",
    "    \\|f - I_N f\\|_\\infty \\lesssim e^{-\\alpha_N N}\n",
    "$$\n",
    "where $\\alpha_N \\to \\infty$."
   ]
  },
  {
   "cell_type": "code",
   "execution_count": null,
   "metadata": {
    "slideshow": {
     "slide_type": "subslide"
    }
   },
   "outputs": [],
   "source": [
    "f = x -> cos(sin(x))\n",
    "NN = 2:2:16\n",
    "xerr = range(-π, stop=π, length=1_000); t = [NN[4], NN[7]]\n",
    "P = plot( xaxis  = (L\"N\", ), yaxis  = (:log, L\"\\| f - I_N f\\|_{L^\\infty}\"), legend = :left, size = (500, 300) )\n",
    "err = [ norm(f.(xerr) - eval_trig(f, N, xerr), Inf) for N in NN ]\n",
    "plot!(P, NN, err, lw=2, m=:o, ms=6, label = \"\")\n",
    "plot!(P, NN, exp.(- NN .* log.(NN)), ls = :dash, c=:black)"
   ]
  },
  {
   "cell_type": "code",
   "execution_count": null,
   "metadata": {
    "slideshow": {
     "slide_type": "subslide"
    }
   },
   "outputs": [],
   "source": [
    "# Approximation of a function that is smooth in (0, 2pi) but not in ℝ\n",
    "f = x -> sin((x-pi)/2)\n",
    "xerr = range(0, 2π, length=300); \n",
    "plot(xerr, f.(xerr), label = \"\")\n",
    "plot!(xerr, eval_trig(f, 20, xerr), label = \"\")"
   ]
  },
  {
   "cell_type": "code",
   "execution_count": null,
   "metadata": {},
   "outputs": [],
   "source": [
    "# Approximation of a function that is smooth in (0, 2pi) but not in ℝ\n",
    "NN = (2).^(2:9)\n",
    "f = x -> abs(sin((x)/2))\n",
    "xerr = range(-π, stop=π, length=1_000); t = [NN[4], NN[7]]\n",
    "P = plot( xaxis  = (:log, L\"N\", ), yaxis  = (:log, L\"\\| f - I_N f\\|_{L^\\infty}\"), legend = :left, size = (500, 300) )\n",
    "err = [ norm(f.(xerr) - eval_trig(f, N, xerr), Inf) for N in NN ]\n",
    "plot!(P, NN, err, lw=2, m=:o, ms=6, label = \"error\")\n",
    "plot!(P, NN, NN.^(-1), ls = :dash, c=:black, label = \"N^-1 (predicted)\")"
   ]
  }
 ],
 "metadata": {
  "@webio": {
   "lastCommId": null,
   "lastKernelId": null
  },
  "celltoolbar": "Slideshow",
  "kernelspec": {
   "display_name": "Julia 1.5.1",
   "language": "julia",
   "name": "julia-1.5"
  },
  "language_info": {
   "file_extension": ".jl",
   "mimetype": "application/julia",
   "name": "julia",
   "version": "1.5.1"
  }
 },
 "nbformat": 4,
 "nbformat_minor": 4
}
