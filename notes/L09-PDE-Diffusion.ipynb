{
 "cells": [
  {
   "cell_type": "markdown",
   "metadata": {},
   "source": [
    "# MATH 405/607 \n",
    "\n",
    "# Numerical Methods for Differential Equations\n",
    "\n",
    "[[Instructor: Christoph Ortner]](http://www.math.ubc.ca/~ortner/)  [[CANVAS]](https://canvas.ubc.ca/courses/55324)\n",
    "\n",
    "## PDEs Part 1: Diffusion\n",
    "\n",
    "* Morton and Mayers: Numerical Solution of Partial Differential Equations\n",
    "* todo -> add more references"
   ]
  },
  {
   "cell_type": "code",
   "execution_count": null,
   "metadata": {},
   "outputs": [],
   "source": [
    "include(\"../math405.jl\")"
   ]
  },
  {
   "cell_type": "markdown",
   "metadata": {
    "slideshow": {
     "slide_type": "slide"
    }
   },
   "source": [
    "### The Diffusion Equation\n",
    "\n",
    "[source](https://www.dartmouth.edu/~cushman/courses/engs43/Chapter2.pdf)\n",
    "\n",
    "<img src=\"figs/control_volume.png\" width=\"700\">\n",
    "\n",
    "* $[x, x + \\Delta x] = $ \"control volume\"\n",
    "* $x \\in \\mathbb{R}$ - infinite system (e.g. river, rod, blood vessel, ...)\n",
    "* $c(x,t)$ = concentration (of a substance, temperature, ...)\n",
    "* $q(x, t)$ = flux = rate of flow of the concentration through $x$"
   ]
  },
  {
   "cell_type": "markdown",
   "metadata": {
    "slideshow": {
     "slide_type": "subslide"
    }
   },
   "source": [
    "<img src=\"figs/control_volume.png\" width=\"500\">\n",
    "\n",
    "$$\n",
    "\\Delta x \\cdot \\frac{\\partial c(x,t)}{\\partial t} = \\text{Import - Export} = q(x, t) - q(x+\\Delta x, t)\n",
    "$$"
   ]
  },
  {
   "cell_type": "markdown",
   "metadata": {
    "slideshow": {
     "slide_type": "fragment"
    }
   },
   "source": [
    "**Mass Balance:** Divide by $\\Delta x$ and let $\\Delta x \\to 0$:\n",
    "$$\n",
    "\\frac{\\partial c(x,t)}{\\partial t} = - \\frac{\\partial q(x, t)}{\\partial x}\n",
    "$$"
   ]
  },
  {
   "cell_type": "markdown",
   "metadata": {
    "slideshow": {
     "slide_type": "subslide"
    }
   },
   "source": [
    "<img src=\"figs/control_volume.png\" width=\"500\">\n",
    "\n",
    "\n",
    "$$\n",
    "\\frac{\\partial c(x,t)}{\\partial t} = - \\frac{\\partial q(x, t)}{\\partial x}\n",
    "$$\n",
    "\n",
    "**Now need a constitutive law:**"
   ]
  },
  {
   "cell_type": "markdown",
   "metadata": {
    "slideshow": {
     "slide_type": "fragment"
    }
   },
   "source": [
    "**Pure Transport / Advection:** The fluid \"transports\" the substance with speed given by the fluid velocity $u$: \n",
    "$$\n",
    "    q = u c \\qquad \\Rightarrow \\qquad  \\frac{\\partial c}{\\partial t} = - \\frac{\\partial}{\\partial x} \\big( u c \\big).\n",
    "$$"
   ]
  },
  {
   "cell_type": "markdown",
   "metadata": {
    "slideshow": {
     "slide_type": "fragment"
    }
   },
   "source": [
    "**Pure Diffusion:** Random motions of the fluid /  carrier cause the concentration to equilibrate locally, i.e.  the concentration will move from regions of high concentration to regions of low concentration. \n",
    "$$\n",
    "  q = -  D \\frac{\\partial c}{\\partial x} \\qquad \\Rightarrow \\qquad  \\frac{\\partial c}{\\partial t} = D \\frac{\\partial^2 c}{\\partial x^2}\n",
    "$$"
   ]
  },
  {
   "cell_type": "markdown",
   "metadata": {
    "slideshow": {
     "slide_type": "subslide"
    }
   },
   "source": [
    "**Linear Advection-Diffusion Equation:** \n",
    "$$\n",
    "    \\frac{\\partial c}{\\partial t} = - \\frac{\\partial}{\\partial x}\\big( u c \\big) \n",
    "      + \\frac{\\partial}{\\partial x}\\Big( D(x) \\frac{\\partial c}{\\partial x} \\Big) \n",
    "$$\n",
    "or in a bit more compact notation\n",
    "$$\n",
    "    c_t = - (uc)_x +  (D c_x)_x\n",
    "$$\n",
    "\n",
    "We will study advection next week. This week: diffusion!"
   ]
  },
  {
   "cell_type": "markdown",
   "metadata": {
    "slideshow": {
     "slide_type": "fragment"
    }
   },
   "source": [
    "#### E.g. heat conduction:\n",
    "\n",
    "* Rod occupying the domain $[a, b]$\n",
    "* $T(x)$ = temperature of rod at $x$\n",
    "* $q = - k T_x$ is then called Fourier's law\n",
    "\n",
    "$$\n",
    "        T_t = k T_{xx}\n",
    "$$"
   ]
  },
  {
   "cell_type": "markdown",
   "metadata": {
    "slideshow": {
     "slide_type": "slide"
    }
   },
   "source": [
    "### Prototype diffusion equation\n",
    "\n",
    "$$\\begin{aligned} \n",
    "  u_t(t, x) &= u_{xx}(t,x) + f(t,x), \\qquad t > 0, x \\in (0, 1), \\\\ \n",
    "  u(t, 0) &= g_0(t), \\\\ \n",
    "  u(t, 1) &= g_1(t), \\\\ \n",
    "  u(0, x) &= u_0(x)\n",
    "\\end{aligned}$$\n",
    "\n",
    "This is a prototype for parabolic PDE; one of the three most important classes of PDE (elliptic, parabolic, hyperbolic). We won't go into these technical details here, but many ideas and concepts we discuss for our prototype problems will apply in some form or other to more general PDEs."
   ]
  },
  {
   "cell_type": "markdown",
   "metadata": {
    "slideshow": {
     "slide_type": "subslide"
    }
   },
   "source": [
    "To make our life a little easier, let's focus on \n",
    "\n",
    "$$\\begin{aligned}\n",
    "    u_t(t, x) &= u_{xx}(t, x) + f(x), \\qquad t > 0, x \\in (0, 1), \\\\  \n",
    "    u(t, 0) &= u(t, 1) = 0, \\\\ \n",
    "    u(0, x) &= u_0(x).\n",
    "\\end{aligned}$$\n",
    "\n",
    "With $f = 0$ this would, e.g., model heat flow in a rod with the end-points held at $T = 0$. (It also models overdamped dynamics of the displacement in a linearly elastic rod and a few other things ...)"
   ]
  },
  {
   "cell_type": "markdown",
   "metadata": {
    "slideshow": {
     "slide_type": "fragment"
    }
   },
   "source": [
    "I.e., there is no driving force and the system will converge to a steady state given by \n",
    "\n",
    "$$\\begin{aligned}\n",
    "    - \\bar{u}_{xx} &= f(x),  \\qquad x \\in (0, 1),  \\\\\n",
    "    \\bar{u}(0) &= \\bar{u}(1) = 0.\n",
    "\\end{aligned}$$\n",
    "\n",
    "That is, $u(t, x) \\to \\bar{u}(x)$ as $t \\to \\infty$. (In what sense? How fast? Cf. exercises...)"
   ]
  },
  {
   "cell_type": "markdown",
   "metadata": {
    "slideshow": {
     "slide_type": "subslide"
    }
   },
   "source": [
    "Recall the discretisation of this scalar BVP in the introductory lectures. We started with the observation that \n",
    "$$\n",
    "    \\frac{u(x+h) - 2 u(x) + u(x-h)}{h^2}  = u_{xx}(x) + O(h^2)\n",
    "$$\n",
    "\n",
    "to obtain the discretised equation\n",
    "\n",
    "$$ \n",
    "    - \\frac{\\bar{U}_{n+1} - 2 \\bar{U}_n + \\bar{U}_{n-1}}{h^2} = f(x_n).\n",
    "$$\n",
    "\n",
    "where $x_n = h n = n/N$. We then used a maximum principle (stability!) to prove that \n",
    "\n",
    "$$\n",
    "    \\max_n |\\bar{U}_n - \\bar{u}(x_n)| \\leq C h^2.\n",
    "$$"
   ]
  },
  {
   "cell_type": "markdown",
   "metadata": {
    "slideshow": {
     "slide_type": "subslide"
    }
   },
   "source": [
    "Today, we \"simply\" add time. Write $U_n(t) \\approx u(t, x_n)$, $F_n = f(x_n)$ then we obtain \n",
    "\n",
    "$$\\begin{aligned}\n",
    "    \\dot{U_n}(t) &= \\frac{{U}_{n+1} - 2 {U}_n + {U}_{n-1}}{h^2} + F_n, \\\\ \n",
    "    U_n(0) &= u_0(x_n).\n",
    "\\end{aligned}$$\n",
    "\n",
    "Now we can just use our favourite numerical integrator. This is called the \"Method of Lines\""
   ]
  },
  {
   "cell_type": "code",
   "execution_count": null,
   "metadata": {
    "slideshow": {
     "slide_type": "fragment"
    }
   },
   "outputs": [],
   "source": [
    "MATH405.illustrate_mol()"
   ]
  },
  {
   "cell_type": "code",
   "execution_count": null,
   "metadata": {
    "slideshow": {
     "slide_type": "subslide"
    }
   },
   "outputs": [],
   "source": [
    "N = 50; \n",
    "L = Tridiagonal(ones(N-2), -2*ones(N-1), ones(N-2)) * N^2\n",
    "X = range(0, 1, length=N+1)\n",
    "U0 = X .* (1 .- X) .* exp.(3 * X)\n",
    "plot(X, U0, size = (400, 150))"
   ]
  },
  {
   "cell_type": "code",
   "execution_count": null,
   "metadata": {
    "slideshow": {
     "slide_type": "subslide"
    }
   },
   "outputs": [],
   "source": [
    "Tf = 1.0\n",
    "prob = ODEProblem((U, p, t) -> L * U, U0[2:end-1], (0.0, Tf));\n",
    "soln = solve(prob, RK4());"
   ]
  },
  {
   "cell_type": "code",
   "execution_count": null,
   "metadata": {
    "slideshow": {
     "slide_type": "fragment"
    }
   },
   "outputs": [],
   "source": [
    "@gif for t in 0.0:0.01:Tf \n",
    "    U = [[0.0]; soln(t); [0.0]]\n",
    "    plot(X, U0, size = (500, 150), label = \"u0\")\n",
    "    plot!(X, U, label = \"t = \" * (@sprintf(\"%.2f\", t)), legend = :outertopright)\n",
    "end"
   ]
  },
  {
   "cell_type": "markdown",
   "metadata": {
    "slideshow": {
     "slide_type": "-"
    }
   },
   "source": [
    "Everything works and we can just move on?"
   ]
  },
  {
   "cell_type": "code",
   "execution_count": null,
   "metadata": {
    "slideshow": {
     "slide_type": "subslide"
    }
   },
   "outputs": [],
   "source": [
    "# Let's analyze the numerical solution a bit...\n",
    "dt = diff(soln.t)\n",
    "plt1 = plot(soln.t[2:end], dt, yscale = :log10, size = (400, 150), lw = 3, label = \"Δt\", \n",
    "     legend = :outertopright, title = \"# steps = $(length(soln.t))\")"
   ]
  },
  {
   "cell_type": "markdown",
   "metadata": {
    "slideshow": {
     "slide_type": "fragment"
    }
   },
   "source": [
    "For such a simple problem, extremely smooth solution converging to a stable equilibrium this seems an excessive amount of work. It smells of a stiff problem!"
   ]
  },
  {
   "cell_type": "code",
   "execution_count": null,
   "metadata": {
    "slideshow": {
     "slide_type": "subslide"
    }
   },
   "outputs": [],
   "source": [
    "# we can test this hypothesis by just trying a stiff solver!\n",
    "stiff = solve(prob, Rosenbrock23());\n",
    "plot!(plt1, stiff.t[2:end], diff(stiff.t), yscale = :log10, size = (400, 150), lw=3, label = \"Δt (stiff)\", \n",
    "     legend = :outertopright, title = \"# steps = $(length(soln.t)) vs $(length(stiff.t))\")"
   ]
  },
  {
   "cell_type": "markdown",
   "metadata": {},
   "source": [
    " So let's analyze this more carefully by looking at what happens when we apply the forward and backward Euler methods."
   ]
  },
  {
   "cell_type": "markdown",
   "metadata": {
    "slideshow": {
     "slide_type": "subslide"
    }
   },
   "source": [
    "### Forward-Euler Discretisation\n",
    "\n",
    "We have a spatial step $h$ and a time-step $\\tau$, write $x_n = hn$, $t_m = \\tau m$ and \n",
    "\n",
    "$$\n",
    "    U_{n}^m \\approx u(t_m, x_n)\n",
    "$$\n",
    "\n",
    "Then the *forward Euler* space-time discretisation of the IBVP is \n",
    "\n",
    "$$\n",
    "    \\frac{U_n^{m+1} - U_n^m}{\\tau} = \\frac{U_{n+1}^m - 2 U_{n}^m + U_{n-1}^m}{h^2} + F_n, \\qquad n = 1, \\dots, N-1.\n",
    "$$\n",
    "\n",
    "(note the boundary condition is implicit in $U_{0}^m = U_N^m = 0$!)"
   ]
  },
  {
   "cell_type": "markdown",
   "metadata": {
    "slideshow": {
     "slide_type": "subslide"
    }
   },
   "source": [
    "Let $u_n^m := u(m\\tau, nh)$ then we argue again as in previous anlyses ...\n",
    "\n",
    "$$ \\begin{aligned} \n",
    "   \\frac{U_n^{m+1} - U_n^m}{\\tau} &= \\frac{U_{n+1}^m - 2 U_{n}^m + U_{n-1}^m}{h^2} + F_n \\\\ \n",
    "   \\frac{u_n^{m+1} - u_n^m}{\\tau} &= \\frac{u_{n+1}^m - 2 u_{n}^m + u_{n-1}^m}{h^2} + F_n + T_n^m, \\\\ \n",
    "\\end{aligned} $$\n",
    "\n",
    "where $T_n^m$ is the *truncation error*. "
   ]
  },
  {
   "cell_type": "markdown",
   "metadata": {
    "slideshow": {
     "slide_type": "fragment"
    }
   },
   "source": [
    "Defining  $E_n^m := u_n^m - U_n^m$ and subtracting the two equations yields ... \n",
    "\n",
    "$$ \\begin{aligned}\n",
    "    \\frac{E_n^{m+1} - E_n^m}{\\tau}\n",
    "    &= \\frac{E_{n+1}^m - 2 E_{n}^m + E_{n-1}^m}{h^2} + T_n^m, \\\\\n",
    "    |T_n^m| &\\leq C \\big(\\tau \\| u_{tt} \\|_\\infty + h^2 \\|u_{xxxx} \\|_\\infty \\big)\n",
    "\\end{aligned}$$"
   ]
  },
  {
   "cell_type": "markdown",
   "metadata": {
    "slideshow": {
     "slide_type": "subslide"
    }
   },
   "source": [
    "$$\n",
    "\\frac{E_n^{m+1} - E_n^m}{\\tau}\n",
    "    = \\frac{E_{n+1}^m - 2 E_{n}^m + E_{n-1}^m}{h^2} + T_n^m\n",
    "$$\n",
    "\n",
    "Rearranging ... and setting $\\mu := \\tau / h^2$ ... "
   ]
  },
  {
   "cell_type": "markdown",
   "metadata": {
    "slideshow": {
     "slide_type": "fragment"
    }
   },
   "source": [
    "$$ \\begin{aligned}\n",
    "    E_n^{m+1} \n",
    "    &=  E_n^m + \\frac{\\tau}{h^2} \\big( E_{n+1}^m - 2 E_{n}^m + E_{n-1}^m \\big) + \\tau T_n^m \\\\ \n",
    "    &= \\Big(1 - 2 \\frac{\\tau}{h^2}\\Big) E_n^m + \\frac{\\tau}{h^2} (E_{n+1}^m + E_{n-1}^m) + \\tau T_n^m\n",
    "\\end{aligned} $$\n",
    "\n",
    "And now we can start estimating ..."
   ]
  },
  {
   "cell_type": "markdown",
   "metadata": {
    "slideshow": {
     "slide_type": "fragment"
    }
   },
   "source": [
    "$$\n",
    "    |U_{n+1}^m| \\leq \\Big| 1 - 2 \\frac{\\tau}{h^2}\\Big| |U_n^m| + \\frac{\\tau}{h^2} \\big( |U_{n+1}^m| + |U_{n-1}^m| \\big) + \\tau \\|T\\|_\\infty\n",
    "$$"
   ]
  },
  {
   "cell_type": "markdown",
   "metadata": {
    "slideshow": {
     "slide_type": "subslide"
    }
   },
   "source": [
    "$$\n",
    "    |U_{n}^{m+1}| \\leq \\Big| 1 - 2 \\frac{\\tau}{h^2}\\Big| |U_n^m| + \\frac{\\tau}{h^2} \\big( |U_{n+1}^m| + |U_{n-1}^m| \\big) + \\tau \\|T\\|_\\infty\n",
    "$$\n",
    "\n",
    "Take $\\max_n$ to obtain "
   ]
  },
  {
   "cell_type": "markdown",
   "metadata": {
    "slideshow": {
     "slide_type": "fragment"
    }
   },
   "source": [
    "$$\n",
    "    \\| U^{m+1} \\|_\\infty \\leq \\Big| 1 - 2 \\frac{\\tau}{h^2}\\Big| \\|U^m\\|_\\infty + 2 \\frac{\\tau}{h^2}\n",
    "        \\|U^m\\|_\\infty + \\tau \\|T\\|_\\infty\n",
    "$$\n",
    "\n",
    "This grows exponentially in $k$ **UNLESS** we have $2 \\tau h^{-2} \\leq 1$. But under this restriction we have \n",
    "\n",
    "$$\n",
    "    \\Big| 1 - 2 \\frac{\\tau}{h^2}\\Big| = \\Big(1 - 2 \\frac{\\tau}{h^2}\\Big)\n",
    "$$\n",
    "\n",
    "and we obtain ..."
   ]
  },
  {
   "cell_type": "markdown",
   "metadata": {
    "slideshow": {
     "slide_type": "fragment"
    }
   },
   "source": [
    "$$\n",
    "    \\| E^{m+1} \\|_\\infty \\leq \\|E^m\\|_\\infty  + \\tau \\|T\\|_\\infty \\leq T_f \\|T\\|_\\infty.\n",
    "$$"
   ]
  },
  {
   "cell_type": "markdown",
   "metadata": {
    "slideshow": {
     "slide_type": "subslide"
    }
   },
   "source": [
    "**Theorem: [Convergence Forward-Euler]** Let $U_n^m$ be the solution of the forward-Euler discretisation, and suppose that $\\tau \\leq \\frac{1}{2} h^2$, then \n",
    "\n",
    "$$\n",
    "    \\max_{n, m} \\big| u(t_m, x_n) - U_n^m \\big| \\leq C T_f \\big( \\tau \\| u_{tt} \\|_\\infty + h^2 \\|u_{xxxx} \\|_\\infty \\big).\n",
    "$$\n",
    "\n",
    "Remark: If $u_{xx}$ is replaced with $D u_{xx}$ then the restrictin becomes $\\tau \\leq \\frac{D}{2} h^2$."
   ]
  },
  {
   "cell_type": "markdown",
   "metadata": {
    "slideshow": {
     "slide_type": "subslide"
    }
   },
   "source": [
    "### Implicit Euler Discretisation\n",
    "\n",
    "Remember the spatial semi-discretisation, \n",
    "\n",
    "$$\n",
    "    \\dot{U}_n(t) = \\frac{U_{n+1}(t) - 2 U_n(t) + U_{n-1}(t)}{h^2} + F_n,\n",
    "$$\n",
    "\n",
    "then the *implicit Euler* space-time discretisation of the IBVP is \n",
    "\n",
    "$$\n",
    "    \\frac{U_n^{m+1} - U_n^m}{\\tau} = \\frac{U_{n+1}^{m+1} - 2 U_{n}^{m+1} + U_{n-1}^{m+1}}{h^2} + F_n, \\qquad n = 1, \\dots, N-1.\n",
    "$$"
   ]
  },
  {
   "cell_type": "markdown",
   "metadata": {
    "slideshow": {
     "slide_type": "subslide"
    }
   },
   "source": [
    "We can now perform the same analysis as above, there are very few changes to the setup. Let $E_n^k = u(k\\tau, n h) - U_n^k$ then \n",
    "\n",
    "$$ \\begin{aligned}\n",
    "    \\frac{E_n^{m+1} - E_n^m}{\\tau} \n",
    "    &= \\frac{E_{n+1}^{m+1} - 2 E_{n}^{m+1} + E_{n-1}^{m+1}}{h^2} + T_n^m, \\\\ \n",
    "    |T_n^m| &\\leq C\\big( \\tau \\|u_{tt}\\|_\\infty + h^2 \\|u_{xxxx}\\|_\\infty \\big)\n",
    "\\end{aligned}$$\n",
    "\n",
    "and rearraging yields \n",
    "\n",
    "$$\n",
    "    \\Big(1 + 2\\frac{\\tau}{h^2}\\Big) E_n^{m+1}\n",
    "    = E_n^m +  \\frac{\\tau}{h^2} \\big( E_{n+1}^{m+1} + E_{n-1}^{m+1} \\big) + \\tau T_n^m\n",
    "$$\n",
    "\n",
    "Take moduli ... "
   ]
  },
  {
   "cell_type": "markdown",
   "metadata": {
    "slideshow": {
     "slide_type": "subslide"
    }
   },
   "source": [
    "$$\n",
    "    \\Big(1 + 2\\frac{\\tau}{h^2}\\Big) |E_n^{m+1}|\n",
    "    \\leq |E_n^m| +  \\frac{\\tau}{h^2} \\big( |E_{n+1}^{m+1}| + |E_{n-1}^{m+1}| \\big) + \\tau |T_n^m|\n",
    "$$\n",
    "\n",
    "and $\\max_n$ ... \n",
    "\n",
    "$$\n",
    "    \\Big(1 + 2\\frac{\\tau}{h^2}\\Big) \\|E^{m+1}\\|_\\infty\n",
    "    \\leq \\|E^m\\|_\\infty + \\frac{\\tau}{h^2} \\big( \\|E^{m+1}\\|_\\infty + \\|E^{m+1}\\|_\\infty \\big) + \\tau \\|T\\|_\\infty\n",
    "$$\n",
    "\n",
    "The key difference now is that we can cancel the $\\tau/h^2$ terms without any restrictions ..."
   ]
  },
  {
   "cell_type": "markdown",
   "metadata": {
    "slideshow": {
     "slide_type": "fragment"
    }
   },
   "source": [
    "$$\n",
    "    \\|E^{m+1}\\|_\\infty \\leq \\|E^m\\|_\\infty + \\tau \\|T\\|_\\infty \\leq T_f \\|T\\|_\\infty.\n",
    "$$\n",
    "\n",
    "... i.e. the implicit Euler discretisation is *unconditionally stable*."
   ]
  },
  {
   "cell_type": "markdown",
   "metadata": {
    "slideshow": {
     "slide_type": "subslide"
    }
   },
   "source": [
    "**Theorem [Convergence Implicit Euler]:** Let $U_n^m$ be the solution of the implicit Euler discretisation then \n",
    "\n",
    "$$\n",
    "    \\max_{n, m} \\big|u(t_m, x_n) - U_n^k\\big| \\leq C \\big( \\tau \\|u_{tt} \\|_\\infty + h^2 \\| u_{xxxx} \\|_\\infty \\big).\n",
    "$$\n",
    "\n"
   ]
  },
  {
   "cell_type": "markdown",
   "metadata": {
    "slideshow": {
     "slide_type": "fragment"
    }
   },
   "source": [
    "**Remarks:**\n",
    "\n",
    "* Note that in fact \n",
    "$$\n",
    "    u_{tt} = \\partial_t \\partial_{x}^2 u = \\partial_x^2 \\partial_t u = \\partial_x^4 u.\n",
    "$$\n",
    "i.e. we can also write the error estimate as $ \\dots \\lesssim (\\tau + h^2) \\| u_{xxxx} \\|_\\infty$.\n",
    "* If we want to balance errors then we might want to choose $\\tau \\approx h^2$ anyhow and we haven't gained too much. But if we are only after qualitative results, then this allows us to take large steps.\n",
    "* In practise we would more likely choose at least a second-order time-stepping scheme. And we will see in the exercises that implicit schemes (can) inherit the stability of implicit Euler, while explicit schemes inherit the time-step restriction of explicit euler."
   ]
  },
  {
   "cell_type": "markdown",
   "metadata": {
    "slideshow": {
     "slide_type": "slide"
    }
   },
   "source": [
    "**Is the requirement $\\tau \\leq 0.5 h^2$ sharp?**"
   ]
  },
  {
   "cell_type": "markdown",
   "metadata": {
    "slideshow": {
     "slide_type": "fragment"
    }
   },
   "source": [
    "We will  try to answer this question using \n",
    "\n",
    "### Fourier Analysis\n",
    "\n",
    "of the forward Euler method \n",
    "$$ \n",
    "    U_{n}^{m+1} = U_n^m + \\mu \\big( U_{n+1}^m - 2 U_n^m + U_{n-1}^m \\big),  \\qquad n \\in \\mathbb{Z}\n",
    "$$\n",
    "where $\\mu = \\tau h^{-2}$.\n",
    "\n",
    "But now on the infinite chain $h \\mathbb{Z}$, i.e., $n \\in \\mathbb{Z}$, and without boundary condition! (cf [Recorded Lecture R06](https://www.dropbox.com/s/im8jqyyyx3lto20/R06-FourierAnalysis.pdf?dl=0))"
   ]
  },
  {
   "cell_type": "markdown",
   "metadata": {
    "slideshow": {
     "slide_type": "subslide"
    }
   },
   "source": [
    "We can then use the semi-discrete Fourier transform: if $V = (V_n) \\in \\ell^2(\\mathbb{Z})$ then \n",
    "$$ \n",
    "    \\hat{V}(k) := \\sum_{n \\in \\mathbb{Z}} V_n e^{-i k nh}, \\qquad \\text{for } k \\in (-\\pi/h, \\pi/h].\n",
    "$$"
   ]
  },
  {
   "cell_type": "markdown",
   "metadata": {
    "slideshow": {
     "slide_type": "subslide"
    }
   },
   "source": [
    "In the recorded lecture `R06` we showed that \n",
    "$$\n",
    "    V_n =  [ L U ]_n = U_{n+1} - 2 U_n + U_{n-1}\n",
    "$$\n",
    "then \n",
    "$$ \n",
    "    \\hat{V}(k) = \\widehat{LU}(k) = - 4 \\sin^2( kh/2 ) \\hat{U}(k)\n",
    "$$\n",
    "\n",
    "I.e. the Fourier transform *diagonalises* the finite-difference operator!"
   ]
  },
  {
   "cell_type": "markdown",
   "metadata": {
    "slideshow": {
     "slide_type": "fragment"
    }
   },
   "source": [
    "So if we apply the semi-discrete Fourier transform to \n",
    "$$ \n",
    "    U_{n}^{m+1} = U_n^m + \\mu \\big( U_{n+1}^m - 2 U_n^m + U_{n-1}^m \\big).\n",
    "$$\n",
    "then we obtain \n",
    "$$ \n",
    "    \\hat{U}^{m+1}(k) = \\big[ 1 - 4 \\mu \\sin^2( kh/2 ) \\big] \\hat{U}^{m}(k).\n",
    "$$"
   ]
  },
  {
   "cell_type": "code",
   "execution_count": null,
   "metadata": {
    "slideshow": {
     "slide_type": "subslide"
    }
   },
   "outputs": [],
   "source": [
    "plot(k -> 4 * sin(k/2)^2, -pi, pi, lw=3, size = (400, 300))"
   ]
  },
  {
   "cell_type": "code",
   "execution_count": null,
   "metadata": {
    "slideshow": {
     "slide_type": "subslide"
    }
   },
   "outputs": [],
   "source": [
    "Lhat(k) = 1 - 4 * 0.7  * sin(k/2)^2\n",
    "plot(Lhat, -pi, pi, lw=3, size=(300, 200), label =\"\")"
   ]
  },
  {
   "cell_type": "markdown",
   "metadata": {
    "slideshow": {
     "slide_type": "subslide"
    }
   },
   "source": [
    "The multiplier $\\hat{L}(k) := \\big[ 1 - 4 \\mu \\sin^2( kh/2 ) \\big]$ is monotone in $k$ so we need to check $k = 0$ and $k = \\pi/h$. For $k = 0$ we just get $\\hat{L}(0) = 1$, but for $k = \\pi/h$, we have \n",
    "$$ \n",
    "    \\hat{L}(\\pi/h) = 1 - 4 \\mu.\n",
    "$$"
   ]
  },
  {
   "cell_type": "markdown",
   "metadata": {
    "slideshow": {
     "slide_type": "fragment"
    }
   },
   "source": [
    "This means that we obtain stability \n",
    "$$ \n",
    "    \\| \\hat{U}^{m+1} \\|_{L^2} \\leq \\| \\hat{U}^m \\|_{L^2}\n",
    "$$\n",
    "(or, equivalently, $\\| U^{m+1} \\|_{\\ell^2} \\leq \\|U^m \\|_{\\ell^2}$; cf Plancherel Theorem) if and only if \n",
    "$$\n",
    "    |1 - 4 \\mu| \\leq 1 \\qquad \\Leftrightarrow \\qquad \\mu \\leq 1/2  \\qquad \\Leftrightarrow \\qquad \\tau \\leq  h^2 / 2\n",
    "$$\n",
    "I.e., precisely the condition we have before!"
   ]
  },
  {
   "cell_type": "markdown",
   "metadata": {
    "slideshow": {
     "slide_type": "subslide"
    }
   },
   "source": [
    "This analysis also shows that the first mode that becomes unstable is the highest-frequency mode. We can check this numerically:"
   ]
  },
  {
   "cell_type": "code",
   "execution_count": null,
   "metadata": {},
   "outputs": [],
   "source": [
    "# use periodic boundary conditions to mimic the infinite chain analysis!\n",
    "N = 100; h = 2*pi/N; tau = 0.55 * h^2; mu = tau / h^2 \n",
    "X = range(-pi+2*pi/N, pi, length = N)\n",
    "U = exp.( - 10 * sin.(X).^2 )\n",
    "# U = (1.0 .+ sign.(sin.(X))) / 2   # try this also \n",
    "L = spdiagm(-1 => ones(N-1), 0 => -2*ones(N), 1 => ones(N-1))\n",
    "L[1, end] = 1; L[end, 1] = 1\n",
    "\n",
    "@gif for n = 1:250  # 50 for the second example \n",
    "    U += mu * (L * U)\n",
    "    plot(X, U, lw = 2, label = \"\", size = (400, 200), ylims = (-0.2, 2.0), title = \"n = $n\")\n",
    "end"
   ]
  }
 ],
 "metadata": {
  "@webio": {
   "lastCommId": null,
   "lastKernelId": null
  },
  "celltoolbar": "Slideshow",
  "kernelspec": {
   "display_name": "Julia 1.5.1",
   "language": "julia",
   "name": "julia-1.5"
  },
  "language_info": {
   "file_extension": ".jl",
   "mimetype": "application/julia",
   "name": "julia",
   "version": "1.5.1"
  }
 },
 "nbformat": 4,
 "nbformat_minor": 4
}
