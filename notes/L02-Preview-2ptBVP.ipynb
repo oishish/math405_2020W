{
 "cells": [
  {
   "cell_type": "markdown",
   "metadata": {
    "slideshow": {
     "slide_type": "slide"
    }
   },
   "source": [
    "# MATH 405/607 \n",
    "\n",
    "# Numerical Methods for Differential Equations\n",
    "\n",
    "[[Instructor: Christoph Ortner]](http://www.math.ubc.ca/~ortner/)  [[CANVAS]](https://canvas.ubc.ca/courses/55324)\n",
    "\n",
    "## Preview: Solving a 1D Boundary Value Problem\n"
   ]
  },
  {
   "cell_type": "code",
   "execution_count": null,
   "metadata": {
    "slideshow": {
     "slide_type": "-"
    }
   },
   "outputs": [],
   "source": [
    "include(\"../math405.jl\")"
   ]
  },
  {
   "cell_type": "markdown",
   "metadata": {
    "slideshow": {
     "slide_type": "slide"
    }
   },
   "source": [
    "### The simplest boundary value problem:\n",
    "\n",
    "$$\\begin{aligned}\n",
    "- u''(x) + r(x) u(x) &= f(x), \\qquad x \\in (0, 1) \\\\ \n",
    "  u(0) &= u_0, \\\\ \n",
    "  u(1) &= u_1\n",
    "\\end{aligned}$$\n",
    "\n",
    "- Does a solution exist? \n",
    "- Under which conditions on $r, f$ does a solution exist?\n",
    "\n",
    "This is not the main focus of this course, so let's postpone these questions and assume for now that $r, f$ are sufficiently \"nice\" that a smooth solution $u$ exists.\n",
    "\n",
    "- How do we compute it?"
   ]
  },
  {
   "cell_type": "markdown",
   "metadata": {
    "slideshow": {
     "slide_type": "subslide"
    }
   },
   "source": [
    "We can make our life particularly easy, \n",
    "\n",
    "$$\\begin{aligned}\n",
    "- u''(x) + u(x) &= 1, \\qquad x \\in (0, 1) \\\\ \n",
    "  u(0) &= 0, \\\\ \n",
    "  u(1) &= 0\n",
    "\\end{aligned}$$\n",
    "\n",
    "Then we can readily check that the following is a solution:\n",
    "\n",
    "$$\n",
    "   u(x) = 1 - \\frac{e^x + e^{1-x}}{1+e}\n",
    "$$\n",
    "\n",
    "* Question: Why can we get such a simple analytic solution?\n",
    "* Challenge: is it unique?"
   ]
  },
  {
   "cell_type": "code",
   "execution_count": null,
   "metadata": {
    "slideshow": {
     "slide_type": "subslide"
    }
   },
   "outputs": [],
   "source": [
    "# Plotting the solution \n",
    "u(x) = 1 -  (exp(x) + exp(1-x)) / (1 + MathConstants.e)\n",
    "plot(u, 0, 1, lw=3, label = \"u(x)\", size = (400, 200))"
   ]
  },
  {
   "cell_type": "markdown",
   "metadata": {
    "slideshow": {
     "slide_type": "slide"
    }
   },
   "source": [
    "### Discretising the solution \n",
    "\n",
    "We cannot store $u$ in a computer (infinite information), but we could store it (or an approximation) at finitely many points, \n",
    "\n",
    "$$\n",
    "        x_n = n/N, \\qquad n = 0, \\dots, N.\n",
    "$$\n",
    "\n",
    "which are called nodes, mesh, or grid points, etc.\n",
    "We call $h = 1/N$ the mesh-size or grid-size. We can evaluate $U_n = u(x_n)$ which give us a discretisation of the the solution."
   ]
  },
  {
   "cell_type": "code",
   "execution_count": null,
   "metadata": {
    "slideshow": {
     "slide_type": "fragment"
    }
   },
   "outputs": [],
   "source": [
    "N = 10; X = range(0, 1, length=N+1)\n",
    "scatter(X, 0*X, size = (600, 80), label = \"grid\")\n",
    "plot!(u, 0, 1, lw=2, label = \"continuous solution\")\n",
    "scatter!(X, u.(X), ms=5, label = \"discretisation\", size = (800, 200), legend=:outertopright)"
   ]
  },
  {
   "cell_type": "markdown",
   "metadata": {
    "slideshow": {
     "slide_type": "slide"
    }
   },
   "source": [
    "### Discretising the equation \n",
    "\n",
    "But what if we don't know the solution explicitly? This is the *typical* scenario!\n",
    "\n",
    "The idea is to devise an equation for the *discretised solution*. The first step is to evaluate the equation only at the nodes \n",
    "\n",
    "$$\n",
    "   - u''(x_n) + r(x_n) u(x_n) = f(x_n) \n",
    "$$\n",
    "\n",
    "By evaluating the data $f, r$ at the nodes, $F_n = f(x_n)$ and $R_n = r(x_n)$, we obtain \n",
    "\n",
    "$$\n",
    "  - u''(x_n) + R_n U_n = F_n\n",
    "  $$\n",
    "  \n",
    "What to do about $u''(x_n)$?"
   ]
  },
  {
   "cell_type": "markdown",
   "metadata": {
    "slideshow": {
     "slide_type": "subslide"
    }
   },
   "source": [
    "### Finite Difference Approximation\n",
    "\n",
    "Taylor expansion:\n",
    "\n",
    "$$\n",
    "    u(x+h) = u(x) + h u'(x) + \\frac{h^2}{2} u''(x) + \\frac{h^3}{6} u'''(x) + \\frac{h^4}{24} u^{(iv)}(\\xi)\n",
    "$$"
   ]
  },
  {
   "cell_type": "markdown",
   "metadata": {
    "slideshow": {
     "slide_type": "fragment"
    }
   },
   "source": [
    "From this we can deduce, e.g., \n",
    "\n",
    "$$\\begin{aligned}\n",
    "    \\frac{u(x+h) - u(x)}{h} &= u'(x) + \\frac{h}{2} u''(x) + \\dots \\\\ \n",
    "    \\frac{u(x+h) - 2u(x) + h(x-h)}{h^2} &=  u''(x) + O(h^2)\n",
    "\\end{aligned}$$\n",
    "\n",
    "Can we replace $u''$ with its FD approximation?"
   ]
  },
  {
   "cell_type": "markdown",
   "metadata": {
    "slideshow": {
     "slide_type": "subslide"
    }
   },
   "source": [
    "This gives us\n",
    "\n",
    "$$\n",
    "    - \\frac{u(x_n+h) - 2 u(x_n) + u(x_{n}-h)}{h^2} + r(x_n) u(x_n) = f(x_n), \n",
    "$$\n",
    "\n",
    "But if we choose $h = 1/N$ (we did) then $u(x_n \\pm h) = U_{n \\pm 1}$, so we can write  a linear system for the *unknowns* $U_n$, $n = 0, \\dots, N$:\n",
    "\n",
    "$$\\begin{aligned}\n",
    "    - \\frac{U_{n+1} - 2 U_n + U_{n-1}}{h^2} + R_n U_n  &= F_n, \\quad n = 1, \\dots, N-1, \\\\ \n",
    "    U_0 &= u_0, \\\\ \n",
    "    U_1 &= u_1.\n",
    "\\end{aligned}$$\n",
    "\n",
    "(Note for the toy model we just have $u_0 = u_1 = 0, R_n = F_n = 1$.)"
   ]
  },
  {
   "cell_type": "markdown",
   "metadata": {
    "slideshow": {
     "slide_type": "slide"
    }
   },
   "source": [
    "### Implementation of the FD Scheme\n",
    "\n",
    "<!-- $$\n",
    "\\frac{1}{h^2} \\begin{pmatrix}\n",
    "    h^2 &  &  &  &        \\\\\n",
    "    -1 & 2 + h^2 & -1  &  &      \\\\\n",
    "       & -1 & 2 + h^2 & -1  &     \\\\\n",
    "       &    &  \\ddots & \\ddots & \\ddots\n",
    "\\end{pmatrix}\n",
    " \\cdot \n",
    " \\begin{pmatrix}\n",
    "        U_0 \\\\ U_1 \\\\ U_2 \\\\ \\vdots\n",
    " \\end{pmatrix}\n",
    " = \n",
    " \\begin{pmatrix}\n",
    "     0 \\\\ 1 \\\\ 1 \\\\ \\vdots \n",
    " \\end{pmatrix}\n",
    "$$\n",
    "-->\n",
    "\n",
    "$$\n",
    "\\begin{pmatrix}\n",
    "    1 &  &  &  &        \\\\\n",
    "    - h^{-2} & 2 h^{-2} + 1 & - h^{-2}  &  &      \\\\\n",
    "       & -h^{-2} & 2 h^{-2} + 1 & - h^{-2}  &     \\\\\n",
    "       &    &  \\ddots & \\ddots & \\ddots\n",
    "\\end{pmatrix}\n",
    " \\cdot \n",
    " \\begin{pmatrix}\n",
    "        U_0 \\\\ U_1 \\\\ U_2 \\\\ \\vdots\n",
    " \\end{pmatrix}\n",
    " = \n",
    " \\begin{pmatrix}\n",
    "     0 \\\\ 1 \\\\ 1 \\\\ \\vdots \n",
    " \\end{pmatrix}\n",
    "$$\n",
    "\n",
    "after eliminating the first and last row (which are trivia) we get the following system:"
   ]
  },
  {
   "cell_type": "markdown",
   "metadata": {
    "slideshow": {
     "slide_type": "fragment"
    }
   },
   "source": [
    "$$\n",
    "\\begin{pmatrix}\n",
    "       2 h^{-2} + 1 & - h^{-2}  &  &      \\\\\n",
    "       -h^{-2} & 2 h^{-2} + 1 & - h^{-2}  &     \\\\\n",
    "          &  \\ddots & \\ddots & \\ddots\n",
    "\\end{pmatrix}\n",
    " \\cdot \n",
    " \\begin{pmatrix}\n",
    "        U_1 \\\\ U_2 \\\\ \\vdots\n",
    " \\end{pmatrix}\n",
    " = \n",
    " \\begin{pmatrix}\n",
    "      1 \\\\ 1 \\\\ \\vdots \n",
    " \\end{pmatrix}\n",
    "$$"
   ]
  },
  {
   "cell_type": "markdown",
   "metadata": {
    "slideshow": {
     "slide_type": "subslide"
    }
   },
   "source": [
    "$$\n",
    "\\begin{pmatrix}\n",
    "       2 h^{-2} + 1 & - h^{-2}  &  &      \\\\\n",
    "       -h^{-2} & 2 h^{-2} + 1 & - h^{-2}  &     \\\\\n",
    "          &  \\ddots & \\ddots & \\ddots\n",
    "\\end{pmatrix}\n",
    " \\cdot \n",
    " \\begin{pmatrix}\n",
    "        U_1 \\\\ U_2 \\\\ \\vdots\n",
    " \\end{pmatrix}\n",
    " = \n",
    " \\begin{pmatrix}\n",
    "      1 \\\\ 1 \\\\ \\vdots \n",
    " \\end{pmatrix}\n",
    "$$\n",
    "\n",
    "... which we can now implement:"
   ]
  },
  {
   "cell_type": "code",
   "execution_count": null,
   "metadata": {},
   "outputs": [],
   "source": [
    "function assemble_fd(N)\n",
    "    h = 1/N\n",
    "    F = ones(N-1)\n",
    "    A = Tridiagonal( - ones(N-2) / h^2 , \n",
    "                     (2/h^2+1)*ones(N-1),\n",
    "                     - ones(N-2) / h^2 )\n",
    "    return A, F \n",
    "end"
   ]
  },
  {
   "cell_type": "code",
   "execution_count": null,
   "metadata": {
    "slideshow": {
     "slide_type": "subslide"
    }
   },
   "outputs": [],
   "source": [
    "N = 10 \n",
    "A, F =  assemble_fd(10)\n",
    "display(A)\n",
    "display(F)"
   ]
  },
  {
   "cell_type": "markdown",
   "metadata": {
    "slideshow": {
     "slide_type": "subslide"
    }
   },
   "source": [
    "### Solution of the linear system \n",
    "\n",
    "To solve `A * U = F` we use a black box solver provided by Julia, which can be invoked via \n",
    "```\n",
    "U = A \\ F\n",
    "```\n",
    "Note how the `\\` indicates division i.e. $A^{-1} F$. \n",
    "We will revisit linear solvers in the next lecture. For now, only note that Julia solves the linear system without ever evaluating $A^{-1}$. Indeed, this should (almost) *NEVER* be done.\n",
    "\n",
    "In our current specific case the algorithm used by Julia (LU factorisation) requires only $O(N)$ operations. This is quasi-optimal! Such optimal scaling algorithms are one of the key goals of numerical analysis and scientific computing."
   ]
  },
  {
   "cell_type": "code",
   "execution_count": null,
   "metadata": {},
   "outputs": [],
   "source": [
    "u1 = inv(A) * F   # never do this!!!  (without thinking very very carefully)\n",
    "u2 = A \\ F \n",
    "u1 ≈ u2"
   ]
  },
  {
   "cell_type": "code",
   "execution_count": null,
   "metadata": {
    "slideshow": {
     "slide_type": "subslide"
    }
   },
   "outputs": [],
   "source": [
    "N = 10 \n",
    "A, F = assemble_fd(N)\n",
    "U = [ [0.0]; A \\ F; [0.0] ]   # this does NOT compute A^{-1} and then multiplies A^{-1} *  F\n",
    "\n",
    "X = range(0, 1, length=N+1)\n",
    "plot(u, 0, 1, lw=3, label = \"exact solution\", size = (500, 150), legend = :outertopright)\n",
    "scatter!(X, U, marker = :dot, ms=6, lw=2, ls=:dash, label = \"FD approximation\")\n",
    "maxerr = norm(u.(X) - U, Inf)\n",
    "println(\"Error: $(maxerr); this is very good!\")\n",
    "plot!()"
   ]
  },
  {
   "cell_type": "markdown",
   "metadata": {
    "slideshow": {
     "slide_type": "slide"
    }
   },
   "source": [
    "### Error Analysis\n",
    "\n",
    "Our numerical solution computed in the previous slides is *remarkably* accurate; ca. 0.1% error which is already far better than typical engineering accuracy. Can we explain this?"
   ]
  },
  {
   "cell_type": "markdown",
   "metadata": {
    "slideshow": {
     "slide_type": "fragment"
    }
   },
   "source": [
    "We will later learn how to prove the following result:\n",
    "\n",
    "**Theorem:** Let $r > 0$ then \n",
    "$$\n",
    "    \\max_{n = 0, \\dots, N} |U_n - u(x_n)| \\leq \\frac{h^2}{96} \\| u^{(4)} \\|_{\\infty}         \n",
    "$$\n"
   ]
  },
  {
   "cell_type": "markdown",
   "metadata": {
    "slideshow": {
     "slide_type": "slide"
    }
   },
   "source": [
    "Let's test this. With a little bit of basic calculus we can show that $\\|u^{(iv)}\\|_\\infty = 1$. Therefore the estimate becomes $\\|E\\|_\\infty \\leq h^2 / 96$."
   ]
  },
  {
   "cell_type": "code",
   "execution_count": null,
   "metadata": {
    "slideshow": {
     "slide_type": "fragment"
    }
   },
   "outputs": [],
   "source": [
    "get_maxerr(N) = norm( u.(range(0, 1,length=N+1)) - [[0.0]; \\(assemble_fd(N)...); [0.0]], Inf )\n",
    "\n",
    "NN = [8, 16, 32, 64, 128]\n",
    "plot( NN, get_maxerr.(NN), lw=3, m=:o, ms=6, label = L\"\\| U - u \\|_\\infty\", \n",
    "      xaxis = :log, yaxis = :log, size=(400,300))\n",
    "plot!( NN, NN.^(-2) / 96, lw=2, ls=:dash, label = \"predicted rate\" )"
   ]
  },
  {
   "cell_type": "markdown",
   "metadata": {
    "slideshow": {
     "slide_type": "slide"
    }
   },
   "source": [
    "### Things can also go wrong (1)\n",
    "\n",
    "Consider an Advection-diffusion problem\n",
    "\n",
    "$$\\begin{aligned}\n",
    "    - 0.01 u''(x) + u'(x) = 1, \\quad u(0) = u(1) = 0\n",
    "\\end{aligned}$$\n",
    "\n",
    "discretised via \n",
    "\n",
    "$$\n",
    "    - 0.01 \\frac{U_{n+1} - 2 U_n + U_{n-1}}{h^2} + \\frac{U_{n+1} - U_{n-1}}{2h} = 1\n",
    "$$\n"
   ]
  },
  {
   "cell_type": "code",
   "execution_count": null,
   "metadata": {
    "slideshow": {
     "slide_type": "subslide"
    }
   },
   "outputs": [],
   "source": [
    "N = 10; epsn = 0.01; o = ones(N-1)\n",
    "F = [ [0.0]; o; [0.0] ]\n",
    "A = Tridiagonal( [ (-epsn*N^2 - 0.5*N) * o; [0.0] ], \n",
    "                 [ [1.0]; (2*epsn*N^2) * o; [1.0] ],\n",
    "                 [ [0.0]; (- epsn*N^2 + 0.5*N) * o] )\n",
    "plot(x -> x - (exp(x/0.01)-1)/(exp(1/0.01)-1), 0, 1, lw=3, label = \"exact\", legend = :topleft)\n",
    "plot!(range(0, 1, length=N+1), A \\ F, lw=3, ms=5, label =\"FD approx\", size=(400,200))"
   ]
  },
  {
   "cell_type": "markdown",
   "metadata": {
    "slideshow": {
     "slide_type": "subslide"
    }
   },
   "source": [
    "### Things can also go wrong (2)\n",
    "\n",
    "A parabolic / diffusion / heat equation; now $u = u(t, x)$ solves \n",
    "\n",
    "$$\n",
    "    u_t - u_{xx} = 0, \\qquad u(0, x) = x (1-x)\n",
    "$$\n",
    "\n",
    "Discretised by $U_n^j \\approx u(t_j, x_n)$, \n",
    "$$\n",
    "    \\frac{U_n^{j+1} - U_n^j}{k} - \\frac{U_{n+1}^j - 2 U_n^j + U_{n-1}^j}{h^2} = 0\n",
    "$$\n",
    "cf. L09!"
   ]
  },
  {
   "cell_type": "code",
   "execution_count": null,
   "metadata": {
    "slideshow": {
     "slide_type": "subslide"
    }
   },
   "outputs": [],
   "source": [
    "N = 20; o = ones(N-1); X = range(0, 1, length=N+1)\n",
    "A = Tridiagonal( [N^2*o; [0.0]], [[1.0]; -2*N^2*o; [1.0]], [[0.0]; N^2*o] )\n",
    "U = X .* (1 .- X)\n",
    "k = 1/N   # same step in time and space (we will later learn this is a bad idea!)\n",
    "p1 = plot(X, U, lw=3, label = \"t = 0\", yaxis = ([-5, 5],))\n",
    "maxU = [ norm(U, Inf) ]\n",
    "for j = 1:100\n",
    "    U += k * (A * U)\n",
    "    if j <= 3; plot!(p1, X, U, lw=3, label = \"t = $(round(j*k,digits=2))\"); end \n",
    "    push!(maxU, norm(U, Inf))\n",
    "end\n",
    "plot(p1, plot(0:100, maxU, lw=3, label=\"||U||\", xlabel = \"t\", yaxis = :log), size = (500, 300))"
   ]
  },
  {
   "cell_type": "markdown",
   "metadata": {
    "slideshow": {
     "slide_type": "subslide"
    }
   },
   "source": [
    "# Things can also go horribly wrong\n",
    "\n",
    "Time-dependent convection with periodic boundary conditions, \n",
    "\n",
    "$$\n",
    "    u_t + u_{x} = 0, \\qquad u(t, 0) = u(t, 1), \\qquad u(0, x) = \\sin(x)\n",
    "$$\n",
    "\n",
    "Discretised by $U_n^j \\approx u(t_j, x_n)$, \n",
    "$$\n",
    "    \\frac{U_n^{j+1} - U_n^j}{k} + \\frac{U_{n+1}^j - U_n^j}{h} = 0\n",
    "$$\n",
    "Cf. L10!"
   ]
  },
  {
   "cell_type": "code",
   "execution_count": null,
   "metadata": {
    "slideshow": {
     "slide_type": "subslide"
    }
   },
   "outputs": [],
   "source": [
    "# spatial discretisation\n",
    "N = 30; X = range(0, 1-1/N, length=N);   \n",
    "A = diagm( -1 => -N * ones(N-1), 0 => N * ones(N), N-1 => [-N] )\n",
    "U = sin.(2*pi*X)   # initial condition \n",
    "k = 0.3/N          # timestep \n",
    "\n",
    "plot(X, U, lw=3, label = \"t = 0\", yaxis = ([-5, 5],))\n",
    "gif = @gif for j = 1:150\n",
    "    global U\n",
    "    U += k * (A * U)\n",
    "    plot(X, sin.(2*pi*(X .+ k*j)), label = \"exact\", lw=2, size=(400, 250))\n",
    "    plot!(X, U, yaxis = ([-1.5, 1.5],), lw=2,  \n",
    "          title = \"t = $(round(k*j, digits=2))\", \n",
    "          label = \"finite-difference\")\n",
    "end "
   ]
  }
 ],
 "metadata": {
  "@webio": {
   "lastCommId": null,
   "lastKernelId": null
  },
  "celltoolbar": "Slideshow",
  "kernelspec": {
   "display_name": "Julia 1.5.1",
   "language": "julia",
   "name": "julia-1.5"
  },
  "language_info": {
   "file_extension": ".jl",
   "mimetype": "application/julia",
   "name": "julia",
   "version": "1.5.1"
  },
  "latex_envs": {
   "LaTeX_envs_menu_present": true,
   "autoclose": false,
   "autocomplete": true,
   "bibliofile": "biblio.bib",
   "cite_by": "apalike",
   "current_citInitial": 1,
   "eqLabelWithNumbers": true,
   "eqNumInitial": 1,
   "hotkeys": {
    "equation": "Ctrl-E",
    "itemize": "Ctrl-I"
   },
   "labels_anchors": false,
   "latex_user_defs": false,
   "report_style_numbering": false,
   "user_envs_cfg": false
  }
 },
 "nbformat": 4,
 "nbformat_minor": 4
}
