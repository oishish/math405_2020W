{
 "cells": [
  {
   "cell_type": "markdown",
   "metadata": {
    "slideshow": {
     "slide_type": "slide"
    }
   },
   "source": [
    "# MATH 405/607 \n",
    "\n",
    "# Numerical Methods for Differential Equations\n",
    "\n",
    "[[Instructor: Christoph Ortner]](http://www.math.ubc.ca/~ortner/)  [[CANVAS]](https://canvas.ubc.ca/courses/55324)\n",
    "\n",
    "\n",
    "\n",
    "\n",
    "## Workshop: Julia + Ecosystem\n",
    "\n",
    "* Julia\n",
    "* Jupyter\n",
    "* Markdown and Latex \n",
    "* Resources"
   ]
  },
  {
   "cell_type": "markdown",
   "metadata": {
    "slideshow": {
     "slide_type": "slide"
    }
   },
   "source": [
    "## Julia\n",
    "\n",
    "[Julia](https://julialang.org) is a relatively recent programming language, which aims to combine \n",
    "- the simplicity of Matlab,  \n",
    "  *(not really, but maybe close enough...)*\n",
    "- the dynamism of Python,   \n",
    "  *(true ... except for the nasty pre-compilation times...)*\n",
    "- the speed of C and         \n",
    "  *(definitely true; this is impressive!)*\n",
    "- the meta-programming capabilities of Lisp.    \n",
    "  *(also true; but we won't need it in this course.)*\n",
    "\n",
    "We will use Julia `v1.5.x` in this course. Personally, I strongly recommend Julia over Matlab and Python for anybody interested in numerical analysis / scientific computing (who isn't *locked* into another language due to various contraints...)"
   ]
  },
  {
   "cell_type": "markdown",
   "metadata": {
    "slideshow": {
     "slide_type": "subslide"
    }
   },
   "source": [
    "I assume everybody here is comfortable with either Matlab or Python. It will then take you no time to pick up (basic) Julia as well. A lot of resources can be found at [https://julialang.org/learning/](https://julialang.org/learning/). I particularly recommend\n",
    "\n",
    "* [Introduction to Julia](https://juliaacademy.com/p/intro-to-julia). If (like me) you don't like videos very much then jump straight to the [notebooks](https://github.com/JuliaAcademy/JuliaTutorials/tree/master/introductory-tutorials/intro-to-julia); 00-08 and 11-12 will be useful for this course, but the remaining notebooks are all highly recommended.\n",
    "* A more rapid-fire introduction can be found [here](https://learnxinyminutes.com/docs/julia/)\n"
   ]
  },
  {
   "cell_type": "markdown",
   "metadata": {
    "slideshow": {
     "slide_type": "subslide"
    }
   },
   "source": [
    "For this workshop we will quickly go through the installation and set ourselves up with and working ecosystem. Our jobs are \n",
    "\n",
    "1. Download and install Julia: go to [julialang.org](https://julialang.org), click on `[Download vx.xx]` and follow instructions\n",
    "2. Make sure you have a working git installation for your system, see https://git-scm.com for downloads\n",
    "3. Clone the course material. Change to a suitable working directory, and then from a terminal run \n",
    "``` \n",
    "git clone https://github.com/cortner/math405_2020W.git\n",
    "```\n",
    "This will create a new directory `math405`. "
   ]
  },
  {
   "cell_type": "markdown",
   "metadata": {
    "slideshow": {
     "slide_type": "subslide"
    }
   },
   "source": [
    "4. Install all Julia packages needed for this course. First we start a Julia REPL, \n",
    "```\n",
    "cd math405\n",
    "julia\n",
    "```\n",
    "which should start a Julia REPL; from within that REPL activate the math405 project: Type `]` to switch to the [package manager](https://github.com/JuliaLang/Pkg.jl) and then type \n",
    "``` \n",
    "activate .\n",
    "instantiate \n",
    "up\n",
    "```\n",
    "This might take a while ...\n",
    "\n",
    "This activates a Julia environment (similar to Python environments) for which I've specified which packages we need. These will then be installed and built. In particular this should also install IJulia, and then automatically also python and Jupyter which are required to use IJulia."
   ]
  },
  {
   "cell_type": "markdown",
   "metadata": {
    "slideshow": {
     "slide_type": "subslide"
    }
   },
   "source": [
    "**EDIT:** 4.' In order to simplify starting the notebook server, you may wish to install the `IJulia` package also in the default environment. To that end, first exit the Julia REPL  (e.g. `CTRL+d`), then start a fresh REPL in the `math405` folder. Type `]` to switch to the package manager and then type \n",
    "```\n",
    "add IJulia \n",
    "```\n",
    "Exit the package manager by pressing `BACKSPACE`. Now you are back on the main Julia REPL. Continue with 5."
   ]
  },
  {
   "cell_type": "markdown",
   "metadata": {
    "slideshow": {
     "slide_type": "subslide"
    }
   },
   "source": [
    "5. Start a Jupyter server. From `math405` start a Julia REPL again and then type \n",
    "```julia\n",
    "import IJulia\n",
    "IJulia.notebook()\n",
    "```\n",
    "There are alternative ways to start the Jupyter server; see [Jupyter](https://jupyter.org) and [IJulia.jl](https://github.com/JuliaLang/IJulia.jl) for more information on Jupyter and how Julia interacts with it.\n",
    "\n",
    "6. Try one of the notebooks, by clicking on the link in the Jupyter server. Try executing the cells. For help press `[ESC]` and then `[h]`\n",
    "\n",
    "Now that you've installed Julia and can download, view and execute IJulia notebooks, you can work through some tutorials on the Julia website; see links at the top."
   ]
  },
  {
   "cell_type": "markdown",
   "metadata": {
    "slideshow": {
     "slide_type": "subslide"
    }
   },
   "source": [
    "7. It will be useful for this course (though not technically required) to learn a little bit of GIT. Personally, I like the [Atlassian Tutorial](https://www.atlassian.com/git/tutorials), but there are many many others. \n",
    "\n",
    "If you prefer a UI to the terminal, then [Sourcetree](https://www.sourcetreeapp.com) and [GitKraken](https://www.gitkraken.com) are two very good choices. Another suggestion was [Github desktop](https://desktop.github.com/).\n",
    "\n",
    "8. Whenever I post updates to the course material, go to your `math405` folder and run `git pull`; this should pull the latest changes into your local repository. Or perform the analogous operation from your Git UI.\n",
    "\n",
    "9. **Copying the notebooks:** I highly recommend you copy the lecture notebooks before running and / or editing them, other wise the `pull` from step 8. won't work and it will become much more tedious to update your lecture material.\n",
    "\n",
    "10. If you are very comfortable with git, you can also fork the `math405` repository and commit your own course materials to that fork."
   ]
  },
  {
   "cell_type": "markdown",
   "metadata": {
    "slideshow": {
     "slide_type": "subslide"
    }
   },
   "source": [
    "11. **RISE Slides**\n",
    "\n",
    "For the lectures I use [RISE](https://rise.readthedocs.io/en/stable/) slides. I will not require this for the workshop presentations, but if you'd like to experiment then you can follow the straightforward [installation instructions](https://rise.readthedocs.io/en/stable/installation.html)."
   ]
  },
  {
   "cell_type": "markdown",
   "metadata": {
    "slideshow": {
     "slide_type": "slide"
    }
   },
   "source": [
    "## Brief Introduction to Jupyter notebooks\n",
    "\n",
    "We will use Jupyter notebooks for all aspects of the course: \n",
    "- slides / lecture notes \n",
    "- workshops\n",
    "- assignments\n",
    "- presentations\n",
    "\n",
    "so it is important that you familiarise yourself.\n",
    "\n",
    "*THIS* notebook you are reading right now is structures as a presentation. We will get to that later."
   ]
  },
  {
   "cell_type": "markdown",
   "metadata": {
    "slideshow": {
     "slide_type": "subslide"
    }
   },
   "source": [
    "Every Jupyter cell can either be a Markdown cell or a code cell. *THIS CELL* is a markdown cell. It is used for writing general text, information, as well as mathematics via a reduced set of Latex instructions, e.g., $e^{i\\pi} + 1 = 0$, or \n",
    "$$ \n",
    "    \\int_0^\\infty e^{-x} dx = 1.\n",
    "$$\n",
    "\n",
    "Please look at a Markdown tutorial, for example the  [Markdown Guide](https://www.markdownguide.org).\n",
    "\n",
    "Also - if you just double-click on the markdown cell you can inspect my markdown source code."
   ]
  },
  {
   "cell_type": "code",
   "execution_count": null,
   "metadata": {
    "slideshow": {
     "slide_type": "subslide"
    }
   },
   "outputs": [],
   "source": [
    "# This is a Julia code cell. Any code it contains will be executed \n",
    "# when you press [SHIFT]+[ENTER]\n",
    "using Plots                         # load a plotting library \n",
    "plt = plot(; size = (500, 300))     # create a plot \n",
    "for n = 1:3\n",
    "    f(x) = cos(n * x)               # define a function \n",
    "    plot!(plt, f, -pi, pi, lw=3, label=\"cos($(n)x)\")    # add a graph \n",
    "end \n",
    "plt    # the last output of the cell will be displayed"
   ]
  },
  {
   "cell_type": "markdown",
   "metadata": {
    "slideshow": {
     "slide_type": "subslide"
    }
   },
   "source": [
    "A final comment: for this course I've created a short script `math405.jl` which activates the `math405` environment and imports all important Julia packages that we need. Eventually you'll be able to manage your own Julia environment but initially (unless you know what you are doing) I recommend that you start every notebook by importing this script as follows:"
   ]
  },
  {
   "cell_type": "code",
   "execution_count": null,
   "metadata": {},
   "outputs": [],
   "source": [
    "include(\"../math405.jl\")\n",
    "# if needed replace with the path to where math405 is stored."
   ]
  }
 ],
 "metadata": {
  "@webio": {
   "lastCommId": null,
   "lastKernelId": null
  },
  "celltoolbar": "Slideshow",
  "kernelspec": {
   "display_name": "Julia 1.5.1",
   "language": "julia",
   "name": "julia-1.5"
  },
  "language_info": {
   "file_extension": ".jl",
   "mimetype": "application/julia",
   "name": "julia",
   "version": "1.5.1"
  },
  "latex_envs": {
   "LaTeX_envs_menu_present": true,
   "autoclose": false,
   "autocomplete": true,
   "bibliofile": "biblio.bib",
   "cite_by": "apalike",
   "current_citInitial": 1,
   "eqLabelWithNumbers": true,
   "eqNumInitial": 1,
   "hotkeys": {
    "equation": "Ctrl-E",
    "itemize": "Ctrl-I"
   },
   "labels_anchors": false,
   "latex_user_defs": false,
   "report_style_numbering": false,
   "user_envs_cfg": false
  }
 },
 "nbformat": 4,
 "nbformat_minor": 4
}
